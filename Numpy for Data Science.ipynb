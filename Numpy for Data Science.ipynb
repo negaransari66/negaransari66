{
 "cells": [
  {
   "cell_type": "markdown",
   "id": "bae908f6",
   "metadata": {},
   "source": [
    "# Numpy"
   ]
  },
  {
   "cell_type": "markdown",
   "id": "7630c019",
   "metadata": {},
   "source": [
    "Numpy or(NumPy)is a Linear Algebra Library in Python that is used in Data science.Numpy has many capabilities,I will not write all of them but I mentiones most of the codes that are used in Data science field.important aspects of Numpy consist of vectors,arrays,matrices, and last but not least number generation that are coverd in this notebook.\n",
    "\n",
    "Source:Udemy.com"
   ]
  },
  {
   "cell_type": "markdown",
   "id": "129f89a9",
   "metadata": {},
   "source": [
    "# Creating a Numpy Array"
   ]
  },
  {
   "cell_type": "code",
   "execution_count": 3,
   "id": "c0871afa",
   "metadata": {},
   "outputs": [],
   "source": [
    "import numpy as np"
   ]
  },
  {
   "cell_type": "code",
   "execution_count": 4,
   "id": "4477e911",
   "metadata": {},
   "outputs": [],
   "source": [
    "my_list=[1,2,3,4,5,6,7,9,12]"
   ]
  },
  {
   "cell_type": "code",
   "execution_count": 5,
   "id": "ba8a3216",
   "metadata": {},
   "outputs": [
    {
     "data": {
      "text/plain": [
       "array([ 1,  2,  3,  4,  5,  6,  7,  9, 12])"
      ]
     },
     "execution_count": 5,
     "metadata": {},
     "output_type": "execute_result"
    }
   ],
   "source": [
    "np.array(my_list)"
   ]
  },
  {
   "cell_type": "code",
   "execution_count": 6,
   "id": "dff2bfc1",
   "metadata": {},
   "outputs": [],
   "source": [
    "my_mat=[[1,2,3],[4,5,6],[7,8,9]]"
   ]
  },
  {
   "cell_type": "code",
   "execution_count": 7,
   "id": "edb27ef7",
   "metadata": {},
   "outputs": [
    {
     "data": {
      "text/plain": [
       "array([[1, 2, 3],\n",
       "       [4, 5, 6],\n",
       "       [7, 8, 9]])"
      ]
     },
     "execution_count": 7,
     "metadata": {},
     "output_type": "execute_result"
    }
   ],
   "source": [
    "np.array(my_mat)"
   ]
  },
  {
   "cell_type": "markdown",
   "id": "d759d3fc",
   "metadata": {},
   "source": [
    "# Built_in Methods"
   ]
  },
  {
   "cell_type": "markdown",
   "id": "6e1b0b1a",
   "metadata": {},
   "source": [
    "There are lots of built_in method in Numpy library to generate array"
   ]
  },
  {
   "cell_type": "markdown",
   "id": "acb077fb",
   "metadata": {},
   "source": [
    "# Range and Arange"
   ]
  },
  {
   "cell_type": "code",
   "execution_count": 8,
   "id": "06444c1c",
   "metadata": {},
   "outputs": [
    {
     "data": {
      "text/plain": [
       "[1, 7, 13, 19, 25, 31, 37, 43, 49, 55, 61, 67, 73]"
      ]
     },
     "execution_count": 8,
     "metadata": {},
     "output_type": "execute_result"
    }
   ],
   "source": [
    "list(range(1,75,6))"
   ]
  },
  {
   "cell_type": "code",
   "execution_count": 9,
   "id": "5740ae9d",
   "metadata": {},
   "outputs": [
    {
     "data": {
      "text/plain": [
       "array([1, 3, 5, 7, 9])"
      ]
     },
     "execution_count": 9,
     "metadata": {},
     "output_type": "execute_result"
    }
   ],
   "source": [
    "np.arange(1,11,2)"
   ]
  },
  {
   "cell_type": "markdown",
   "id": "40953c87",
   "metadata": {},
   "source": [
    "# Zeros and One"
   ]
  },
  {
   "cell_type": "markdown",
   "id": "943c70ac",
   "metadata": {},
   "source": [
    "# Make a Zero "
   ]
  },
  {
   "cell_type": "code",
   "execution_count": 15,
   "id": "04bf1328",
   "metadata": {},
   "outputs": [
    {
     "data": {
      "text/plain": [
       "array([0., 0., 0.])"
      ]
     },
     "execution_count": 15,
     "metadata": {},
     "output_type": "execute_result"
    }
   ],
   "source": [
    "np.zeros(3)"
   ]
  },
  {
   "cell_type": "code",
   "execution_count": 11,
   "id": "55ee9dfd",
   "metadata": {},
   "outputs": [
    {
     "data": {
      "text/plain": [
       "array([[0., 0., 0., 0., 0.],\n",
       "       [0., 0., 0., 0., 0.],\n",
       "       [0., 0., 0., 0., 0.],\n",
       "       [0., 0., 0., 0., 0.],\n",
       "       [0., 0., 0., 0., 0.]])"
      ]
     },
     "execution_count": 11,
     "metadata": {},
     "output_type": "execute_result"
    }
   ],
   "source": [
    "np.zeros((5,5))"
   ]
  },
  {
   "cell_type": "markdown",
   "id": "a44c024d",
   "metadata": {},
   "source": [
    "# Make a One"
   ]
  },
  {
   "cell_type": "code",
   "execution_count": 16,
   "id": "5c6f8b90",
   "metadata": {},
   "outputs": [
    {
     "data": {
      "text/plain": [
       "array([1., 1., 1., 1.])"
      ]
     },
     "execution_count": 16,
     "metadata": {},
     "output_type": "execute_result"
    }
   ],
   "source": [
    "np.ones(4)"
   ]
  },
  {
   "cell_type": "code",
   "execution_count": 17,
   "id": "7b5ba09a",
   "metadata": {},
   "outputs": [
    {
     "data": {
      "text/plain": [
       "array([[1., 1., 1.],\n",
       "       [1., 1., 1.]])"
      ]
     },
     "execution_count": 17,
     "metadata": {},
     "output_type": "execute_result"
    }
   ],
   "source": [
    "np.ones((2,3))"
   ]
  },
  {
   "cell_type": "markdown",
   "id": "0b970e87",
   "metadata": {},
   "source": [
    "# Linespace"
   ]
  },
  {
   "cell_type": "markdown",
   "id": "2b008143",
   "metadata": {},
   "source": [
    "linespace can help us to provide evenly spaced numbers over a specified interval"
   ]
  },
  {
   "cell_type": "code",
   "execution_count": 14,
   "id": "a5d3c83f",
   "metadata": {},
   "outputs": [
    {
     "data": {
      "text/plain": [
       "array([ 1.        ,  1.39393939,  1.78787879,  2.18181818,  2.57575758,\n",
       "        2.96969697,  3.36363636,  3.75757576,  4.15151515,  4.54545455,\n",
       "        4.93939394,  5.33333333,  5.72727273,  6.12121212,  6.51515152,\n",
       "        6.90909091,  7.3030303 ,  7.6969697 ,  8.09090909,  8.48484848,\n",
       "        8.87878788,  9.27272727,  9.66666667, 10.06060606, 10.45454545,\n",
       "       10.84848485, 11.24242424, 11.63636364, 12.03030303, 12.42424242,\n",
       "       12.81818182, 13.21212121, 13.60606061, 14.        , 14.39393939,\n",
       "       14.78787879, 15.18181818, 15.57575758, 15.96969697, 16.36363636,\n",
       "       16.75757576, 17.15151515, 17.54545455, 17.93939394, 18.33333333,\n",
       "       18.72727273, 19.12121212, 19.51515152, 19.90909091, 20.3030303 ,\n",
       "       20.6969697 , 21.09090909, 21.48484848, 21.87878788, 22.27272727,\n",
       "       22.66666667, 23.06060606, 23.45454545, 23.84848485, 24.24242424,\n",
       "       24.63636364, 25.03030303, 25.42424242, 25.81818182, 26.21212121,\n",
       "       26.60606061, 27.        , 27.39393939, 27.78787879, 28.18181818,\n",
       "       28.57575758, 28.96969697, 29.36363636, 29.75757576, 30.15151515,\n",
       "       30.54545455, 30.93939394, 31.33333333, 31.72727273, 32.12121212,\n",
       "       32.51515152, 32.90909091, 33.3030303 , 33.6969697 , 34.09090909,\n",
       "       34.48484848, 34.87878788, 35.27272727, 35.66666667, 36.06060606,\n",
       "       36.45454545, 36.84848485, 37.24242424, 37.63636364, 38.03030303,\n",
       "       38.42424242, 38.81818182, 39.21212121, 39.60606061, 40.        ])"
      ]
     },
     "execution_count": 14,
     "metadata": {},
     "output_type": "execute_result"
    }
   ],
   "source": [
    "np.linspace(1,40,100)"
   ]
  },
  {
   "cell_type": "markdown",
   "id": "a64ec474",
   "metadata": {},
   "source": [
    "# eye"
   ]
  },
  {
   "cell_type": "markdown",
   "id": "81a70259",
   "metadata": {},
   "source": [
    "We can create indentity matrix with eye"
   ]
  },
  {
   "cell_type": "code",
   "execution_count": 18,
   "id": "8196bfc8",
   "metadata": {},
   "outputs": [
    {
     "data": {
      "text/plain": [
       "array([[1., 0., 0., 0., 0.],\n",
       "       [0., 1., 0., 0., 0.],\n",
       "       [0., 0., 1., 0., 0.],\n",
       "       [0., 0., 0., 1., 0.],\n",
       "       [0., 0., 0., 0., 1.]])"
      ]
     },
     "execution_count": 18,
     "metadata": {},
     "output_type": "execute_result"
    }
   ],
   "source": [
    "np.eye(5)"
   ]
  },
  {
   "cell_type": "markdown",
   "id": "b1343950",
   "metadata": {},
   "source": [
    "# Random"
   ]
  },
  {
   "cell_type": "code",
   "execution_count": null,
   "id": "dc63f728",
   "metadata": {},
   "outputs": [],
   "source": [
    "Numpy library has many abilities for making random matrix"
   ]
  },
  {
   "cell_type": "markdown",
   "id": "357eceff",
   "metadata": {},
   "source": [
    "# Rand"
   ]
  },
  {
   "cell_type": "code",
   "execution_count": 14,
   "id": "2efbdb43",
   "metadata": {},
   "outputs": [
    {
     "data": {
      "text/plain": [
       "array([[0.36101582, 0.35407544, 0.09898017, 0.35256371],\n",
       "       [0.0355349 , 0.44399541, 0.38899497, 0.25982693],\n",
       "       [0.28827461, 0.55960179, 0.7327993 , 0.92689666],\n",
       "       [0.29924185, 0.13177633, 0.29887648, 0.2953528 ],\n",
       "       [0.89620231, 0.31834684, 0.27178279, 0.25930392]])"
      ]
     },
     "execution_count": 14,
     "metadata": {},
     "output_type": "execute_result"
    }
   ],
   "source": [
    "np.random.rand(5,4)"
   ]
  },
  {
   "cell_type": "markdown",
   "id": "ecda12c4",
   "metadata": {},
   "source": [
    "# Randn"
   ]
  },
  {
   "cell_type": "code",
   "execution_count": null,
   "id": "099fd19f",
   "metadata": {},
   "outputs": [],
   "source": [
    "Return the \"Standard normal distribution\""
   ]
  },
  {
   "cell_type": "code",
   "execution_count": 19,
   "id": "a7747661",
   "metadata": {},
   "outputs": [
    {
     "data": {
      "text/plain": [
       "array([[ 1.85879497,  0.21451643,  0.3588958 , -1.05640352, -0.09829853,\n",
       "        -0.23135396, -0.49713786, -0.09195867,  0.40205678],\n",
       "       [-0.59597878,  0.20086723, -0.11397386, -1.09248928,  0.16014191,\n",
       "         1.62350963,  1.1347145 , -0.98687223,  0.43792337],\n",
       "       [-0.46899014,  0.69948522, -0.13857587, -1.82343825, -1.0587951 ,\n",
       "         0.22576067,  0.34190326, -0.36462583,  0.02087617],\n",
       "       [ 0.53550785, -0.65448984, -1.54982849, -1.26626121,  0.050364  ,\n",
       "         0.6658052 ,  1.45004664, -0.65317203, -0.321064  ],\n",
       "       [-0.38486501,  0.97639365, -0.83957408,  0.81205986, -0.32273117,\n",
       "        -0.50380075,  0.15366055, -0.94023108,  1.7059416 ]])"
      ]
     },
     "execution_count": 19,
     "metadata": {},
     "output_type": "execute_result"
    }
   ],
   "source": [
    "np.random.randn(5,9)"
   ]
  },
  {
   "cell_type": "code",
   "execution_count": 20,
   "id": "1de809e4",
   "metadata": {},
   "outputs": [
    {
     "data": {
      "text/plain": [
       "array([ 48, 164,  60,  60,  85,  97, 126, 188, 127,  53,  13, 100, 196,\n",
       "        37,  93,  71, 173,  60,  42, 119,  99,  29, 167,  37, 138, 142,\n",
       "       153,   2, 134,  49])"
      ]
     },
     "execution_count": 20,
     "metadata": {},
     "output_type": "execute_result"
    }
   ],
   "source": [
    "np.random.randint(1,200,30)"
   ]
  },
  {
   "cell_type": "code",
   "execution_count": 34,
   "id": "ceba7621",
   "metadata": {},
   "outputs": [],
   "source": [
    "arr=np.arange(25)"
   ]
  },
  {
   "cell_type": "markdown",
   "id": "0a85463f",
   "metadata": {},
   "source": [
    "# Reshape"
   ]
  },
  {
   "cell_type": "markdown",
   "id": "53903dd3",
   "metadata": {},
   "source": [
    "We can change the shape of the array with reshape code in Numpy"
   ]
  },
  {
   "cell_type": "code",
   "execution_count": 35,
   "id": "c9dd86d7",
   "metadata": {},
   "outputs": [
    {
     "data": {
      "text/plain": [
       "array([[ 0,  1,  2,  3,  4],\n",
       "       [ 5,  6,  7,  8,  9],\n",
       "       [10, 11, 12, 13, 14],\n",
       "       [15, 16, 17, 18, 19],\n",
       "       [20, 21, 22, 23, 24]])"
      ]
     },
     "execution_count": 35,
     "metadata": {},
     "output_type": "execute_result"
    }
   ],
   "source": [
    "arr.reshape(5,5)"
   ]
  },
  {
   "cell_type": "markdown",
   "id": "6eacd72e",
   "metadata": {},
   "source": [
    "# Randint"
   ]
  },
  {
   "cell_type": "code",
   "execution_count": null,
   "id": "93a2686b",
   "metadata": {},
   "outputs": [],
   "source": [
    "Numpy library has ability to return random integare from low to high"
   ]
  },
  {
   "cell_type": "code",
   "execution_count": 37,
   "id": "78c71fde",
   "metadata": {},
   "outputs": [],
   "source": [
    "randarr=np.random.randint(100,300,50)"
   ]
  },
  {
   "cell_type": "code",
   "execution_count": 38,
   "id": "29aa7ef4",
   "metadata": {},
   "outputs": [
    {
     "data": {
      "text/plain": [
       "array([163, 256, 265, 101, 131, 296, 178, 251, 245, 131, 156, 183, 280,\n",
       "       270, 185, 141, 146, 204, 193, 205, 130, 270, 247, 105, 213, 208,\n",
       "       277, 140, 157, 253, 136, 143, 121, 196, 129, 297, 275, 122, 240,\n",
       "       277, 277, 178, 221, 211, 135, 173, 159, 296, 245, 163])"
      ]
     },
     "execution_count": 38,
     "metadata": {},
     "output_type": "execute_result"
    }
   ],
   "source": [
    "randarr"
   ]
  },
  {
   "cell_type": "code",
   "execution_count": 39,
   "id": "6e4a8afd",
   "metadata": {},
   "outputs": [
    {
     "data": {
      "text/plain": [
       "array([[163, 256, 265, 101, 131, 296, 178, 251, 245, 131],\n",
       "       [156, 183, 280, 270, 185, 141, 146, 204, 193, 205],\n",
       "       [130, 270, 247, 105, 213, 208, 277, 140, 157, 253],\n",
       "       [136, 143, 121, 196, 129, 297, 275, 122, 240, 277],\n",
       "       [277, 178, 221, 211, 135, 173, 159, 296, 245, 163]])"
      ]
     },
     "execution_count": 39,
     "metadata": {},
     "output_type": "execute_result"
    }
   ],
   "source": [
    "randarr.reshape(5,10)"
   ]
  },
  {
   "cell_type": "markdown",
   "id": "bd513f44",
   "metadata": {},
   "source": [
    "# max,min,argmax,argmin"
   ]
  },
  {
   "cell_type": "markdown",
   "id": "890a7769",
   "metadata": {},
   "source": [
    "with simple code we can find max,min and max and min location easily in numpy library"
   ]
  },
  {
   "cell_type": "code",
   "execution_count": 22,
   "id": "2e406505",
   "metadata": {},
   "outputs": [
    {
     "data": {
      "text/plain": [
       "99"
      ]
     },
     "execution_count": 22,
     "metadata": {},
     "output_type": "execute_result"
    }
   ],
   "source": [
    "randarr.max()"
   ]
  },
  {
   "cell_type": "code",
   "execution_count": 23,
   "id": "c4f99aa8",
   "metadata": {},
   "outputs": [
    {
     "data": {
      "text/plain": [
       "0"
      ]
     },
     "execution_count": 23,
     "metadata": {},
     "output_type": "execute_result"
    }
   ],
   "source": [
    "randarr.min()"
   ]
  },
  {
   "cell_type": "code",
   "execution_count": 24,
   "id": "50643abc",
   "metadata": {},
   "outputs": [
    {
     "data": {
      "text/plain": [
       "28"
      ]
     },
     "execution_count": 24,
     "metadata": {},
     "output_type": "execute_result"
    }
   ],
   "source": [
    "randarr.argmax()"
   ]
  },
  {
   "cell_type": "code",
   "execution_count": 25,
   "id": "30042c3b",
   "metadata": {},
   "outputs": [
    {
     "data": {
      "text/plain": [
       "20"
      ]
     },
     "execution_count": 25,
     "metadata": {},
     "output_type": "execute_result"
    }
   ],
   "source": [
    "randarr.argmin()"
   ]
  },
  {
   "cell_type": "markdown",
   "id": "4fc56bdc",
   "metadata": {},
   "source": [
    "# Slicing and Endexing"
   ]
  },
  {
   "cell_type": "markdown",
   "id": "75745c4a",
   "metadata": {},
   "source": [
    "The easiest way to pick one or more elemnts of an array"
   ]
  },
  {
   "cell_type": "code",
   "execution_count": 26,
   "id": "5e5e780c",
   "metadata": {},
   "outputs": [
    {
     "data": {
      "text/plain": [
       "array([ 1,  2,  3,  4,  5,  6,  7,  8,  9, 10, 11, 12, 13, 14, 15, 16, 17,\n",
       "       18, 19, 20, 21, 22, 23, 24, 25])"
      ]
     },
     "execution_count": 26,
     "metadata": {},
     "output_type": "execute_result"
    }
   ],
   "source": [
    "arr"
   ]
  },
  {
   "cell_type": "code",
   "execution_count": 27,
   "id": "9ca8e4c0",
   "metadata": {},
   "outputs": [
    {
     "data": {
      "text/plain": [
       "4"
      ]
     },
     "execution_count": 27,
     "metadata": {},
     "output_type": "execute_result"
    }
   ],
   "source": [
    "arr[3]"
   ]
  },
  {
   "cell_type": "code",
   "execution_count": 28,
   "id": "ca43851d",
   "metadata": {},
   "outputs": [
    {
     "data": {
      "text/plain": [
       "array([ 4,  5,  6,  7,  8,  9, 10, 11, 12, 13, 14, 15, 16, 17, 18, 19, 20,\n",
       "       21, 22, 23, 24, 25])"
      ]
     },
     "execution_count": 28,
     "metadata": {},
     "output_type": "execute_result"
    }
   ],
   "source": [
    "arr[3:]"
   ]
  },
  {
   "cell_type": "code",
   "execution_count": 29,
   "id": "52246423",
   "metadata": {},
   "outputs": [
    {
     "data": {
      "text/plain": [
       "array([1, 2, 3])"
      ]
     },
     "execution_count": 29,
     "metadata": {},
     "output_type": "execute_result"
    }
   ],
   "source": [
    "arr[:3]"
   ]
  },
  {
   "cell_type": "code",
   "execution_count": 30,
   "id": "2a7b92c4",
   "metadata": {},
   "outputs": [],
   "source": [
    "arr_copy=arr.copy()"
   ]
  },
  {
   "cell_type": "code",
   "execution_count": 31,
   "id": "f9a5c3d1",
   "metadata": {},
   "outputs": [],
   "source": [
    "arr_copy[:3]=400"
   ]
  },
  {
   "cell_type": "code",
   "execution_count": 32,
   "id": "4205d0fc",
   "metadata": {},
   "outputs": [
    {
     "data": {
      "text/plain": [
       "array([400, 400, 400,   4,   5,   6,   7,   8,   9,  10,  11,  12,  13,\n",
       "        14,  15,  16,  17,  18,  19,  20,  21,  22,  23,  24,  25])"
      ]
     },
     "execution_count": 32,
     "metadata": {},
     "output_type": "execute_result"
    }
   ],
   "source": [
    "arr_copy"
   ]
  },
  {
   "cell_type": "code",
   "execution_count": 33,
   "id": "81b2db3a",
   "metadata": {},
   "outputs": [
    {
     "data": {
      "text/plain": [
       "array([ 1,  2,  3,  4,  5,  6,  7,  8,  9, 10, 11, 12, 13, 14, 15, 16, 17,\n",
       "       18, 19, 20, 21, 22, 23, 24, 25])"
      ]
     },
     "execution_count": 33,
     "metadata": {},
     "output_type": "execute_result"
    }
   ],
   "source": [
    "arr"
   ]
  },
  {
   "cell_type": "code",
   "execution_count": 35,
   "id": "ee85d0e2",
   "metadata": {},
   "outputs": [],
   "source": [
    "arr_2d = np.array(([5,10,15],[20,25,30],[35,40,45]))"
   ]
  },
  {
   "cell_type": "code",
   "execution_count": 36,
   "id": "43374cca",
   "metadata": {},
   "outputs": [
    {
     "data": {
      "text/plain": [
       "array([[ 5, 10, 15],\n",
       "       [20, 25, 30],\n",
       "       [35, 40, 45]])"
      ]
     },
     "execution_count": 36,
     "metadata": {},
     "output_type": "execute_result"
    }
   ],
   "source": [
    "arr_2d"
   ]
  },
  {
   "cell_type": "code",
   "execution_count": 38,
   "id": "c2abe5f1",
   "metadata": {},
   "outputs": [
    {
     "data": {
      "text/plain": [
       "25"
      ]
     },
     "execution_count": 38,
     "metadata": {},
     "output_type": "execute_result"
    }
   ],
   "source": [
    "arr_2d[1,1]"
   ]
  },
  {
   "cell_type": "code",
   "execution_count": 39,
   "id": "f084cccc",
   "metadata": {},
   "outputs": [
    {
     "data": {
      "text/plain": [
       "array([[10, 15],\n",
       "       [25, 30]])"
      ]
     },
     "execution_count": 39,
     "metadata": {},
     "output_type": "execute_result"
    }
   ],
   "source": [
    "arr_2d[:2,1:]"
   ]
  },
  {
   "cell_type": "code",
   "execution_count": 40,
   "id": "421e880b",
   "metadata": {},
   "outputs": [
    {
     "data": {
      "text/plain": [
       "array([[35, 40, 45]])"
      ]
     },
     "execution_count": 40,
     "metadata": {},
     "output_type": "execute_result"
    }
   ],
   "source": [
    "arr_2d[2:,:]"
   ]
  },
  {
   "cell_type": "markdown",
   "id": "52368c33",
   "metadata": {},
   "source": [
    "# Selection"
   ]
  },
  {
   "cell_type": "markdown",
   "id": "2076c371",
   "metadata": {},
   "source": [
    "We can select array based on comparison operation"
   ]
  },
  {
   "cell_type": "code",
   "execution_count": 7,
   "id": "25f3be9f",
   "metadata": {},
   "outputs": [],
   "source": [
    "import numpy as np"
   ]
  },
  {
   "cell_type": "code",
   "execution_count": 8,
   "id": "5b618538",
   "metadata": {},
   "outputs": [],
   "source": [
    "arr=np.arange(0,11,2)"
   ]
  },
  {
   "cell_type": "code",
   "execution_count": 11,
   "id": "74687a1f",
   "metadata": {},
   "outputs": [],
   "source": [
    "bool_arr=arr[arr>5]"
   ]
  },
  {
   "cell_type": "code",
   "execution_count": 12,
   "id": "bec99bb3",
   "metadata": {},
   "outputs": [
    {
     "data": {
      "text/plain": [
       "array([ 6,  8, 10])"
      ]
     },
     "execution_count": 12,
     "metadata": {},
     "output_type": "execute_result"
    }
   ],
   "source": [
    "bool_arr"
   ]
  },
  {
   "cell_type": "code",
   "execution_count": 13,
   "id": "a30b765c",
   "metadata": {},
   "outputs": [
    {
     "data": {
      "text/plain": [
       "array([0, 2])"
      ]
     },
     "execution_count": 13,
     "metadata": {},
     "output_type": "execute_result"
    }
   ],
   "source": [
    "arr[arr<3]"
   ]
  },
  {
   "cell_type": "code",
   "execution_count": 14,
   "id": "08c071a0",
   "metadata": {},
   "outputs": [
    {
     "data": {
      "text/plain": [
       "array([ 6,  8, 10])"
      ]
     },
     "execution_count": 14,
     "metadata": {},
     "output_type": "execute_result"
    }
   ],
   "source": [
    "x=4\n",
    "arr[arr>x]"
   ]
  },
  {
   "cell_type": "code",
   "execution_count": 15,
   "id": "82de6cce",
   "metadata": {},
   "outputs": [
    {
     "data": {
      "text/plain": [
       "array([ 0,  4,  8, 12, 16, 20])"
      ]
     },
     "execution_count": 15,
     "metadata": {},
     "output_type": "execute_result"
    }
   ],
   "source": [
    "arr+arr"
   ]
  },
  {
   "cell_type": "code",
   "execution_count": 16,
   "id": "21aeb969",
   "metadata": {},
   "outputs": [
    {
     "data": {
      "text/plain": [
       "array([0, 0, 0, 0, 0, 0])"
      ]
     },
     "execution_count": 16,
     "metadata": {},
     "output_type": "execute_result"
    }
   ],
   "source": [
    "arr-arr"
   ]
  },
  {
   "cell_type": "code",
   "execution_count": 17,
   "id": "438f8997",
   "metadata": {},
   "outputs": [
    {
     "data": {
      "text/plain": [
       "array([  0,   4,  16,  36,  64, 100])"
      ]
     },
     "execution_count": 17,
     "metadata": {},
     "output_type": "execute_result"
    }
   ],
   "source": [
    "arr*arr"
   ]
  },
  {
   "cell_type": "code",
   "execution_count": 18,
   "id": "074b4b1d",
   "metadata": {},
   "outputs": [
    {
     "name": "stderr",
     "output_type": "stream",
     "text": [
      "C:\\Users\\Ansari\\AppData\\Local\\Temp\\ipykernel_2568\\1862401812.py:1: RuntimeWarning: invalid value encountered in true_divide\n",
      "  arr/arr\n"
     ]
    },
    {
     "data": {
      "text/plain": [
       "array([nan,  1.,  1.,  1.,  1.,  1.])"
      ]
     },
     "execution_count": 18,
     "metadata": {},
     "output_type": "execute_result"
    }
   ],
   "source": [
    "arr/arr"
   ]
  },
  {
   "cell_type": "code",
   "execution_count": 19,
   "id": "3535257f",
   "metadata": {},
   "outputs": [
    {
     "name": "stderr",
     "output_type": "stream",
     "text": [
      "C:\\Users\\Ansari\\AppData\\Local\\Temp\\ipykernel_2568\\255282349.py:1: RuntimeWarning: divide by zero encountered in true_divide\n",
      "  1/arr\n"
     ]
    },
    {
     "data": {
      "text/plain": [
       "array([       inf, 0.5       , 0.25      , 0.16666667, 0.125     ,\n",
       "       0.1       ])"
      ]
     },
     "execution_count": 19,
     "metadata": {},
     "output_type": "execute_result"
    }
   ],
   "source": [
    "1/arr"
   ]
  }
 ],
 "metadata": {
  "kernelspec": {
   "display_name": "Python 3 (ipykernel)",
   "language": "python",
   "name": "python3"
  },
  "language_info": {
   "codemirror_mode": {
    "name": "ipython",
    "version": 3
   },
   "file_extension": ".py",
   "mimetype": "text/x-python",
   "name": "python",
   "nbconvert_exporter": "python",
   "pygments_lexer": "ipython3",
   "version": "3.9.12"
  }
 },
 "nbformat": 4,
 "nbformat_minor": 5
}

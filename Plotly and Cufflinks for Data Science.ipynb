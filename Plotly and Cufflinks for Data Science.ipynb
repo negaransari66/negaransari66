{
 "cells": [
  {
   "cell_type": "markdown",
   "id": "2e539de2",
   "metadata": {},
   "source": [
    "# Plotly and Cufflink"
   ]
  },
  {
   "cell_type": "markdown",
   "id": "a1a21c03",
   "metadata": {},
   "source": [
    "Plotly is a python libary that can alow us to make an interactive plot and use it in dashbord or \n",
    "website."
   ]
  },
  {
   "cell_type": "code",
   "execution_count": 1,
   "id": "7d06355f",
   "metadata": {},
   "outputs": [
    {
     "name": "stdout",
     "output_type": "stream",
     "text": [
      "Requirement already satisfied: plotly in c:\\users\\ansari\\anaconda3\\lib\\site-packages (5.6.0)\n",
      "Requirement already satisfied: six in c:\\users\\ansari\\anaconda3\\lib\\site-packages (from plotly) (1.16.0)\n",
      "Requirement already satisfied: tenacity>=6.2.0 in c:\\users\\ansari\\anaconda3\\lib\\site-packages (from plotly) (8.0.1)\n"
     ]
    }
   ],
   "source": [
    "!pip install plotly"
   ]
  },
  {
   "cell_type": "code",
   "execution_count": 2,
   "id": "bccc2a49",
   "metadata": {},
   "outputs": [
    {
     "name": "stdout",
     "output_type": "stream",
     "text": [
      "Requirement already satisfied: cufflinks in c:\\users\\ansari\\anaconda3\\lib\\site-packages (0.17.3)\n",
      "Requirement already satisfied: pandas>=0.19.2 in c:\\users\\ansari\\anaconda3\\lib\\site-packages (from cufflinks) (1.4.2)\n",
      "Requirement already satisfied: ipython>=5.3.0 in c:\\users\\ansari\\anaconda3\\lib\\site-packages (from cufflinks) (8.2.0)\n",
      "Requirement already satisfied: numpy>=1.9.2 in c:\\users\\ansari\\anaconda3\\lib\\site-packages (from cufflinks) (1.21.5)\n",
      "Requirement already satisfied: plotly>=4.1.1 in c:\\users\\ansari\\anaconda3\\lib\\site-packages (from cufflinks) (5.6.0)\n",
      "Requirement already satisfied: ipywidgets>=7.0.0 in c:\\users\\ansari\\anaconda3\\lib\\site-packages (from cufflinks) (7.6.5)\n",
      "Requirement already satisfied: colorlover>=0.2.1 in c:\\users\\ansari\\anaconda3\\lib\\site-packages (from cufflinks) (0.3.0)\n",
      "Requirement already satisfied: setuptools>=34.4.1 in c:\\users\\ansari\\anaconda3\\lib\\site-packages (from cufflinks) (61.2.0)\n",
      "Requirement already satisfied: six>=1.9.0 in c:\\users\\ansari\\anaconda3\\lib\\site-packages (from cufflinks) (1.16.0)\n",
      "Requirement already satisfied: stack-data in c:\\users\\ansari\\anaconda3\\lib\\site-packages (from ipython>=5.3.0->cufflinks) (0.2.0)\n",
      "Requirement already satisfied: backcall in c:\\users\\ansari\\anaconda3\\lib\\site-packages (from ipython>=5.3.0->cufflinks) (0.2.0)\n",
      "Requirement already satisfied: pickleshare in c:\\users\\ansari\\anaconda3\\lib\\site-packages (from ipython>=5.3.0->cufflinks) (0.7.5)\n",
      "Requirement already satisfied: colorama in c:\\users\\ansari\\anaconda3\\lib\\site-packages (from ipython>=5.3.0->cufflinks) (0.4.4)\n",
      "Requirement already satisfied: matplotlib-inline in c:\\users\\ansari\\anaconda3\\lib\\site-packages (from ipython>=5.3.0->cufflinks) (0.1.2)\n",
      "Requirement already satisfied: traitlets>=5 in c:\\users\\ansari\\anaconda3\\lib\\site-packages (from ipython>=5.3.0->cufflinks) (5.1.1)\n",
      "Requirement already satisfied: prompt-toolkit!=3.0.0,!=3.0.1,<3.1.0,>=2.0.0 in c:\\users\\ansari\\anaconda3\\lib\\site-packages (from ipython>=5.3.0->cufflinks) (3.0.20)\n",
      "Requirement already satisfied: pygments>=2.4.0 in c:\\users\\ansari\\anaconda3\\lib\\site-packages (from ipython>=5.3.0->cufflinks) (2.11.2)\n",
      "Requirement already satisfied: decorator in c:\\users\\ansari\\anaconda3\\lib\\site-packages (from ipython>=5.3.0->cufflinks) (5.1.1)\n",
      "Requirement already satisfied: jedi>=0.16 in c:\\users\\ansari\\anaconda3\\lib\\site-packages (from ipython>=5.3.0->cufflinks) (0.18.1)\n",
      "Requirement already satisfied: nbformat>=4.2.0 in c:\\users\\ansari\\anaconda3\\lib\\site-packages (from ipywidgets>=7.0.0->cufflinks) (5.3.0)\n",
      "Requirement already satisfied: ipython-genutils~=0.2.0 in c:\\users\\ansari\\anaconda3\\lib\\site-packages (from ipywidgets>=7.0.0->cufflinks) (0.2.0)\n",
      "Requirement already satisfied: ipykernel>=4.5.1 in c:\\users\\ansari\\anaconda3\\lib\\site-packages (from ipywidgets>=7.0.0->cufflinks) (6.9.1)\n",
      "Requirement already satisfied: jupyterlab-widgets>=1.0.0 in c:\\users\\ansari\\anaconda3\\lib\\site-packages (from ipywidgets>=7.0.0->cufflinks) (1.0.0)\n",
      "Requirement already satisfied: widgetsnbextension~=3.5.0 in c:\\users\\ansari\\anaconda3\\lib\\site-packages (from ipywidgets>=7.0.0->cufflinks) (3.5.2)\n",
      "Requirement already satisfied: tornado<7.0,>=4.2 in c:\\users\\ansari\\anaconda3\\lib\\site-packages (from ipykernel>=4.5.1->ipywidgets>=7.0.0->cufflinks) (6.1)\n",
      "Requirement already satisfied: jupyter-client<8.0 in c:\\users\\ansari\\anaconda3\\lib\\site-packages (from ipykernel>=4.5.1->ipywidgets>=7.0.0->cufflinks) (6.1.12)\n",
      "Requirement already satisfied: debugpy<2.0,>=1.0.0 in c:\\users\\ansari\\anaconda3\\lib\\site-packages (from ipykernel>=4.5.1->ipywidgets>=7.0.0->cufflinks) (1.5.1)\n",
      "Requirement already satisfied: nest-asyncio in c:\\users\\ansari\\anaconda3\\lib\\site-packages (from ipykernel>=4.5.1->ipywidgets>=7.0.0->cufflinks) (1.5.5)\n",
      "Requirement already satisfied: parso<0.9.0,>=0.8.0 in c:\\users\\ansari\\anaconda3\\lib\\site-packages (from jedi>=0.16->ipython>=5.3.0->cufflinks) (0.8.3)\n",
      "Requirement already satisfied: pyzmq>=13 in c:\\users\\ansari\\anaconda3\\lib\\site-packages (from jupyter-client<8.0->ipykernel>=4.5.1->ipywidgets>=7.0.0->cufflinks) (22.3.0)\n",
      "Requirement already satisfied: python-dateutil>=2.1 in c:\\users\\ansari\\anaconda3\\lib\\site-packages (from jupyter-client<8.0->ipykernel>=4.5.1->ipywidgets>=7.0.0->cufflinks) (2.8.2)\n",
      "Requirement already satisfied: jupyter-core>=4.6.0 in c:\\users\\ansari\\anaconda3\\lib\\site-packages (from jupyter-client<8.0->ipykernel>=4.5.1->ipywidgets>=7.0.0->cufflinks) (4.9.2)\n",
      "Requirement already satisfied: pywin32>=1.0 in c:\\users\\ansari\\anaconda3\\lib\\site-packages (from jupyter-core>=4.6.0->jupyter-client<8.0->ipykernel>=4.5.1->ipywidgets>=7.0.0->cufflinks) (302)\n",
      "Requirement already satisfied: jsonschema>=2.6 in c:\\users\\ansari\\anaconda3\\lib\\site-packages (from nbformat>=4.2.0->ipywidgets>=7.0.0->cufflinks) (4.4.0)\n",
      "Requirement already satisfied: fastjsonschema in c:\\users\\ansari\\anaconda3\\lib\\site-packages (from nbformat>=4.2.0->ipywidgets>=7.0.0->cufflinks) (2.15.1)\n",
      "Requirement already satisfied: attrs>=17.4.0 in c:\\users\\ansari\\anaconda3\\lib\\site-packages (from jsonschema>=2.6->nbformat>=4.2.0->ipywidgets>=7.0.0->cufflinks) (21.4.0)\n",
      "Requirement already satisfied: pyrsistent!=0.17.0,!=0.17.1,!=0.17.2,>=0.14.0 in c:\\users\\ansari\\anaconda3\\lib\\site-packages (from jsonschema>=2.6->nbformat>=4.2.0->ipywidgets>=7.0.0->cufflinks) (0.18.0)\n",
      "Requirement already satisfied: pytz>=2020.1 in c:\\users\\ansari\\anaconda3\\lib\\site-packages (from pandas>=0.19.2->cufflinks) (2021.3)\n",
      "Requirement already satisfied: tenacity>=6.2.0 in c:\\users\\ansari\\anaconda3\\lib\\site-packages (from plotly>=4.1.1->cufflinks) (8.0.1)\n",
      "Requirement already satisfied: wcwidth in c:\\users\\ansari\\anaconda3\\lib\\site-packages (from prompt-toolkit!=3.0.0,!=3.0.1,<3.1.0,>=2.0.0->ipython>=5.3.0->cufflinks) (0.2.5)\n",
      "Requirement already satisfied: notebook>=4.4.1 in c:\\users\\ansari\\anaconda3\\lib\\site-packages (from widgetsnbextension~=3.5.0->ipywidgets>=7.0.0->cufflinks) (6.4.8)\n",
      "Requirement already satisfied: argon2-cffi in c:\\users\\ansari\\anaconda3\\lib\\site-packages (from notebook>=4.4.1->widgetsnbextension~=3.5.0->ipywidgets>=7.0.0->cufflinks) (21.3.0)\n",
      "Requirement already satisfied: terminado>=0.8.3 in c:\\users\\ansari\\anaconda3\\lib\\site-packages (from notebook>=4.4.1->widgetsnbextension~=3.5.0->ipywidgets>=7.0.0->cufflinks) (0.13.1)\n",
      "Requirement already satisfied: Send2Trash>=1.8.0 in c:\\users\\ansari\\anaconda3\\lib\\site-packages (from notebook>=4.4.1->widgetsnbextension~=3.5.0->ipywidgets>=7.0.0->cufflinks) (1.8.0)\n",
      "Requirement already satisfied: prometheus-client in c:\\users\\ansari\\anaconda3\\lib\\site-packages (from notebook>=4.4.1->widgetsnbextension~=3.5.0->ipywidgets>=7.0.0->cufflinks) (0.13.1)\n",
      "Requirement already satisfied: nbconvert in c:\\users\\ansari\\anaconda3\\lib\\site-packages (from notebook>=4.4.1->widgetsnbextension~=3.5.0->ipywidgets>=7.0.0->cufflinks) (6.4.4)\n",
      "Requirement already satisfied: jinja2 in c:\\users\\ansari\\anaconda3\\lib\\site-packages (from notebook>=4.4.1->widgetsnbextension~=3.5.0->ipywidgets>=7.0.0->cufflinks) (2.11.3)\n",
      "Requirement already satisfied: pywinpty>=1.1.0 in c:\\users\\ansari\\anaconda3\\lib\\site-packages (from terminado>=0.8.3->notebook>=4.4.1->widgetsnbextension~=3.5.0->ipywidgets>=7.0.0->cufflinks) (2.0.2)\n",
      "Requirement already satisfied: argon2-cffi-bindings in c:\\users\\ansari\\anaconda3\\lib\\site-packages (from argon2-cffi->notebook>=4.4.1->widgetsnbextension~=3.5.0->ipywidgets>=7.0.0->cufflinks) (21.2.0)\n",
      "Requirement already satisfied: cffi>=1.0.1 in c:\\users\\ansari\\anaconda3\\lib\\site-packages (from argon2-cffi-bindings->argon2-cffi->notebook>=4.4.1->widgetsnbextension~=3.5.0->ipywidgets>=7.0.0->cufflinks) (1.15.0)\n",
      "Requirement already satisfied: pycparser in c:\\users\\ansari\\anaconda3\\lib\\site-packages (from cffi>=1.0.1->argon2-cffi-bindings->argon2-cffi->notebook>=4.4.1->widgetsnbextension~=3.5.0->ipywidgets>=7.0.0->cufflinks) (2.21)\n",
      "Requirement already satisfied: MarkupSafe>=0.23 in c:\\users\\ansari\\anaconda3\\lib\\site-packages (from jinja2->notebook>=4.4.1->widgetsnbextension~=3.5.0->ipywidgets>=7.0.0->cufflinks) (2.0.1)\n",
      "Requirement already satisfied: jupyterlab-pygments in c:\\users\\ansari\\anaconda3\\lib\\site-packages (from nbconvert->notebook>=4.4.1->widgetsnbextension~=3.5.0->ipywidgets>=7.0.0->cufflinks) (0.1.2)\n",
      "Requirement already satisfied: defusedxml in c:\\users\\ansari\\anaconda3\\lib\\site-packages (from nbconvert->notebook>=4.4.1->widgetsnbextension~=3.5.0->ipywidgets>=7.0.0->cufflinks) (0.7.1)\n",
      "Requirement already satisfied: mistune<2,>=0.8.1 in c:\\users\\ansari\\anaconda3\\lib\\site-packages (from nbconvert->notebook>=4.4.1->widgetsnbextension~=3.5.0->ipywidgets>=7.0.0->cufflinks) (0.8.4)\n",
      "Requirement already satisfied: entrypoints>=0.2.2 in c:\\users\\ansari\\anaconda3\\lib\\site-packages (from nbconvert->notebook>=4.4.1->widgetsnbextension~=3.5.0->ipywidgets>=7.0.0->cufflinks) (0.4)\n",
      "Requirement already satisfied: bleach in c:\\users\\ansari\\anaconda3\\lib\\site-packages (from nbconvert->notebook>=4.4.1->widgetsnbextension~=3.5.0->ipywidgets>=7.0.0->cufflinks) (4.1.0)\n",
      "Requirement already satisfied: nbclient<0.6.0,>=0.5.0 in c:\\users\\ansari\\anaconda3\\lib\\site-packages (from nbconvert->notebook>=4.4.1->widgetsnbextension~=3.5.0->ipywidgets>=7.0.0->cufflinks) (0.5.13)\n",
      "Requirement already satisfied: beautifulsoup4 in c:\\users\\ansari\\anaconda3\\lib\\site-packages (from nbconvert->notebook>=4.4.1->widgetsnbextension~=3.5.0->ipywidgets>=7.0.0->cufflinks) (4.11.1)\n",
      "Requirement already satisfied: testpath in c:\\users\\ansari\\anaconda3\\lib\\site-packages (from nbconvert->notebook>=4.4.1->widgetsnbextension~=3.5.0->ipywidgets>=7.0.0->cufflinks) (0.5.0)\n",
      "Requirement already satisfied: pandocfilters>=1.4.1 in c:\\users\\ansari\\anaconda3\\lib\\site-packages (from nbconvert->notebook>=4.4.1->widgetsnbextension~=3.5.0->ipywidgets>=7.0.0->cufflinks) (1.5.0)\n",
      "Requirement already satisfied: soupsieve>1.2 in c:\\users\\ansari\\anaconda3\\lib\\site-packages (from beautifulsoup4->nbconvert->notebook>=4.4.1->widgetsnbextension~=3.5.0->ipywidgets>=7.0.0->cufflinks) (2.3.1)\n",
      "Requirement already satisfied: packaging in c:\\users\\ansari\\anaconda3\\lib\\site-packages (from bleach->nbconvert->notebook>=4.4.1->widgetsnbextension~=3.5.0->ipywidgets>=7.0.0->cufflinks) (21.3)\n",
      "Requirement already satisfied: webencodings in c:\\users\\ansari\\anaconda3\\lib\\site-packages (from bleach->nbconvert->notebook>=4.4.1->widgetsnbextension~=3.5.0->ipywidgets>=7.0.0->cufflinks) (0.5.1)\n",
      "Requirement already satisfied: pyparsing!=3.0.5,>=2.0.2 in c:\\users\\ansari\\anaconda3\\lib\\site-packages (from packaging->bleach->nbconvert->notebook>=4.4.1->widgetsnbextension~=3.5.0->ipywidgets>=7.0.0->cufflinks) (3.0.4)\n",
      "Requirement already satisfied: pure-eval in c:\\users\\ansari\\anaconda3\\lib\\site-packages (from stack-data->ipython>=5.3.0->cufflinks) (0.2.2)\n",
      "Requirement already satisfied: asttokens in c:\\users\\ansari\\anaconda3\\lib\\site-packages (from stack-data->ipython>=5.3.0->cufflinks) (2.0.5)\n",
      "Requirement already satisfied: executing in c:\\users\\ansari\\anaconda3\\lib\\site-packages (from stack-data->ipython>=5.3.0->cufflinks) (0.8.3)\n"
     ]
    }
   ],
   "source": [
    "!pip install cufflinks"
   ]
  },
  {
   "cell_type": "raw",
   "id": "bd50a72b",
   "metadata": {},
   "source": [
    "!pip install matplotlib"
   ]
  },
  {
   "cell_type": "code",
   "execution_count": 3,
   "id": "3bad10c4",
   "metadata": {},
   "outputs": [],
   "source": [
    "import pandas as pd\n",
    "import numpy as np\n",
    "import matplotlib.pyplot as plt\n",
    "%matplotlib inline"
   ]
  },
  {
   "cell_type": "code",
   "execution_count": 4,
   "id": "37c2365e",
   "metadata": {},
   "outputs": [],
   "source": [
    "from plotly import __version__"
   ]
  },
  {
   "cell_type": "code",
   "execution_count": 5,
   "id": "6f77c767",
   "metadata": {},
   "outputs": [
    {
     "name": "stdout",
     "output_type": "stream",
     "text": [
      "5.6.0\n"
     ]
    }
   ],
   "source": [
    "print (__version__)"
   ]
  },
  {
   "cell_type": "code",
   "execution_count": 6,
   "id": "ed087460",
   "metadata": {},
   "outputs": [],
   "source": [
    "import cufflinks as cs"
   ]
  },
  {
   "cell_type": "code",
   "execution_count": 7,
   "id": "74e84dc9",
   "metadata": {},
   "outputs": [],
   "source": [
    "from plotly.offline import download_plotlyjs,init_notebook_mode,plot,iplot"
   ]
  },
  {
   "cell_type": "code",
   "execution_count": 8,
   "id": "ac795a04",
   "metadata": {},
   "outputs": [
    {
     "data": {
      "text/html": [
       "        <script type=\"text/javascript\">\n",
       "        window.PlotlyConfig = {MathJaxConfig: 'local'};\n",
       "        if (window.MathJax) {MathJax.Hub.Config({SVG: {font: \"STIX-Web\"}});}\n",
       "        if (typeof require !== 'undefined') {\n",
       "        require.undef(\"plotly\");\n",
       "        requirejs.config({\n",
       "            paths: {\n",
       "                'plotly': ['https://cdn.plot.ly/plotly-2.9.0.min']\n",
       "            }\n",
       "        });\n",
       "        require(['plotly'], function(Plotly) {\n",
       "            window._Plotly = Plotly;\n",
       "        });\n",
       "        }\n",
       "        </script>\n",
       "        "
      ]
     },
     "metadata": {},
     "output_type": "display_data"
    }
   ],
   "source": [
    "init_notebook_mode(connected=True)"
   ]
  },
  {
   "cell_type": "code",
   "execution_count": 9,
   "id": "31cd214f",
   "metadata": {},
   "outputs": [
    {
     "data": {
      "text/html": [
       "        <script type=\"text/javascript\">\n",
       "        window.PlotlyConfig = {MathJaxConfig: 'local'};\n",
       "        if (window.MathJax) {MathJax.Hub.Config({SVG: {font: \"STIX-Web\"}});}\n",
       "        if (typeof require !== 'undefined') {\n",
       "        require.undef(\"plotly\");\n",
       "        requirejs.config({\n",
       "            paths: {\n",
       "                'plotly': ['https://cdn.plot.ly/plotly-2.9.0.min']\n",
       "            }\n",
       "        });\n",
       "        require(['plotly'], function(Plotly) {\n",
       "            window._Plotly = Plotly;\n",
       "        });\n",
       "        }\n",
       "        </script>\n",
       "        "
      ]
     },
     "metadata": {},
     "output_type": "display_data"
    }
   ],
   "source": [
    "cs.go_offline()"
   ]
  },
  {
   "cell_type": "code",
   "execution_count": 10,
   "id": "8ea8ab38",
   "metadata": {},
   "outputs": [],
   "source": [
    "#data\n",
    "\n",
    "df=pd.DataFrame(np.random.randn(100,4),columns='A B C D'.split())"
   ]
  },
  {
   "cell_type": "code",
   "execution_count": 11,
   "id": "e79a292d",
   "metadata": {},
   "outputs": [
    {
     "data": {
      "text/html": [
       "<div>\n",
       "<style scoped>\n",
       "    .dataframe tbody tr th:only-of-type {\n",
       "        vertical-align: middle;\n",
       "    }\n",
       "\n",
       "    .dataframe tbody tr th {\n",
       "        vertical-align: top;\n",
       "    }\n",
       "\n",
       "    .dataframe thead th {\n",
       "        text-align: right;\n",
       "    }\n",
       "</style>\n",
       "<table border=\"1\" class=\"dataframe\">\n",
       "  <thead>\n",
       "    <tr style=\"text-align: right;\">\n",
       "      <th></th>\n",
       "      <th>A</th>\n",
       "      <th>B</th>\n",
       "      <th>C</th>\n",
       "      <th>D</th>\n",
       "    </tr>\n",
       "  </thead>\n",
       "  <tbody>\n",
       "    <tr>\n",
       "      <th>0</th>\n",
       "      <td>-1.417923</td>\n",
       "      <td>0.439168</td>\n",
       "      <td>0.063292</td>\n",
       "      <td>-1.938921</td>\n",
       "    </tr>\n",
       "    <tr>\n",
       "      <th>1</th>\n",
       "      <td>-0.462642</td>\n",
       "      <td>0.775417</td>\n",
       "      <td>0.601614</td>\n",
       "      <td>1.031875</td>\n",
       "    </tr>\n",
       "    <tr>\n",
       "      <th>2</th>\n",
       "      <td>0.751522</td>\n",
       "      <td>-1.766184</td>\n",
       "      <td>-0.385981</td>\n",
       "      <td>0.196092</td>\n",
       "    </tr>\n",
       "    <tr>\n",
       "      <th>3</th>\n",
       "      <td>0.017215</td>\n",
       "      <td>0.467426</td>\n",
       "      <td>-1.794838</td>\n",
       "      <td>2.084504</td>\n",
       "    </tr>\n",
       "    <tr>\n",
       "      <th>4</th>\n",
       "      <td>-2.119230</td>\n",
       "      <td>0.293210</td>\n",
       "      <td>0.692260</td>\n",
       "      <td>-0.687929</td>\n",
       "    </tr>\n",
       "  </tbody>\n",
       "</table>\n",
       "</div>"
      ],
      "text/plain": [
       "          A         B         C         D\n",
       "0 -1.417923  0.439168  0.063292 -1.938921\n",
       "1 -0.462642  0.775417  0.601614  1.031875\n",
       "2  0.751522 -1.766184 -0.385981  0.196092\n",
       "3  0.017215  0.467426 -1.794838  2.084504\n",
       "4 -2.119230  0.293210  0.692260 -0.687929"
      ]
     },
     "execution_count": 11,
     "metadata": {},
     "output_type": "execute_result"
    }
   ],
   "source": [
    "df.head()"
   ]
  },
  {
   "cell_type": "code",
   "execution_count": 12,
   "id": "ed279419",
   "metadata": {},
   "outputs": [],
   "source": [
    "df2=pd.DataFrame({'category':['A','B','C'],'values':[32,43,50]})"
   ]
  },
  {
   "cell_type": "code",
   "execution_count": 13,
   "id": "cfb92e39",
   "metadata": {},
   "outputs": [
    {
     "data": {
      "text/html": [
       "<div>\n",
       "<style scoped>\n",
       "    .dataframe tbody tr th:only-of-type {\n",
       "        vertical-align: middle;\n",
       "    }\n",
       "\n",
       "    .dataframe tbody tr th {\n",
       "        vertical-align: top;\n",
       "    }\n",
       "\n",
       "    .dataframe thead th {\n",
       "        text-align: right;\n",
       "    }\n",
       "</style>\n",
       "<table border=\"1\" class=\"dataframe\">\n",
       "  <thead>\n",
       "    <tr style=\"text-align: right;\">\n",
       "      <th></th>\n",
       "      <th>category</th>\n",
       "      <th>values</th>\n",
       "    </tr>\n",
       "  </thead>\n",
       "  <tbody>\n",
       "    <tr>\n",
       "      <th>0</th>\n",
       "      <td>A</td>\n",
       "      <td>32</td>\n",
       "    </tr>\n",
       "    <tr>\n",
       "      <th>1</th>\n",
       "      <td>B</td>\n",
       "      <td>43</td>\n",
       "    </tr>\n",
       "    <tr>\n",
       "      <th>2</th>\n",
       "      <td>C</td>\n",
       "      <td>50</td>\n",
       "    </tr>\n",
       "  </tbody>\n",
       "</table>\n",
       "</div>"
      ],
      "text/plain": [
       "  category  values\n",
       "0        A      32\n",
       "1        B      43\n",
       "2        C      50"
      ]
     },
     "execution_count": 13,
     "metadata": {},
     "output_type": "execute_result"
    }
   ],
   "source": [
    "df2"
   ]
  },
  {
   "cell_type": "code",
   "execution_count": 14,
   "id": "aff98f76",
   "metadata": {},
   "outputs": [
    {
     "data": {
      "application/vnd.plotly.v1+json": {
       "config": {
        "linkText": "Export to plot.ly",
        "plotlyServerURL": "https://plot.ly",
        "showLink": true
       },
       "data": [
        {
         "line": {
          "color": "rgba(255, 153, 51, 1.0)",
          "dash": "solid",
          "shape": "linear",
          "width": 1.3
         },
         "mode": "lines",
         "name": "A",
         "text": "",
         "type": "scatter",
         "x": [
          0,
          1,
          2,
          3,
          4,
          5,
          6,
          7,
          8,
          9,
          10,
          11,
          12,
          13,
          14,
          15,
          16,
          17,
          18,
          19,
          20,
          21,
          22,
          23,
          24,
          25,
          26,
          27,
          28,
          29,
          30,
          31,
          32,
          33,
          34,
          35,
          36,
          37,
          38,
          39,
          40,
          41,
          42,
          43,
          44,
          45,
          46,
          47,
          48,
          49,
          50,
          51,
          52,
          53,
          54,
          55,
          56,
          57,
          58,
          59,
          60,
          61,
          62,
          63,
          64,
          65,
          66,
          67,
          68,
          69,
          70,
          71,
          72,
          73,
          74,
          75,
          76,
          77,
          78,
          79,
          80,
          81,
          82,
          83,
          84,
          85,
          86,
          87,
          88,
          89,
          90,
          91,
          92,
          93,
          94,
          95,
          96,
          97,
          98,
          99
         ],
         "y": [
          -1.4179226392462503,
          -0.46264200324192123,
          0.7515224608796539,
          0.017214914882547446,
          -2.119230156508853,
          1.4246987135038927,
          -1.3484391107921905,
          0.6432498838271453,
          -0.9263864887473827,
          0.7570861795056825,
          0.07543918980622479,
          1.1599339441805279,
          -0.04608268499591076,
          -0.09120078183586999,
          0.8842914961718378,
          -0.9162025719299867,
          -1.2610444177759146,
          0.027904167487635967,
          -0.7061578863184852,
          0.7709016638285334,
          -0.8539166153517274,
          0.7309733763722845,
          -1.7691103627746505,
          1.263558824772134,
          0.4717765277347702,
          0.557405859177239,
          -1.6819089715393656,
          1.0025284313403557,
          1.572525731929163,
          -0.9650143742388076,
          1.151517875183336,
          -0.18247700098496303,
          -0.7167113193989513,
          1.1761072211193844,
          0.12819699293539916,
          -0.23688078197346668,
          -0.560705340480975,
          -0.39787163984807145,
          1.3382710439775771,
          -1.7798709075126007,
          -1.2702252329912076,
          -0.4152839220015532,
          0.17542127517078324,
          0.39285448248880483,
          0.9045840149471326,
          -0.16994995097364154,
          0.3381582060118401,
          0.2063929493612841,
          -0.11094598121380154,
          0.7974586479279469,
          -2.199222319526443,
          1.3997599864684436,
          0.22941627710272822,
          1.4240802742453296,
          0.3094390144366311,
          1.5403747340754785,
          0.5810551927052852,
          -1.066762083853598,
          -0.059946047063189144,
          0.22949791684170903,
          0.8327749881915162,
          -0.06636372674054501,
          -0.6190169447247864,
          2.0048868335375056,
          1.736487965277091,
          -1.3831774356984614,
          1.4976344360500824,
          -0.7067197193609598,
          -0.4385844889747408,
          -0.9353036023038812,
          -0.47593035642229686,
          1.6132806108278546,
          -0.6287717679502393,
          1.0345780523748735,
          -1.27284403429772,
          -0.21598606336809065,
          -0.21383616429784602,
          3.2313217531556826,
          1.3382365732922021,
          -0.22487702362562872,
          2.340429170474291,
          0.6271993811365263,
          1.997890339440614,
          -2.033624272129717,
          0.32279225575672327,
          0.8666550678088079,
          0.8252385648058315,
          -1.657914673275361,
          1.2379383904314973,
          0.7149995599320481,
          -1.1761176335038575,
          0.5706312135572416,
          -0.4558503278911321,
          0.37983919034349595,
          0.09595899429015453,
          -1.2417447649974065,
          -0.5217493081296127,
          0.7542010755173852,
          -1.145180906491648,
          1.6740518150812944
         ]
        },
        {
         "line": {
          "color": "rgba(55, 128, 191, 1.0)",
          "dash": "solid",
          "shape": "linear",
          "width": 1.3
         },
         "mode": "lines",
         "name": "B",
         "text": "",
         "type": "scatter",
         "x": [
          0,
          1,
          2,
          3,
          4,
          5,
          6,
          7,
          8,
          9,
          10,
          11,
          12,
          13,
          14,
          15,
          16,
          17,
          18,
          19,
          20,
          21,
          22,
          23,
          24,
          25,
          26,
          27,
          28,
          29,
          30,
          31,
          32,
          33,
          34,
          35,
          36,
          37,
          38,
          39,
          40,
          41,
          42,
          43,
          44,
          45,
          46,
          47,
          48,
          49,
          50,
          51,
          52,
          53,
          54,
          55,
          56,
          57,
          58,
          59,
          60,
          61,
          62,
          63,
          64,
          65,
          66,
          67,
          68,
          69,
          70,
          71,
          72,
          73,
          74,
          75,
          76,
          77,
          78,
          79,
          80,
          81,
          82,
          83,
          84,
          85,
          86,
          87,
          88,
          89,
          90,
          91,
          92,
          93,
          94,
          95,
          96,
          97,
          98,
          99
         ],
         "y": [
          0.43916847768055367,
          0.7754169812744081,
          -1.766184215926334,
          0.4674257707543401,
          0.29321032071154995,
          1.41774816480575,
          1.3445969383110263,
          0.4416487341811845,
          -1.430772057414031,
          -0.8505022925340281,
          0.4691920933044812,
          1.826784708762384,
          -0.10576410338109243,
          -1.500461426023311,
          0.7965390567393406,
          -0.012409030102622055,
          -0.15130451407398446,
          -2.071058423059817,
          -0.8255625544235962,
          -0.8074054383028947,
          -0.9301852379698403,
          -1.6773017541992195,
          -0.3946539688644478,
          -2.9870582870265263,
          -0.03318946511355068,
          -0.016251530567965744,
          0.7030357504362612,
          -0.4999960084700399,
          -0.9420611634530786,
          -0.1432729844634614,
          0.6557312074595607,
          0.35574155452593026,
          -0.07734755312316859,
          -1.7102423679022432,
          -0.04205763850987133,
          -1.4785422652968754,
          0.7645412296582739,
          -0.24706609101356192,
          -1.201359615189873,
          1.5325015503193518,
          -0.4881633821714732,
          -0.5057962567151923,
          1.1308257061231044,
          -0.23356594422792676,
          0.66092576287292,
          1.6404688258806333,
          -1.5081626093929672,
          -0.0013041142872921448,
          0.12204994284248882,
          1.4721906166668761,
          -0.08003811206186177,
          -0.9092222820745258,
          -0.8407007439622989,
          -0.11436673916364293,
          0.06406328064075953,
          0.48221062292822475,
          -0.7807229952837661,
          -0.20502892323697028,
          0.3447615780074933,
          -1.583612014364668,
          0.5130380961580526,
          -1.551310104687635,
          0.7237591993777599,
          1.5059564157142509,
          -0.10163714145529341,
          -1.67186290946623,
          -0.31584531717802655,
          1.0644113882459774,
          2.274346155576829,
          0.49930813021148723,
          1.6405651595955058,
          -0.33937453326899897,
          0.10632705592337412,
          -1.2642467659208292,
          -0.17540983564574716,
          -0.1862548195584329,
          1.4326108248716156,
          0.06485852176902505,
          -0.36945518458348525,
          0.541657819502985,
          0.4634294898545669,
          -1.3654976940987307,
          -0.45372839134779486,
          1.0423110939962679,
          0.4128596468131367,
          -0.4937751704955059,
          -0.24026055088614237,
          -0.6454607232329427,
          0.8484132678342798,
          0.8798070172304139,
          -0.8837609675709918,
          0.03975057728511999,
          -0.5563341326163922,
          -0.23772094092618812,
          0.18642158069051573,
          0.8268192191747974,
          1.9527936074764647,
          0.8109508402703056,
          -0.44120277682258874,
          0.407627374675604
         ]
        },
        {
         "line": {
          "color": "rgba(50, 171, 96, 1.0)",
          "dash": "solid",
          "shape": "linear",
          "width": 1.3
         },
         "mode": "lines",
         "name": "C",
         "text": "",
         "type": "scatter",
         "x": [
          0,
          1,
          2,
          3,
          4,
          5,
          6,
          7,
          8,
          9,
          10,
          11,
          12,
          13,
          14,
          15,
          16,
          17,
          18,
          19,
          20,
          21,
          22,
          23,
          24,
          25,
          26,
          27,
          28,
          29,
          30,
          31,
          32,
          33,
          34,
          35,
          36,
          37,
          38,
          39,
          40,
          41,
          42,
          43,
          44,
          45,
          46,
          47,
          48,
          49,
          50,
          51,
          52,
          53,
          54,
          55,
          56,
          57,
          58,
          59,
          60,
          61,
          62,
          63,
          64,
          65,
          66,
          67,
          68,
          69,
          70,
          71,
          72,
          73,
          74,
          75,
          76,
          77,
          78,
          79,
          80,
          81,
          82,
          83,
          84,
          85,
          86,
          87,
          88,
          89,
          90,
          91,
          92,
          93,
          94,
          95,
          96,
          97,
          98,
          99
         ],
         "y": [
          0.06329159238094456,
          0.6016141276373372,
          -0.38598146492664975,
          -1.7948377710650494,
          0.6922603131019637,
          1.546950767603398,
          -0.3401423629939599,
          0.8640624768539411,
          -0.3007610328344426,
          1.6514878814844314,
          0.13979537922420346,
          -1.7044467395329324,
          -0.7573626273806366,
          -0.8152744940674739,
          -0.4727052090045964,
          0.040216665584898045,
          -0.43615128786506685,
          0.27344294693179144,
          -0.03349601413188458,
          -0.12851704529268604,
          1.1576163763863443,
          -0.18968775085366393,
          1.5373714863021704,
          1.996631567981592,
          -1.8478908256856124,
          0.2121399690241807,
          0.9903320529159314,
          -2.0640303113562224,
          2.1754063918501094,
          -1.1037872507948654,
          0.5923189542086722,
          -0.7949907287764912,
          1.8361725833088216,
          -0.8336354871997873,
          -0.8708116492198833,
          -0.8802815476308914,
          -0.020241790336094603,
          -0.8355316846439435,
          1.0059170082047086,
          1.0054939597481938,
          1.1040552035428135,
          2.741336901378624,
          -1.2872567660378902,
          1.7236070774494099,
          -2.053011458665576,
          -1.6554645975852431,
          -1.3191147093346898,
          0.14488040663958976,
          0.5307445563011728,
          0.448353435089702,
          0.6448543734164054,
          0.14196129190770976,
          1.5615778114103345,
          -1.6426252419380063,
          -1.405870219150968,
          1.2447263759979295,
          1.2268295001316207,
          0.1708153488927121,
          0.31821376174331156,
          1.0899629968418847,
          -1.324169834479461,
          1.7383695412197921,
          1.4666328621047053,
          -0.004273859710908556,
          -1.0528261698514383,
          -0.8326514854130332,
          1.0007331977147034,
          1.3236434581815582,
          -0.8749821765698546,
          -0.2712525553847711,
          0.5312922787388977,
          0.07442547177048062,
          -0.3691969468632882,
          1.4239953529637823,
          0.380692863230286,
          0.14935094281469008,
          -0.09986944765673177,
          2.4401718896791125,
          -2.078988567371166,
          -0.49433118320023206,
          -0.4953751435521029,
          -1.5785245909476824,
          0.25623531508960756,
          1.0485164469030575,
          -1.0737703034037116,
          0.49552445732235395,
          -0.43824199054292745,
          -0.34985233947132677,
          0.3573169550646374,
          1.0850984979754426,
          -0.707552616005236,
          2.038015366809184,
          0.5957484226452919,
          -0.7887252110202742,
          1.2576250591330205,
          -1.5489921574005654,
          -0.741054262577547,
          0.4864247229814855,
          -0.6666552351510178,
          1.3809168626082857
         ]
        },
        {
         "line": {
          "color": "rgba(128, 0, 128, 1.0)",
          "dash": "solid",
          "shape": "linear",
          "width": 1.3
         },
         "mode": "lines",
         "name": "D",
         "text": "",
         "type": "scatter",
         "x": [
          0,
          1,
          2,
          3,
          4,
          5,
          6,
          7,
          8,
          9,
          10,
          11,
          12,
          13,
          14,
          15,
          16,
          17,
          18,
          19,
          20,
          21,
          22,
          23,
          24,
          25,
          26,
          27,
          28,
          29,
          30,
          31,
          32,
          33,
          34,
          35,
          36,
          37,
          38,
          39,
          40,
          41,
          42,
          43,
          44,
          45,
          46,
          47,
          48,
          49,
          50,
          51,
          52,
          53,
          54,
          55,
          56,
          57,
          58,
          59,
          60,
          61,
          62,
          63,
          64,
          65,
          66,
          67,
          68,
          69,
          70,
          71,
          72,
          73,
          74,
          75,
          76,
          77,
          78,
          79,
          80,
          81,
          82,
          83,
          84,
          85,
          86,
          87,
          88,
          89,
          90,
          91,
          92,
          93,
          94,
          95,
          96,
          97,
          98,
          99
         ],
         "y": [
          -1.9389212579683277,
          1.0318746543195694,
          0.19609179025269244,
          2.084503587262951,
          -0.6879289588930549,
          0.5905955951758107,
          -2.107265660329813,
          0.42375512577914876,
          0.4777623966893956,
          0.2962445297721372,
          -1.1856223496029463,
          1.7022382630606143,
          0.07680793951844446,
          0.8922634028440726,
          -1.1378324118039944,
          2.0167810536162274,
          -0.5868298273047612,
          1.450307501782666,
          1.2446645289563552,
          -0.07944153762300908,
          1.0167359000338412,
          2.427420320730947,
          -0.20128925540517068,
          0.40952059386452916,
          -0.11310106445409522,
          -1.0208138813781207,
          -1.6819789689603284,
          -1.6407317956038237,
          0.5044967236629525,
          0.5076414862093444,
          -1.3622577458763638,
          -1.385513710137751,
          0.4379302170510106,
          -1.0360657971318514,
          0.956725027101898,
          -1.1309412070101597,
          -0.4539498795026894,
          -0.7651633537773271,
          -1.9138987826185374,
          -0.3404523866186954,
          -0.966483327909447,
          -2.223145811291357,
          0.2274200919509542,
          -1.1008190146824435,
          1.597931806234551,
          -0.6904200201169924,
          0.3795736008139735,
          1.1552876033284938,
          1.0802041243340248,
          1.591449198739368,
          -0.5101850194713661,
          0.3656485055448906,
          -1.7781102598964273,
          -0.048838218782504175,
          0.015466680660355055,
          0.9563915331719891,
          -0.8281332359056763,
          -0.2732587642962962,
          -1.224484378166469,
          -0.6961648914628961,
          -1.4217156713230616,
          -0.16325341225772871,
          0.462763681717857,
          -0.12551804694449417,
          0.9597070364983735,
          1.6251869409639046,
          -0.4691100693646398,
          -1.5469095947287455,
          0.5302987629420041,
          0.6857862918116193,
          1.37072509031351,
          -0.5040834234575051,
          0.05051138614709521,
          -0.46101192287628784,
          -2.2860966773402467,
          0.6292167975290144,
          -0.5637220158358606,
          1.2270958978103588,
          1.5741280403319107,
          -0.42940636866567056,
          1.2551709882371325,
          0.7941629170507719,
          0.11090865061083648,
          1.7735491268694554,
          -0.08379969518485648,
          0.2171914794734731,
          -0.4425196060685648,
          1.4339298753585892,
          1.5238027903197608,
          0.9212217064512468,
          -1.6708110306106638,
          -2.6270043901327247,
          -1.538743232667884,
          3.2051948720019845,
          -0.6416520265791904,
          -0.5453567889345559,
          0.9669641250569055,
          0.4416490283576272,
          -2.7373733213933353,
          -0.31505769803083433
         ]
        }
       ],
       "layout": {
        "legend": {
         "bgcolor": "#F5F6F9",
         "font": {
          "color": "#4D5663"
         }
        },
        "paper_bgcolor": "#F5F6F9",
        "plot_bgcolor": "#F5F6F9",
        "template": {
         "data": {
          "bar": [
           {
            "error_x": {
             "color": "#2a3f5f"
            },
            "error_y": {
             "color": "#2a3f5f"
            },
            "marker": {
             "line": {
              "color": "#E5ECF6",
              "width": 0.5
             },
             "pattern": {
              "fillmode": "overlay",
              "size": 10,
              "solidity": 0.2
             }
            },
            "type": "bar"
           }
          ],
          "barpolar": [
           {
            "marker": {
             "line": {
              "color": "#E5ECF6",
              "width": 0.5
             },
             "pattern": {
              "fillmode": "overlay",
              "size": 10,
              "solidity": 0.2
             }
            },
            "type": "barpolar"
           }
          ],
          "carpet": [
           {
            "aaxis": {
             "endlinecolor": "#2a3f5f",
             "gridcolor": "white",
             "linecolor": "white",
             "minorgridcolor": "white",
             "startlinecolor": "#2a3f5f"
            },
            "baxis": {
             "endlinecolor": "#2a3f5f",
             "gridcolor": "white",
             "linecolor": "white",
             "minorgridcolor": "white",
             "startlinecolor": "#2a3f5f"
            },
            "type": "carpet"
           }
          ],
          "choropleth": [
           {
            "colorbar": {
             "outlinewidth": 0,
             "ticks": ""
            },
            "type": "choropleth"
           }
          ],
          "contour": [
           {
            "colorbar": {
             "outlinewidth": 0,
             "ticks": ""
            },
            "colorscale": [
             [
              0,
              "#0d0887"
             ],
             [
              0.1111111111111111,
              "#46039f"
             ],
             [
              0.2222222222222222,
              "#7201a8"
             ],
             [
              0.3333333333333333,
              "#9c179e"
             ],
             [
              0.4444444444444444,
              "#bd3786"
             ],
             [
              0.5555555555555556,
              "#d8576b"
             ],
             [
              0.6666666666666666,
              "#ed7953"
             ],
             [
              0.7777777777777778,
              "#fb9f3a"
             ],
             [
              0.8888888888888888,
              "#fdca26"
             ],
             [
              1,
              "#f0f921"
             ]
            ],
            "type": "contour"
           }
          ],
          "contourcarpet": [
           {
            "colorbar": {
             "outlinewidth": 0,
             "ticks": ""
            },
            "type": "contourcarpet"
           }
          ],
          "heatmap": [
           {
            "colorbar": {
             "outlinewidth": 0,
             "ticks": ""
            },
            "colorscale": [
             [
              0,
              "#0d0887"
             ],
             [
              0.1111111111111111,
              "#46039f"
             ],
             [
              0.2222222222222222,
              "#7201a8"
             ],
             [
              0.3333333333333333,
              "#9c179e"
             ],
             [
              0.4444444444444444,
              "#bd3786"
             ],
             [
              0.5555555555555556,
              "#d8576b"
             ],
             [
              0.6666666666666666,
              "#ed7953"
             ],
             [
              0.7777777777777778,
              "#fb9f3a"
             ],
             [
              0.8888888888888888,
              "#fdca26"
             ],
             [
              1,
              "#f0f921"
             ]
            ],
            "type": "heatmap"
           }
          ],
          "heatmapgl": [
           {
            "colorbar": {
             "outlinewidth": 0,
             "ticks": ""
            },
            "colorscale": [
             [
              0,
              "#0d0887"
             ],
             [
              0.1111111111111111,
              "#46039f"
             ],
             [
              0.2222222222222222,
              "#7201a8"
             ],
             [
              0.3333333333333333,
              "#9c179e"
             ],
             [
              0.4444444444444444,
              "#bd3786"
             ],
             [
              0.5555555555555556,
              "#d8576b"
             ],
             [
              0.6666666666666666,
              "#ed7953"
             ],
             [
              0.7777777777777778,
              "#fb9f3a"
             ],
             [
              0.8888888888888888,
              "#fdca26"
             ],
             [
              1,
              "#f0f921"
             ]
            ],
            "type": "heatmapgl"
           }
          ],
          "histogram": [
           {
            "marker": {
             "pattern": {
              "fillmode": "overlay",
              "size": 10,
              "solidity": 0.2
             }
            },
            "type": "histogram"
           }
          ],
          "histogram2d": [
           {
            "colorbar": {
             "outlinewidth": 0,
             "ticks": ""
            },
            "colorscale": [
             [
              0,
              "#0d0887"
             ],
             [
              0.1111111111111111,
              "#46039f"
             ],
             [
              0.2222222222222222,
              "#7201a8"
             ],
             [
              0.3333333333333333,
              "#9c179e"
             ],
             [
              0.4444444444444444,
              "#bd3786"
             ],
             [
              0.5555555555555556,
              "#d8576b"
             ],
             [
              0.6666666666666666,
              "#ed7953"
             ],
             [
              0.7777777777777778,
              "#fb9f3a"
             ],
             [
              0.8888888888888888,
              "#fdca26"
             ],
             [
              1,
              "#f0f921"
             ]
            ],
            "type": "histogram2d"
           }
          ],
          "histogram2dcontour": [
           {
            "colorbar": {
             "outlinewidth": 0,
             "ticks": ""
            },
            "colorscale": [
             [
              0,
              "#0d0887"
             ],
             [
              0.1111111111111111,
              "#46039f"
             ],
             [
              0.2222222222222222,
              "#7201a8"
             ],
             [
              0.3333333333333333,
              "#9c179e"
             ],
             [
              0.4444444444444444,
              "#bd3786"
             ],
             [
              0.5555555555555556,
              "#d8576b"
             ],
             [
              0.6666666666666666,
              "#ed7953"
             ],
             [
              0.7777777777777778,
              "#fb9f3a"
             ],
             [
              0.8888888888888888,
              "#fdca26"
             ],
             [
              1,
              "#f0f921"
             ]
            ],
            "type": "histogram2dcontour"
           }
          ],
          "mesh3d": [
           {
            "colorbar": {
             "outlinewidth": 0,
             "ticks": ""
            },
            "type": "mesh3d"
           }
          ],
          "parcoords": [
           {
            "line": {
             "colorbar": {
              "outlinewidth": 0,
              "ticks": ""
             }
            },
            "type": "parcoords"
           }
          ],
          "pie": [
           {
            "automargin": true,
            "type": "pie"
           }
          ],
          "scatter": [
           {
            "marker": {
             "colorbar": {
              "outlinewidth": 0,
              "ticks": ""
             }
            },
            "type": "scatter"
           }
          ],
          "scatter3d": [
           {
            "line": {
             "colorbar": {
              "outlinewidth": 0,
              "ticks": ""
             }
            },
            "marker": {
             "colorbar": {
              "outlinewidth": 0,
              "ticks": ""
             }
            },
            "type": "scatter3d"
           }
          ],
          "scattercarpet": [
           {
            "marker": {
             "colorbar": {
              "outlinewidth": 0,
              "ticks": ""
             }
            },
            "type": "scattercarpet"
           }
          ],
          "scattergeo": [
           {
            "marker": {
             "colorbar": {
              "outlinewidth": 0,
              "ticks": ""
             }
            },
            "type": "scattergeo"
           }
          ],
          "scattergl": [
           {
            "marker": {
             "colorbar": {
              "outlinewidth": 0,
              "ticks": ""
             }
            },
            "type": "scattergl"
           }
          ],
          "scattermapbox": [
           {
            "marker": {
             "colorbar": {
              "outlinewidth": 0,
              "ticks": ""
             }
            },
            "type": "scattermapbox"
           }
          ],
          "scatterpolar": [
           {
            "marker": {
             "colorbar": {
              "outlinewidth": 0,
              "ticks": ""
             }
            },
            "type": "scatterpolar"
           }
          ],
          "scatterpolargl": [
           {
            "marker": {
             "colorbar": {
              "outlinewidth": 0,
              "ticks": ""
             }
            },
            "type": "scatterpolargl"
           }
          ],
          "scatterternary": [
           {
            "marker": {
             "colorbar": {
              "outlinewidth": 0,
              "ticks": ""
             }
            },
            "type": "scatterternary"
           }
          ],
          "surface": [
           {
            "colorbar": {
             "outlinewidth": 0,
             "ticks": ""
            },
            "colorscale": [
             [
              0,
              "#0d0887"
             ],
             [
              0.1111111111111111,
              "#46039f"
             ],
             [
              0.2222222222222222,
              "#7201a8"
             ],
             [
              0.3333333333333333,
              "#9c179e"
             ],
             [
              0.4444444444444444,
              "#bd3786"
             ],
             [
              0.5555555555555556,
              "#d8576b"
             ],
             [
              0.6666666666666666,
              "#ed7953"
             ],
             [
              0.7777777777777778,
              "#fb9f3a"
             ],
             [
              0.8888888888888888,
              "#fdca26"
             ],
             [
              1,
              "#f0f921"
             ]
            ],
            "type": "surface"
           }
          ],
          "table": [
           {
            "cells": {
             "fill": {
              "color": "#EBF0F8"
             },
             "line": {
              "color": "white"
             }
            },
            "header": {
             "fill": {
              "color": "#C8D4E3"
             },
             "line": {
              "color": "white"
             }
            },
            "type": "table"
           }
          ]
         },
         "layout": {
          "annotationdefaults": {
           "arrowcolor": "#2a3f5f",
           "arrowhead": 0,
           "arrowwidth": 1
          },
          "autotypenumbers": "strict",
          "coloraxis": {
           "colorbar": {
            "outlinewidth": 0,
            "ticks": ""
           }
          },
          "colorscale": {
           "diverging": [
            [
             0,
             "#8e0152"
            ],
            [
             0.1,
             "#c51b7d"
            ],
            [
             0.2,
             "#de77ae"
            ],
            [
             0.3,
             "#f1b6da"
            ],
            [
             0.4,
             "#fde0ef"
            ],
            [
             0.5,
             "#f7f7f7"
            ],
            [
             0.6,
             "#e6f5d0"
            ],
            [
             0.7,
             "#b8e186"
            ],
            [
             0.8,
             "#7fbc41"
            ],
            [
             0.9,
             "#4d9221"
            ],
            [
             1,
             "#276419"
            ]
           ],
           "sequential": [
            [
             0,
             "#0d0887"
            ],
            [
             0.1111111111111111,
             "#46039f"
            ],
            [
             0.2222222222222222,
             "#7201a8"
            ],
            [
             0.3333333333333333,
             "#9c179e"
            ],
            [
             0.4444444444444444,
             "#bd3786"
            ],
            [
             0.5555555555555556,
             "#d8576b"
            ],
            [
             0.6666666666666666,
             "#ed7953"
            ],
            [
             0.7777777777777778,
             "#fb9f3a"
            ],
            [
             0.8888888888888888,
             "#fdca26"
            ],
            [
             1,
             "#f0f921"
            ]
           ],
           "sequentialminus": [
            [
             0,
             "#0d0887"
            ],
            [
             0.1111111111111111,
             "#46039f"
            ],
            [
             0.2222222222222222,
             "#7201a8"
            ],
            [
             0.3333333333333333,
             "#9c179e"
            ],
            [
             0.4444444444444444,
             "#bd3786"
            ],
            [
             0.5555555555555556,
             "#d8576b"
            ],
            [
             0.6666666666666666,
             "#ed7953"
            ],
            [
             0.7777777777777778,
             "#fb9f3a"
            ],
            [
             0.8888888888888888,
             "#fdca26"
            ],
            [
             1,
             "#f0f921"
            ]
           ]
          },
          "colorway": [
           "#636efa",
           "#EF553B",
           "#00cc96",
           "#ab63fa",
           "#FFA15A",
           "#19d3f3",
           "#FF6692",
           "#B6E880",
           "#FF97FF",
           "#FECB52"
          ],
          "font": {
           "color": "#2a3f5f"
          },
          "geo": {
           "bgcolor": "white",
           "lakecolor": "white",
           "landcolor": "#E5ECF6",
           "showlakes": true,
           "showland": true,
           "subunitcolor": "white"
          },
          "hoverlabel": {
           "align": "left"
          },
          "hovermode": "closest",
          "mapbox": {
           "style": "light"
          },
          "paper_bgcolor": "white",
          "plot_bgcolor": "#E5ECF6",
          "polar": {
           "angularaxis": {
            "gridcolor": "white",
            "linecolor": "white",
            "ticks": ""
           },
           "bgcolor": "#E5ECF6",
           "radialaxis": {
            "gridcolor": "white",
            "linecolor": "white",
            "ticks": ""
           }
          },
          "scene": {
           "xaxis": {
            "backgroundcolor": "#E5ECF6",
            "gridcolor": "white",
            "gridwidth": 2,
            "linecolor": "white",
            "showbackground": true,
            "ticks": "",
            "zerolinecolor": "white"
           },
           "yaxis": {
            "backgroundcolor": "#E5ECF6",
            "gridcolor": "white",
            "gridwidth": 2,
            "linecolor": "white",
            "showbackground": true,
            "ticks": "",
            "zerolinecolor": "white"
           },
           "zaxis": {
            "backgroundcolor": "#E5ECF6",
            "gridcolor": "white",
            "gridwidth": 2,
            "linecolor": "white",
            "showbackground": true,
            "ticks": "",
            "zerolinecolor": "white"
           }
          },
          "shapedefaults": {
           "line": {
            "color": "#2a3f5f"
           }
          },
          "ternary": {
           "aaxis": {
            "gridcolor": "white",
            "linecolor": "white",
            "ticks": ""
           },
           "baxis": {
            "gridcolor": "white",
            "linecolor": "white",
            "ticks": ""
           },
           "bgcolor": "#E5ECF6",
           "caxis": {
            "gridcolor": "white",
            "linecolor": "white",
            "ticks": ""
           }
          },
          "title": {
           "x": 0.05
          },
          "xaxis": {
           "automargin": true,
           "gridcolor": "white",
           "linecolor": "white",
           "ticks": "",
           "title": {
            "standoff": 15
           },
           "zerolinecolor": "white",
           "zerolinewidth": 2
          },
          "yaxis": {
           "automargin": true,
           "gridcolor": "white",
           "linecolor": "white",
           "ticks": "",
           "title": {
            "standoff": 15
           },
           "zerolinecolor": "white",
           "zerolinewidth": 2
          }
         }
        },
        "title": {
         "font": {
          "color": "#4D5663"
         }
        },
        "xaxis": {
         "gridcolor": "#E1E5ED",
         "showgrid": true,
         "tickfont": {
          "color": "#4D5663"
         },
         "title": {
          "font": {
           "color": "#4D5663"
          },
          "text": ""
         },
         "zerolinecolor": "#E1E5ED"
        },
        "yaxis": {
         "gridcolor": "#E1E5ED",
         "showgrid": true,
         "tickfont": {
          "color": "#4D5663"
         },
         "title": {
          "font": {
           "color": "#4D5663"
          },
          "text": ""
         },
         "zerolinecolor": "#E1E5ED"
        }
       }
      },
      "text/html": [
       "<div>                            <div id=\"5a272c43-c4dc-446f-a7e6-7aed3d6fdd32\" class=\"plotly-graph-div\" style=\"height:525px; width:100%;\"></div>            <script type=\"text/javascript\">                require([\"plotly\"], function(Plotly) {                    window.PLOTLYENV=window.PLOTLYENV || {};\n",
       "                    window.PLOTLYENV.BASE_URL='https://plot.ly';                                    if (document.getElementById(\"5a272c43-c4dc-446f-a7e6-7aed3d6fdd32\")) {                    Plotly.newPlot(                        \"5a272c43-c4dc-446f-a7e6-7aed3d6fdd32\",                        [{\"line\":{\"color\":\"rgba(255, 153, 51, 1.0)\",\"dash\":\"solid\",\"shape\":\"linear\",\"width\":1.3},\"mode\":\"lines\",\"name\":\"A\",\"text\":\"\",\"x\":[0,1,2,3,4,5,6,7,8,9,10,11,12,13,14,15,16,17,18,19,20,21,22,23,24,25,26,27,28,29,30,31,32,33,34,35,36,37,38,39,40,41,42,43,44,45,46,47,48,49,50,51,52,53,54,55,56,57,58,59,60,61,62,63,64,65,66,67,68,69,70,71,72,73,74,75,76,77,78,79,80,81,82,83,84,85,86,87,88,89,90,91,92,93,94,95,96,97,98,99],\"y\":[-1.4179226392462503,-0.46264200324192123,0.7515224608796539,0.017214914882547446,-2.119230156508853,1.4246987135038927,-1.3484391107921905,0.6432498838271453,-0.9263864887473827,0.7570861795056825,0.07543918980622479,1.1599339441805279,-0.04608268499591076,-0.09120078183586999,0.8842914961718378,-0.9162025719299867,-1.2610444177759146,0.027904167487635967,-0.7061578863184852,0.7709016638285334,-0.8539166153517274,0.7309733763722845,-1.7691103627746505,1.263558824772134,0.4717765277347702,0.557405859177239,-1.6819089715393656,1.0025284313403557,1.572525731929163,-0.9650143742388076,1.151517875183336,-0.18247700098496303,-0.7167113193989513,1.1761072211193844,0.12819699293539916,-0.23688078197346668,-0.560705340480975,-0.39787163984807145,1.3382710439775771,-1.7798709075126007,-1.2702252329912076,-0.4152839220015532,0.17542127517078324,0.39285448248880483,0.9045840149471326,-0.16994995097364154,0.3381582060118401,0.2063929493612841,-0.11094598121380154,0.7974586479279469,-2.199222319526443,1.3997599864684436,0.22941627710272822,1.4240802742453296,0.3094390144366311,1.5403747340754785,0.5810551927052852,-1.066762083853598,-0.059946047063189144,0.22949791684170903,0.8327749881915162,-0.06636372674054501,-0.6190169447247864,2.0048868335375056,1.736487965277091,-1.3831774356984614,1.4976344360500824,-0.7067197193609598,-0.4385844889747408,-0.9353036023038812,-0.47593035642229686,1.6132806108278546,-0.6287717679502393,1.0345780523748735,-1.27284403429772,-0.21598606336809065,-0.21383616429784602,3.2313217531556826,1.3382365732922021,-0.22487702362562872,2.340429170474291,0.6271993811365263,1.997890339440614,-2.033624272129717,0.32279225575672327,0.8666550678088079,0.8252385648058315,-1.657914673275361,1.2379383904314973,0.7149995599320481,-1.1761176335038575,0.5706312135572416,-0.4558503278911321,0.37983919034349595,0.09595899429015453,-1.2417447649974065,-0.5217493081296127,0.7542010755173852,-1.145180906491648,1.6740518150812944],\"type\":\"scatter\"},{\"line\":{\"color\":\"rgba(55, 128, 191, 1.0)\",\"dash\":\"solid\",\"shape\":\"linear\",\"width\":1.3},\"mode\":\"lines\",\"name\":\"B\",\"text\":\"\",\"x\":[0,1,2,3,4,5,6,7,8,9,10,11,12,13,14,15,16,17,18,19,20,21,22,23,24,25,26,27,28,29,30,31,32,33,34,35,36,37,38,39,40,41,42,43,44,45,46,47,48,49,50,51,52,53,54,55,56,57,58,59,60,61,62,63,64,65,66,67,68,69,70,71,72,73,74,75,76,77,78,79,80,81,82,83,84,85,86,87,88,89,90,91,92,93,94,95,96,97,98,99],\"y\":[0.43916847768055367,0.7754169812744081,-1.766184215926334,0.4674257707543401,0.29321032071154995,1.41774816480575,1.3445969383110263,0.4416487341811845,-1.430772057414031,-0.8505022925340281,0.4691920933044812,1.826784708762384,-0.10576410338109243,-1.500461426023311,0.7965390567393406,-0.012409030102622055,-0.15130451407398446,-2.071058423059817,-0.8255625544235962,-0.8074054383028947,-0.9301852379698403,-1.6773017541992195,-0.3946539688644478,-2.9870582870265263,-0.03318946511355068,-0.016251530567965744,0.7030357504362612,-0.4999960084700399,-0.9420611634530786,-0.1432729844634614,0.6557312074595607,0.35574155452593026,-0.07734755312316859,-1.7102423679022432,-0.04205763850987133,-1.4785422652968754,0.7645412296582739,-0.24706609101356192,-1.201359615189873,1.5325015503193518,-0.4881633821714732,-0.5057962567151923,1.1308257061231044,-0.23356594422792676,0.66092576287292,1.6404688258806333,-1.5081626093929672,-0.0013041142872921448,0.12204994284248882,1.4721906166668761,-0.08003811206186177,-0.9092222820745258,-0.8407007439622989,-0.11436673916364293,0.06406328064075953,0.48221062292822475,-0.7807229952837661,-0.20502892323697028,0.3447615780074933,-1.583612014364668,0.5130380961580526,-1.551310104687635,0.7237591993777599,1.5059564157142509,-0.10163714145529341,-1.67186290946623,-0.31584531717802655,1.0644113882459774,2.274346155576829,0.49930813021148723,1.6405651595955058,-0.33937453326899897,0.10632705592337412,-1.2642467659208292,-0.17540983564574716,-0.1862548195584329,1.4326108248716156,0.06485852176902505,-0.36945518458348525,0.541657819502985,0.4634294898545669,-1.3654976940987307,-0.45372839134779486,1.0423110939962679,0.4128596468131367,-0.4937751704955059,-0.24026055088614237,-0.6454607232329427,0.8484132678342798,0.8798070172304139,-0.8837609675709918,0.03975057728511999,-0.5563341326163922,-0.23772094092618812,0.18642158069051573,0.8268192191747974,1.9527936074764647,0.8109508402703056,-0.44120277682258874,0.407627374675604],\"type\":\"scatter\"},{\"line\":{\"color\":\"rgba(50, 171, 96, 1.0)\",\"dash\":\"solid\",\"shape\":\"linear\",\"width\":1.3},\"mode\":\"lines\",\"name\":\"C\",\"text\":\"\",\"x\":[0,1,2,3,4,5,6,7,8,9,10,11,12,13,14,15,16,17,18,19,20,21,22,23,24,25,26,27,28,29,30,31,32,33,34,35,36,37,38,39,40,41,42,43,44,45,46,47,48,49,50,51,52,53,54,55,56,57,58,59,60,61,62,63,64,65,66,67,68,69,70,71,72,73,74,75,76,77,78,79,80,81,82,83,84,85,86,87,88,89,90,91,92,93,94,95,96,97,98,99],\"y\":[0.06329159238094456,0.6016141276373372,-0.38598146492664975,-1.7948377710650494,0.6922603131019637,1.546950767603398,-0.3401423629939599,0.8640624768539411,-0.3007610328344426,1.6514878814844314,0.13979537922420346,-1.7044467395329324,-0.7573626273806366,-0.8152744940674739,-0.4727052090045964,0.040216665584898045,-0.43615128786506685,0.27344294693179144,-0.03349601413188458,-0.12851704529268604,1.1576163763863443,-0.18968775085366393,1.5373714863021704,1.996631567981592,-1.8478908256856124,0.2121399690241807,0.9903320529159314,-2.0640303113562224,2.1754063918501094,-1.1037872507948654,0.5923189542086722,-0.7949907287764912,1.8361725833088216,-0.8336354871997873,-0.8708116492198833,-0.8802815476308914,-0.020241790336094603,-0.8355316846439435,1.0059170082047086,1.0054939597481938,1.1040552035428135,2.741336901378624,-1.2872567660378902,1.7236070774494099,-2.053011458665576,-1.6554645975852431,-1.3191147093346898,0.14488040663958976,0.5307445563011728,0.448353435089702,0.6448543734164054,0.14196129190770976,1.5615778114103345,-1.6426252419380063,-1.405870219150968,1.2447263759979295,1.2268295001316207,0.1708153488927121,0.31821376174331156,1.0899629968418847,-1.324169834479461,1.7383695412197921,1.4666328621047053,-0.004273859710908556,-1.0528261698514383,-0.8326514854130332,1.0007331977147034,1.3236434581815582,-0.8749821765698546,-0.2712525553847711,0.5312922787388977,0.07442547177048062,-0.3691969468632882,1.4239953529637823,0.380692863230286,0.14935094281469008,-0.09986944765673177,2.4401718896791125,-2.078988567371166,-0.49433118320023206,-0.4953751435521029,-1.5785245909476824,0.25623531508960756,1.0485164469030575,-1.0737703034037116,0.49552445732235395,-0.43824199054292745,-0.34985233947132677,0.3573169550646374,1.0850984979754426,-0.707552616005236,2.038015366809184,0.5957484226452919,-0.7887252110202742,1.2576250591330205,-1.5489921574005654,-0.741054262577547,0.4864247229814855,-0.6666552351510178,1.3809168626082857],\"type\":\"scatter\"},{\"line\":{\"color\":\"rgba(128, 0, 128, 1.0)\",\"dash\":\"solid\",\"shape\":\"linear\",\"width\":1.3},\"mode\":\"lines\",\"name\":\"D\",\"text\":\"\",\"x\":[0,1,2,3,4,5,6,7,8,9,10,11,12,13,14,15,16,17,18,19,20,21,22,23,24,25,26,27,28,29,30,31,32,33,34,35,36,37,38,39,40,41,42,43,44,45,46,47,48,49,50,51,52,53,54,55,56,57,58,59,60,61,62,63,64,65,66,67,68,69,70,71,72,73,74,75,76,77,78,79,80,81,82,83,84,85,86,87,88,89,90,91,92,93,94,95,96,97,98,99],\"y\":[-1.9389212579683277,1.0318746543195694,0.19609179025269244,2.084503587262951,-0.6879289588930549,0.5905955951758107,-2.107265660329813,0.42375512577914876,0.4777623966893956,0.2962445297721372,-1.1856223496029463,1.7022382630606143,0.07680793951844446,0.8922634028440726,-1.1378324118039944,2.0167810536162274,-0.5868298273047612,1.450307501782666,1.2446645289563552,-0.07944153762300908,1.0167359000338412,2.427420320730947,-0.20128925540517068,0.40952059386452916,-0.11310106445409522,-1.0208138813781207,-1.6819789689603284,-1.6407317956038237,0.5044967236629525,0.5076414862093444,-1.3622577458763638,-1.385513710137751,0.4379302170510106,-1.0360657971318514,0.956725027101898,-1.1309412070101597,-0.4539498795026894,-0.7651633537773271,-1.9138987826185374,-0.3404523866186954,-0.966483327909447,-2.223145811291357,0.2274200919509542,-1.1008190146824435,1.597931806234551,-0.6904200201169924,0.3795736008139735,1.1552876033284938,1.0802041243340248,1.591449198739368,-0.5101850194713661,0.3656485055448906,-1.7781102598964273,-0.048838218782504175,0.015466680660355055,0.9563915331719891,-0.8281332359056763,-0.2732587642962962,-1.224484378166469,-0.6961648914628961,-1.4217156713230616,-0.16325341225772871,0.462763681717857,-0.12551804694449417,0.9597070364983735,1.6251869409639046,-0.4691100693646398,-1.5469095947287455,0.5302987629420041,0.6857862918116193,1.37072509031351,-0.5040834234575051,0.05051138614709521,-0.46101192287628784,-2.2860966773402467,0.6292167975290144,-0.5637220158358606,1.2270958978103588,1.5741280403319107,-0.42940636866567056,1.2551709882371325,0.7941629170507719,0.11090865061083648,1.7735491268694554,-0.08379969518485648,0.2171914794734731,-0.4425196060685648,1.4339298753585892,1.5238027903197608,0.9212217064512468,-1.6708110306106638,-2.6270043901327247,-1.538743232667884,3.2051948720019845,-0.6416520265791904,-0.5453567889345559,0.9669641250569055,0.4416490283576272,-2.7373733213933353,-0.31505769803083433],\"type\":\"scatter\"}],                        {\"legend\":{\"bgcolor\":\"#F5F6F9\",\"font\":{\"color\":\"#4D5663\"}},\"paper_bgcolor\":\"#F5F6F9\",\"plot_bgcolor\":\"#F5F6F9\",\"template\":{\"data\":{\"barpolar\":[{\"marker\":{\"line\":{\"color\":\"#E5ECF6\",\"width\":0.5},\"pattern\":{\"fillmode\":\"overlay\",\"size\":10,\"solidity\":0.2}},\"type\":\"barpolar\"}],\"bar\":[{\"error_x\":{\"color\":\"#2a3f5f\"},\"error_y\":{\"color\":\"#2a3f5f\"},\"marker\":{\"line\":{\"color\":\"#E5ECF6\",\"width\":0.5},\"pattern\":{\"fillmode\":\"overlay\",\"size\":10,\"solidity\":0.2}},\"type\":\"bar\"}],\"carpet\":[{\"aaxis\":{\"endlinecolor\":\"#2a3f5f\",\"gridcolor\":\"white\",\"linecolor\":\"white\",\"minorgridcolor\":\"white\",\"startlinecolor\":\"#2a3f5f\"},\"baxis\":{\"endlinecolor\":\"#2a3f5f\",\"gridcolor\":\"white\",\"linecolor\":\"white\",\"minorgridcolor\":\"white\",\"startlinecolor\":\"#2a3f5f\"},\"type\":\"carpet\"}],\"choropleth\":[{\"colorbar\":{\"outlinewidth\":0,\"ticks\":\"\"},\"type\":\"choropleth\"}],\"contourcarpet\":[{\"colorbar\":{\"outlinewidth\":0,\"ticks\":\"\"},\"type\":\"contourcarpet\"}],\"contour\":[{\"colorbar\":{\"outlinewidth\":0,\"ticks\":\"\"},\"colorscale\":[[0.0,\"#0d0887\"],[0.1111111111111111,\"#46039f\"],[0.2222222222222222,\"#7201a8\"],[0.3333333333333333,\"#9c179e\"],[0.4444444444444444,\"#bd3786\"],[0.5555555555555556,\"#d8576b\"],[0.6666666666666666,\"#ed7953\"],[0.7777777777777778,\"#fb9f3a\"],[0.8888888888888888,\"#fdca26\"],[1.0,\"#f0f921\"]],\"type\":\"contour\"}],\"heatmapgl\":[{\"colorbar\":{\"outlinewidth\":0,\"ticks\":\"\"},\"colorscale\":[[0.0,\"#0d0887\"],[0.1111111111111111,\"#46039f\"],[0.2222222222222222,\"#7201a8\"],[0.3333333333333333,\"#9c179e\"],[0.4444444444444444,\"#bd3786\"],[0.5555555555555556,\"#d8576b\"],[0.6666666666666666,\"#ed7953\"],[0.7777777777777778,\"#fb9f3a\"],[0.8888888888888888,\"#fdca26\"],[1.0,\"#f0f921\"]],\"type\":\"heatmapgl\"}],\"heatmap\":[{\"colorbar\":{\"outlinewidth\":0,\"ticks\":\"\"},\"colorscale\":[[0.0,\"#0d0887\"],[0.1111111111111111,\"#46039f\"],[0.2222222222222222,\"#7201a8\"],[0.3333333333333333,\"#9c179e\"],[0.4444444444444444,\"#bd3786\"],[0.5555555555555556,\"#d8576b\"],[0.6666666666666666,\"#ed7953\"],[0.7777777777777778,\"#fb9f3a\"],[0.8888888888888888,\"#fdca26\"],[1.0,\"#f0f921\"]],\"type\":\"heatmap\"}],\"histogram2dcontour\":[{\"colorbar\":{\"outlinewidth\":0,\"ticks\":\"\"},\"colorscale\":[[0.0,\"#0d0887\"],[0.1111111111111111,\"#46039f\"],[0.2222222222222222,\"#7201a8\"],[0.3333333333333333,\"#9c179e\"],[0.4444444444444444,\"#bd3786\"],[0.5555555555555556,\"#d8576b\"],[0.6666666666666666,\"#ed7953\"],[0.7777777777777778,\"#fb9f3a\"],[0.8888888888888888,\"#fdca26\"],[1.0,\"#f0f921\"]],\"type\":\"histogram2dcontour\"}],\"histogram2d\":[{\"colorbar\":{\"outlinewidth\":0,\"ticks\":\"\"},\"colorscale\":[[0.0,\"#0d0887\"],[0.1111111111111111,\"#46039f\"],[0.2222222222222222,\"#7201a8\"],[0.3333333333333333,\"#9c179e\"],[0.4444444444444444,\"#bd3786\"],[0.5555555555555556,\"#d8576b\"],[0.6666666666666666,\"#ed7953\"],[0.7777777777777778,\"#fb9f3a\"],[0.8888888888888888,\"#fdca26\"],[1.0,\"#f0f921\"]],\"type\":\"histogram2d\"}],\"histogram\":[{\"marker\":{\"pattern\":{\"fillmode\":\"overlay\",\"size\":10,\"solidity\":0.2}},\"type\":\"histogram\"}],\"mesh3d\":[{\"colorbar\":{\"outlinewidth\":0,\"ticks\":\"\"},\"type\":\"mesh3d\"}],\"parcoords\":[{\"line\":{\"colorbar\":{\"outlinewidth\":0,\"ticks\":\"\"}},\"type\":\"parcoords\"}],\"pie\":[{\"automargin\":true,\"type\":\"pie\"}],\"scatter3d\":[{\"line\":{\"colorbar\":{\"outlinewidth\":0,\"ticks\":\"\"}},\"marker\":{\"colorbar\":{\"outlinewidth\":0,\"ticks\":\"\"}},\"type\":\"scatter3d\"}],\"scattercarpet\":[{\"marker\":{\"colorbar\":{\"outlinewidth\":0,\"ticks\":\"\"}},\"type\":\"scattercarpet\"}],\"scattergeo\":[{\"marker\":{\"colorbar\":{\"outlinewidth\":0,\"ticks\":\"\"}},\"type\":\"scattergeo\"}],\"scattergl\":[{\"marker\":{\"colorbar\":{\"outlinewidth\":0,\"ticks\":\"\"}},\"type\":\"scattergl\"}],\"scattermapbox\":[{\"marker\":{\"colorbar\":{\"outlinewidth\":0,\"ticks\":\"\"}},\"type\":\"scattermapbox\"}],\"scatterpolargl\":[{\"marker\":{\"colorbar\":{\"outlinewidth\":0,\"ticks\":\"\"}},\"type\":\"scatterpolargl\"}],\"scatterpolar\":[{\"marker\":{\"colorbar\":{\"outlinewidth\":0,\"ticks\":\"\"}},\"type\":\"scatterpolar\"}],\"scatter\":[{\"marker\":{\"colorbar\":{\"outlinewidth\":0,\"ticks\":\"\"}},\"type\":\"scatter\"}],\"scatterternary\":[{\"marker\":{\"colorbar\":{\"outlinewidth\":0,\"ticks\":\"\"}},\"type\":\"scatterternary\"}],\"surface\":[{\"colorbar\":{\"outlinewidth\":0,\"ticks\":\"\"},\"colorscale\":[[0.0,\"#0d0887\"],[0.1111111111111111,\"#46039f\"],[0.2222222222222222,\"#7201a8\"],[0.3333333333333333,\"#9c179e\"],[0.4444444444444444,\"#bd3786\"],[0.5555555555555556,\"#d8576b\"],[0.6666666666666666,\"#ed7953\"],[0.7777777777777778,\"#fb9f3a\"],[0.8888888888888888,\"#fdca26\"],[1.0,\"#f0f921\"]],\"type\":\"surface\"}],\"table\":[{\"cells\":{\"fill\":{\"color\":\"#EBF0F8\"},\"line\":{\"color\":\"white\"}},\"header\":{\"fill\":{\"color\":\"#C8D4E3\"},\"line\":{\"color\":\"white\"}},\"type\":\"table\"}]},\"layout\":{\"annotationdefaults\":{\"arrowcolor\":\"#2a3f5f\",\"arrowhead\":0,\"arrowwidth\":1},\"autotypenumbers\":\"strict\",\"coloraxis\":{\"colorbar\":{\"outlinewidth\":0,\"ticks\":\"\"}},\"colorscale\":{\"diverging\":[[0,\"#8e0152\"],[0.1,\"#c51b7d\"],[0.2,\"#de77ae\"],[0.3,\"#f1b6da\"],[0.4,\"#fde0ef\"],[0.5,\"#f7f7f7\"],[0.6,\"#e6f5d0\"],[0.7,\"#b8e186\"],[0.8,\"#7fbc41\"],[0.9,\"#4d9221\"],[1,\"#276419\"]],\"sequential\":[[0.0,\"#0d0887\"],[0.1111111111111111,\"#46039f\"],[0.2222222222222222,\"#7201a8\"],[0.3333333333333333,\"#9c179e\"],[0.4444444444444444,\"#bd3786\"],[0.5555555555555556,\"#d8576b\"],[0.6666666666666666,\"#ed7953\"],[0.7777777777777778,\"#fb9f3a\"],[0.8888888888888888,\"#fdca26\"],[1.0,\"#f0f921\"]],\"sequentialminus\":[[0.0,\"#0d0887\"],[0.1111111111111111,\"#46039f\"],[0.2222222222222222,\"#7201a8\"],[0.3333333333333333,\"#9c179e\"],[0.4444444444444444,\"#bd3786\"],[0.5555555555555556,\"#d8576b\"],[0.6666666666666666,\"#ed7953\"],[0.7777777777777778,\"#fb9f3a\"],[0.8888888888888888,\"#fdca26\"],[1.0,\"#f0f921\"]]},\"colorway\":[\"#636efa\",\"#EF553B\",\"#00cc96\",\"#ab63fa\",\"#FFA15A\",\"#19d3f3\",\"#FF6692\",\"#B6E880\",\"#FF97FF\",\"#FECB52\"],\"font\":{\"color\":\"#2a3f5f\"},\"geo\":{\"bgcolor\":\"white\",\"lakecolor\":\"white\",\"landcolor\":\"#E5ECF6\",\"showlakes\":true,\"showland\":true,\"subunitcolor\":\"white\"},\"hoverlabel\":{\"align\":\"left\"},\"hovermode\":\"closest\",\"mapbox\":{\"style\":\"light\"},\"paper_bgcolor\":\"white\",\"plot_bgcolor\":\"#E5ECF6\",\"polar\":{\"angularaxis\":{\"gridcolor\":\"white\",\"linecolor\":\"white\",\"ticks\":\"\"},\"bgcolor\":\"#E5ECF6\",\"radialaxis\":{\"gridcolor\":\"white\",\"linecolor\":\"white\",\"ticks\":\"\"}},\"scene\":{\"xaxis\":{\"backgroundcolor\":\"#E5ECF6\",\"gridcolor\":\"white\",\"gridwidth\":2,\"linecolor\":\"white\",\"showbackground\":true,\"ticks\":\"\",\"zerolinecolor\":\"white\"},\"yaxis\":{\"backgroundcolor\":\"#E5ECF6\",\"gridcolor\":\"white\",\"gridwidth\":2,\"linecolor\":\"white\",\"showbackground\":true,\"ticks\":\"\",\"zerolinecolor\":\"white\"},\"zaxis\":{\"backgroundcolor\":\"#E5ECF6\",\"gridcolor\":\"white\",\"gridwidth\":2,\"linecolor\":\"white\",\"showbackground\":true,\"ticks\":\"\",\"zerolinecolor\":\"white\"}},\"shapedefaults\":{\"line\":{\"color\":\"#2a3f5f\"}},\"ternary\":{\"aaxis\":{\"gridcolor\":\"white\",\"linecolor\":\"white\",\"ticks\":\"\"},\"baxis\":{\"gridcolor\":\"white\",\"linecolor\":\"white\",\"ticks\":\"\"},\"bgcolor\":\"#E5ECF6\",\"caxis\":{\"gridcolor\":\"white\",\"linecolor\":\"white\",\"ticks\":\"\"}},\"title\":{\"x\":0.05},\"xaxis\":{\"automargin\":true,\"gridcolor\":\"white\",\"linecolor\":\"white\",\"ticks\":\"\",\"title\":{\"standoff\":15},\"zerolinecolor\":\"white\",\"zerolinewidth\":2},\"yaxis\":{\"automargin\":true,\"gridcolor\":\"white\",\"linecolor\":\"white\",\"ticks\":\"\",\"title\":{\"standoff\":15},\"zerolinecolor\":\"white\",\"zerolinewidth\":2}}},\"title\":{\"font\":{\"color\":\"#4D5663\"}},\"xaxis\":{\"gridcolor\":\"#E1E5ED\",\"showgrid\":true,\"tickfont\":{\"color\":\"#4D5663\"},\"title\":{\"font\":{\"color\":\"#4D5663\"},\"text\":\"\"},\"zerolinecolor\":\"#E1E5ED\"},\"yaxis\":{\"gridcolor\":\"#E1E5ED\",\"showgrid\":true,\"tickfont\":{\"color\":\"#4D5663\"},\"title\":{\"font\":{\"color\":\"#4D5663\"},\"text\":\"\"},\"zerolinecolor\":\"#E1E5ED\"}},                        {\"showLink\": true, \"linkText\": \"Export to plot.ly\", \"plotlyServerURL\": \"https://plot.ly\", \"responsive\": true}                    ).then(function(){\n",
       "                            \n",
       "var gd = document.getElementById('5a272c43-c4dc-446f-a7e6-7aed3d6fdd32');\n",
       "var x = new MutationObserver(function (mutations, observer) {{\n",
       "        var display = window.getComputedStyle(gd).display;\n",
       "        if (!display || display === 'none') {{\n",
       "            console.log([gd, 'removed!']);\n",
       "            Plotly.purge(gd);\n",
       "            observer.disconnect();\n",
       "        }}\n",
       "}});\n",
       "\n",
       "// Listen for the removal of the full notebook cells\n",
       "var notebookContainer = gd.closest('#notebook-container');\n",
       "if (notebookContainer) {{\n",
       "    x.observe(notebookContainer, {childList: true});\n",
       "}}\n",
       "\n",
       "// Listen for the clearing of the current output cell\n",
       "var outputEl = gd.closest('.output');\n",
       "if (outputEl) {{\n",
       "    x.observe(outputEl, {childList: true});\n",
       "}}\n",
       "\n",
       "                        })                };                });            </script>        </div>"
      ]
     },
     "metadata": {},
     "output_type": "display_data"
    }
   ],
   "source": [
    "df.iplot()"
   ]
  },
  {
   "cell_type": "code",
   "execution_count": 15,
   "id": "10113fa3",
   "metadata": {},
   "outputs": [
    {
     "data": {
      "application/vnd.plotly.v1+json": {
       "config": {
        "linkText": "Export to plot.ly",
        "plotlyServerURL": "https://plot.ly",
        "showLink": true
       },
       "data": [
        {
         "line": {
          "color": "rgba(255, 153, 51, 1.0)",
          "dash": "solid",
          "shape": "linear",
          "width": 1.3
         },
         "marker": {
          "size": 12,
          "symbol": "circle"
         },
         "mode": "markers",
         "name": "B",
         "text": "",
         "type": "scatter",
         "x": [
          -1.4179226392462503,
          -0.46264200324192123,
          0.7515224608796539,
          0.017214914882547446,
          -2.119230156508853,
          1.4246987135038927,
          -1.3484391107921905,
          0.6432498838271453,
          -0.9263864887473827,
          0.7570861795056825,
          0.07543918980622479,
          1.1599339441805279,
          -0.04608268499591076,
          -0.09120078183586999,
          0.8842914961718378,
          -0.9162025719299867,
          -1.2610444177759146,
          0.027904167487635967,
          -0.7061578863184852,
          0.7709016638285334,
          -0.8539166153517274,
          0.7309733763722845,
          -1.7691103627746505,
          1.263558824772134,
          0.4717765277347702,
          0.557405859177239,
          -1.6819089715393656,
          1.0025284313403557,
          1.572525731929163,
          -0.9650143742388076,
          1.151517875183336,
          -0.18247700098496303,
          -0.7167113193989513,
          1.1761072211193844,
          0.12819699293539916,
          -0.23688078197346668,
          -0.560705340480975,
          -0.39787163984807145,
          1.3382710439775771,
          -1.7798709075126007,
          -1.2702252329912076,
          -0.4152839220015532,
          0.17542127517078324,
          0.39285448248880483,
          0.9045840149471326,
          -0.16994995097364154,
          0.3381582060118401,
          0.2063929493612841,
          -0.11094598121380154,
          0.7974586479279469,
          -2.199222319526443,
          1.3997599864684436,
          0.22941627710272822,
          1.4240802742453296,
          0.3094390144366311,
          1.5403747340754785,
          0.5810551927052852,
          -1.066762083853598,
          -0.059946047063189144,
          0.22949791684170903,
          0.8327749881915162,
          -0.06636372674054501,
          -0.6190169447247864,
          2.0048868335375056,
          1.736487965277091,
          -1.3831774356984614,
          1.4976344360500824,
          -0.7067197193609598,
          -0.4385844889747408,
          -0.9353036023038812,
          -0.47593035642229686,
          1.6132806108278546,
          -0.6287717679502393,
          1.0345780523748735,
          -1.27284403429772,
          -0.21598606336809065,
          -0.21383616429784602,
          3.2313217531556826,
          1.3382365732922021,
          -0.22487702362562872,
          2.340429170474291,
          0.6271993811365263,
          1.997890339440614,
          -2.033624272129717,
          0.32279225575672327,
          0.8666550678088079,
          0.8252385648058315,
          -1.657914673275361,
          1.2379383904314973,
          0.7149995599320481,
          -1.1761176335038575,
          0.5706312135572416,
          -0.4558503278911321,
          0.37983919034349595,
          0.09595899429015453,
          -1.2417447649974065,
          -0.5217493081296127,
          0.7542010755173852,
          -1.145180906491648,
          1.6740518150812944
         ],
         "y": [
          0.43916847768055367,
          0.7754169812744081,
          -1.766184215926334,
          0.4674257707543401,
          0.29321032071154995,
          1.41774816480575,
          1.3445969383110263,
          0.4416487341811845,
          -1.430772057414031,
          -0.8505022925340281,
          0.4691920933044812,
          1.826784708762384,
          -0.10576410338109243,
          -1.500461426023311,
          0.7965390567393406,
          -0.012409030102622055,
          -0.15130451407398446,
          -2.071058423059817,
          -0.8255625544235962,
          -0.8074054383028947,
          -0.9301852379698403,
          -1.6773017541992195,
          -0.3946539688644478,
          -2.9870582870265263,
          -0.03318946511355068,
          -0.016251530567965744,
          0.7030357504362612,
          -0.4999960084700399,
          -0.9420611634530786,
          -0.1432729844634614,
          0.6557312074595607,
          0.35574155452593026,
          -0.07734755312316859,
          -1.7102423679022432,
          -0.04205763850987133,
          -1.4785422652968754,
          0.7645412296582739,
          -0.24706609101356192,
          -1.201359615189873,
          1.5325015503193518,
          -0.4881633821714732,
          -0.5057962567151923,
          1.1308257061231044,
          -0.23356594422792676,
          0.66092576287292,
          1.6404688258806333,
          -1.5081626093929672,
          -0.0013041142872921448,
          0.12204994284248882,
          1.4721906166668761,
          -0.08003811206186177,
          -0.9092222820745258,
          -0.8407007439622989,
          -0.11436673916364293,
          0.06406328064075953,
          0.48221062292822475,
          -0.7807229952837661,
          -0.20502892323697028,
          0.3447615780074933,
          -1.583612014364668,
          0.5130380961580526,
          -1.551310104687635,
          0.7237591993777599,
          1.5059564157142509,
          -0.10163714145529341,
          -1.67186290946623,
          -0.31584531717802655,
          1.0644113882459774,
          2.274346155576829,
          0.49930813021148723,
          1.6405651595955058,
          -0.33937453326899897,
          0.10632705592337412,
          -1.2642467659208292,
          -0.17540983564574716,
          -0.1862548195584329,
          1.4326108248716156,
          0.06485852176902505,
          -0.36945518458348525,
          0.541657819502985,
          0.4634294898545669,
          -1.3654976940987307,
          -0.45372839134779486,
          1.0423110939962679,
          0.4128596468131367,
          -0.4937751704955059,
          -0.24026055088614237,
          -0.6454607232329427,
          0.8484132678342798,
          0.8798070172304139,
          -0.8837609675709918,
          0.03975057728511999,
          -0.5563341326163922,
          -0.23772094092618812,
          0.18642158069051573,
          0.8268192191747974,
          1.9527936074764647,
          0.8109508402703056,
          -0.44120277682258874,
          0.407627374675604
         ]
        }
       ],
       "layout": {
        "legend": {
         "bgcolor": "#F5F6F9",
         "font": {
          "color": "#4D5663"
         }
        },
        "paper_bgcolor": "#F5F6F9",
        "plot_bgcolor": "#F5F6F9",
        "template": {
         "data": {
          "bar": [
           {
            "error_x": {
             "color": "#2a3f5f"
            },
            "error_y": {
             "color": "#2a3f5f"
            },
            "marker": {
             "line": {
              "color": "#E5ECF6",
              "width": 0.5
             },
             "pattern": {
              "fillmode": "overlay",
              "size": 10,
              "solidity": 0.2
             }
            },
            "type": "bar"
           }
          ],
          "barpolar": [
           {
            "marker": {
             "line": {
              "color": "#E5ECF6",
              "width": 0.5
             },
             "pattern": {
              "fillmode": "overlay",
              "size": 10,
              "solidity": 0.2
             }
            },
            "type": "barpolar"
           }
          ],
          "carpet": [
           {
            "aaxis": {
             "endlinecolor": "#2a3f5f",
             "gridcolor": "white",
             "linecolor": "white",
             "minorgridcolor": "white",
             "startlinecolor": "#2a3f5f"
            },
            "baxis": {
             "endlinecolor": "#2a3f5f",
             "gridcolor": "white",
             "linecolor": "white",
             "minorgridcolor": "white",
             "startlinecolor": "#2a3f5f"
            },
            "type": "carpet"
           }
          ],
          "choropleth": [
           {
            "colorbar": {
             "outlinewidth": 0,
             "ticks": ""
            },
            "type": "choropleth"
           }
          ],
          "contour": [
           {
            "colorbar": {
             "outlinewidth": 0,
             "ticks": ""
            },
            "colorscale": [
             [
              0,
              "#0d0887"
             ],
             [
              0.1111111111111111,
              "#46039f"
             ],
             [
              0.2222222222222222,
              "#7201a8"
             ],
             [
              0.3333333333333333,
              "#9c179e"
             ],
             [
              0.4444444444444444,
              "#bd3786"
             ],
             [
              0.5555555555555556,
              "#d8576b"
             ],
             [
              0.6666666666666666,
              "#ed7953"
             ],
             [
              0.7777777777777778,
              "#fb9f3a"
             ],
             [
              0.8888888888888888,
              "#fdca26"
             ],
             [
              1,
              "#f0f921"
             ]
            ],
            "type": "contour"
           }
          ],
          "contourcarpet": [
           {
            "colorbar": {
             "outlinewidth": 0,
             "ticks": ""
            },
            "type": "contourcarpet"
           }
          ],
          "heatmap": [
           {
            "colorbar": {
             "outlinewidth": 0,
             "ticks": ""
            },
            "colorscale": [
             [
              0,
              "#0d0887"
             ],
             [
              0.1111111111111111,
              "#46039f"
             ],
             [
              0.2222222222222222,
              "#7201a8"
             ],
             [
              0.3333333333333333,
              "#9c179e"
             ],
             [
              0.4444444444444444,
              "#bd3786"
             ],
             [
              0.5555555555555556,
              "#d8576b"
             ],
             [
              0.6666666666666666,
              "#ed7953"
             ],
             [
              0.7777777777777778,
              "#fb9f3a"
             ],
             [
              0.8888888888888888,
              "#fdca26"
             ],
             [
              1,
              "#f0f921"
             ]
            ],
            "type": "heatmap"
           }
          ],
          "heatmapgl": [
           {
            "colorbar": {
             "outlinewidth": 0,
             "ticks": ""
            },
            "colorscale": [
             [
              0,
              "#0d0887"
             ],
             [
              0.1111111111111111,
              "#46039f"
             ],
             [
              0.2222222222222222,
              "#7201a8"
             ],
             [
              0.3333333333333333,
              "#9c179e"
             ],
             [
              0.4444444444444444,
              "#bd3786"
             ],
             [
              0.5555555555555556,
              "#d8576b"
             ],
             [
              0.6666666666666666,
              "#ed7953"
             ],
             [
              0.7777777777777778,
              "#fb9f3a"
             ],
             [
              0.8888888888888888,
              "#fdca26"
             ],
             [
              1,
              "#f0f921"
             ]
            ],
            "type": "heatmapgl"
           }
          ],
          "histogram": [
           {
            "marker": {
             "pattern": {
              "fillmode": "overlay",
              "size": 10,
              "solidity": 0.2
             }
            },
            "type": "histogram"
           }
          ],
          "histogram2d": [
           {
            "colorbar": {
             "outlinewidth": 0,
             "ticks": ""
            },
            "colorscale": [
             [
              0,
              "#0d0887"
             ],
             [
              0.1111111111111111,
              "#46039f"
             ],
             [
              0.2222222222222222,
              "#7201a8"
             ],
             [
              0.3333333333333333,
              "#9c179e"
             ],
             [
              0.4444444444444444,
              "#bd3786"
             ],
             [
              0.5555555555555556,
              "#d8576b"
             ],
             [
              0.6666666666666666,
              "#ed7953"
             ],
             [
              0.7777777777777778,
              "#fb9f3a"
             ],
             [
              0.8888888888888888,
              "#fdca26"
             ],
             [
              1,
              "#f0f921"
             ]
            ],
            "type": "histogram2d"
           }
          ],
          "histogram2dcontour": [
           {
            "colorbar": {
             "outlinewidth": 0,
             "ticks": ""
            },
            "colorscale": [
             [
              0,
              "#0d0887"
             ],
             [
              0.1111111111111111,
              "#46039f"
             ],
             [
              0.2222222222222222,
              "#7201a8"
             ],
             [
              0.3333333333333333,
              "#9c179e"
             ],
             [
              0.4444444444444444,
              "#bd3786"
             ],
             [
              0.5555555555555556,
              "#d8576b"
             ],
             [
              0.6666666666666666,
              "#ed7953"
             ],
             [
              0.7777777777777778,
              "#fb9f3a"
             ],
             [
              0.8888888888888888,
              "#fdca26"
             ],
             [
              1,
              "#f0f921"
             ]
            ],
            "type": "histogram2dcontour"
           }
          ],
          "mesh3d": [
           {
            "colorbar": {
             "outlinewidth": 0,
             "ticks": ""
            },
            "type": "mesh3d"
           }
          ],
          "parcoords": [
           {
            "line": {
             "colorbar": {
              "outlinewidth": 0,
              "ticks": ""
             }
            },
            "type": "parcoords"
           }
          ],
          "pie": [
           {
            "automargin": true,
            "type": "pie"
           }
          ],
          "scatter": [
           {
            "marker": {
             "colorbar": {
              "outlinewidth": 0,
              "ticks": ""
             }
            },
            "type": "scatter"
           }
          ],
          "scatter3d": [
           {
            "line": {
             "colorbar": {
              "outlinewidth": 0,
              "ticks": ""
             }
            },
            "marker": {
             "colorbar": {
              "outlinewidth": 0,
              "ticks": ""
             }
            },
            "type": "scatter3d"
           }
          ],
          "scattercarpet": [
           {
            "marker": {
             "colorbar": {
              "outlinewidth": 0,
              "ticks": ""
             }
            },
            "type": "scattercarpet"
           }
          ],
          "scattergeo": [
           {
            "marker": {
             "colorbar": {
              "outlinewidth": 0,
              "ticks": ""
             }
            },
            "type": "scattergeo"
           }
          ],
          "scattergl": [
           {
            "marker": {
             "colorbar": {
              "outlinewidth": 0,
              "ticks": ""
             }
            },
            "type": "scattergl"
           }
          ],
          "scattermapbox": [
           {
            "marker": {
             "colorbar": {
              "outlinewidth": 0,
              "ticks": ""
             }
            },
            "type": "scattermapbox"
           }
          ],
          "scatterpolar": [
           {
            "marker": {
             "colorbar": {
              "outlinewidth": 0,
              "ticks": ""
             }
            },
            "type": "scatterpolar"
           }
          ],
          "scatterpolargl": [
           {
            "marker": {
             "colorbar": {
              "outlinewidth": 0,
              "ticks": ""
             }
            },
            "type": "scatterpolargl"
           }
          ],
          "scatterternary": [
           {
            "marker": {
             "colorbar": {
              "outlinewidth": 0,
              "ticks": ""
             }
            },
            "type": "scatterternary"
           }
          ],
          "surface": [
           {
            "colorbar": {
             "outlinewidth": 0,
             "ticks": ""
            },
            "colorscale": [
             [
              0,
              "#0d0887"
             ],
             [
              0.1111111111111111,
              "#46039f"
             ],
             [
              0.2222222222222222,
              "#7201a8"
             ],
             [
              0.3333333333333333,
              "#9c179e"
             ],
             [
              0.4444444444444444,
              "#bd3786"
             ],
             [
              0.5555555555555556,
              "#d8576b"
             ],
             [
              0.6666666666666666,
              "#ed7953"
             ],
             [
              0.7777777777777778,
              "#fb9f3a"
             ],
             [
              0.8888888888888888,
              "#fdca26"
             ],
             [
              1,
              "#f0f921"
             ]
            ],
            "type": "surface"
           }
          ],
          "table": [
           {
            "cells": {
             "fill": {
              "color": "#EBF0F8"
             },
             "line": {
              "color": "white"
             }
            },
            "header": {
             "fill": {
              "color": "#C8D4E3"
             },
             "line": {
              "color": "white"
             }
            },
            "type": "table"
           }
          ]
         },
         "layout": {
          "annotationdefaults": {
           "arrowcolor": "#2a3f5f",
           "arrowhead": 0,
           "arrowwidth": 1
          },
          "autotypenumbers": "strict",
          "coloraxis": {
           "colorbar": {
            "outlinewidth": 0,
            "ticks": ""
           }
          },
          "colorscale": {
           "diverging": [
            [
             0,
             "#8e0152"
            ],
            [
             0.1,
             "#c51b7d"
            ],
            [
             0.2,
             "#de77ae"
            ],
            [
             0.3,
             "#f1b6da"
            ],
            [
             0.4,
             "#fde0ef"
            ],
            [
             0.5,
             "#f7f7f7"
            ],
            [
             0.6,
             "#e6f5d0"
            ],
            [
             0.7,
             "#b8e186"
            ],
            [
             0.8,
             "#7fbc41"
            ],
            [
             0.9,
             "#4d9221"
            ],
            [
             1,
             "#276419"
            ]
           ],
           "sequential": [
            [
             0,
             "#0d0887"
            ],
            [
             0.1111111111111111,
             "#46039f"
            ],
            [
             0.2222222222222222,
             "#7201a8"
            ],
            [
             0.3333333333333333,
             "#9c179e"
            ],
            [
             0.4444444444444444,
             "#bd3786"
            ],
            [
             0.5555555555555556,
             "#d8576b"
            ],
            [
             0.6666666666666666,
             "#ed7953"
            ],
            [
             0.7777777777777778,
             "#fb9f3a"
            ],
            [
             0.8888888888888888,
             "#fdca26"
            ],
            [
             1,
             "#f0f921"
            ]
           ],
           "sequentialminus": [
            [
             0,
             "#0d0887"
            ],
            [
             0.1111111111111111,
             "#46039f"
            ],
            [
             0.2222222222222222,
             "#7201a8"
            ],
            [
             0.3333333333333333,
             "#9c179e"
            ],
            [
             0.4444444444444444,
             "#bd3786"
            ],
            [
             0.5555555555555556,
             "#d8576b"
            ],
            [
             0.6666666666666666,
             "#ed7953"
            ],
            [
             0.7777777777777778,
             "#fb9f3a"
            ],
            [
             0.8888888888888888,
             "#fdca26"
            ],
            [
             1,
             "#f0f921"
            ]
           ]
          },
          "colorway": [
           "#636efa",
           "#EF553B",
           "#00cc96",
           "#ab63fa",
           "#FFA15A",
           "#19d3f3",
           "#FF6692",
           "#B6E880",
           "#FF97FF",
           "#FECB52"
          ],
          "font": {
           "color": "#2a3f5f"
          },
          "geo": {
           "bgcolor": "white",
           "lakecolor": "white",
           "landcolor": "#E5ECF6",
           "showlakes": true,
           "showland": true,
           "subunitcolor": "white"
          },
          "hoverlabel": {
           "align": "left"
          },
          "hovermode": "closest",
          "mapbox": {
           "style": "light"
          },
          "paper_bgcolor": "white",
          "plot_bgcolor": "#E5ECF6",
          "polar": {
           "angularaxis": {
            "gridcolor": "white",
            "linecolor": "white",
            "ticks": ""
           },
           "bgcolor": "#E5ECF6",
           "radialaxis": {
            "gridcolor": "white",
            "linecolor": "white",
            "ticks": ""
           }
          },
          "scene": {
           "xaxis": {
            "backgroundcolor": "#E5ECF6",
            "gridcolor": "white",
            "gridwidth": 2,
            "linecolor": "white",
            "showbackground": true,
            "ticks": "",
            "zerolinecolor": "white"
           },
           "yaxis": {
            "backgroundcolor": "#E5ECF6",
            "gridcolor": "white",
            "gridwidth": 2,
            "linecolor": "white",
            "showbackground": true,
            "ticks": "",
            "zerolinecolor": "white"
           },
           "zaxis": {
            "backgroundcolor": "#E5ECF6",
            "gridcolor": "white",
            "gridwidth": 2,
            "linecolor": "white",
            "showbackground": true,
            "ticks": "",
            "zerolinecolor": "white"
           }
          },
          "shapedefaults": {
           "line": {
            "color": "#2a3f5f"
           }
          },
          "ternary": {
           "aaxis": {
            "gridcolor": "white",
            "linecolor": "white",
            "ticks": ""
           },
           "baxis": {
            "gridcolor": "white",
            "linecolor": "white",
            "ticks": ""
           },
           "bgcolor": "#E5ECF6",
           "caxis": {
            "gridcolor": "white",
            "linecolor": "white",
            "ticks": ""
           }
          },
          "title": {
           "x": 0.05
          },
          "xaxis": {
           "automargin": true,
           "gridcolor": "white",
           "linecolor": "white",
           "ticks": "",
           "title": {
            "standoff": 15
           },
           "zerolinecolor": "white",
           "zerolinewidth": 2
          },
          "yaxis": {
           "automargin": true,
           "gridcolor": "white",
           "linecolor": "white",
           "ticks": "",
           "title": {
            "standoff": 15
           },
           "zerolinecolor": "white",
           "zerolinewidth": 2
          }
         }
        },
        "title": {
         "font": {
          "color": "#4D5663"
         }
        },
        "xaxis": {
         "gridcolor": "#E1E5ED",
         "showgrid": true,
         "tickfont": {
          "color": "#4D5663"
         },
         "title": {
          "font": {
           "color": "#4D5663"
          },
          "text": ""
         },
         "zerolinecolor": "#E1E5ED"
        },
        "yaxis": {
         "gridcolor": "#E1E5ED",
         "showgrid": true,
         "tickfont": {
          "color": "#4D5663"
         },
         "title": {
          "font": {
           "color": "#4D5663"
          },
          "text": ""
         },
         "zerolinecolor": "#E1E5ED"
        }
       }
      },
      "text/html": [
       "<div>                            <div id=\"c4442a8b-0994-4839-87b0-53cb535e6ff2\" class=\"plotly-graph-div\" style=\"height:525px; width:100%;\"></div>            <script type=\"text/javascript\">                require([\"plotly\"], function(Plotly) {                    window.PLOTLYENV=window.PLOTLYENV || {};\n",
       "                    window.PLOTLYENV.BASE_URL='https://plot.ly';                                    if (document.getElementById(\"c4442a8b-0994-4839-87b0-53cb535e6ff2\")) {                    Plotly.newPlot(                        \"c4442a8b-0994-4839-87b0-53cb535e6ff2\",                        [{\"line\":{\"color\":\"rgba(255, 153, 51, 1.0)\",\"dash\":\"solid\",\"shape\":\"linear\",\"width\":1.3},\"marker\":{\"size\":12,\"symbol\":\"circle\"},\"mode\":\"markers\",\"name\":\"B\",\"text\":\"\",\"x\":[-1.4179226392462503,-0.46264200324192123,0.7515224608796539,0.017214914882547446,-2.119230156508853,1.4246987135038927,-1.3484391107921905,0.6432498838271453,-0.9263864887473827,0.7570861795056825,0.07543918980622479,1.1599339441805279,-0.04608268499591076,-0.09120078183586999,0.8842914961718378,-0.9162025719299867,-1.2610444177759146,0.027904167487635967,-0.7061578863184852,0.7709016638285334,-0.8539166153517274,0.7309733763722845,-1.7691103627746505,1.263558824772134,0.4717765277347702,0.557405859177239,-1.6819089715393656,1.0025284313403557,1.572525731929163,-0.9650143742388076,1.151517875183336,-0.18247700098496303,-0.7167113193989513,1.1761072211193844,0.12819699293539916,-0.23688078197346668,-0.560705340480975,-0.39787163984807145,1.3382710439775771,-1.7798709075126007,-1.2702252329912076,-0.4152839220015532,0.17542127517078324,0.39285448248880483,0.9045840149471326,-0.16994995097364154,0.3381582060118401,0.2063929493612841,-0.11094598121380154,0.7974586479279469,-2.199222319526443,1.3997599864684436,0.22941627710272822,1.4240802742453296,0.3094390144366311,1.5403747340754785,0.5810551927052852,-1.066762083853598,-0.059946047063189144,0.22949791684170903,0.8327749881915162,-0.06636372674054501,-0.6190169447247864,2.0048868335375056,1.736487965277091,-1.3831774356984614,1.4976344360500824,-0.7067197193609598,-0.4385844889747408,-0.9353036023038812,-0.47593035642229686,1.6132806108278546,-0.6287717679502393,1.0345780523748735,-1.27284403429772,-0.21598606336809065,-0.21383616429784602,3.2313217531556826,1.3382365732922021,-0.22487702362562872,2.340429170474291,0.6271993811365263,1.997890339440614,-2.033624272129717,0.32279225575672327,0.8666550678088079,0.8252385648058315,-1.657914673275361,1.2379383904314973,0.7149995599320481,-1.1761176335038575,0.5706312135572416,-0.4558503278911321,0.37983919034349595,0.09595899429015453,-1.2417447649974065,-0.5217493081296127,0.7542010755173852,-1.145180906491648,1.6740518150812944],\"y\":[0.43916847768055367,0.7754169812744081,-1.766184215926334,0.4674257707543401,0.29321032071154995,1.41774816480575,1.3445969383110263,0.4416487341811845,-1.430772057414031,-0.8505022925340281,0.4691920933044812,1.826784708762384,-0.10576410338109243,-1.500461426023311,0.7965390567393406,-0.012409030102622055,-0.15130451407398446,-2.071058423059817,-0.8255625544235962,-0.8074054383028947,-0.9301852379698403,-1.6773017541992195,-0.3946539688644478,-2.9870582870265263,-0.03318946511355068,-0.016251530567965744,0.7030357504362612,-0.4999960084700399,-0.9420611634530786,-0.1432729844634614,0.6557312074595607,0.35574155452593026,-0.07734755312316859,-1.7102423679022432,-0.04205763850987133,-1.4785422652968754,0.7645412296582739,-0.24706609101356192,-1.201359615189873,1.5325015503193518,-0.4881633821714732,-0.5057962567151923,1.1308257061231044,-0.23356594422792676,0.66092576287292,1.6404688258806333,-1.5081626093929672,-0.0013041142872921448,0.12204994284248882,1.4721906166668761,-0.08003811206186177,-0.9092222820745258,-0.8407007439622989,-0.11436673916364293,0.06406328064075953,0.48221062292822475,-0.7807229952837661,-0.20502892323697028,0.3447615780074933,-1.583612014364668,0.5130380961580526,-1.551310104687635,0.7237591993777599,1.5059564157142509,-0.10163714145529341,-1.67186290946623,-0.31584531717802655,1.0644113882459774,2.274346155576829,0.49930813021148723,1.6405651595955058,-0.33937453326899897,0.10632705592337412,-1.2642467659208292,-0.17540983564574716,-0.1862548195584329,1.4326108248716156,0.06485852176902505,-0.36945518458348525,0.541657819502985,0.4634294898545669,-1.3654976940987307,-0.45372839134779486,1.0423110939962679,0.4128596468131367,-0.4937751704955059,-0.24026055088614237,-0.6454607232329427,0.8484132678342798,0.8798070172304139,-0.8837609675709918,0.03975057728511999,-0.5563341326163922,-0.23772094092618812,0.18642158069051573,0.8268192191747974,1.9527936074764647,0.8109508402703056,-0.44120277682258874,0.407627374675604],\"type\":\"scatter\"}],                        {\"legend\":{\"bgcolor\":\"#F5F6F9\",\"font\":{\"color\":\"#4D5663\"}},\"paper_bgcolor\":\"#F5F6F9\",\"plot_bgcolor\":\"#F5F6F9\",\"template\":{\"data\":{\"barpolar\":[{\"marker\":{\"line\":{\"color\":\"#E5ECF6\",\"width\":0.5},\"pattern\":{\"fillmode\":\"overlay\",\"size\":10,\"solidity\":0.2}},\"type\":\"barpolar\"}],\"bar\":[{\"error_x\":{\"color\":\"#2a3f5f\"},\"error_y\":{\"color\":\"#2a3f5f\"},\"marker\":{\"line\":{\"color\":\"#E5ECF6\",\"width\":0.5},\"pattern\":{\"fillmode\":\"overlay\",\"size\":10,\"solidity\":0.2}},\"type\":\"bar\"}],\"carpet\":[{\"aaxis\":{\"endlinecolor\":\"#2a3f5f\",\"gridcolor\":\"white\",\"linecolor\":\"white\",\"minorgridcolor\":\"white\",\"startlinecolor\":\"#2a3f5f\"},\"baxis\":{\"endlinecolor\":\"#2a3f5f\",\"gridcolor\":\"white\",\"linecolor\":\"white\",\"minorgridcolor\":\"white\",\"startlinecolor\":\"#2a3f5f\"},\"type\":\"carpet\"}],\"choropleth\":[{\"colorbar\":{\"outlinewidth\":0,\"ticks\":\"\"},\"type\":\"choropleth\"}],\"contourcarpet\":[{\"colorbar\":{\"outlinewidth\":0,\"ticks\":\"\"},\"type\":\"contourcarpet\"}],\"contour\":[{\"colorbar\":{\"outlinewidth\":0,\"ticks\":\"\"},\"colorscale\":[[0.0,\"#0d0887\"],[0.1111111111111111,\"#46039f\"],[0.2222222222222222,\"#7201a8\"],[0.3333333333333333,\"#9c179e\"],[0.4444444444444444,\"#bd3786\"],[0.5555555555555556,\"#d8576b\"],[0.6666666666666666,\"#ed7953\"],[0.7777777777777778,\"#fb9f3a\"],[0.8888888888888888,\"#fdca26\"],[1.0,\"#f0f921\"]],\"type\":\"contour\"}],\"heatmapgl\":[{\"colorbar\":{\"outlinewidth\":0,\"ticks\":\"\"},\"colorscale\":[[0.0,\"#0d0887\"],[0.1111111111111111,\"#46039f\"],[0.2222222222222222,\"#7201a8\"],[0.3333333333333333,\"#9c179e\"],[0.4444444444444444,\"#bd3786\"],[0.5555555555555556,\"#d8576b\"],[0.6666666666666666,\"#ed7953\"],[0.7777777777777778,\"#fb9f3a\"],[0.8888888888888888,\"#fdca26\"],[1.0,\"#f0f921\"]],\"type\":\"heatmapgl\"}],\"heatmap\":[{\"colorbar\":{\"outlinewidth\":0,\"ticks\":\"\"},\"colorscale\":[[0.0,\"#0d0887\"],[0.1111111111111111,\"#46039f\"],[0.2222222222222222,\"#7201a8\"],[0.3333333333333333,\"#9c179e\"],[0.4444444444444444,\"#bd3786\"],[0.5555555555555556,\"#d8576b\"],[0.6666666666666666,\"#ed7953\"],[0.7777777777777778,\"#fb9f3a\"],[0.8888888888888888,\"#fdca26\"],[1.0,\"#f0f921\"]],\"type\":\"heatmap\"}],\"histogram2dcontour\":[{\"colorbar\":{\"outlinewidth\":0,\"ticks\":\"\"},\"colorscale\":[[0.0,\"#0d0887\"],[0.1111111111111111,\"#46039f\"],[0.2222222222222222,\"#7201a8\"],[0.3333333333333333,\"#9c179e\"],[0.4444444444444444,\"#bd3786\"],[0.5555555555555556,\"#d8576b\"],[0.6666666666666666,\"#ed7953\"],[0.7777777777777778,\"#fb9f3a\"],[0.8888888888888888,\"#fdca26\"],[1.0,\"#f0f921\"]],\"type\":\"histogram2dcontour\"}],\"histogram2d\":[{\"colorbar\":{\"outlinewidth\":0,\"ticks\":\"\"},\"colorscale\":[[0.0,\"#0d0887\"],[0.1111111111111111,\"#46039f\"],[0.2222222222222222,\"#7201a8\"],[0.3333333333333333,\"#9c179e\"],[0.4444444444444444,\"#bd3786\"],[0.5555555555555556,\"#d8576b\"],[0.6666666666666666,\"#ed7953\"],[0.7777777777777778,\"#fb9f3a\"],[0.8888888888888888,\"#fdca26\"],[1.0,\"#f0f921\"]],\"type\":\"histogram2d\"}],\"histogram\":[{\"marker\":{\"pattern\":{\"fillmode\":\"overlay\",\"size\":10,\"solidity\":0.2}},\"type\":\"histogram\"}],\"mesh3d\":[{\"colorbar\":{\"outlinewidth\":0,\"ticks\":\"\"},\"type\":\"mesh3d\"}],\"parcoords\":[{\"line\":{\"colorbar\":{\"outlinewidth\":0,\"ticks\":\"\"}},\"type\":\"parcoords\"}],\"pie\":[{\"automargin\":true,\"type\":\"pie\"}],\"scatter3d\":[{\"line\":{\"colorbar\":{\"outlinewidth\":0,\"ticks\":\"\"}},\"marker\":{\"colorbar\":{\"outlinewidth\":0,\"ticks\":\"\"}},\"type\":\"scatter3d\"}],\"scattercarpet\":[{\"marker\":{\"colorbar\":{\"outlinewidth\":0,\"ticks\":\"\"}},\"type\":\"scattercarpet\"}],\"scattergeo\":[{\"marker\":{\"colorbar\":{\"outlinewidth\":0,\"ticks\":\"\"}},\"type\":\"scattergeo\"}],\"scattergl\":[{\"marker\":{\"colorbar\":{\"outlinewidth\":0,\"ticks\":\"\"}},\"type\":\"scattergl\"}],\"scattermapbox\":[{\"marker\":{\"colorbar\":{\"outlinewidth\":0,\"ticks\":\"\"}},\"type\":\"scattermapbox\"}],\"scatterpolargl\":[{\"marker\":{\"colorbar\":{\"outlinewidth\":0,\"ticks\":\"\"}},\"type\":\"scatterpolargl\"}],\"scatterpolar\":[{\"marker\":{\"colorbar\":{\"outlinewidth\":0,\"ticks\":\"\"}},\"type\":\"scatterpolar\"}],\"scatter\":[{\"marker\":{\"colorbar\":{\"outlinewidth\":0,\"ticks\":\"\"}},\"type\":\"scatter\"}],\"scatterternary\":[{\"marker\":{\"colorbar\":{\"outlinewidth\":0,\"ticks\":\"\"}},\"type\":\"scatterternary\"}],\"surface\":[{\"colorbar\":{\"outlinewidth\":0,\"ticks\":\"\"},\"colorscale\":[[0.0,\"#0d0887\"],[0.1111111111111111,\"#46039f\"],[0.2222222222222222,\"#7201a8\"],[0.3333333333333333,\"#9c179e\"],[0.4444444444444444,\"#bd3786\"],[0.5555555555555556,\"#d8576b\"],[0.6666666666666666,\"#ed7953\"],[0.7777777777777778,\"#fb9f3a\"],[0.8888888888888888,\"#fdca26\"],[1.0,\"#f0f921\"]],\"type\":\"surface\"}],\"table\":[{\"cells\":{\"fill\":{\"color\":\"#EBF0F8\"},\"line\":{\"color\":\"white\"}},\"header\":{\"fill\":{\"color\":\"#C8D4E3\"},\"line\":{\"color\":\"white\"}},\"type\":\"table\"}]},\"layout\":{\"annotationdefaults\":{\"arrowcolor\":\"#2a3f5f\",\"arrowhead\":0,\"arrowwidth\":1},\"autotypenumbers\":\"strict\",\"coloraxis\":{\"colorbar\":{\"outlinewidth\":0,\"ticks\":\"\"}},\"colorscale\":{\"diverging\":[[0,\"#8e0152\"],[0.1,\"#c51b7d\"],[0.2,\"#de77ae\"],[0.3,\"#f1b6da\"],[0.4,\"#fde0ef\"],[0.5,\"#f7f7f7\"],[0.6,\"#e6f5d0\"],[0.7,\"#b8e186\"],[0.8,\"#7fbc41\"],[0.9,\"#4d9221\"],[1,\"#276419\"]],\"sequential\":[[0.0,\"#0d0887\"],[0.1111111111111111,\"#46039f\"],[0.2222222222222222,\"#7201a8\"],[0.3333333333333333,\"#9c179e\"],[0.4444444444444444,\"#bd3786\"],[0.5555555555555556,\"#d8576b\"],[0.6666666666666666,\"#ed7953\"],[0.7777777777777778,\"#fb9f3a\"],[0.8888888888888888,\"#fdca26\"],[1.0,\"#f0f921\"]],\"sequentialminus\":[[0.0,\"#0d0887\"],[0.1111111111111111,\"#46039f\"],[0.2222222222222222,\"#7201a8\"],[0.3333333333333333,\"#9c179e\"],[0.4444444444444444,\"#bd3786\"],[0.5555555555555556,\"#d8576b\"],[0.6666666666666666,\"#ed7953\"],[0.7777777777777778,\"#fb9f3a\"],[0.8888888888888888,\"#fdca26\"],[1.0,\"#f0f921\"]]},\"colorway\":[\"#636efa\",\"#EF553B\",\"#00cc96\",\"#ab63fa\",\"#FFA15A\",\"#19d3f3\",\"#FF6692\",\"#B6E880\",\"#FF97FF\",\"#FECB52\"],\"font\":{\"color\":\"#2a3f5f\"},\"geo\":{\"bgcolor\":\"white\",\"lakecolor\":\"white\",\"landcolor\":\"#E5ECF6\",\"showlakes\":true,\"showland\":true,\"subunitcolor\":\"white\"},\"hoverlabel\":{\"align\":\"left\"},\"hovermode\":\"closest\",\"mapbox\":{\"style\":\"light\"},\"paper_bgcolor\":\"white\",\"plot_bgcolor\":\"#E5ECF6\",\"polar\":{\"angularaxis\":{\"gridcolor\":\"white\",\"linecolor\":\"white\",\"ticks\":\"\"},\"bgcolor\":\"#E5ECF6\",\"radialaxis\":{\"gridcolor\":\"white\",\"linecolor\":\"white\",\"ticks\":\"\"}},\"scene\":{\"xaxis\":{\"backgroundcolor\":\"#E5ECF6\",\"gridcolor\":\"white\",\"gridwidth\":2,\"linecolor\":\"white\",\"showbackground\":true,\"ticks\":\"\",\"zerolinecolor\":\"white\"},\"yaxis\":{\"backgroundcolor\":\"#E5ECF6\",\"gridcolor\":\"white\",\"gridwidth\":2,\"linecolor\":\"white\",\"showbackground\":true,\"ticks\":\"\",\"zerolinecolor\":\"white\"},\"zaxis\":{\"backgroundcolor\":\"#E5ECF6\",\"gridcolor\":\"white\",\"gridwidth\":2,\"linecolor\":\"white\",\"showbackground\":true,\"ticks\":\"\",\"zerolinecolor\":\"white\"}},\"shapedefaults\":{\"line\":{\"color\":\"#2a3f5f\"}},\"ternary\":{\"aaxis\":{\"gridcolor\":\"white\",\"linecolor\":\"white\",\"ticks\":\"\"},\"baxis\":{\"gridcolor\":\"white\",\"linecolor\":\"white\",\"ticks\":\"\"},\"bgcolor\":\"#E5ECF6\",\"caxis\":{\"gridcolor\":\"white\",\"linecolor\":\"white\",\"ticks\":\"\"}},\"title\":{\"x\":0.05},\"xaxis\":{\"automargin\":true,\"gridcolor\":\"white\",\"linecolor\":\"white\",\"ticks\":\"\",\"title\":{\"standoff\":15},\"zerolinecolor\":\"white\",\"zerolinewidth\":2},\"yaxis\":{\"automargin\":true,\"gridcolor\":\"white\",\"linecolor\":\"white\",\"ticks\":\"\",\"title\":{\"standoff\":15},\"zerolinecolor\":\"white\",\"zerolinewidth\":2}}},\"title\":{\"font\":{\"color\":\"#4D5663\"}},\"xaxis\":{\"gridcolor\":\"#E1E5ED\",\"showgrid\":true,\"tickfont\":{\"color\":\"#4D5663\"},\"title\":{\"font\":{\"color\":\"#4D5663\"},\"text\":\"\"},\"zerolinecolor\":\"#E1E5ED\"},\"yaxis\":{\"gridcolor\":\"#E1E5ED\",\"showgrid\":true,\"tickfont\":{\"color\":\"#4D5663\"},\"title\":{\"font\":{\"color\":\"#4D5663\"},\"text\":\"\"},\"zerolinecolor\":\"#E1E5ED\"}},                        {\"showLink\": true, \"linkText\": \"Export to plot.ly\", \"plotlyServerURL\": \"https://plot.ly\", \"responsive\": true}                    ).then(function(){\n",
       "                            \n",
       "var gd = document.getElementById('c4442a8b-0994-4839-87b0-53cb535e6ff2');\n",
       "var x = new MutationObserver(function (mutations, observer) {{\n",
       "        var display = window.getComputedStyle(gd).display;\n",
       "        if (!display || display === 'none') {{\n",
       "            console.log([gd, 'removed!']);\n",
       "            Plotly.purge(gd);\n",
       "            observer.disconnect();\n",
       "        }}\n",
       "}});\n",
       "\n",
       "// Listen for the removal of the full notebook cells\n",
       "var notebookContainer = gd.closest('#notebook-container');\n",
       "if (notebookContainer) {{\n",
       "    x.observe(notebookContainer, {childList: true});\n",
       "}}\n",
       "\n",
       "// Listen for the clearing of the current output cell\n",
       "var outputEl = gd.closest('.output');\n",
       "if (outputEl) {{\n",
       "    x.observe(outputEl, {childList: true});\n",
       "}}\n",
       "\n",
       "                        })                };                });            </script>        </div>"
      ]
     },
     "metadata": {},
     "output_type": "display_data"
    }
   ],
   "source": [
    "df.iplot(kind='scatter',x='A',y='B',mode='markers')"
   ]
  },
  {
   "cell_type": "code",
   "execution_count": 16,
   "id": "55afe6eb",
   "metadata": {},
   "outputs": [
    {
     "data": {
      "application/vnd.plotly.v1+json": {
       "config": {
        "linkText": "Export to plot.ly",
        "plotlyServerURL": "https://plot.ly",
        "showLink": true
       },
       "data": [
        {
         "line": {
          "color": "rgba(255, 153, 51, 1.0)",
          "dash": "solid",
          "shape": "linear",
          "width": 1.3
         },
         "marker": {
          "size": 20,
          "symbol": "circle"
         },
         "mode": "markers",
         "name": "B",
         "text": "",
         "type": "scatter",
         "x": [
          -1.4179226392462503,
          -0.46264200324192123,
          0.7515224608796539,
          0.017214914882547446,
          -2.119230156508853,
          1.4246987135038927,
          -1.3484391107921905,
          0.6432498838271453,
          -0.9263864887473827,
          0.7570861795056825,
          0.07543918980622479,
          1.1599339441805279,
          -0.04608268499591076,
          -0.09120078183586999,
          0.8842914961718378,
          -0.9162025719299867,
          -1.2610444177759146,
          0.027904167487635967,
          -0.7061578863184852,
          0.7709016638285334,
          -0.8539166153517274,
          0.7309733763722845,
          -1.7691103627746505,
          1.263558824772134,
          0.4717765277347702,
          0.557405859177239,
          -1.6819089715393656,
          1.0025284313403557,
          1.572525731929163,
          -0.9650143742388076,
          1.151517875183336,
          -0.18247700098496303,
          -0.7167113193989513,
          1.1761072211193844,
          0.12819699293539916,
          -0.23688078197346668,
          -0.560705340480975,
          -0.39787163984807145,
          1.3382710439775771,
          -1.7798709075126007,
          -1.2702252329912076,
          -0.4152839220015532,
          0.17542127517078324,
          0.39285448248880483,
          0.9045840149471326,
          -0.16994995097364154,
          0.3381582060118401,
          0.2063929493612841,
          -0.11094598121380154,
          0.7974586479279469,
          -2.199222319526443,
          1.3997599864684436,
          0.22941627710272822,
          1.4240802742453296,
          0.3094390144366311,
          1.5403747340754785,
          0.5810551927052852,
          -1.066762083853598,
          -0.059946047063189144,
          0.22949791684170903,
          0.8327749881915162,
          -0.06636372674054501,
          -0.6190169447247864,
          2.0048868335375056,
          1.736487965277091,
          -1.3831774356984614,
          1.4976344360500824,
          -0.7067197193609598,
          -0.4385844889747408,
          -0.9353036023038812,
          -0.47593035642229686,
          1.6132806108278546,
          -0.6287717679502393,
          1.0345780523748735,
          -1.27284403429772,
          -0.21598606336809065,
          -0.21383616429784602,
          3.2313217531556826,
          1.3382365732922021,
          -0.22487702362562872,
          2.340429170474291,
          0.6271993811365263,
          1.997890339440614,
          -2.033624272129717,
          0.32279225575672327,
          0.8666550678088079,
          0.8252385648058315,
          -1.657914673275361,
          1.2379383904314973,
          0.7149995599320481,
          -1.1761176335038575,
          0.5706312135572416,
          -0.4558503278911321,
          0.37983919034349595,
          0.09595899429015453,
          -1.2417447649974065,
          -0.5217493081296127,
          0.7542010755173852,
          -1.145180906491648,
          1.6740518150812944
         ],
         "y": [
          0.43916847768055367,
          0.7754169812744081,
          -1.766184215926334,
          0.4674257707543401,
          0.29321032071154995,
          1.41774816480575,
          1.3445969383110263,
          0.4416487341811845,
          -1.430772057414031,
          -0.8505022925340281,
          0.4691920933044812,
          1.826784708762384,
          -0.10576410338109243,
          -1.500461426023311,
          0.7965390567393406,
          -0.012409030102622055,
          -0.15130451407398446,
          -2.071058423059817,
          -0.8255625544235962,
          -0.8074054383028947,
          -0.9301852379698403,
          -1.6773017541992195,
          -0.3946539688644478,
          -2.9870582870265263,
          -0.03318946511355068,
          -0.016251530567965744,
          0.7030357504362612,
          -0.4999960084700399,
          -0.9420611634530786,
          -0.1432729844634614,
          0.6557312074595607,
          0.35574155452593026,
          -0.07734755312316859,
          -1.7102423679022432,
          -0.04205763850987133,
          -1.4785422652968754,
          0.7645412296582739,
          -0.24706609101356192,
          -1.201359615189873,
          1.5325015503193518,
          -0.4881633821714732,
          -0.5057962567151923,
          1.1308257061231044,
          -0.23356594422792676,
          0.66092576287292,
          1.6404688258806333,
          -1.5081626093929672,
          -0.0013041142872921448,
          0.12204994284248882,
          1.4721906166668761,
          -0.08003811206186177,
          -0.9092222820745258,
          -0.8407007439622989,
          -0.11436673916364293,
          0.06406328064075953,
          0.48221062292822475,
          -0.7807229952837661,
          -0.20502892323697028,
          0.3447615780074933,
          -1.583612014364668,
          0.5130380961580526,
          -1.551310104687635,
          0.7237591993777599,
          1.5059564157142509,
          -0.10163714145529341,
          -1.67186290946623,
          -0.31584531717802655,
          1.0644113882459774,
          2.274346155576829,
          0.49930813021148723,
          1.6405651595955058,
          -0.33937453326899897,
          0.10632705592337412,
          -1.2642467659208292,
          -0.17540983564574716,
          -0.1862548195584329,
          1.4326108248716156,
          0.06485852176902505,
          -0.36945518458348525,
          0.541657819502985,
          0.4634294898545669,
          -1.3654976940987307,
          -0.45372839134779486,
          1.0423110939962679,
          0.4128596468131367,
          -0.4937751704955059,
          -0.24026055088614237,
          -0.6454607232329427,
          0.8484132678342798,
          0.8798070172304139,
          -0.8837609675709918,
          0.03975057728511999,
          -0.5563341326163922,
          -0.23772094092618812,
          0.18642158069051573,
          0.8268192191747974,
          1.9527936074764647,
          0.8109508402703056,
          -0.44120277682258874,
          0.407627374675604
         ]
        }
       ],
       "layout": {
        "legend": {
         "bgcolor": "#F5F6F9",
         "font": {
          "color": "#4D5663"
         }
        },
        "paper_bgcolor": "#F5F6F9",
        "plot_bgcolor": "#F5F6F9",
        "template": {
         "data": {
          "bar": [
           {
            "error_x": {
             "color": "#2a3f5f"
            },
            "error_y": {
             "color": "#2a3f5f"
            },
            "marker": {
             "line": {
              "color": "#E5ECF6",
              "width": 0.5
             },
             "pattern": {
              "fillmode": "overlay",
              "size": 10,
              "solidity": 0.2
             }
            },
            "type": "bar"
           }
          ],
          "barpolar": [
           {
            "marker": {
             "line": {
              "color": "#E5ECF6",
              "width": 0.5
             },
             "pattern": {
              "fillmode": "overlay",
              "size": 10,
              "solidity": 0.2
             }
            },
            "type": "barpolar"
           }
          ],
          "carpet": [
           {
            "aaxis": {
             "endlinecolor": "#2a3f5f",
             "gridcolor": "white",
             "linecolor": "white",
             "minorgridcolor": "white",
             "startlinecolor": "#2a3f5f"
            },
            "baxis": {
             "endlinecolor": "#2a3f5f",
             "gridcolor": "white",
             "linecolor": "white",
             "minorgridcolor": "white",
             "startlinecolor": "#2a3f5f"
            },
            "type": "carpet"
           }
          ],
          "choropleth": [
           {
            "colorbar": {
             "outlinewidth": 0,
             "ticks": ""
            },
            "type": "choropleth"
           }
          ],
          "contour": [
           {
            "colorbar": {
             "outlinewidth": 0,
             "ticks": ""
            },
            "colorscale": [
             [
              0,
              "#0d0887"
             ],
             [
              0.1111111111111111,
              "#46039f"
             ],
             [
              0.2222222222222222,
              "#7201a8"
             ],
             [
              0.3333333333333333,
              "#9c179e"
             ],
             [
              0.4444444444444444,
              "#bd3786"
             ],
             [
              0.5555555555555556,
              "#d8576b"
             ],
             [
              0.6666666666666666,
              "#ed7953"
             ],
             [
              0.7777777777777778,
              "#fb9f3a"
             ],
             [
              0.8888888888888888,
              "#fdca26"
             ],
             [
              1,
              "#f0f921"
             ]
            ],
            "type": "contour"
           }
          ],
          "contourcarpet": [
           {
            "colorbar": {
             "outlinewidth": 0,
             "ticks": ""
            },
            "type": "contourcarpet"
           }
          ],
          "heatmap": [
           {
            "colorbar": {
             "outlinewidth": 0,
             "ticks": ""
            },
            "colorscale": [
             [
              0,
              "#0d0887"
             ],
             [
              0.1111111111111111,
              "#46039f"
             ],
             [
              0.2222222222222222,
              "#7201a8"
             ],
             [
              0.3333333333333333,
              "#9c179e"
             ],
             [
              0.4444444444444444,
              "#bd3786"
             ],
             [
              0.5555555555555556,
              "#d8576b"
             ],
             [
              0.6666666666666666,
              "#ed7953"
             ],
             [
              0.7777777777777778,
              "#fb9f3a"
             ],
             [
              0.8888888888888888,
              "#fdca26"
             ],
             [
              1,
              "#f0f921"
             ]
            ],
            "type": "heatmap"
           }
          ],
          "heatmapgl": [
           {
            "colorbar": {
             "outlinewidth": 0,
             "ticks": ""
            },
            "colorscale": [
             [
              0,
              "#0d0887"
             ],
             [
              0.1111111111111111,
              "#46039f"
             ],
             [
              0.2222222222222222,
              "#7201a8"
             ],
             [
              0.3333333333333333,
              "#9c179e"
             ],
             [
              0.4444444444444444,
              "#bd3786"
             ],
             [
              0.5555555555555556,
              "#d8576b"
             ],
             [
              0.6666666666666666,
              "#ed7953"
             ],
             [
              0.7777777777777778,
              "#fb9f3a"
             ],
             [
              0.8888888888888888,
              "#fdca26"
             ],
             [
              1,
              "#f0f921"
             ]
            ],
            "type": "heatmapgl"
           }
          ],
          "histogram": [
           {
            "marker": {
             "pattern": {
              "fillmode": "overlay",
              "size": 10,
              "solidity": 0.2
             }
            },
            "type": "histogram"
           }
          ],
          "histogram2d": [
           {
            "colorbar": {
             "outlinewidth": 0,
             "ticks": ""
            },
            "colorscale": [
             [
              0,
              "#0d0887"
             ],
             [
              0.1111111111111111,
              "#46039f"
             ],
             [
              0.2222222222222222,
              "#7201a8"
             ],
             [
              0.3333333333333333,
              "#9c179e"
             ],
             [
              0.4444444444444444,
              "#bd3786"
             ],
             [
              0.5555555555555556,
              "#d8576b"
             ],
             [
              0.6666666666666666,
              "#ed7953"
             ],
             [
              0.7777777777777778,
              "#fb9f3a"
             ],
             [
              0.8888888888888888,
              "#fdca26"
             ],
             [
              1,
              "#f0f921"
             ]
            ],
            "type": "histogram2d"
           }
          ],
          "histogram2dcontour": [
           {
            "colorbar": {
             "outlinewidth": 0,
             "ticks": ""
            },
            "colorscale": [
             [
              0,
              "#0d0887"
             ],
             [
              0.1111111111111111,
              "#46039f"
             ],
             [
              0.2222222222222222,
              "#7201a8"
             ],
             [
              0.3333333333333333,
              "#9c179e"
             ],
             [
              0.4444444444444444,
              "#bd3786"
             ],
             [
              0.5555555555555556,
              "#d8576b"
             ],
             [
              0.6666666666666666,
              "#ed7953"
             ],
             [
              0.7777777777777778,
              "#fb9f3a"
             ],
             [
              0.8888888888888888,
              "#fdca26"
             ],
             [
              1,
              "#f0f921"
             ]
            ],
            "type": "histogram2dcontour"
           }
          ],
          "mesh3d": [
           {
            "colorbar": {
             "outlinewidth": 0,
             "ticks": ""
            },
            "type": "mesh3d"
           }
          ],
          "parcoords": [
           {
            "line": {
             "colorbar": {
              "outlinewidth": 0,
              "ticks": ""
             }
            },
            "type": "parcoords"
           }
          ],
          "pie": [
           {
            "automargin": true,
            "type": "pie"
           }
          ],
          "scatter": [
           {
            "marker": {
             "colorbar": {
              "outlinewidth": 0,
              "ticks": ""
             }
            },
            "type": "scatter"
           }
          ],
          "scatter3d": [
           {
            "line": {
             "colorbar": {
              "outlinewidth": 0,
              "ticks": ""
             }
            },
            "marker": {
             "colorbar": {
              "outlinewidth": 0,
              "ticks": ""
             }
            },
            "type": "scatter3d"
           }
          ],
          "scattercarpet": [
           {
            "marker": {
             "colorbar": {
              "outlinewidth": 0,
              "ticks": ""
             }
            },
            "type": "scattercarpet"
           }
          ],
          "scattergeo": [
           {
            "marker": {
             "colorbar": {
              "outlinewidth": 0,
              "ticks": ""
             }
            },
            "type": "scattergeo"
           }
          ],
          "scattergl": [
           {
            "marker": {
             "colorbar": {
              "outlinewidth": 0,
              "ticks": ""
             }
            },
            "type": "scattergl"
           }
          ],
          "scattermapbox": [
           {
            "marker": {
             "colorbar": {
              "outlinewidth": 0,
              "ticks": ""
             }
            },
            "type": "scattermapbox"
           }
          ],
          "scatterpolar": [
           {
            "marker": {
             "colorbar": {
              "outlinewidth": 0,
              "ticks": ""
             }
            },
            "type": "scatterpolar"
           }
          ],
          "scatterpolargl": [
           {
            "marker": {
             "colorbar": {
              "outlinewidth": 0,
              "ticks": ""
             }
            },
            "type": "scatterpolargl"
           }
          ],
          "scatterternary": [
           {
            "marker": {
             "colorbar": {
              "outlinewidth": 0,
              "ticks": ""
             }
            },
            "type": "scatterternary"
           }
          ],
          "surface": [
           {
            "colorbar": {
             "outlinewidth": 0,
             "ticks": ""
            },
            "colorscale": [
             [
              0,
              "#0d0887"
             ],
             [
              0.1111111111111111,
              "#46039f"
             ],
             [
              0.2222222222222222,
              "#7201a8"
             ],
             [
              0.3333333333333333,
              "#9c179e"
             ],
             [
              0.4444444444444444,
              "#bd3786"
             ],
             [
              0.5555555555555556,
              "#d8576b"
             ],
             [
              0.6666666666666666,
              "#ed7953"
             ],
             [
              0.7777777777777778,
              "#fb9f3a"
             ],
             [
              0.8888888888888888,
              "#fdca26"
             ],
             [
              1,
              "#f0f921"
             ]
            ],
            "type": "surface"
           }
          ],
          "table": [
           {
            "cells": {
             "fill": {
              "color": "#EBF0F8"
             },
             "line": {
              "color": "white"
             }
            },
            "header": {
             "fill": {
              "color": "#C8D4E3"
             },
             "line": {
              "color": "white"
             }
            },
            "type": "table"
           }
          ]
         },
         "layout": {
          "annotationdefaults": {
           "arrowcolor": "#2a3f5f",
           "arrowhead": 0,
           "arrowwidth": 1
          },
          "autotypenumbers": "strict",
          "coloraxis": {
           "colorbar": {
            "outlinewidth": 0,
            "ticks": ""
           }
          },
          "colorscale": {
           "diverging": [
            [
             0,
             "#8e0152"
            ],
            [
             0.1,
             "#c51b7d"
            ],
            [
             0.2,
             "#de77ae"
            ],
            [
             0.3,
             "#f1b6da"
            ],
            [
             0.4,
             "#fde0ef"
            ],
            [
             0.5,
             "#f7f7f7"
            ],
            [
             0.6,
             "#e6f5d0"
            ],
            [
             0.7,
             "#b8e186"
            ],
            [
             0.8,
             "#7fbc41"
            ],
            [
             0.9,
             "#4d9221"
            ],
            [
             1,
             "#276419"
            ]
           ],
           "sequential": [
            [
             0,
             "#0d0887"
            ],
            [
             0.1111111111111111,
             "#46039f"
            ],
            [
             0.2222222222222222,
             "#7201a8"
            ],
            [
             0.3333333333333333,
             "#9c179e"
            ],
            [
             0.4444444444444444,
             "#bd3786"
            ],
            [
             0.5555555555555556,
             "#d8576b"
            ],
            [
             0.6666666666666666,
             "#ed7953"
            ],
            [
             0.7777777777777778,
             "#fb9f3a"
            ],
            [
             0.8888888888888888,
             "#fdca26"
            ],
            [
             1,
             "#f0f921"
            ]
           ],
           "sequentialminus": [
            [
             0,
             "#0d0887"
            ],
            [
             0.1111111111111111,
             "#46039f"
            ],
            [
             0.2222222222222222,
             "#7201a8"
            ],
            [
             0.3333333333333333,
             "#9c179e"
            ],
            [
             0.4444444444444444,
             "#bd3786"
            ],
            [
             0.5555555555555556,
             "#d8576b"
            ],
            [
             0.6666666666666666,
             "#ed7953"
            ],
            [
             0.7777777777777778,
             "#fb9f3a"
            ],
            [
             0.8888888888888888,
             "#fdca26"
            ],
            [
             1,
             "#f0f921"
            ]
           ]
          },
          "colorway": [
           "#636efa",
           "#EF553B",
           "#00cc96",
           "#ab63fa",
           "#FFA15A",
           "#19d3f3",
           "#FF6692",
           "#B6E880",
           "#FF97FF",
           "#FECB52"
          ],
          "font": {
           "color": "#2a3f5f"
          },
          "geo": {
           "bgcolor": "white",
           "lakecolor": "white",
           "landcolor": "#E5ECF6",
           "showlakes": true,
           "showland": true,
           "subunitcolor": "white"
          },
          "hoverlabel": {
           "align": "left"
          },
          "hovermode": "closest",
          "mapbox": {
           "style": "light"
          },
          "paper_bgcolor": "white",
          "plot_bgcolor": "#E5ECF6",
          "polar": {
           "angularaxis": {
            "gridcolor": "white",
            "linecolor": "white",
            "ticks": ""
           },
           "bgcolor": "#E5ECF6",
           "radialaxis": {
            "gridcolor": "white",
            "linecolor": "white",
            "ticks": ""
           }
          },
          "scene": {
           "xaxis": {
            "backgroundcolor": "#E5ECF6",
            "gridcolor": "white",
            "gridwidth": 2,
            "linecolor": "white",
            "showbackground": true,
            "ticks": "",
            "zerolinecolor": "white"
           },
           "yaxis": {
            "backgroundcolor": "#E5ECF6",
            "gridcolor": "white",
            "gridwidth": 2,
            "linecolor": "white",
            "showbackground": true,
            "ticks": "",
            "zerolinecolor": "white"
           },
           "zaxis": {
            "backgroundcolor": "#E5ECF6",
            "gridcolor": "white",
            "gridwidth": 2,
            "linecolor": "white",
            "showbackground": true,
            "ticks": "",
            "zerolinecolor": "white"
           }
          },
          "shapedefaults": {
           "line": {
            "color": "#2a3f5f"
           }
          },
          "ternary": {
           "aaxis": {
            "gridcolor": "white",
            "linecolor": "white",
            "ticks": ""
           },
           "baxis": {
            "gridcolor": "white",
            "linecolor": "white",
            "ticks": ""
           },
           "bgcolor": "#E5ECF6",
           "caxis": {
            "gridcolor": "white",
            "linecolor": "white",
            "ticks": ""
           }
          },
          "title": {
           "x": 0.05
          },
          "xaxis": {
           "automargin": true,
           "gridcolor": "white",
           "linecolor": "white",
           "ticks": "",
           "title": {
            "standoff": 15
           },
           "zerolinecolor": "white",
           "zerolinewidth": 2
          },
          "yaxis": {
           "automargin": true,
           "gridcolor": "white",
           "linecolor": "white",
           "ticks": "",
           "title": {
            "standoff": 15
           },
           "zerolinecolor": "white",
           "zerolinewidth": 2
          }
         }
        },
        "title": {
         "font": {
          "color": "#4D5663"
         }
        },
        "xaxis": {
         "gridcolor": "#E1E5ED",
         "showgrid": true,
         "tickfont": {
          "color": "#4D5663"
         },
         "title": {
          "font": {
           "color": "#4D5663"
          },
          "text": ""
         },
         "zerolinecolor": "#E1E5ED"
        },
        "yaxis": {
         "gridcolor": "#E1E5ED",
         "showgrid": true,
         "tickfont": {
          "color": "#4D5663"
         },
         "title": {
          "font": {
           "color": "#4D5663"
          },
          "text": ""
         },
         "zerolinecolor": "#E1E5ED"
        }
       }
      },
      "text/html": [
       "<div>                            <div id=\"e90277f0-cc70-4bed-9af4-f4152c744df3\" class=\"plotly-graph-div\" style=\"height:525px; width:100%;\"></div>            <script type=\"text/javascript\">                require([\"plotly\"], function(Plotly) {                    window.PLOTLYENV=window.PLOTLYENV || {};\n",
       "                    window.PLOTLYENV.BASE_URL='https://plot.ly';                                    if (document.getElementById(\"e90277f0-cc70-4bed-9af4-f4152c744df3\")) {                    Plotly.newPlot(                        \"e90277f0-cc70-4bed-9af4-f4152c744df3\",                        [{\"line\":{\"color\":\"rgba(255, 153, 51, 1.0)\",\"dash\":\"solid\",\"shape\":\"linear\",\"width\":1.3},\"marker\":{\"size\":20,\"symbol\":\"circle\"},\"mode\":\"markers\",\"name\":\"B\",\"text\":\"\",\"x\":[-1.4179226392462503,-0.46264200324192123,0.7515224608796539,0.017214914882547446,-2.119230156508853,1.4246987135038927,-1.3484391107921905,0.6432498838271453,-0.9263864887473827,0.7570861795056825,0.07543918980622479,1.1599339441805279,-0.04608268499591076,-0.09120078183586999,0.8842914961718378,-0.9162025719299867,-1.2610444177759146,0.027904167487635967,-0.7061578863184852,0.7709016638285334,-0.8539166153517274,0.7309733763722845,-1.7691103627746505,1.263558824772134,0.4717765277347702,0.557405859177239,-1.6819089715393656,1.0025284313403557,1.572525731929163,-0.9650143742388076,1.151517875183336,-0.18247700098496303,-0.7167113193989513,1.1761072211193844,0.12819699293539916,-0.23688078197346668,-0.560705340480975,-0.39787163984807145,1.3382710439775771,-1.7798709075126007,-1.2702252329912076,-0.4152839220015532,0.17542127517078324,0.39285448248880483,0.9045840149471326,-0.16994995097364154,0.3381582060118401,0.2063929493612841,-0.11094598121380154,0.7974586479279469,-2.199222319526443,1.3997599864684436,0.22941627710272822,1.4240802742453296,0.3094390144366311,1.5403747340754785,0.5810551927052852,-1.066762083853598,-0.059946047063189144,0.22949791684170903,0.8327749881915162,-0.06636372674054501,-0.6190169447247864,2.0048868335375056,1.736487965277091,-1.3831774356984614,1.4976344360500824,-0.7067197193609598,-0.4385844889747408,-0.9353036023038812,-0.47593035642229686,1.6132806108278546,-0.6287717679502393,1.0345780523748735,-1.27284403429772,-0.21598606336809065,-0.21383616429784602,3.2313217531556826,1.3382365732922021,-0.22487702362562872,2.340429170474291,0.6271993811365263,1.997890339440614,-2.033624272129717,0.32279225575672327,0.8666550678088079,0.8252385648058315,-1.657914673275361,1.2379383904314973,0.7149995599320481,-1.1761176335038575,0.5706312135572416,-0.4558503278911321,0.37983919034349595,0.09595899429015453,-1.2417447649974065,-0.5217493081296127,0.7542010755173852,-1.145180906491648,1.6740518150812944],\"y\":[0.43916847768055367,0.7754169812744081,-1.766184215926334,0.4674257707543401,0.29321032071154995,1.41774816480575,1.3445969383110263,0.4416487341811845,-1.430772057414031,-0.8505022925340281,0.4691920933044812,1.826784708762384,-0.10576410338109243,-1.500461426023311,0.7965390567393406,-0.012409030102622055,-0.15130451407398446,-2.071058423059817,-0.8255625544235962,-0.8074054383028947,-0.9301852379698403,-1.6773017541992195,-0.3946539688644478,-2.9870582870265263,-0.03318946511355068,-0.016251530567965744,0.7030357504362612,-0.4999960084700399,-0.9420611634530786,-0.1432729844634614,0.6557312074595607,0.35574155452593026,-0.07734755312316859,-1.7102423679022432,-0.04205763850987133,-1.4785422652968754,0.7645412296582739,-0.24706609101356192,-1.201359615189873,1.5325015503193518,-0.4881633821714732,-0.5057962567151923,1.1308257061231044,-0.23356594422792676,0.66092576287292,1.6404688258806333,-1.5081626093929672,-0.0013041142872921448,0.12204994284248882,1.4721906166668761,-0.08003811206186177,-0.9092222820745258,-0.8407007439622989,-0.11436673916364293,0.06406328064075953,0.48221062292822475,-0.7807229952837661,-0.20502892323697028,0.3447615780074933,-1.583612014364668,0.5130380961580526,-1.551310104687635,0.7237591993777599,1.5059564157142509,-0.10163714145529341,-1.67186290946623,-0.31584531717802655,1.0644113882459774,2.274346155576829,0.49930813021148723,1.6405651595955058,-0.33937453326899897,0.10632705592337412,-1.2642467659208292,-0.17540983564574716,-0.1862548195584329,1.4326108248716156,0.06485852176902505,-0.36945518458348525,0.541657819502985,0.4634294898545669,-1.3654976940987307,-0.45372839134779486,1.0423110939962679,0.4128596468131367,-0.4937751704955059,-0.24026055088614237,-0.6454607232329427,0.8484132678342798,0.8798070172304139,-0.8837609675709918,0.03975057728511999,-0.5563341326163922,-0.23772094092618812,0.18642158069051573,0.8268192191747974,1.9527936074764647,0.8109508402703056,-0.44120277682258874,0.407627374675604],\"type\":\"scatter\"}],                        {\"legend\":{\"bgcolor\":\"#F5F6F9\",\"font\":{\"color\":\"#4D5663\"}},\"paper_bgcolor\":\"#F5F6F9\",\"plot_bgcolor\":\"#F5F6F9\",\"template\":{\"data\":{\"barpolar\":[{\"marker\":{\"line\":{\"color\":\"#E5ECF6\",\"width\":0.5},\"pattern\":{\"fillmode\":\"overlay\",\"size\":10,\"solidity\":0.2}},\"type\":\"barpolar\"}],\"bar\":[{\"error_x\":{\"color\":\"#2a3f5f\"},\"error_y\":{\"color\":\"#2a3f5f\"},\"marker\":{\"line\":{\"color\":\"#E5ECF6\",\"width\":0.5},\"pattern\":{\"fillmode\":\"overlay\",\"size\":10,\"solidity\":0.2}},\"type\":\"bar\"}],\"carpet\":[{\"aaxis\":{\"endlinecolor\":\"#2a3f5f\",\"gridcolor\":\"white\",\"linecolor\":\"white\",\"minorgridcolor\":\"white\",\"startlinecolor\":\"#2a3f5f\"},\"baxis\":{\"endlinecolor\":\"#2a3f5f\",\"gridcolor\":\"white\",\"linecolor\":\"white\",\"minorgridcolor\":\"white\",\"startlinecolor\":\"#2a3f5f\"},\"type\":\"carpet\"}],\"choropleth\":[{\"colorbar\":{\"outlinewidth\":0,\"ticks\":\"\"},\"type\":\"choropleth\"}],\"contourcarpet\":[{\"colorbar\":{\"outlinewidth\":0,\"ticks\":\"\"},\"type\":\"contourcarpet\"}],\"contour\":[{\"colorbar\":{\"outlinewidth\":0,\"ticks\":\"\"},\"colorscale\":[[0.0,\"#0d0887\"],[0.1111111111111111,\"#46039f\"],[0.2222222222222222,\"#7201a8\"],[0.3333333333333333,\"#9c179e\"],[0.4444444444444444,\"#bd3786\"],[0.5555555555555556,\"#d8576b\"],[0.6666666666666666,\"#ed7953\"],[0.7777777777777778,\"#fb9f3a\"],[0.8888888888888888,\"#fdca26\"],[1.0,\"#f0f921\"]],\"type\":\"contour\"}],\"heatmapgl\":[{\"colorbar\":{\"outlinewidth\":0,\"ticks\":\"\"},\"colorscale\":[[0.0,\"#0d0887\"],[0.1111111111111111,\"#46039f\"],[0.2222222222222222,\"#7201a8\"],[0.3333333333333333,\"#9c179e\"],[0.4444444444444444,\"#bd3786\"],[0.5555555555555556,\"#d8576b\"],[0.6666666666666666,\"#ed7953\"],[0.7777777777777778,\"#fb9f3a\"],[0.8888888888888888,\"#fdca26\"],[1.0,\"#f0f921\"]],\"type\":\"heatmapgl\"}],\"heatmap\":[{\"colorbar\":{\"outlinewidth\":0,\"ticks\":\"\"},\"colorscale\":[[0.0,\"#0d0887\"],[0.1111111111111111,\"#46039f\"],[0.2222222222222222,\"#7201a8\"],[0.3333333333333333,\"#9c179e\"],[0.4444444444444444,\"#bd3786\"],[0.5555555555555556,\"#d8576b\"],[0.6666666666666666,\"#ed7953\"],[0.7777777777777778,\"#fb9f3a\"],[0.8888888888888888,\"#fdca26\"],[1.0,\"#f0f921\"]],\"type\":\"heatmap\"}],\"histogram2dcontour\":[{\"colorbar\":{\"outlinewidth\":0,\"ticks\":\"\"},\"colorscale\":[[0.0,\"#0d0887\"],[0.1111111111111111,\"#46039f\"],[0.2222222222222222,\"#7201a8\"],[0.3333333333333333,\"#9c179e\"],[0.4444444444444444,\"#bd3786\"],[0.5555555555555556,\"#d8576b\"],[0.6666666666666666,\"#ed7953\"],[0.7777777777777778,\"#fb9f3a\"],[0.8888888888888888,\"#fdca26\"],[1.0,\"#f0f921\"]],\"type\":\"histogram2dcontour\"}],\"histogram2d\":[{\"colorbar\":{\"outlinewidth\":0,\"ticks\":\"\"},\"colorscale\":[[0.0,\"#0d0887\"],[0.1111111111111111,\"#46039f\"],[0.2222222222222222,\"#7201a8\"],[0.3333333333333333,\"#9c179e\"],[0.4444444444444444,\"#bd3786\"],[0.5555555555555556,\"#d8576b\"],[0.6666666666666666,\"#ed7953\"],[0.7777777777777778,\"#fb9f3a\"],[0.8888888888888888,\"#fdca26\"],[1.0,\"#f0f921\"]],\"type\":\"histogram2d\"}],\"histogram\":[{\"marker\":{\"pattern\":{\"fillmode\":\"overlay\",\"size\":10,\"solidity\":0.2}},\"type\":\"histogram\"}],\"mesh3d\":[{\"colorbar\":{\"outlinewidth\":0,\"ticks\":\"\"},\"type\":\"mesh3d\"}],\"parcoords\":[{\"line\":{\"colorbar\":{\"outlinewidth\":0,\"ticks\":\"\"}},\"type\":\"parcoords\"}],\"pie\":[{\"automargin\":true,\"type\":\"pie\"}],\"scatter3d\":[{\"line\":{\"colorbar\":{\"outlinewidth\":0,\"ticks\":\"\"}},\"marker\":{\"colorbar\":{\"outlinewidth\":0,\"ticks\":\"\"}},\"type\":\"scatter3d\"}],\"scattercarpet\":[{\"marker\":{\"colorbar\":{\"outlinewidth\":0,\"ticks\":\"\"}},\"type\":\"scattercarpet\"}],\"scattergeo\":[{\"marker\":{\"colorbar\":{\"outlinewidth\":0,\"ticks\":\"\"}},\"type\":\"scattergeo\"}],\"scattergl\":[{\"marker\":{\"colorbar\":{\"outlinewidth\":0,\"ticks\":\"\"}},\"type\":\"scattergl\"}],\"scattermapbox\":[{\"marker\":{\"colorbar\":{\"outlinewidth\":0,\"ticks\":\"\"}},\"type\":\"scattermapbox\"}],\"scatterpolargl\":[{\"marker\":{\"colorbar\":{\"outlinewidth\":0,\"ticks\":\"\"}},\"type\":\"scatterpolargl\"}],\"scatterpolar\":[{\"marker\":{\"colorbar\":{\"outlinewidth\":0,\"ticks\":\"\"}},\"type\":\"scatterpolar\"}],\"scatter\":[{\"marker\":{\"colorbar\":{\"outlinewidth\":0,\"ticks\":\"\"}},\"type\":\"scatter\"}],\"scatterternary\":[{\"marker\":{\"colorbar\":{\"outlinewidth\":0,\"ticks\":\"\"}},\"type\":\"scatterternary\"}],\"surface\":[{\"colorbar\":{\"outlinewidth\":0,\"ticks\":\"\"},\"colorscale\":[[0.0,\"#0d0887\"],[0.1111111111111111,\"#46039f\"],[0.2222222222222222,\"#7201a8\"],[0.3333333333333333,\"#9c179e\"],[0.4444444444444444,\"#bd3786\"],[0.5555555555555556,\"#d8576b\"],[0.6666666666666666,\"#ed7953\"],[0.7777777777777778,\"#fb9f3a\"],[0.8888888888888888,\"#fdca26\"],[1.0,\"#f0f921\"]],\"type\":\"surface\"}],\"table\":[{\"cells\":{\"fill\":{\"color\":\"#EBF0F8\"},\"line\":{\"color\":\"white\"}},\"header\":{\"fill\":{\"color\":\"#C8D4E3\"},\"line\":{\"color\":\"white\"}},\"type\":\"table\"}]},\"layout\":{\"annotationdefaults\":{\"arrowcolor\":\"#2a3f5f\",\"arrowhead\":0,\"arrowwidth\":1},\"autotypenumbers\":\"strict\",\"coloraxis\":{\"colorbar\":{\"outlinewidth\":0,\"ticks\":\"\"}},\"colorscale\":{\"diverging\":[[0,\"#8e0152\"],[0.1,\"#c51b7d\"],[0.2,\"#de77ae\"],[0.3,\"#f1b6da\"],[0.4,\"#fde0ef\"],[0.5,\"#f7f7f7\"],[0.6,\"#e6f5d0\"],[0.7,\"#b8e186\"],[0.8,\"#7fbc41\"],[0.9,\"#4d9221\"],[1,\"#276419\"]],\"sequential\":[[0.0,\"#0d0887\"],[0.1111111111111111,\"#46039f\"],[0.2222222222222222,\"#7201a8\"],[0.3333333333333333,\"#9c179e\"],[0.4444444444444444,\"#bd3786\"],[0.5555555555555556,\"#d8576b\"],[0.6666666666666666,\"#ed7953\"],[0.7777777777777778,\"#fb9f3a\"],[0.8888888888888888,\"#fdca26\"],[1.0,\"#f0f921\"]],\"sequentialminus\":[[0.0,\"#0d0887\"],[0.1111111111111111,\"#46039f\"],[0.2222222222222222,\"#7201a8\"],[0.3333333333333333,\"#9c179e\"],[0.4444444444444444,\"#bd3786\"],[0.5555555555555556,\"#d8576b\"],[0.6666666666666666,\"#ed7953\"],[0.7777777777777778,\"#fb9f3a\"],[0.8888888888888888,\"#fdca26\"],[1.0,\"#f0f921\"]]},\"colorway\":[\"#636efa\",\"#EF553B\",\"#00cc96\",\"#ab63fa\",\"#FFA15A\",\"#19d3f3\",\"#FF6692\",\"#B6E880\",\"#FF97FF\",\"#FECB52\"],\"font\":{\"color\":\"#2a3f5f\"},\"geo\":{\"bgcolor\":\"white\",\"lakecolor\":\"white\",\"landcolor\":\"#E5ECF6\",\"showlakes\":true,\"showland\":true,\"subunitcolor\":\"white\"},\"hoverlabel\":{\"align\":\"left\"},\"hovermode\":\"closest\",\"mapbox\":{\"style\":\"light\"},\"paper_bgcolor\":\"white\",\"plot_bgcolor\":\"#E5ECF6\",\"polar\":{\"angularaxis\":{\"gridcolor\":\"white\",\"linecolor\":\"white\",\"ticks\":\"\"},\"bgcolor\":\"#E5ECF6\",\"radialaxis\":{\"gridcolor\":\"white\",\"linecolor\":\"white\",\"ticks\":\"\"}},\"scene\":{\"xaxis\":{\"backgroundcolor\":\"#E5ECF6\",\"gridcolor\":\"white\",\"gridwidth\":2,\"linecolor\":\"white\",\"showbackground\":true,\"ticks\":\"\",\"zerolinecolor\":\"white\"},\"yaxis\":{\"backgroundcolor\":\"#E5ECF6\",\"gridcolor\":\"white\",\"gridwidth\":2,\"linecolor\":\"white\",\"showbackground\":true,\"ticks\":\"\",\"zerolinecolor\":\"white\"},\"zaxis\":{\"backgroundcolor\":\"#E5ECF6\",\"gridcolor\":\"white\",\"gridwidth\":2,\"linecolor\":\"white\",\"showbackground\":true,\"ticks\":\"\",\"zerolinecolor\":\"white\"}},\"shapedefaults\":{\"line\":{\"color\":\"#2a3f5f\"}},\"ternary\":{\"aaxis\":{\"gridcolor\":\"white\",\"linecolor\":\"white\",\"ticks\":\"\"},\"baxis\":{\"gridcolor\":\"white\",\"linecolor\":\"white\",\"ticks\":\"\"},\"bgcolor\":\"#E5ECF6\",\"caxis\":{\"gridcolor\":\"white\",\"linecolor\":\"white\",\"ticks\":\"\"}},\"title\":{\"x\":0.05},\"xaxis\":{\"automargin\":true,\"gridcolor\":\"white\",\"linecolor\":\"white\",\"ticks\":\"\",\"title\":{\"standoff\":15},\"zerolinecolor\":\"white\",\"zerolinewidth\":2},\"yaxis\":{\"automargin\":true,\"gridcolor\":\"white\",\"linecolor\":\"white\",\"ticks\":\"\",\"title\":{\"standoff\":15},\"zerolinecolor\":\"white\",\"zerolinewidth\":2}}},\"title\":{\"font\":{\"color\":\"#4D5663\"}},\"xaxis\":{\"gridcolor\":\"#E1E5ED\",\"showgrid\":true,\"tickfont\":{\"color\":\"#4D5663\"},\"title\":{\"font\":{\"color\":\"#4D5663\"},\"text\":\"\"},\"zerolinecolor\":\"#E1E5ED\"},\"yaxis\":{\"gridcolor\":\"#E1E5ED\",\"showgrid\":true,\"tickfont\":{\"color\":\"#4D5663\"},\"title\":{\"font\":{\"color\":\"#4D5663\"},\"text\":\"\"},\"zerolinecolor\":\"#E1E5ED\"}},                        {\"showLink\": true, \"linkText\": \"Export to plot.ly\", \"plotlyServerURL\": \"https://plot.ly\", \"responsive\": true}                    ).then(function(){\n",
       "                            \n",
       "var gd = document.getElementById('e90277f0-cc70-4bed-9af4-f4152c744df3');\n",
       "var x = new MutationObserver(function (mutations, observer) {{\n",
       "        var display = window.getComputedStyle(gd).display;\n",
       "        if (!display || display === 'none') {{\n",
       "            console.log([gd, 'removed!']);\n",
       "            Plotly.purge(gd);\n",
       "            observer.disconnect();\n",
       "        }}\n",
       "}});\n",
       "\n",
       "// Listen for the removal of the full notebook cells\n",
       "var notebookContainer = gd.closest('#notebook-container');\n",
       "if (notebookContainer) {{\n",
       "    x.observe(notebookContainer, {childList: true});\n",
       "}}\n",
       "\n",
       "// Listen for the clearing of the current output cell\n",
       "var outputEl = gd.closest('.output');\n",
       "if (outputEl) {{\n",
       "    x.observe(outputEl, {childList: true});\n",
       "}}\n",
       "\n",
       "                        })                };                });            </script>        </div>"
      ]
     },
     "metadata": {},
     "output_type": "display_data"
    }
   ],
   "source": [
    "df.iplot(kind='scatter',x='A',y='B',mode='markers',size=20)"
   ]
  },
  {
   "cell_type": "code",
   "execution_count": 17,
   "id": "e38a13f3",
   "metadata": {},
   "outputs": [
    {
     "data": {
      "text/html": [
       "<div>\n",
       "<style scoped>\n",
       "    .dataframe tbody tr th:only-of-type {\n",
       "        vertical-align: middle;\n",
       "    }\n",
       "\n",
       "    .dataframe tbody tr th {\n",
       "        vertical-align: top;\n",
       "    }\n",
       "\n",
       "    .dataframe thead th {\n",
       "        text-align: right;\n",
       "    }\n",
       "</style>\n",
       "<table border=\"1\" class=\"dataframe\">\n",
       "  <thead>\n",
       "    <tr style=\"text-align: right;\">\n",
       "      <th></th>\n",
       "      <th>category</th>\n",
       "      <th>values</th>\n",
       "    </tr>\n",
       "  </thead>\n",
       "  <tbody>\n",
       "    <tr>\n",
       "      <th>0</th>\n",
       "      <td>A</td>\n",
       "      <td>32</td>\n",
       "    </tr>\n",
       "    <tr>\n",
       "      <th>1</th>\n",
       "      <td>B</td>\n",
       "      <td>43</td>\n",
       "    </tr>\n",
       "    <tr>\n",
       "      <th>2</th>\n",
       "      <td>C</td>\n",
       "      <td>50</td>\n",
       "    </tr>\n",
       "  </tbody>\n",
       "</table>\n",
       "</div>"
      ],
      "text/plain": [
       "  category  values\n",
       "0        A      32\n",
       "1        B      43\n",
       "2        C      50"
      ]
     },
     "execution_count": 17,
     "metadata": {},
     "output_type": "execute_result"
    }
   ],
   "source": [
    "df2"
   ]
  },
  {
   "cell_type": "code",
   "execution_count": 18,
   "id": "adf43a99",
   "metadata": {},
   "outputs": [
    {
     "data": {
      "application/vnd.plotly.v1+json": {
       "config": {
        "linkText": "Export to plot.ly",
        "plotlyServerURL": "https://plot.ly",
        "showLink": true
       },
       "data": [
        {
         "marker": {
          "color": "rgba(255, 153, 51, 0.6)",
          "line": {
           "color": "rgba(255, 153, 51, 1.0)",
           "width": 1
          }
         },
         "name": "values",
         "orientation": "v",
         "text": "",
         "type": "bar",
         "x": [
          "A",
          "B",
          "C"
         ],
         "y": [
          32,
          43,
          50
         ]
        }
       ],
       "layout": {
        "legend": {
         "bgcolor": "#F5F6F9",
         "font": {
          "color": "#4D5663"
         }
        },
        "paper_bgcolor": "#F5F6F9",
        "plot_bgcolor": "#F5F6F9",
        "template": {
         "data": {
          "bar": [
           {
            "error_x": {
             "color": "#2a3f5f"
            },
            "error_y": {
             "color": "#2a3f5f"
            },
            "marker": {
             "line": {
              "color": "#E5ECF6",
              "width": 0.5
             },
             "pattern": {
              "fillmode": "overlay",
              "size": 10,
              "solidity": 0.2
             }
            },
            "type": "bar"
           }
          ],
          "barpolar": [
           {
            "marker": {
             "line": {
              "color": "#E5ECF6",
              "width": 0.5
             },
             "pattern": {
              "fillmode": "overlay",
              "size": 10,
              "solidity": 0.2
             }
            },
            "type": "barpolar"
           }
          ],
          "carpet": [
           {
            "aaxis": {
             "endlinecolor": "#2a3f5f",
             "gridcolor": "white",
             "linecolor": "white",
             "minorgridcolor": "white",
             "startlinecolor": "#2a3f5f"
            },
            "baxis": {
             "endlinecolor": "#2a3f5f",
             "gridcolor": "white",
             "linecolor": "white",
             "minorgridcolor": "white",
             "startlinecolor": "#2a3f5f"
            },
            "type": "carpet"
           }
          ],
          "choropleth": [
           {
            "colorbar": {
             "outlinewidth": 0,
             "ticks": ""
            },
            "type": "choropleth"
           }
          ],
          "contour": [
           {
            "colorbar": {
             "outlinewidth": 0,
             "ticks": ""
            },
            "colorscale": [
             [
              0,
              "#0d0887"
             ],
             [
              0.1111111111111111,
              "#46039f"
             ],
             [
              0.2222222222222222,
              "#7201a8"
             ],
             [
              0.3333333333333333,
              "#9c179e"
             ],
             [
              0.4444444444444444,
              "#bd3786"
             ],
             [
              0.5555555555555556,
              "#d8576b"
             ],
             [
              0.6666666666666666,
              "#ed7953"
             ],
             [
              0.7777777777777778,
              "#fb9f3a"
             ],
             [
              0.8888888888888888,
              "#fdca26"
             ],
             [
              1,
              "#f0f921"
             ]
            ],
            "type": "contour"
           }
          ],
          "contourcarpet": [
           {
            "colorbar": {
             "outlinewidth": 0,
             "ticks": ""
            },
            "type": "contourcarpet"
           }
          ],
          "heatmap": [
           {
            "colorbar": {
             "outlinewidth": 0,
             "ticks": ""
            },
            "colorscale": [
             [
              0,
              "#0d0887"
             ],
             [
              0.1111111111111111,
              "#46039f"
             ],
             [
              0.2222222222222222,
              "#7201a8"
             ],
             [
              0.3333333333333333,
              "#9c179e"
             ],
             [
              0.4444444444444444,
              "#bd3786"
             ],
             [
              0.5555555555555556,
              "#d8576b"
             ],
             [
              0.6666666666666666,
              "#ed7953"
             ],
             [
              0.7777777777777778,
              "#fb9f3a"
             ],
             [
              0.8888888888888888,
              "#fdca26"
             ],
             [
              1,
              "#f0f921"
             ]
            ],
            "type": "heatmap"
           }
          ],
          "heatmapgl": [
           {
            "colorbar": {
             "outlinewidth": 0,
             "ticks": ""
            },
            "colorscale": [
             [
              0,
              "#0d0887"
             ],
             [
              0.1111111111111111,
              "#46039f"
             ],
             [
              0.2222222222222222,
              "#7201a8"
             ],
             [
              0.3333333333333333,
              "#9c179e"
             ],
             [
              0.4444444444444444,
              "#bd3786"
             ],
             [
              0.5555555555555556,
              "#d8576b"
             ],
             [
              0.6666666666666666,
              "#ed7953"
             ],
             [
              0.7777777777777778,
              "#fb9f3a"
             ],
             [
              0.8888888888888888,
              "#fdca26"
             ],
             [
              1,
              "#f0f921"
             ]
            ],
            "type": "heatmapgl"
           }
          ],
          "histogram": [
           {
            "marker": {
             "pattern": {
              "fillmode": "overlay",
              "size": 10,
              "solidity": 0.2
             }
            },
            "type": "histogram"
           }
          ],
          "histogram2d": [
           {
            "colorbar": {
             "outlinewidth": 0,
             "ticks": ""
            },
            "colorscale": [
             [
              0,
              "#0d0887"
             ],
             [
              0.1111111111111111,
              "#46039f"
             ],
             [
              0.2222222222222222,
              "#7201a8"
             ],
             [
              0.3333333333333333,
              "#9c179e"
             ],
             [
              0.4444444444444444,
              "#bd3786"
             ],
             [
              0.5555555555555556,
              "#d8576b"
             ],
             [
              0.6666666666666666,
              "#ed7953"
             ],
             [
              0.7777777777777778,
              "#fb9f3a"
             ],
             [
              0.8888888888888888,
              "#fdca26"
             ],
             [
              1,
              "#f0f921"
             ]
            ],
            "type": "histogram2d"
           }
          ],
          "histogram2dcontour": [
           {
            "colorbar": {
             "outlinewidth": 0,
             "ticks": ""
            },
            "colorscale": [
             [
              0,
              "#0d0887"
             ],
             [
              0.1111111111111111,
              "#46039f"
             ],
             [
              0.2222222222222222,
              "#7201a8"
             ],
             [
              0.3333333333333333,
              "#9c179e"
             ],
             [
              0.4444444444444444,
              "#bd3786"
             ],
             [
              0.5555555555555556,
              "#d8576b"
             ],
             [
              0.6666666666666666,
              "#ed7953"
             ],
             [
              0.7777777777777778,
              "#fb9f3a"
             ],
             [
              0.8888888888888888,
              "#fdca26"
             ],
             [
              1,
              "#f0f921"
             ]
            ],
            "type": "histogram2dcontour"
           }
          ],
          "mesh3d": [
           {
            "colorbar": {
             "outlinewidth": 0,
             "ticks": ""
            },
            "type": "mesh3d"
           }
          ],
          "parcoords": [
           {
            "line": {
             "colorbar": {
              "outlinewidth": 0,
              "ticks": ""
             }
            },
            "type": "parcoords"
           }
          ],
          "pie": [
           {
            "automargin": true,
            "type": "pie"
           }
          ],
          "scatter": [
           {
            "marker": {
             "colorbar": {
              "outlinewidth": 0,
              "ticks": ""
             }
            },
            "type": "scatter"
           }
          ],
          "scatter3d": [
           {
            "line": {
             "colorbar": {
              "outlinewidth": 0,
              "ticks": ""
             }
            },
            "marker": {
             "colorbar": {
              "outlinewidth": 0,
              "ticks": ""
             }
            },
            "type": "scatter3d"
           }
          ],
          "scattercarpet": [
           {
            "marker": {
             "colorbar": {
              "outlinewidth": 0,
              "ticks": ""
             }
            },
            "type": "scattercarpet"
           }
          ],
          "scattergeo": [
           {
            "marker": {
             "colorbar": {
              "outlinewidth": 0,
              "ticks": ""
             }
            },
            "type": "scattergeo"
           }
          ],
          "scattergl": [
           {
            "marker": {
             "colorbar": {
              "outlinewidth": 0,
              "ticks": ""
             }
            },
            "type": "scattergl"
           }
          ],
          "scattermapbox": [
           {
            "marker": {
             "colorbar": {
              "outlinewidth": 0,
              "ticks": ""
             }
            },
            "type": "scattermapbox"
           }
          ],
          "scatterpolar": [
           {
            "marker": {
             "colorbar": {
              "outlinewidth": 0,
              "ticks": ""
             }
            },
            "type": "scatterpolar"
           }
          ],
          "scatterpolargl": [
           {
            "marker": {
             "colorbar": {
              "outlinewidth": 0,
              "ticks": ""
             }
            },
            "type": "scatterpolargl"
           }
          ],
          "scatterternary": [
           {
            "marker": {
             "colorbar": {
              "outlinewidth": 0,
              "ticks": ""
             }
            },
            "type": "scatterternary"
           }
          ],
          "surface": [
           {
            "colorbar": {
             "outlinewidth": 0,
             "ticks": ""
            },
            "colorscale": [
             [
              0,
              "#0d0887"
             ],
             [
              0.1111111111111111,
              "#46039f"
             ],
             [
              0.2222222222222222,
              "#7201a8"
             ],
             [
              0.3333333333333333,
              "#9c179e"
             ],
             [
              0.4444444444444444,
              "#bd3786"
             ],
             [
              0.5555555555555556,
              "#d8576b"
             ],
             [
              0.6666666666666666,
              "#ed7953"
             ],
             [
              0.7777777777777778,
              "#fb9f3a"
             ],
             [
              0.8888888888888888,
              "#fdca26"
             ],
             [
              1,
              "#f0f921"
             ]
            ],
            "type": "surface"
           }
          ],
          "table": [
           {
            "cells": {
             "fill": {
              "color": "#EBF0F8"
             },
             "line": {
              "color": "white"
             }
            },
            "header": {
             "fill": {
              "color": "#C8D4E3"
             },
             "line": {
              "color": "white"
             }
            },
            "type": "table"
           }
          ]
         },
         "layout": {
          "annotationdefaults": {
           "arrowcolor": "#2a3f5f",
           "arrowhead": 0,
           "arrowwidth": 1
          },
          "autotypenumbers": "strict",
          "coloraxis": {
           "colorbar": {
            "outlinewidth": 0,
            "ticks": ""
           }
          },
          "colorscale": {
           "diverging": [
            [
             0,
             "#8e0152"
            ],
            [
             0.1,
             "#c51b7d"
            ],
            [
             0.2,
             "#de77ae"
            ],
            [
             0.3,
             "#f1b6da"
            ],
            [
             0.4,
             "#fde0ef"
            ],
            [
             0.5,
             "#f7f7f7"
            ],
            [
             0.6,
             "#e6f5d0"
            ],
            [
             0.7,
             "#b8e186"
            ],
            [
             0.8,
             "#7fbc41"
            ],
            [
             0.9,
             "#4d9221"
            ],
            [
             1,
             "#276419"
            ]
           ],
           "sequential": [
            [
             0,
             "#0d0887"
            ],
            [
             0.1111111111111111,
             "#46039f"
            ],
            [
             0.2222222222222222,
             "#7201a8"
            ],
            [
             0.3333333333333333,
             "#9c179e"
            ],
            [
             0.4444444444444444,
             "#bd3786"
            ],
            [
             0.5555555555555556,
             "#d8576b"
            ],
            [
             0.6666666666666666,
             "#ed7953"
            ],
            [
             0.7777777777777778,
             "#fb9f3a"
            ],
            [
             0.8888888888888888,
             "#fdca26"
            ],
            [
             1,
             "#f0f921"
            ]
           ],
           "sequentialminus": [
            [
             0,
             "#0d0887"
            ],
            [
             0.1111111111111111,
             "#46039f"
            ],
            [
             0.2222222222222222,
             "#7201a8"
            ],
            [
             0.3333333333333333,
             "#9c179e"
            ],
            [
             0.4444444444444444,
             "#bd3786"
            ],
            [
             0.5555555555555556,
             "#d8576b"
            ],
            [
             0.6666666666666666,
             "#ed7953"
            ],
            [
             0.7777777777777778,
             "#fb9f3a"
            ],
            [
             0.8888888888888888,
             "#fdca26"
            ],
            [
             1,
             "#f0f921"
            ]
           ]
          },
          "colorway": [
           "#636efa",
           "#EF553B",
           "#00cc96",
           "#ab63fa",
           "#FFA15A",
           "#19d3f3",
           "#FF6692",
           "#B6E880",
           "#FF97FF",
           "#FECB52"
          ],
          "font": {
           "color": "#2a3f5f"
          },
          "geo": {
           "bgcolor": "white",
           "lakecolor": "white",
           "landcolor": "#E5ECF6",
           "showlakes": true,
           "showland": true,
           "subunitcolor": "white"
          },
          "hoverlabel": {
           "align": "left"
          },
          "hovermode": "closest",
          "mapbox": {
           "style": "light"
          },
          "paper_bgcolor": "white",
          "plot_bgcolor": "#E5ECF6",
          "polar": {
           "angularaxis": {
            "gridcolor": "white",
            "linecolor": "white",
            "ticks": ""
           },
           "bgcolor": "#E5ECF6",
           "radialaxis": {
            "gridcolor": "white",
            "linecolor": "white",
            "ticks": ""
           }
          },
          "scene": {
           "xaxis": {
            "backgroundcolor": "#E5ECF6",
            "gridcolor": "white",
            "gridwidth": 2,
            "linecolor": "white",
            "showbackground": true,
            "ticks": "",
            "zerolinecolor": "white"
           },
           "yaxis": {
            "backgroundcolor": "#E5ECF6",
            "gridcolor": "white",
            "gridwidth": 2,
            "linecolor": "white",
            "showbackground": true,
            "ticks": "",
            "zerolinecolor": "white"
           },
           "zaxis": {
            "backgroundcolor": "#E5ECF6",
            "gridcolor": "white",
            "gridwidth": 2,
            "linecolor": "white",
            "showbackground": true,
            "ticks": "",
            "zerolinecolor": "white"
           }
          },
          "shapedefaults": {
           "line": {
            "color": "#2a3f5f"
           }
          },
          "ternary": {
           "aaxis": {
            "gridcolor": "white",
            "linecolor": "white",
            "ticks": ""
           },
           "baxis": {
            "gridcolor": "white",
            "linecolor": "white",
            "ticks": ""
           },
           "bgcolor": "#E5ECF6",
           "caxis": {
            "gridcolor": "white",
            "linecolor": "white",
            "ticks": ""
           }
          },
          "title": {
           "x": 0.05
          },
          "xaxis": {
           "automargin": true,
           "gridcolor": "white",
           "linecolor": "white",
           "ticks": "",
           "title": {
            "standoff": 15
           },
           "zerolinecolor": "white",
           "zerolinewidth": 2
          },
          "yaxis": {
           "automargin": true,
           "gridcolor": "white",
           "linecolor": "white",
           "ticks": "",
           "title": {
            "standoff": 15
           },
           "zerolinecolor": "white",
           "zerolinewidth": 2
          }
         }
        },
        "title": {
         "font": {
          "color": "#4D5663"
         }
        },
        "xaxis": {
         "gridcolor": "#E1E5ED",
         "showgrid": true,
         "tickfont": {
          "color": "#4D5663"
         },
         "title": {
          "font": {
           "color": "#4D5663"
          },
          "text": ""
         },
         "zerolinecolor": "#E1E5ED"
        },
        "yaxis": {
         "gridcolor": "#E1E5ED",
         "showgrid": true,
         "tickfont": {
          "color": "#4D5663"
         },
         "title": {
          "font": {
           "color": "#4D5663"
          },
          "text": ""
         },
         "zerolinecolor": "#E1E5ED"
        }
       }
      },
      "text/html": [
       "<div>                            <div id=\"673a46c3-be45-424d-a6a8-ddaa714133cc\" class=\"plotly-graph-div\" style=\"height:525px; width:100%;\"></div>            <script type=\"text/javascript\">                require([\"plotly\"], function(Plotly) {                    window.PLOTLYENV=window.PLOTLYENV || {};\n",
       "                    window.PLOTLYENV.BASE_URL='https://plot.ly';                                    if (document.getElementById(\"673a46c3-be45-424d-a6a8-ddaa714133cc\")) {                    Plotly.newPlot(                        \"673a46c3-be45-424d-a6a8-ddaa714133cc\",                        [{\"marker\":{\"color\":\"rgba(255, 153, 51, 0.6)\",\"line\":{\"color\":\"rgba(255, 153, 51, 1.0)\",\"width\":1}},\"name\":\"values\",\"orientation\":\"v\",\"text\":\"\",\"x\":[\"A\",\"B\",\"C\"],\"y\":[32,43,50],\"type\":\"bar\"}],                        {\"legend\":{\"bgcolor\":\"#F5F6F9\",\"font\":{\"color\":\"#4D5663\"}},\"paper_bgcolor\":\"#F5F6F9\",\"plot_bgcolor\":\"#F5F6F9\",\"template\":{\"data\":{\"barpolar\":[{\"marker\":{\"line\":{\"color\":\"#E5ECF6\",\"width\":0.5},\"pattern\":{\"fillmode\":\"overlay\",\"size\":10,\"solidity\":0.2}},\"type\":\"barpolar\"}],\"bar\":[{\"error_x\":{\"color\":\"#2a3f5f\"},\"error_y\":{\"color\":\"#2a3f5f\"},\"marker\":{\"line\":{\"color\":\"#E5ECF6\",\"width\":0.5},\"pattern\":{\"fillmode\":\"overlay\",\"size\":10,\"solidity\":0.2}},\"type\":\"bar\"}],\"carpet\":[{\"aaxis\":{\"endlinecolor\":\"#2a3f5f\",\"gridcolor\":\"white\",\"linecolor\":\"white\",\"minorgridcolor\":\"white\",\"startlinecolor\":\"#2a3f5f\"},\"baxis\":{\"endlinecolor\":\"#2a3f5f\",\"gridcolor\":\"white\",\"linecolor\":\"white\",\"minorgridcolor\":\"white\",\"startlinecolor\":\"#2a3f5f\"},\"type\":\"carpet\"}],\"choropleth\":[{\"colorbar\":{\"outlinewidth\":0,\"ticks\":\"\"},\"type\":\"choropleth\"}],\"contourcarpet\":[{\"colorbar\":{\"outlinewidth\":0,\"ticks\":\"\"},\"type\":\"contourcarpet\"}],\"contour\":[{\"colorbar\":{\"outlinewidth\":0,\"ticks\":\"\"},\"colorscale\":[[0.0,\"#0d0887\"],[0.1111111111111111,\"#46039f\"],[0.2222222222222222,\"#7201a8\"],[0.3333333333333333,\"#9c179e\"],[0.4444444444444444,\"#bd3786\"],[0.5555555555555556,\"#d8576b\"],[0.6666666666666666,\"#ed7953\"],[0.7777777777777778,\"#fb9f3a\"],[0.8888888888888888,\"#fdca26\"],[1.0,\"#f0f921\"]],\"type\":\"contour\"}],\"heatmapgl\":[{\"colorbar\":{\"outlinewidth\":0,\"ticks\":\"\"},\"colorscale\":[[0.0,\"#0d0887\"],[0.1111111111111111,\"#46039f\"],[0.2222222222222222,\"#7201a8\"],[0.3333333333333333,\"#9c179e\"],[0.4444444444444444,\"#bd3786\"],[0.5555555555555556,\"#d8576b\"],[0.6666666666666666,\"#ed7953\"],[0.7777777777777778,\"#fb9f3a\"],[0.8888888888888888,\"#fdca26\"],[1.0,\"#f0f921\"]],\"type\":\"heatmapgl\"}],\"heatmap\":[{\"colorbar\":{\"outlinewidth\":0,\"ticks\":\"\"},\"colorscale\":[[0.0,\"#0d0887\"],[0.1111111111111111,\"#46039f\"],[0.2222222222222222,\"#7201a8\"],[0.3333333333333333,\"#9c179e\"],[0.4444444444444444,\"#bd3786\"],[0.5555555555555556,\"#d8576b\"],[0.6666666666666666,\"#ed7953\"],[0.7777777777777778,\"#fb9f3a\"],[0.8888888888888888,\"#fdca26\"],[1.0,\"#f0f921\"]],\"type\":\"heatmap\"}],\"histogram2dcontour\":[{\"colorbar\":{\"outlinewidth\":0,\"ticks\":\"\"},\"colorscale\":[[0.0,\"#0d0887\"],[0.1111111111111111,\"#46039f\"],[0.2222222222222222,\"#7201a8\"],[0.3333333333333333,\"#9c179e\"],[0.4444444444444444,\"#bd3786\"],[0.5555555555555556,\"#d8576b\"],[0.6666666666666666,\"#ed7953\"],[0.7777777777777778,\"#fb9f3a\"],[0.8888888888888888,\"#fdca26\"],[1.0,\"#f0f921\"]],\"type\":\"histogram2dcontour\"}],\"histogram2d\":[{\"colorbar\":{\"outlinewidth\":0,\"ticks\":\"\"},\"colorscale\":[[0.0,\"#0d0887\"],[0.1111111111111111,\"#46039f\"],[0.2222222222222222,\"#7201a8\"],[0.3333333333333333,\"#9c179e\"],[0.4444444444444444,\"#bd3786\"],[0.5555555555555556,\"#d8576b\"],[0.6666666666666666,\"#ed7953\"],[0.7777777777777778,\"#fb9f3a\"],[0.8888888888888888,\"#fdca26\"],[1.0,\"#f0f921\"]],\"type\":\"histogram2d\"}],\"histogram\":[{\"marker\":{\"pattern\":{\"fillmode\":\"overlay\",\"size\":10,\"solidity\":0.2}},\"type\":\"histogram\"}],\"mesh3d\":[{\"colorbar\":{\"outlinewidth\":0,\"ticks\":\"\"},\"type\":\"mesh3d\"}],\"parcoords\":[{\"line\":{\"colorbar\":{\"outlinewidth\":0,\"ticks\":\"\"}},\"type\":\"parcoords\"}],\"pie\":[{\"automargin\":true,\"type\":\"pie\"}],\"scatter3d\":[{\"line\":{\"colorbar\":{\"outlinewidth\":0,\"ticks\":\"\"}},\"marker\":{\"colorbar\":{\"outlinewidth\":0,\"ticks\":\"\"}},\"type\":\"scatter3d\"}],\"scattercarpet\":[{\"marker\":{\"colorbar\":{\"outlinewidth\":0,\"ticks\":\"\"}},\"type\":\"scattercarpet\"}],\"scattergeo\":[{\"marker\":{\"colorbar\":{\"outlinewidth\":0,\"ticks\":\"\"}},\"type\":\"scattergeo\"}],\"scattergl\":[{\"marker\":{\"colorbar\":{\"outlinewidth\":0,\"ticks\":\"\"}},\"type\":\"scattergl\"}],\"scattermapbox\":[{\"marker\":{\"colorbar\":{\"outlinewidth\":0,\"ticks\":\"\"}},\"type\":\"scattermapbox\"}],\"scatterpolargl\":[{\"marker\":{\"colorbar\":{\"outlinewidth\":0,\"ticks\":\"\"}},\"type\":\"scatterpolargl\"}],\"scatterpolar\":[{\"marker\":{\"colorbar\":{\"outlinewidth\":0,\"ticks\":\"\"}},\"type\":\"scatterpolar\"}],\"scatter\":[{\"marker\":{\"colorbar\":{\"outlinewidth\":0,\"ticks\":\"\"}},\"type\":\"scatter\"}],\"scatterternary\":[{\"marker\":{\"colorbar\":{\"outlinewidth\":0,\"ticks\":\"\"}},\"type\":\"scatterternary\"}],\"surface\":[{\"colorbar\":{\"outlinewidth\":0,\"ticks\":\"\"},\"colorscale\":[[0.0,\"#0d0887\"],[0.1111111111111111,\"#46039f\"],[0.2222222222222222,\"#7201a8\"],[0.3333333333333333,\"#9c179e\"],[0.4444444444444444,\"#bd3786\"],[0.5555555555555556,\"#d8576b\"],[0.6666666666666666,\"#ed7953\"],[0.7777777777777778,\"#fb9f3a\"],[0.8888888888888888,\"#fdca26\"],[1.0,\"#f0f921\"]],\"type\":\"surface\"}],\"table\":[{\"cells\":{\"fill\":{\"color\":\"#EBF0F8\"},\"line\":{\"color\":\"white\"}},\"header\":{\"fill\":{\"color\":\"#C8D4E3\"},\"line\":{\"color\":\"white\"}},\"type\":\"table\"}]},\"layout\":{\"annotationdefaults\":{\"arrowcolor\":\"#2a3f5f\",\"arrowhead\":0,\"arrowwidth\":1},\"autotypenumbers\":\"strict\",\"coloraxis\":{\"colorbar\":{\"outlinewidth\":0,\"ticks\":\"\"}},\"colorscale\":{\"diverging\":[[0,\"#8e0152\"],[0.1,\"#c51b7d\"],[0.2,\"#de77ae\"],[0.3,\"#f1b6da\"],[0.4,\"#fde0ef\"],[0.5,\"#f7f7f7\"],[0.6,\"#e6f5d0\"],[0.7,\"#b8e186\"],[0.8,\"#7fbc41\"],[0.9,\"#4d9221\"],[1,\"#276419\"]],\"sequential\":[[0.0,\"#0d0887\"],[0.1111111111111111,\"#46039f\"],[0.2222222222222222,\"#7201a8\"],[0.3333333333333333,\"#9c179e\"],[0.4444444444444444,\"#bd3786\"],[0.5555555555555556,\"#d8576b\"],[0.6666666666666666,\"#ed7953\"],[0.7777777777777778,\"#fb9f3a\"],[0.8888888888888888,\"#fdca26\"],[1.0,\"#f0f921\"]],\"sequentialminus\":[[0.0,\"#0d0887\"],[0.1111111111111111,\"#46039f\"],[0.2222222222222222,\"#7201a8\"],[0.3333333333333333,\"#9c179e\"],[0.4444444444444444,\"#bd3786\"],[0.5555555555555556,\"#d8576b\"],[0.6666666666666666,\"#ed7953\"],[0.7777777777777778,\"#fb9f3a\"],[0.8888888888888888,\"#fdca26\"],[1.0,\"#f0f921\"]]},\"colorway\":[\"#636efa\",\"#EF553B\",\"#00cc96\",\"#ab63fa\",\"#FFA15A\",\"#19d3f3\",\"#FF6692\",\"#B6E880\",\"#FF97FF\",\"#FECB52\"],\"font\":{\"color\":\"#2a3f5f\"},\"geo\":{\"bgcolor\":\"white\",\"lakecolor\":\"white\",\"landcolor\":\"#E5ECF6\",\"showlakes\":true,\"showland\":true,\"subunitcolor\":\"white\"},\"hoverlabel\":{\"align\":\"left\"},\"hovermode\":\"closest\",\"mapbox\":{\"style\":\"light\"},\"paper_bgcolor\":\"white\",\"plot_bgcolor\":\"#E5ECF6\",\"polar\":{\"angularaxis\":{\"gridcolor\":\"white\",\"linecolor\":\"white\",\"ticks\":\"\"},\"bgcolor\":\"#E5ECF6\",\"radialaxis\":{\"gridcolor\":\"white\",\"linecolor\":\"white\",\"ticks\":\"\"}},\"scene\":{\"xaxis\":{\"backgroundcolor\":\"#E5ECF6\",\"gridcolor\":\"white\",\"gridwidth\":2,\"linecolor\":\"white\",\"showbackground\":true,\"ticks\":\"\",\"zerolinecolor\":\"white\"},\"yaxis\":{\"backgroundcolor\":\"#E5ECF6\",\"gridcolor\":\"white\",\"gridwidth\":2,\"linecolor\":\"white\",\"showbackground\":true,\"ticks\":\"\",\"zerolinecolor\":\"white\"},\"zaxis\":{\"backgroundcolor\":\"#E5ECF6\",\"gridcolor\":\"white\",\"gridwidth\":2,\"linecolor\":\"white\",\"showbackground\":true,\"ticks\":\"\",\"zerolinecolor\":\"white\"}},\"shapedefaults\":{\"line\":{\"color\":\"#2a3f5f\"}},\"ternary\":{\"aaxis\":{\"gridcolor\":\"white\",\"linecolor\":\"white\",\"ticks\":\"\"},\"baxis\":{\"gridcolor\":\"white\",\"linecolor\":\"white\",\"ticks\":\"\"},\"bgcolor\":\"#E5ECF6\",\"caxis\":{\"gridcolor\":\"white\",\"linecolor\":\"white\",\"ticks\":\"\"}},\"title\":{\"x\":0.05},\"xaxis\":{\"automargin\":true,\"gridcolor\":\"white\",\"linecolor\":\"white\",\"ticks\":\"\",\"title\":{\"standoff\":15},\"zerolinecolor\":\"white\",\"zerolinewidth\":2},\"yaxis\":{\"automargin\":true,\"gridcolor\":\"white\",\"linecolor\":\"white\",\"ticks\":\"\",\"title\":{\"standoff\":15},\"zerolinecolor\":\"white\",\"zerolinewidth\":2}}},\"title\":{\"font\":{\"color\":\"#4D5663\"}},\"xaxis\":{\"gridcolor\":\"#E1E5ED\",\"showgrid\":true,\"tickfont\":{\"color\":\"#4D5663\"},\"title\":{\"font\":{\"color\":\"#4D5663\"},\"text\":\"\"},\"zerolinecolor\":\"#E1E5ED\"},\"yaxis\":{\"gridcolor\":\"#E1E5ED\",\"showgrid\":true,\"tickfont\":{\"color\":\"#4D5663\"},\"title\":{\"font\":{\"color\":\"#4D5663\"},\"text\":\"\"},\"zerolinecolor\":\"#E1E5ED\"}},                        {\"showLink\": true, \"linkText\": \"Export to plot.ly\", \"plotlyServerURL\": \"https://plot.ly\", \"responsive\": true}                    ).then(function(){\n",
       "                            \n",
       "var gd = document.getElementById('673a46c3-be45-424d-a6a8-ddaa714133cc');\n",
       "var x = new MutationObserver(function (mutations, observer) {{\n",
       "        var display = window.getComputedStyle(gd).display;\n",
       "        if (!display || display === 'none') {{\n",
       "            console.log([gd, 'removed!']);\n",
       "            Plotly.purge(gd);\n",
       "            observer.disconnect();\n",
       "        }}\n",
       "}});\n",
       "\n",
       "// Listen for the removal of the full notebook cells\n",
       "var notebookContainer = gd.closest('#notebook-container');\n",
       "if (notebookContainer) {{\n",
       "    x.observe(notebookContainer, {childList: true});\n",
       "}}\n",
       "\n",
       "// Listen for the clearing of the current output cell\n",
       "var outputEl = gd.closest('.output');\n",
       "if (outputEl) {{\n",
       "    x.observe(outputEl, {childList: true});\n",
       "}}\n",
       "\n",
       "                        })                };                });            </script>        </div>"
      ]
     },
     "metadata": {},
     "output_type": "display_data"
    }
   ],
   "source": [
    "df2.iplot(kind='bar',x='category',y='values')"
   ]
  },
  {
   "cell_type": "code",
   "execution_count": 19,
   "id": "fb862493",
   "metadata": {},
   "outputs": [
    {
     "data": {
      "application/vnd.plotly.v1+json": {
       "config": {
        "linkText": "Export to plot.ly",
        "plotlyServerURL": "https://plot.ly",
        "showLink": true
       },
       "data": [
        {
         "marker": {
          "color": "rgba(255, 153, 51, 0.6)",
          "line": {
           "color": "rgba(255, 153, 51, 1.0)",
           "width": 1
          }
         },
         "name": "None",
         "orientation": "v",
         "text": "",
         "type": "bar",
         "x": [
          "A",
          "B",
          "C",
          "D"
         ],
         "y": [
          100,
          100,
          100,
          100
         ]
        }
       ],
       "layout": {
        "legend": {
         "bgcolor": "#F5F6F9",
         "font": {
          "color": "#4D5663"
         }
        },
        "paper_bgcolor": "#F5F6F9",
        "plot_bgcolor": "#F5F6F9",
        "template": {
         "data": {
          "bar": [
           {
            "error_x": {
             "color": "#2a3f5f"
            },
            "error_y": {
             "color": "#2a3f5f"
            },
            "marker": {
             "line": {
              "color": "#E5ECF6",
              "width": 0.5
             },
             "pattern": {
              "fillmode": "overlay",
              "size": 10,
              "solidity": 0.2
             }
            },
            "type": "bar"
           }
          ],
          "barpolar": [
           {
            "marker": {
             "line": {
              "color": "#E5ECF6",
              "width": 0.5
             },
             "pattern": {
              "fillmode": "overlay",
              "size": 10,
              "solidity": 0.2
             }
            },
            "type": "barpolar"
           }
          ],
          "carpet": [
           {
            "aaxis": {
             "endlinecolor": "#2a3f5f",
             "gridcolor": "white",
             "linecolor": "white",
             "minorgridcolor": "white",
             "startlinecolor": "#2a3f5f"
            },
            "baxis": {
             "endlinecolor": "#2a3f5f",
             "gridcolor": "white",
             "linecolor": "white",
             "minorgridcolor": "white",
             "startlinecolor": "#2a3f5f"
            },
            "type": "carpet"
           }
          ],
          "choropleth": [
           {
            "colorbar": {
             "outlinewidth": 0,
             "ticks": ""
            },
            "type": "choropleth"
           }
          ],
          "contour": [
           {
            "colorbar": {
             "outlinewidth": 0,
             "ticks": ""
            },
            "colorscale": [
             [
              0,
              "#0d0887"
             ],
             [
              0.1111111111111111,
              "#46039f"
             ],
             [
              0.2222222222222222,
              "#7201a8"
             ],
             [
              0.3333333333333333,
              "#9c179e"
             ],
             [
              0.4444444444444444,
              "#bd3786"
             ],
             [
              0.5555555555555556,
              "#d8576b"
             ],
             [
              0.6666666666666666,
              "#ed7953"
             ],
             [
              0.7777777777777778,
              "#fb9f3a"
             ],
             [
              0.8888888888888888,
              "#fdca26"
             ],
             [
              1,
              "#f0f921"
             ]
            ],
            "type": "contour"
           }
          ],
          "contourcarpet": [
           {
            "colorbar": {
             "outlinewidth": 0,
             "ticks": ""
            },
            "type": "contourcarpet"
           }
          ],
          "heatmap": [
           {
            "colorbar": {
             "outlinewidth": 0,
             "ticks": ""
            },
            "colorscale": [
             [
              0,
              "#0d0887"
             ],
             [
              0.1111111111111111,
              "#46039f"
             ],
             [
              0.2222222222222222,
              "#7201a8"
             ],
             [
              0.3333333333333333,
              "#9c179e"
             ],
             [
              0.4444444444444444,
              "#bd3786"
             ],
             [
              0.5555555555555556,
              "#d8576b"
             ],
             [
              0.6666666666666666,
              "#ed7953"
             ],
             [
              0.7777777777777778,
              "#fb9f3a"
             ],
             [
              0.8888888888888888,
              "#fdca26"
             ],
             [
              1,
              "#f0f921"
             ]
            ],
            "type": "heatmap"
           }
          ],
          "heatmapgl": [
           {
            "colorbar": {
             "outlinewidth": 0,
             "ticks": ""
            },
            "colorscale": [
             [
              0,
              "#0d0887"
             ],
             [
              0.1111111111111111,
              "#46039f"
             ],
             [
              0.2222222222222222,
              "#7201a8"
             ],
             [
              0.3333333333333333,
              "#9c179e"
             ],
             [
              0.4444444444444444,
              "#bd3786"
             ],
             [
              0.5555555555555556,
              "#d8576b"
             ],
             [
              0.6666666666666666,
              "#ed7953"
             ],
             [
              0.7777777777777778,
              "#fb9f3a"
             ],
             [
              0.8888888888888888,
              "#fdca26"
             ],
             [
              1,
              "#f0f921"
             ]
            ],
            "type": "heatmapgl"
           }
          ],
          "histogram": [
           {
            "marker": {
             "pattern": {
              "fillmode": "overlay",
              "size": 10,
              "solidity": 0.2
             }
            },
            "type": "histogram"
           }
          ],
          "histogram2d": [
           {
            "colorbar": {
             "outlinewidth": 0,
             "ticks": ""
            },
            "colorscale": [
             [
              0,
              "#0d0887"
             ],
             [
              0.1111111111111111,
              "#46039f"
             ],
             [
              0.2222222222222222,
              "#7201a8"
             ],
             [
              0.3333333333333333,
              "#9c179e"
             ],
             [
              0.4444444444444444,
              "#bd3786"
             ],
             [
              0.5555555555555556,
              "#d8576b"
             ],
             [
              0.6666666666666666,
              "#ed7953"
             ],
             [
              0.7777777777777778,
              "#fb9f3a"
             ],
             [
              0.8888888888888888,
              "#fdca26"
             ],
             [
              1,
              "#f0f921"
             ]
            ],
            "type": "histogram2d"
           }
          ],
          "histogram2dcontour": [
           {
            "colorbar": {
             "outlinewidth": 0,
             "ticks": ""
            },
            "colorscale": [
             [
              0,
              "#0d0887"
             ],
             [
              0.1111111111111111,
              "#46039f"
             ],
             [
              0.2222222222222222,
              "#7201a8"
             ],
             [
              0.3333333333333333,
              "#9c179e"
             ],
             [
              0.4444444444444444,
              "#bd3786"
             ],
             [
              0.5555555555555556,
              "#d8576b"
             ],
             [
              0.6666666666666666,
              "#ed7953"
             ],
             [
              0.7777777777777778,
              "#fb9f3a"
             ],
             [
              0.8888888888888888,
              "#fdca26"
             ],
             [
              1,
              "#f0f921"
             ]
            ],
            "type": "histogram2dcontour"
           }
          ],
          "mesh3d": [
           {
            "colorbar": {
             "outlinewidth": 0,
             "ticks": ""
            },
            "type": "mesh3d"
           }
          ],
          "parcoords": [
           {
            "line": {
             "colorbar": {
              "outlinewidth": 0,
              "ticks": ""
             }
            },
            "type": "parcoords"
           }
          ],
          "pie": [
           {
            "automargin": true,
            "type": "pie"
           }
          ],
          "scatter": [
           {
            "marker": {
             "colorbar": {
              "outlinewidth": 0,
              "ticks": ""
             }
            },
            "type": "scatter"
           }
          ],
          "scatter3d": [
           {
            "line": {
             "colorbar": {
              "outlinewidth": 0,
              "ticks": ""
             }
            },
            "marker": {
             "colorbar": {
              "outlinewidth": 0,
              "ticks": ""
             }
            },
            "type": "scatter3d"
           }
          ],
          "scattercarpet": [
           {
            "marker": {
             "colorbar": {
              "outlinewidth": 0,
              "ticks": ""
             }
            },
            "type": "scattercarpet"
           }
          ],
          "scattergeo": [
           {
            "marker": {
             "colorbar": {
              "outlinewidth": 0,
              "ticks": ""
             }
            },
            "type": "scattergeo"
           }
          ],
          "scattergl": [
           {
            "marker": {
             "colorbar": {
              "outlinewidth": 0,
              "ticks": ""
             }
            },
            "type": "scattergl"
           }
          ],
          "scattermapbox": [
           {
            "marker": {
             "colorbar": {
              "outlinewidth": 0,
              "ticks": ""
             }
            },
            "type": "scattermapbox"
           }
          ],
          "scatterpolar": [
           {
            "marker": {
             "colorbar": {
              "outlinewidth": 0,
              "ticks": ""
             }
            },
            "type": "scatterpolar"
           }
          ],
          "scatterpolargl": [
           {
            "marker": {
             "colorbar": {
              "outlinewidth": 0,
              "ticks": ""
             }
            },
            "type": "scatterpolargl"
           }
          ],
          "scatterternary": [
           {
            "marker": {
             "colorbar": {
              "outlinewidth": 0,
              "ticks": ""
             }
            },
            "type": "scatterternary"
           }
          ],
          "surface": [
           {
            "colorbar": {
             "outlinewidth": 0,
             "ticks": ""
            },
            "colorscale": [
             [
              0,
              "#0d0887"
             ],
             [
              0.1111111111111111,
              "#46039f"
             ],
             [
              0.2222222222222222,
              "#7201a8"
             ],
             [
              0.3333333333333333,
              "#9c179e"
             ],
             [
              0.4444444444444444,
              "#bd3786"
             ],
             [
              0.5555555555555556,
              "#d8576b"
             ],
             [
              0.6666666666666666,
              "#ed7953"
             ],
             [
              0.7777777777777778,
              "#fb9f3a"
             ],
             [
              0.8888888888888888,
              "#fdca26"
             ],
             [
              1,
              "#f0f921"
             ]
            ],
            "type": "surface"
           }
          ],
          "table": [
           {
            "cells": {
             "fill": {
              "color": "#EBF0F8"
             },
             "line": {
              "color": "white"
             }
            },
            "header": {
             "fill": {
              "color": "#C8D4E3"
             },
             "line": {
              "color": "white"
             }
            },
            "type": "table"
           }
          ]
         },
         "layout": {
          "annotationdefaults": {
           "arrowcolor": "#2a3f5f",
           "arrowhead": 0,
           "arrowwidth": 1
          },
          "autotypenumbers": "strict",
          "coloraxis": {
           "colorbar": {
            "outlinewidth": 0,
            "ticks": ""
           }
          },
          "colorscale": {
           "diverging": [
            [
             0,
             "#8e0152"
            ],
            [
             0.1,
             "#c51b7d"
            ],
            [
             0.2,
             "#de77ae"
            ],
            [
             0.3,
             "#f1b6da"
            ],
            [
             0.4,
             "#fde0ef"
            ],
            [
             0.5,
             "#f7f7f7"
            ],
            [
             0.6,
             "#e6f5d0"
            ],
            [
             0.7,
             "#b8e186"
            ],
            [
             0.8,
             "#7fbc41"
            ],
            [
             0.9,
             "#4d9221"
            ],
            [
             1,
             "#276419"
            ]
           ],
           "sequential": [
            [
             0,
             "#0d0887"
            ],
            [
             0.1111111111111111,
             "#46039f"
            ],
            [
             0.2222222222222222,
             "#7201a8"
            ],
            [
             0.3333333333333333,
             "#9c179e"
            ],
            [
             0.4444444444444444,
             "#bd3786"
            ],
            [
             0.5555555555555556,
             "#d8576b"
            ],
            [
             0.6666666666666666,
             "#ed7953"
            ],
            [
             0.7777777777777778,
             "#fb9f3a"
            ],
            [
             0.8888888888888888,
             "#fdca26"
            ],
            [
             1,
             "#f0f921"
            ]
           ],
           "sequentialminus": [
            [
             0,
             "#0d0887"
            ],
            [
             0.1111111111111111,
             "#46039f"
            ],
            [
             0.2222222222222222,
             "#7201a8"
            ],
            [
             0.3333333333333333,
             "#9c179e"
            ],
            [
             0.4444444444444444,
             "#bd3786"
            ],
            [
             0.5555555555555556,
             "#d8576b"
            ],
            [
             0.6666666666666666,
             "#ed7953"
            ],
            [
             0.7777777777777778,
             "#fb9f3a"
            ],
            [
             0.8888888888888888,
             "#fdca26"
            ],
            [
             1,
             "#f0f921"
            ]
           ]
          },
          "colorway": [
           "#636efa",
           "#EF553B",
           "#00cc96",
           "#ab63fa",
           "#FFA15A",
           "#19d3f3",
           "#FF6692",
           "#B6E880",
           "#FF97FF",
           "#FECB52"
          ],
          "font": {
           "color": "#2a3f5f"
          },
          "geo": {
           "bgcolor": "white",
           "lakecolor": "white",
           "landcolor": "#E5ECF6",
           "showlakes": true,
           "showland": true,
           "subunitcolor": "white"
          },
          "hoverlabel": {
           "align": "left"
          },
          "hovermode": "closest",
          "mapbox": {
           "style": "light"
          },
          "paper_bgcolor": "white",
          "plot_bgcolor": "#E5ECF6",
          "polar": {
           "angularaxis": {
            "gridcolor": "white",
            "linecolor": "white",
            "ticks": ""
           },
           "bgcolor": "#E5ECF6",
           "radialaxis": {
            "gridcolor": "white",
            "linecolor": "white",
            "ticks": ""
           }
          },
          "scene": {
           "xaxis": {
            "backgroundcolor": "#E5ECF6",
            "gridcolor": "white",
            "gridwidth": 2,
            "linecolor": "white",
            "showbackground": true,
            "ticks": "",
            "zerolinecolor": "white"
           },
           "yaxis": {
            "backgroundcolor": "#E5ECF6",
            "gridcolor": "white",
            "gridwidth": 2,
            "linecolor": "white",
            "showbackground": true,
            "ticks": "",
            "zerolinecolor": "white"
           },
           "zaxis": {
            "backgroundcolor": "#E5ECF6",
            "gridcolor": "white",
            "gridwidth": 2,
            "linecolor": "white",
            "showbackground": true,
            "ticks": "",
            "zerolinecolor": "white"
           }
          },
          "shapedefaults": {
           "line": {
            "color": "#2a3f5f"
           }
          },
          "ternary": {
           "aaxis": {
            "gridcolor": "white",
            "linecolor": "white",
            "ticks": ""
           },
           "baxis": {
            "gridcolor": "white",
            "linecolor": "white",
            "ticks": ""
           },
           "bgcolor": "#E5ECF6",
           "caxis": {
            "gridcolor": "white",
            "linecolor": "white",
            "ticks": ""
           }
          },
          "title": {
           "x": 0.05
          },
          "xaxis": {
           "automargin": true,
           "gridcolor": "white",
           "linecolor": "white",
           "ticks": "",
           "title": {
            "standoff": 15
           },
           "zerolinecolor": "white",
           "zerolinewidth": 2
          },
          "yaxis": {
           "automargin": true,
           "gridcolor": "white",
           "linecolor": "white",
           "ticks": "",
           "title": {
            "standoff": 15
           },
           "zerolinecolor": "white",
           "zerolinewidth": 2
          }
         }
        },
        "title": {
         "font": {
          "color": "#4D5663"
         }
        },
        "xaxis": {
         "gridcolor": "#E1E5ED",
         "showgrid": true,
         "tickfont": {
          "color": "#4D5663"
         },
         "title": {
          "font": {
           "color": "#4D5663"
          },
          "text": ""
         },
         "zerolinecolor": "#E1E5ED"
        },
        "yaxis": {
         "gridcolor": "#E1E5ED",
         "showgrid": true,
         "tickfont": {
          "color": "#4D5663"
         },
         "title": {
          "font": {
           "color": "#4D5663"
          },
          "text": ""
         },
         "zerolinecolor": "#E1E5ED"
        }
       }
      },
      "text/html": [
       "<div>                            <div id=\"53a04fe0-7c77-4a0e-aafd-04e45c461243\" class=\"plotly-graph-div\" style=\"height:525px; width:100%;\"></div>            <script type=\"text/javascript\">                require([\"plotly\"], function(Plotly) {                    window.PLOTLYENV=window.PLOTLYENV || {};\n",
       "                    window.PLOTLYENV.BASE_URL='https://plot.ly';                                    if (document.getElementById(\"53a04fe0-7c77-4a0e-aafd-04e45c461243\")) {                    Plotly.newPlot(                        \"53a04fe0-7c77-4a0e-aafd-04e45c461243\",                        [{\"marker\":{\"color\":\"rgba(255, 153, 51, 0.6)\",\"line\":{\"color\":\"rgba(255, 153, 51, 1.0)\",\"width\":1}},\"name\":\"None\",\"orientation\":\"v\",\"text\":\"\",\"x\":[\"A\",\"B\",\"C\",\"D\"],\"y\":[100,100,100,100],\"type\":\"bar\"}],                        {\"legend\":{\"bgcolor\":\"#F5F6F9\",\"font\":{\"color\":\"#4D5663\"}},\"paper_bgcolor\":\"#F5F6F9\",\"plot_bgcolor\":\"#F5F6F9\",\"template\":{\"data\":{\"barpolar\":[{\"marker\":{\"line\":{\"color\":\"#E5ECF6\",\"width\":0.5},\"pattern\":{\"fillmode\":\"overlay\",\"size\":10,\"solidity\":0.2}},\"type\":\"barpolar\"}],\"bar\":[{\"error_x\":{\"color\":\"#2a3f5f\"},\"error_y\":{\"color\":\"#2a3f5f\"},\"marker\":{\"line\":{\"color\":\"#E5ECF6\",\"width\":0.5},\"pattern\":{\"fillmode\":\"overlay\",\"size\":10,\"solidity\":0.2}},\"type\":\"bar\"}],\"carpet\":[{\"aaxis\":{\"endlinecolor\":\"#2a3f5f\",\"gridcolor\":\"white\",\"linecolor\":\"white\",\"minorgridcolor\":\"white\",\"startlinecolor\":\"#2a3f5f\"},\"baxis\":{\"endlinecolor\":\"#2a3f5f\",\"gridcolor\":\"white\",\"linecolor\":\"white\",\"minorgridcolor\":\"white\",\"startlinecolor\":\"#2a3f5f\"},\"type\":\"carpet\"}],\"choropleth\":[{\"colorbar\":{\"outlinewidth\":0,\"ticks\":\"\"},\"type\":\"choropleth\"}],\"contourcarpet\":[{\"colorbar\":{\"outlinewidth\":0,\"ticks\":\"\"},\"type\":\"contourcarpet\"}],\"contour\":[{\"colorbar\":{\"outlinewidth\":0,\"ticks\":\"\"},\"colorscale\":[[0.0,\"#0d0887\"],[0.1111111111111111,\"#46039f\"],[0.2222222222222222,\"#7201a8\"],[0.3333333333333333,\"#9c179e\"],[0.4444444444444444,\"#bd3786\"],[0.5555555555555556,\"#d8576b\"],[0.6666666666666666,\"#ed7953\"],[0.7777777777777778,\"#fb9f3a\"],[0.8888888888888888,\"#fdca26\"],[1.0,\"#f0f921\"]],\"type\":\"contour\"}],\"heatmapgl\":[{\"colorbar\":{\"outlinewidth\":0,\"ticks\":\"\"},\"colorscale\":[[0.0,\"#0d0887\"],[0.1111111111111111,\"#46039f\"],[0.2222222222222222,\"#7201a8\"],[0.3333333333333333,\"#9c179e\"],[0.4444444444444444,\"#bd3786\"],[0.5555555555555556,\"#d8576b\"],[0.6666666666666666,\"#ed7953\"],[0.7777777777777778,\"#fb9f3a\"],[0.8888888888888888,\"#fdca26\"],[1.0,\"#f0f921\"]],\"type\":\"heatmapgl\"}],\"heatmap\":[{\"colorbar\":{\"outlinewidth\":0,\"ticks\":\"\"},\"colorscale\":[[0.0,\"#0d0887\"],[0.1111111111111111,\"#46039f\"],[0.2222222222222222,\"#7201a8\"],[0.3333333333333333,\"#9c179e\"],[0.4444444444444444,\"#bd3786\"],[0.5555555555555556,\"#d8576b\"],[0.6666666666666666,\"#ed7953\"],[0.7777777777777778,\"#fb9f3a\"],[0.8888888888888888,\"#fdca26\"],[1.0,\"#f0f921\"]],\"type\":\"heatmap\"}],\"histogram2dcontour\":[{\"colorbar\":{\"outlinewidth\":0,\"ticks\":\"\"},\"colorscale\":[[0.0,\"#0d0887\"],[0.1111111111111111,\"#46039f\"],[0.2222222222222222,\"#7201a8\"],[0.3333333333333333,\"#9c179e\"],[0.4444444444444444,\"#bd3786\"],[0.5555555555555556,\"#d8576b\"],[0.6666666666666666,\"#ed7953\"],[0.7777777777777778,\"#fb9f3a\"],[0.8888888888888888,\"#fdca26\"],[1.0,\"#f0f921\"]],\"type\":\"histogram2dcontour\"}],\"histogram2d\":[{\"colorbar\":{\"outlinewidth\":0,\"ticks\":\"\"},\"colorscale\":[[0.0,\"#0d0887\"],[0.1111111111111111,\"#46039f\"],[0.2222222222222222,\"#7201a8\"],[0.3333333333333333,\"#9c179e\"],[0.4444444444444444,\"#bd3786\"],[0.5555555555555556,\"#d8576b\"],[0.6666666666666666,\"#ed7953\"],[0.7777777777777778,\"#fb9f3a\"],[0.8888888888888888,\"#fdca26\"],[1.0,\"#f0f921\"]],\"type\":\"histogram2d\"}],\"histogram\":[{\"marker\":{\"pattern\":{\"fillmode\":\"overlay\",\"size\":10,\"solidity\":0.2}},\"type\":\"histogram\"}],\"mesh3d\":[{\"colorbar\":{\"outlinewidth\":0,\"ticks\":\"\"},\"type\":\"mesh3d\"}],\"parcoords\":[{\"line\":{\"colorbar\":{\"outlinewidth\":0,\"ticks\":\"\"}},\"type\":\"parcoords\"}],\"pie\":[{\"automargin\":true,\"type\":\"pie\"}],\"scatter3d\":[{\"line\":{\"colorbar\":{\"outlinewidth\":0,\"ticks\":\"\"}},\"marker\":{\"colorbar\":{\"outlinewidth\":0,\"ticks\":\"\"}},\"type\":\"scatter3d\"}],\"scattercarpet\":[{\"marker\":{\"colorbar\":{\"outlinewidth\":0,\"ticks\":\"\"}},\"type\":\"scattercarpet\"}],\"scattergeo\":[{\"marker\":{\"colorbar\":{\"outlinewidth\":0,\"ticks\":\"\"}},\"type\":\"scattergeo\"}],\"scattergl\":[{\"marker\":{\"colorbar\":{\"outlinewidth\":0,\"ticks\":\"\"}},\"type\":\"scattergl\"}],\"scattermapbox\":[{\"marker\":{\"colorbar\":{\"outlinewidth\":0,\"ticks\":\"\"}},\"type\":\"scattermapbox\"}],\"scatterpolargl\":[{\"marker\":{\"colorbar\":{\"outlinewidth\":0,\"ticks\":\"\"}},\"type\":\"scatterpolargl\"}],\"scatterpolar\":[{\"marker\":{\"colorbar\":{\"outlinewidth\":0,\"ticks\":\"\"}},\"type\":\"scatterpolar\"}],\"scatter\":[{\"marker\":{\"colorbar\":{\"outlinewidth\":0,\"ticks\":\"\"}},\"type\":\"scatter\"}],\"scatterternary\":[{\"marker\":{\"colorbar\":{\"outlinewidth\":0,\"ticks\":\"\"}},\"type\":\"scatterternary\"}],\"surface\":[{\"colorbar\":{\"outlinewidth\":0,\"ticks\":\"\"},\"colorscale\":[[0.0,\"#0d0887\"],[0.1111111111111111,\"#46039f\"],[0.2222222222222222,\"#7201a8\"],[0.3333333333333333,\"#9c179e\"],[0.4444444444444444,\"#bd3786\"],[0.5555555555555556,\"#d8576b\"],[0.6666666666666666,\"#ed7953\"],[0.7777777777777778,\"#fb9f3a\"],[0.8888888888888888,\"#fdca26\"],[1.0,\"#f0f921\"]],\"type\":\"surface\"}],\"table\":[{\"cells\":{\"fill\":{\"color\":\"#EBF0F8\"},\"line\":{\"color\":\"white\"}},\"header\":{\"fill\":{\"color\":\"#C8D4E3\"},\"line\":{\"color\":\"white\"}},\"type\":\"table\"}]},\"layout\":{\"annotationdefaults\":{\"arrowcolor\":\"#2a3f5f\",\"arrowhead\":0,\"arrowwidth\":1},\"autotypenumbers\":\"strict\",\"coloraxis\":{\"colorbar\":{\"outlinewidth\":0,\"ticks\":\"\"}},\"colorscale\":{\"diverging\":[[0,\"#8e0152\"],[0.1,\"#c51b7d\"],[0.2,\"#de77ae\"],[0.3,\"#f1b6da\"],[0.4,\"#fde0ef\"],[0.5,\"#f7f7f7\"],[0.6,\"#e6f5d0\"],[0.7,\"#b8e186\"],[0.8,\"#7fbc41\"],[0.9,\"#4d9221\"],[1,\"#276419\"]],\"sequential\":[[0.0,\"#0d0887\"],[0.1111111111111111,\"#46039f\"],[0.2222222222222222,\"#7201a8\"],[0.3333333333333333,\"#9c179e\"],[0.4444444444444444,\"#bd3786\"],[0.5555555555555556,\"#d8576b\"],[0.6666666666666666,\"#ed7953\"],[0.7777777777777778,\"#fb9f3a\"],[0.8888888888888888,\"#fdca26\"],[1.0,\"#f0f921\"]],\"sequentialminus\":[[0.0,\"#0d0887\"],[0.1111111111111111,\"#46039f\"],[0.2222222222222222,\"#7201a8\"],[0.3333333333333333,\"#9c179e\"],[0.4444444444444444,\"#bd3786\"],[0.5555555555555556,\"#d8576b\"],[0.6666666666666666,\"#ed7953\"],[0.7777777777777778,\"#fb9f3a\"],[0.8888888888888888,\"#fdca26\"],[1.0,\"#f0f921\"]]},\"colorway\":[\"#636efa\",\"#EF553B\",\"#00cc96\",\"#ab63fa\",\"#FFA15A\",\"#19d3f3\",\"#FF6692\",\"#B6E880\",\"#FF97FF\",\"#FECB52\"],\"font\":{\"color\":\"#2a3f5f\"},\"geo\":{\"bgcolor\":\"white\",\"lakecolor\":\"white\",\"landcolor\":\"#E5ECF6\",\"showlakes\":true,\"showland\":true,\"subunitcolor\":\"white\"},\"hoverlabel\":{\"align\":\"left\"},\"hovermode\":\"closest\",\"mapbox\":{\"style\":\"light\"},\"paper_bgcolor\":\"white\",\"plot_bgcolor\":\"#E5ECF6\",\"polar\":{\"angularaxis\":{\"gridcolor\":\"white\",\"linecolor\":\"white\",\"ticks\":\"\"},\"bgcolor\":\"#E5ECF6\",\"radialaxis\":{\"gridcolor\":\"white\",\"linecolor\":\"white\",\"ticks\":\"\"}},\"scene\":{\"xaxis\":{\"backgroundcolor\":\"#E5ECF6\",\"gridcolor\":\"white\",\"gridwidth\":2,\"linecolor\":\"white\",\"showbackground\":true,\"ticks\":\"\",\"zerolinecolor\":\"white\"},\"yaxis\":{\"backgroundcolor\":\"#E5ECF6\",\"gridcolor\":\"white\",\"gridwidth\":2,\"linecolor\":\"white\",\"showbackground\":true,\"ticks\":\"\",\"zerolinecolor\":\"white\"},\"zaxis\":{\"backgroundcolor\":\"#E5ECF6\",\"gridcolor\":\"white\",\"gridwidth\":2,\"linecolor\":\"white\",\"showbackground\":true,\"ticks\":\"\",\"zerolinecolor\":\"white\"}},\"shapedefaults\":{\"line\":{\"color\":\"#2a3f5f\"}},\"ternary\":{\"aaxis\":{\"gridcolor\":\"white\",\"linecolor\":\"white\",\"ticks\":\"\"},\"baxis\":{\"gridcolor\":\"white\",\"linecolor\":\"white\",\"ticks\":\"\"},\"bgcolor\":\"#E5ECF6\",\"caxis\":{\"gridcolor\":\"white\",\"linecolor\":\"white\",\"ticks\":\"\"}},\"title\":{\"x\":0.05},\"xaxis\":{\"automargin\":true,\"gridcolor\":\"white\",\"linecolor\":\"white\",\"ticks\":\"\",\"title\":{\"standoff\":15},\"zerolinecolor\":\"white\",\"zerolinewidth\":2},\"yaxis\":{\"automargin\":true,\"gridcolor\":\"white\",\"linecolor\":\"white\",\"ticks\":\"\",\"title\":{\"standoff\":15},\"zerolinecolor\":\"white\",\"zerolinewidth\":2}}},\"title\":{\"font\":{\"color\":\"#4D5663\"}},\"xaxis\":{\"gridcolor\":\"#E1E5ED\",\"showgrid\":true,\"tickfont\":{\"color\":\"#4D5663\"},\"title\":{\"font\":{\"color\":\"#4D5663\"},\"text\":\"\"},\"zerolinecolor\":\"#E1E5ED\"},\"yaxis\":{\"gridcolor\":\"#E1E5ED\",\"showgrid\":true,\"tickfont\":{\"color\":\"#4D5663\"},\"title\":{\"font\":{\"color\":\"#4D5663\"},\"text\":\"\"},\"zerolinecolor\":\"#E1E5ED\"}},                        {\"showLink\": true, \"linkText\": \"Export to plot.ly\", \"plotlyServerURL\": \"https://plot.ly\", \"responsive\": true}                    ).then(function(){\n",
       "                            \n",
       "var gd = document.getElementById('53a04fe0-7c77-4a0e-aafd-04e45c461243');\n",
       "var x = new MutationObserver(function (mutations, observer) {{\n",
       "        var display = window.getComputedStyle(gd).display;\n",
       "        if (!display || display === 'none') {{\n",
       "            console.log([gd, 'removed!']);\n",
       "            Plotly.purge(gd);\n",
       "            observer.disconnect();\n",
       "        }}\n",
       "}});\n",
       "\n",
       "// Listen for the removal of the full notebook cells\n",
       "var notebookContainer = gd.closest('#notebook-container');\n",
       "if (notebookContainer) {{\n",
       "    x.observe(notebookContainer, {childList: true});\n",
       "}}\n",
       "\n",
       "// Listen for the clearing of the current output cell\n",
       "var outputEl = gd.closest('.output');\n",
       "if (outputEl) {{\n",
       "    x.observe(outputEl, {childList: true});\n",
       "}}\n",
       "\n",
       "                        })                };                });            </script>        </div>"
      ]
     },
     "metadata": {},
     "output_type": "display_data"
    }
   ],
   "source": [
    "df.count().iplot(kind='bar')"
   ]
  },
  {
   "cell_type": "code",
   "execution_count": 20,
   "id": "ffb0910b",
   "metadata": {},
   "outputs": [
    {
     "data": {
      "application/vnd.plotly.v1+json": {
       "config": {
        "linkText": "Export to plot.ly",
        "plotlyServerURL": "https://plot.ly",
        "showLink": true
       },
       "data": [
        {
         "marker": {
          "color": "rgba(255, 153, 51, 0.6)",
          "line": {
           "color": "rgba(255, 153, 51, 1.0)",
           "width": 1
          }
         },
         "name": "None",
         "orientation": "v",
         "text": "",
         "type": "bar",
         "x": [
          "A",
          "B",
          "C",
          "D"
         ],
         "y": [
          10.984918894377728,
          -4.007030705974742,
          9.239977361548744,
          -1.8102884980629081
         ]
        }
       ],
       "layout": {
        "legend": {
         "bgcolor": "#F5F6F9",
         "font": {
          "color": "#4D5663"
         }
        },
        "paper_bgcolor": "#F5F6F9",
        "plot_bgcolor": "#F5F6F9",
        "template": {
         "data": {
          "bar": [
           {
            "error_x": {
             "color": "#2a3f5f"
            },
            "error_y": {
             "color": "#2a3f5f"
            },
            "marker": {
             "line": {
              "color": "#E5ECF6",
              "width": 0.5
             },
             "pattern": {
              "fillmode": "overlay",
              "size": 10,
              "solidity": 0.2
             }
            },
            "type": "bar"
           }
          ],
          "barpolar": [
           {
            "marker": {
             "line": {
              "color": "#E5ECF6",
              "width": 0.5
             },
             "pattern": {
              "fillmode": "overlay",
              "size": 10,
              "solidity": 0.2
             }
            },
            "type": "barpolar"
           }
          ],
          "carpet": [
           {
            "aaxis": {
             "endlinecolor": "#2a3f5f",
             "gridcolor": "white",
             "linecolor": "white",
             "minorgridcolor": "white",
             "startlinecolor": "#2a3f5f"
            },
            "baxis": {
             "endlinecolor": "#2a3f5f",
             "gridcolor": "white",
             "linecolor": "white",
             "minorgridcolor": "white",
             "startlinecolor": "#2a3f5f"
            },
            "type": "carpet"
           }
          ],
          "choropleth": [
           {
            "colorbar": {
             "outlinewidth": 0,
             "ticks": ""
            },
            "type": "choropleth"
           }
          ],
          "contour": [
           {
            "colorbar": {
             "outlinewidth": 0,
             "ticks": ""
            },
            "colorscale": [
             [
              0,
              "#0d0887"
             ],
             [
              0.1111111111111111,
              "#46039f"
             ],
             [
              0.2222222222222222,
              "#7201a8"
             ],
             [
              0.3333333333333333,
              "#9c179e"
             ],
             [
              0.4444444444444444,
              "#bd3786"
             ],
             [
              0.5555555555555556,
              "#d8576b"
             ],
             [
              0.6666666666666666,
              "#ed7953"
             ],
             [
              0.7777777777777778,
              "#fb9f3a"
             ],
             [
              0.8888888888888888,
              "#fdca26"
             ],
             [
              1,
              "#f0f921"
             ]
            ],
            "type": "contour"
           }
          ],
          "contourcarpet": [
           {
            "colorbar": {
             "outlinewidth": 0,
             "ticks": ""
            },
            "type": "contourcarpet"
           }
          ],
          "heatmap": [
           {
            "colorbar": {
             "outlinewidth": 0,
             "ticks": ""
            },
            "colorscale": [
             [
              0,
              "#0d0887"
             ],
             [
              0.1111111111111111,
              "#46039f"
             ],
             [
              0.2222222222222222,
              "#7201a8"
             ],
             [
              0.3333333333333333,
              "#9c179e"
             ],
             [
              0.4444444444444444,
              "#bd3786"
             ],
             [
              0.5555555555555556,
              "#d8576b"
             ],
             [
              0.6666666666666666,
              "#ed7953"
             ],
             [
              0.7777777777777778,
              "#fb9f3a"
             ],
             [
              0.8888888888888888,
              "#fdca26"
             ],
             [
              1,
              "#f0f921"
             ]
            ],
            "type": "heatmap"
           }
          ],
          "heatmapgl": [
           {
            "colorbar": {
             "outlinewidth": 0,
             "ticks": ""
            },
            "colorscale": [
             [
              0,
              "#0d0887"
             ],
             [
              0.1111111111111111,
              "#46039f"
             ],
             [
              0.2222222222222222,
              "#7201a8"
             ],
             [
              0.3333333333333333,
              "#9c179e"
             ],
             [
              0.4444444444444444,
              "#bd3786"
             ],
             [
              0.5555555555555556,
              "#d8576b"
             ],
             [
              0.6666666666666666,
              "#ed7953"
             ],
             [
              0.7777777777777778,
              "#fb9f3a"
             ],
             [
              0.8888888888888888,
              "#fdca26"
             ],
             [
              1,
              "#f0f921"
             ]
            ],
            "type": "heatmapgl"
           }
          ],
          "histogram": [
           {
            "marker": {
             "pattern": {
              "fillmode": "overlay",
              "size": 10,
              "solidity": 0.2
             }
            },
            "type": "histogram"
           }
          ],
          "histogram2d": [
           {
            "colorbar": {
             "outlinewidth": 0,
             "ticks": ""
            },
            "colorscale": [
             [
              0,
              "#0d0887"
             ],
             [
              0.1111111111111111,
              "#46039f"
             ],
             [
              0.2222222222222222,
              "#7201a8"
             ],
             [
              0.3333333333333333,
              "#9c179e"
             ],
             [
              0.4444444444444444,
              "#bd3786"
             ],
             [
              0.5555555555555556,
              "#d8576b"
             ],
             [
              0.6666666666666666,
              "#ed7953"
             ],
             [
              0.7777777777777778,
              "#fb9f3a"
             ],
             [
              0.8888888888888888,
              "#fdca26"
             ],
             [
              1,
              "#f0f921"
             ]
            ],
            "type": "histogram2d"
           }
          ],
          "histogram2dcontour": [
           {
            "colorbar": {
             "outlinewidth": 0,
             "ticks": ""
            },
            "colorscale": [
             [
              0,
              "#0d0887"
             ],
             [
              0.1111111111111111,
              "#46039f"
             ],
             [
              0.2222222222222222,
              "#7201a8"
             ],
             [
              0.3333333333333333,
              "#9c179e"
             ],
             [
              0.4444444444444444,
              "#bd3786"
             ],
             [
              0.5555555555555556,
              "#d8576b"
             ],
             [
              0.6666666666666666,
              "#ed7953"
             ],
             [
              0.7777777777777778,
              "#fb9f3a"
             ],
             [
              0.8888888888888888,
              "#fdca26"
             ],
             [
              1,
              "#f0f921"
             ]
            ],
            "type": "histogram2dcontour"
           }
          ],
          "mesh3d": [
           {
            "colorbar": {
             "outlinewidth": 0,
             "ticks": ""
            },
            "type": "mesh3d"
           }
          ],
          "parcoords": [
           {
            "line": {
             "colorbar": {
              "outlinewidth": 0,
              "ticks": ""
             }
            },
            "type": "parcoords"
           }
          ],
          "pie": [
           {
            "automargin": true,
            "type": "pie"
           }
          ],
          "scatter": [
           {
            "marker": {
             "colorbar": {
              "outlinewidth": 0,
              "ticks": ""
             }
            },
            "type": "scatter"
           }
          ],
          "scatter3d": [
           {
            "line": {
             "colorbar": {
              "outlinewidth": 0,
              "ticks": ""
             }
            },
            "marker": {
             "colorbar": {
              "outlinewidth": 0,
              "ticks": ""
             }
            },
            "type": "scatter3d"
           }
          ],
          "scattercarpet": [
           {
            "marker": {
             "colorbar": {
              "outlinewidth": 0,
              "ticks": ""
             }
            },
            "type": "scattercarpet"
           }
          ],
          "scattergeo": [
           {
            "marker": {
             "colorbar": {
              "outlinewidth": 0,
              "ticks": ""
             }
            },
            "type": "scattergeo"
           }
          ],
          "scattergl": [
           {
            "marker": {
             "colorbar": {
              "outlinewidth": 0,
              "ticks": ""
             }
            },
            "type": "scattergl"
           }
          ],
          "scattermapbox": [
           {
            "marker": {
             "colorbar": {
              "outlinewidth": 0,
              "ticks": ""
             }
            },
            "type": "scattermapbox"
           }
          ],
          "scatterpolar": [
           {
            "marker": {
             "colorbar": {
              "outlinewidth": 0,
              "ticks": ""
             }
            },
            "type": "scatterpolar"
           }
          ],
          "scatterpolargl": [
           {
            "marker": {
             "colorbar": {
              "outlinewidth": 0,
              "ticks": ""
             }
            },
            "type": "scatterpolargl"
           }
          ],
          "scatterternary": [
           {
            "marker": {
             "colorbar": {
              "outlinewidth": 0,
              "ticks": ""
             }
            },
            "type": "scatterternary"
           }
          ],
          "surface": [
           {
            "colorbar": {
             "outlinewidth": 0,
             "ticks": ""
            },
            "colorscale": [
             [
              0,
              "#0d0887"
             ],
             [
              0.1111111111111111,
              "#46039f"
             ],
             [
              0.2222222222222222,
              "#7201a8"
             ],
             [
              0.3333333333333333,
              "#9c179e"
             ],
             [
              0.4444444444444444,
              "#bd3786"
             ],
             [
              0.5555555555555556,
              "#d8576b"
             ],
             [
              0.6666666666666666,
              "#ed7953"
             ],
             [
              0.7777777777777778,
              "#fb9f3a"
             ],
             [
              0.8888888888888888,
              "#fdca26"
             ],
             [
              1,
              "#f0f921"
             ]
            ],
            "type": "surface"
           }
          ],
          "table": [
           {
            "cells": {
             "fill": {
              "color": "#EBF0F8"
             },
             "line": {
              "color": "white"
             }
            },
            "header": {
             "fill": {
              "color": "#C8D4E3"
             },
             "line": {
              "color": "white"
             }
            },
            "type": "table"
           }
          ]
         },
         "layout": {
          "annotationdefaults": {
           "arrowcolor": "#2a3f5f",
           "arrowhead": 0,
           "arrowwidth": 1
          },
          "autotypenumbers": "strict",
          "coloraxis": {
           "colorbar": {
            "outlinewidth": 0,
            "ticks": ""
           }
          },
          "colorscale": {
           "diverging": [
            [
             0,
             "#8e0152"
            ],
            [
             0.1,
             "#c51b7d"
            ],
            [
             0.2,
             "#de77ae"
            ],
            [
             0.3,
             "#f1b6da"
            ],
            [
             0.4,
             "#fde0ef"
            ],
            [
             0.5,
             "#f7f7f7"
            ],
            [
             0.6,
             "#e6f5d0"
            ],
            [
             0.7,
             "#b8e186"
            ],
            [
             0.8,
             "#7fbc41"
            ],
            [
             0.9,
             "#4d9221"
            ],
            [
             1,
             "#276419"
            ]
           ],
           "sequential": [
            [
             0,
             "#0d0887"
            ],
            [
             0.1111111111111111,
             "#46039f"
            ],
            [
             0.2222222222222222,
             "#7201a8"
            ],
            [
             0.3333333333333333,
             "#9c179e"
            ],
            [
             0.4444444444444444,
             "#bd3786"
            ],
            [
             0.5555555555555556,
             "#d8576b"
            ],
            [
             0.6666666666666666,
             "#ed7953"
            ],
            [
             0.7777777777777778,
             "#fb9f3a"
            ],
            [
             0.8888888888888888,
             "#fdca26"
            ],
            [
             1,
             "#f0f921"
            ]
           ],
           "sequentialminus": [
            [
             0,
             "#0d0887"
            ],
            [
             0.1111111111111111,
             "#46039f"
            ],
            [
             0.2222222222222222,
             "#7201a8"
            ],
            [
             0.3333333333333333,
             "#9c179e"
            ],
            [
             0.4444444444444444,
             "#bd3786"
            ],
            [
             0.5555555555555556,
             "#d8576b"
            ],
            [
             0.6666666666666666,
             "#ed7953"
            ],
            [
             0.7777777777777778,
             "#fb9f3a"
            ],
            [
             0.8888888888888888,
             "#fdca26"
            ],
            [
             1,
             "#f0f921"
            ]
           ]
          },
          "colorway": [
           "#636efa",
           "#EF553B",
           "#00cc96",
           "#ab63fa",
           "#FFA15A",
           "#19d3f3",
           "#FF6692",
           "#B6E880",
           "#FF97FF",
           "#FECB52"
          ],
          "font": {
           "color": "#2a3f5f"
          },
          "geo": {
           "bgcolor": "white",
           "lakecolor": "white",
           "landcolor": "#E5ECF6",
           "showlakes": true,
           "showland": true,
           "subunitcolor": "white"
          },
          "hoverlabel": {
           "align": "left"
          },
          "hovermode": "closest",
          "mapbox": {
           "style": "light"
          },
          "paper_bgcolor": "white",
          "plot_bgcolor": "#E5ECF6",
          "polar": {
           "angularaxis": {
            "gridcolor": "white",
            "linecolor": "white",
            "ticks": ""
           },
           "bgcolor": "#E5ECF6",
           "radialaxis": {
            "gridcolor": "white",
            "linecolor": "white",
            "ticks": ""
           }
          },
          "scene": {
           "xaxis": {
            "backgroundcolor": "#E5ECF6",
            "gridcolor": "white",
            "gridwidth": 2,
            "linecolor": "white",
            "showbackground": true,
            "ticks": "",
            "zerolinecolor": "white"
           },
           "yaxis": {
            "backgroundcolor": "#E5ECF6",
            "gridcolor": "white",
            "gridwidth": 2,
            "linecolor": "white",
            "showbackground": true,
            "ticks": "",
            "zerolinecolor": "white"
           },
           "zaxis": {
            "backgroundcolor": "#E5ECF6",
            "gridcolor": "white",
            "gridwidth": 2,
            "linecolor": "white",
            "showbackground": true,
            "ticks": "",
            "zerolinecolor": "white"
           }
          },
          "shapedefaults": {
           "line": {
            "color": "#2a3f5f"
           }
          },
          "ternary": {
           "aaxis": {
            "gridcolor": "white",
            "linecolor": "white",
            "ticks": ""
           },
           "baxis": {
            "gridcolor": "white",
            "linecolor": "white",
            "ticks": ""
           },
           "bgcolor": "#E5ECF6",
           "caxis": {
            "gridcolor": "white",
            "linecolor": "white",
            "ticks": ""
           }
          },
          "title": {
           "x": 0.05
          },
          "xaxis": {
           "automargin": true,
           "gridcolor": "white",
           "linecolor": "white",
           "ticks": "",
           "title": {
            "standoff": 15
           },
           "zerolinecolor": "white",
           "zerolinewidth": 2
          },
          "yaxis": {
           "automargin": true,
           "gridcolor": "white",
           "linecolor": "white",
           "ticks": "",
           "title": {
            "standoff": 15
           },
           "zerolinecolor": "white",
           "zerolinewidth": 2
          }
         }
        },
        "title": {
         "font": {
          "color": "#4D5663"
         }
        },
        "xaxis": {
         "gridcolor": "#E1E5ED",
         "showgrid": true,
         "tickfont": {
          "color": "#4D5663"
         },
         "title": {
          "font": {
           "color": "#4D5663"
          },
          "text": ""
         },
         "zerolinecolor": "#E1E5ED"
        },
        "yaxis": {
         "gridcolor": "#E1E5ED",
         "showgrid": true,
         "tickfont": {
          "color": "#4D5663"
         },
         "title": {
          "font": {
           "color": "#4D5663"
          },
          "text": ""
         },
         "zerolinecolor": "#E1E5ED"
        }
       }
      },
      "text/html": [
       "<div>                            <div id=\"d6cedb9e-1155-41c8-9cbb-b092fe830d33\" class=\"plotly-graph-div\" style=\"height:525px; width:100%;\"></div>            <script type=\"text/javascript\">                require([\"plotly\"], function(Plotly) {                    window.PLOTLYENV=window.PLOTLYENV || {};\n",
       "                    window.PLOTLYENV.BASE_URL='https://plot.ly';                                    if (document.getElementById(\"d6cedb9e-1155-41c8-9cbb-b092fe830d33\")) {                    Plotly.newPlot(                        \"d6cedb9e-1155-41c8-9cbb-b092fe830d33\",                        [{\"marker\":{\"color\":\"rgba(255, 153, 51, 0.6)\",\"line\":{\"color\":\"rgba(255, 153, 51, 1.0)\",\"width\":1}},\"name\":\"None\",\"orientation\":\"v\",\"text\":\"\",\"x\":[\"A\",\"B\",\"C\",\"D\"],\"y\":[10.984918894377728,-4.007030705974742,9.239977361548744,-1.8102884980629081],\"type\":\"bar\"}],                        {\"legend\":{\"bgcolor\":\"#F5F6F9\",\"font\":{\"color\":\"#4D5663\"}},\"paper_bgcolor\":\"#F5F6F9\",\"plot_bgcolor\":\"#F5F6F9\",\"template\":{\"data\":{\"barpolar\":[{\"marker\":{\"line\":{\"color\":\"#E5ECF6\",\"width\":0.5},\"pattern\":{\"fillmode\":\"overlay\",\"size\":10,\"solidity\":0.2}},\"type\":\"barpolar\"}],\"bar\":[{\"error_x\":{\"color\":\"#2a3f5f\"},\"error_y\":{\"color\":\"#2a3f5f\"},\"marker\":{\"line\":{\"color\":\"#E5ECF6\",\"width\":0.5},\"pattern\":{\"fillmode\":\"overlay\",\"size\":10,\"solidity\":0.2}},\"type\":\"bar\"}],\"carpet\":[{\"aaxis\":{\"endlinecolor\":\"#2a3f5f\",\"gridcolor\":\"white\",\"linecolor\":\"white\",\"minorgridcolor\":\"white\",\"startlinecolor\":\"#2a3f5f\"},\"baxis\":{\"endlinecolor\":\"#2a3f5f\",\"gridcolor\":\"white\",\"linecolor\":\"white\",\"minorgridcolor\":\"white\",\"startlinecolor\":\"#2a3f5f\"},\"type\":\"carpet\"}],\"choropleth\":[{\"colorbar\":{\"outlinewidth\":0,\"ticks\":\"\"},\"type\":\"choropleth\"}],\"contourcarpet\":[{\"colorbar\":{\"outlinewidth\":0,\"ticks\":\"\"},\"type\":\"contourcarpet\"}],\"contour\":[{\"colorbar\":{\"outlinewidth\":0,\"ticks\":\"\"},\"colorscale\":[[0.0,\"#0d0887\"],[0.1111111111111111,\"#46039f\"],[0.2222222222222222,\"#7201a8\"],[0.3333333333333333,\"#9c179e\"],[0.4444444444444444,\"#bd3786\"],[0.5555555555555556,\"#d8576b\"],[0.6666666666666666,\"#ed7953\"],[0.7777777777777778,\"#fb9f3a\"],[0.8888888888888888,\"#fdca26\"],[1.0,\"#f0f921\"]],\"type\":\"contour\"}],\"heatmapgl\":[{\"colorbar\":{\"outlinewidth\":0,\"ticks\":\"\"},\"colorscale\":[[0.0,\"#0d0887\"],[0.1111111111111111,\"#46039f\"],[0.2222222222222222,\"#7201a8\"],[0.3333333333333333,\"#9c179e\"],[0.4444444444444444,\"#bd3786\"],[0.5555555555555556,\"#d8576b\"],[0.6666666666666666,\"#ed7953\"],[0.7777777777777778,\"#fb9f3a\"],[0.8888888888888888,\"#fdca26\"],[1.0,\"#f0f921\"]],\"type\":\"heatmapgl\"}],\"heatmap\":[{\"colorbar\":{\"outlinewidth\":0,\"ticks\":\"\"},\"colorscale\":[[0.0,\"#0d0887\"],[0.1111111111111111,\"#46039f\"],[0.2222222222222222,\"#7201a8\"],[0.3333333333333333,\"#9c179e\"],[0.4444444444444444,\"#bd3786\"],[0.5555555555555556,\"#d8576b\"],[0.6666666666666666,\"#ed7953\"],[0.7777777777777778,\"#fb9f3a\"],[0.8888888888888888,\"#fdca26\"],[1.0,\"#f0f921\"]],\"type\":\"heatmap\"}],\"histogram2dcontour\":[{\"colorbar\":{\"outlinewidth\":0,\"ticks\":\"\"},\"colorscale\":[[0.0,\"#0d0887\"],[0.1111111111111111,\"#46039f\"],[0.2222222222222222,\"#7201a8\"],[0.3333333333333333,\"#9c179e\"],[0.4444444444444444,\"#bd3786\"],[0.5555555555555556,\"#d8576b\"],[0.6666666666666666,\"#ed7953\"],[0.7777777777777778,\"#fb9f3a\"],[0.8888888888888888,\"#fdca26\"],[1.0,\"#f0f921\"]],\"type\":\"histogram2dcontour\"}],\"histogram2d\":[{\"colorbar\":{\"outlinewidth\":0,\"ticks\":\"\"},\"colorscale\":[[0.0,\"#0d0887\"],[0.1111111111111111,\"#46039f\"],[0.2222222222222222,\"#7201a8\"],[0.3333333333333333,\"#9c179e\"],[0.4444444444444444,\"#bd3786\"],[0.5555555555555556,\"#d8576b\"],[0.6666666666666666,\"#ed7953\"],[0.7777777777777778,\"#fb9f3a\"],[0.8888888888888888,\"#fdca26\"],[1.0,\"#f0f921\"]],\"type\":\"histogram2d\"}],\"histogram\":[{\"marker\":{\"pattern\":{\"fillmode\":\"overlay\",\"size\":10,\"solidity\":0.2}},\"type\":\"histogram\"}],\"mesh3d\":[{\"colorbar\":{\"outlinewidth\":0,\"ticks\":\"\"},\"type\":\"mesh3d\"}],\"parcoords\":[{\"line\":{\"colorbar\":{\"outlinewidth\":0,\"ticks\":\"\"}},\"type\":\"parcoords\"}],\"pie\":[{\"automargin\":true,\"type\":\"pie\"}],\"scatter3d\":[{\"line\":{\"colorbar\":{\"outlinewidth\":0,\"ticks\":\"\"}},\"marker\":{\"colorbar\":{\"outlinewidth\":0,\"ticks\":\"\"}},\"type\":\"scatter3d\"}],\"scattercarpet\":[{\"marker\":{\"colorbar\":{\"outlinewidth\":0,\"ticks\":\"\"}},\"type\":\"scattercarpet\"}],\"scattergeo\":[{\"marker\":{\"colorbar\":{\"outlinewidth\":0,\"ticks\":\"\"}},\"type\":\"scattergeo\"}],\"scattergl\":[{\"marker\":{\"colorbar\":{\"outlinewidth\":0,\"ticks\":\"\"}},\"type\":\"scattergl\"}],\"scattermapbox\":[{\"marker\":{\"colorbar\":{\"outlinewidth\":0,\"ticks\":\"\"}},\"type\":\"scattermapbox\"}],\"scatterpolargl\":[{\"marker\":{\"colorbar\":{\"outlinewidth\":0,\"ticks\":\"\"}},\"type\":\"scatterpolargl\"}],\"scatterpolar\":[{\"marker\":{\"colorbar\":{\"outlinewidth\":0,\"ticks\":\"\"}},\"type\":\"scatterpolar\"}],\"scatter\":[{\"marker\":{\"colorbar\":{\"outlinewidth\":0,\"ticks\":\"\"}},\"type\":\"scatter\"}],\"scatterternary\":[{\"marker\":{\"colorbar\":{\"outlinewidth\":0,\"ticks\":\"\"}},\"type\":\"scatterternary\"}],\"surface\":[{\"colorbar\":{\"outlinewidth\":0,\"ticks\":\"\"},\"colorscale\":[[0.0,\"#0d0887\"],[0.1111111111111111,\"#46039f\"],[0.2222222222222222,\"#7201a8\"],[0.3333333333333333,\"#9c179e\"],[0.4444444444444444,\"#bd3786\"],[0.5555555555555556,\"#d8576b\"],[0.6666666666666666,\"#ed7953\"],[0.7777777777777778,\"#fb9f3a\"],[0.8888888888888888,\"#fdca26\"],[1.0,\"#f0f921\"]],\"type\":\"surface\"}],\"table\":[{\"cells\":{\"fill\":{\"color\":\"#EBF0F8\"},\"line\":{\"color\":\"white\"}},\"header\":{\"fill\":{\"color\":\"#C8D4E3\"},\"line\":{\"color\":\"white\"}},\"type\":\"table\"}]},\"layout\":{\"annotationdefaults\":{\"arrowcolor\":\"#2a3f5f\",\"arrowhead\":0,\"arrowwidth\":1},\"autotypenumbers\":\"strict\",\"coloraxis\":{\"colorbar\":{\"outlinewidth\":0,\"ticks\":\"\"}},\"colorscale\":{\"diverging\":[[0,\"#8e0152\"],[0.1,\"#c51b7d\"],[0.2,\"#de77ae\"],[0.3,\"#f1b6da\"],[0.4,\"#fde0ef\"],[0.5,\"#f7f7f7\"],[0.6,\"#e6f5d0\"],[0.7,\"#b8e186\"],[0.8,\"#7fbc41\"],[0.9,\"#4d9221\"],[1,\"#276419\"]],\"sequential\":[[0.0,\"#0d0887\"],[0.1111111111111111,\"#46039f\"],[0.2222222222222222,\"#7201a8\"],[0.3333333333333333,\"#9c179e\"],[0.4444444444444444,\"#bd3786\"],[0.5555555555555556,\"#d8576b\"],[0.6666666666666666,\"#ed7953\"],[0.7777777777777778,\"#fb9f3a\"],[0.8888888888888888,\"#fdca26\"],[1.0,\"#f0f921\"]],\"sequentialminus\":[[0.0,\"#0d0887\"],[0.1111111111111111,\"#46039f\"],[0.2222222222222222,\"#7201a8\"],[0.3333333333333333,\"#9c179e\"],[0.4444444444444444,\"#bd3786\"],[0.5555555555555556,\"#d8576b\"],[0.6666666666666666,\"#ed7953\"],[0.7777777777777778,\"#fb9f3a\"],[0.8888888888888888,\"#fdca26\"],[1.0,\"#f0f921\"]]},\"colorway\":[\"#636efa\",\"#EF553B\",\"#00cc96\",\"#ab63fa\",\"#FFA15A\",\"#19d3f3\",\"#FF6692\",\"#B6E880\",\"#FF97FF\",\"#FECB52\"],\"font\":{\"color\":\"#2a3f5f\"},\"geo\":{\"bgcolor\":\"white\",\"lakecolor\":\"white\",\"landcolor\":\"#E5ECF6\",\"showlakes\":true,\"showland\":true,\"subunitcolor\":\"white\"},\"hoverlabel\":{\"align\":\"left\"},\"hovermode\":\"closest\",\"mapbox\":{\"style\":\"light\"},\"paper_bgcolor\":\"white\",\"plot_bgcolor\":\"#E5ECF6\",\"polar\":{\"angularaxis\":{\"gridcolor\":\"white\",\"linecolor\":\"white\",\"ticks\":\"\"},\"bgcolor\":\"#E5ECF6\",\"radialaxis\":{\"gridcolor\":\"white\",\"linecolor\":\"white\",\"ticks\":\"\"}},\"scene\":{\"xaxis\":{\"backgroundcolor\":\"#E5ECF6\",\"gridcolor\":\"white\",\"gridwidth\":2,\"linecolor\":\"white\",\"showbackground\":true,\"ticks\":\"\",\"zerolinecolor\":\"white\"},\"yaxis\":{\"backgroundcolor\":\"#E5ECF6\",\"gridcolor\":\"white\",\"gridwidth\":2,\"linecolor\":\"white\",\"showbackground\":true,\"ticks\":\"\",\"zerolinecolor\":\"white\"},\"zaxis\":{\"backgroundcolor\":\"#E5ECF6\",\"gridcolor\":\"white\",\"gridwidth\":2,\"linecolor\":\"white\",\"showbackground\":true,\"ticks\":\"\",\"zerolinecolor\":\"white\"}},\"shapedefaults\":{\"line\":{\"color\":\"#2a3f5f\"}},\"ternary\":{\"aaxis\":{\"gridcolor\":\"white\",\"linecolor\":\"white\",\"ticks\":\"\"},\"baxis\":{\"gridcolor\":\"white\",\"linecolor\":\"white\",\"ticks\":\"\"},\"bgcolor\":\"#E5ECF6\",\"caxis\":{\"gridcolor\":\"white\",\"linecolor\":\"white\",\"ticks\":\"\"}},\"title\":{\"x\":0.05},\"xaxis\":{\"automargin\":true,\"gridcolor\":\"white\",\"linecolor\":\"white\",\"ticks\":\"\",\"title\":{\"standoff\":15},\"zerolinecolor\":\"white\",\"zerolinewidth\":2},\"yaxis\":{\"automargin\":true,\"gridcolor\":\"white\",\"linecolor\":\"white\",\"ticks\":\"\",\"title\":{\"standoff\":15},\"zerolinecolor\":\"white\",\"zerolinewidth\":2}}},\"title\":{\"font\":{\"color\":\"#4D5663\"}},\"xaxis\":{\"gridcolor\":\"#E1E5ED\",\"showgrid\":true,\"tickfont\":{\"color\":\"#4D5663\"},\"title\":{\"font\":{\"color\":\"#4D5663\"},\"text\":\"\"},\"zerolinecolor\":\"#E1E5ED\"},\"yaxis\":{\"gridcolor\":\"#E1E5ED\",\"showgrid\":true,\"tickfont\":{\"color\":\"#4D5663\"},\"title\":{\"font\":{\"color\":\"#4D5663\"},\"text\":\"\"},\"zerolinecolor\":\"#E1E5ED\"}},                        {\"showLink\": true, \"linkText\": \"Export to plot.ly\", \"plotlyServerURL\": \"https://plot.ly\", \"responsive\": true}                    ).then(function(){\n",
       "                            \n",
       "var gd = document.getElementById('d6cedb9e-1155-41c8-9cbb-b092fe830d33');\n",
       "var x = new MutationObserver(function (mutations, observer) {{\n",
       "        var display = window.getComputedStyle(gd).display;\n",
       "        if (!display || display === 'none') {{\n",
       "            console.log([gd, 'removed!']);\n",
       "            Plotly.purge(gd);\n",
       "            observer.disconnect();\n",
       "        }}\n",
       "}});\n",
       "\n",
       "// Listen for the removal of the full notebook cells\n",
       "var notebookContainer = gd.closest('#notebook-container');\n",
       "if (notebookContainer) {{\n",
       "    x.observe(notebookContainer, {childList: true});\n",
       "}}\n",
       "\n",
       "// Listen for the clearing of the current output cell\n",
       "var outputEl = gd.closest('.output');\n",
       "if (outputEl) {{\n",
       "    x.observe(outputEl, {childList: true});\n",
       "}}\n",
       "\n",
       "                        })                };                });            </script>        </div>"
      ]
     },
     "metadata": {},
     "output_type": "display_data"
    }
   ],
   "source": [
    "df.sum().iplot(kind='bar')"
   ]
  },
  {
   "cell_type": "code",
   "execution_count": 21,
   "id": "52b1792d",
   "metadata": {},
   "outputs": [
    {
     "data": {
      "application/vnd.plotly.v1+json": {
       "config": {
        "linkText": "Export to plot.ly",
        "plotlyServerURL": "https://plot.ly",
        "showLink": true
       },
       "data": [
        {
         "boxpoints": false,
         "line": {
          "width": 1.3
         },
         "marker": {
          "color": "rgba(255, 153, 51, 1.0)"
         },
         "name": "A",
         "orientation": "v",
         "type": "box",
         "y": [
          -1.4179226392462503,
          -0.46264200324192123,
          0.7515224608796539,
          0.017214914882547446,
          -2.119230156508853,
          1.4246987135038927,
          -1.3484391107921905,
          0.6432498838271453,
          -0.9263864887473827,
          0.7570861795056825,
          0.07543918980622479,
          1.1599339441805279,
          -0.04608268499591076,
          -0.09120078183586999,
          0.8842914961718378,
          -0.9162025719299867,
          -1.2610444177759146,
          0.027904167487635967,
          -0.7061578863184852,
          0.7709016638285334,
          -0.8539166153517274,
          0.7309733763722845,
          -1.7691103627746505,
          1.263558824772134,
          0.4717765277347702,
          0.557405859177239,
          -1.6819089715393656,
          1.0025284313403557,
          1.572525731929163,
          -0.9650143742388076,
          1.151517875183336,
          -0.18247700098496303,
          -0.7167113193989513,
          1.1761072211193844,
          0.12819699293539916,
          -0.23688078197346668,
          -0.560705340480975,
          -0.39787163984807145,
          1.3382710439775771,
          -1.7798709075126007,
          -1.2702252329912076,
          -0.4152839220015532,
          0.17542127517078324,
          0.39285448248880483,
          0.9045840149471326,
          -0.16994995097364154,
          0.3381582060118401,
          0.2063929493612841,
          -0.11094598121380154,
          0.7974586479279469,
          -2.199222319526443,
          1.3997599864684436,
          0.22941627710272822,
          1.4240802742453296,
          0.3094390144366311,
          1.5403747340754785,
          0.5810551927052852,
          -1.066762083853598,
          -0.059946047063189144,
          0.22949791684170903,
          0.8327749881915162,
          -0.06636372674054501,
          -0.6190169447247864,
          2.0048868335375056,
          1.736487965277091,
          -1.3831774356984614,
          1.4976344360500824,
          -0.7067197193609598,
          -0.4385844889747408,
          -0.9353036023038812,
          -0.47593035642229686,
          1.6132806108278546,
          -0.6287717679502393,
          1.0345780523748735,
          -1.27284403429772,
          -0.21598606336809065,
          -0.21383616429784602,
          3.2313217531556826,
          1.3382365732922021,
          -0.22487702362562872,
          2.340429170474291,
          0.6271993811365263,
          1.997890339440614,
          -2.033624272129717,
          0.32279225575672327,
          0.8666550678088079,
          0.8252385648058315,
          -1.657914673275361,
          1.2379383904314973,
          0.7149995599320481,
          -1.1761176335038575,
          0.5706312135572416,
          -0.4558503278911321,
          0.37983919034349595,
          0.09595899429015453,
          -1.2417447649974065,
          -0.5217493081296127,
          0.7542010755173852,
          -1.145180906491648,
          1.6740518150812944
         ]
        },
        {
         "boxpoints": false,
         "line": {
          "width": 1.3
         },
         "marker": {
          "color": "rgba(55, 128, 191, 1.0)"
         },
         "name": "B",
         "orientation": "v",
         "type": "box",
         "y": [
          0.43916847768055367,
          0.7754169812744081,
          -1.766184215926334,
          0.4674257707543401,
          0.29321032071154995,
          1.41774816480575,
          1.3445969383110263,
          0.4416487341811845,
          -1.430772057414031,
          -0.8505022925340281,
          0.4691920933044812,
          1.826784708762384,
          -0.10576410338109243,
          -1.500461426023311,
          0.7965390567393406,
          -0.012409030102622055,
          -0.15130451407398446,
          -2.071058423059817,
          -0.8255625544235962,
          -0.8074054383028947,
          -0.9301852379698403,
          -1.6773017541992195,
          -0.3946539688644478,
          -2.9870582870265263,
          -0.03318946511355068,
          -0.016251530567965744,
          0.7030357504362612,
          -0.4999960084700399,
          -0.9420611634530786,
          -0.1432729844634614,
          0.6557312074595607,
          0.35574155452593026,
          -0.07734755312316859,
          -1.7102423679022432,
          -0.04205763850987133,
          -1.4785422652968754,
          0.7645412296582739,
          -0.24706609101356192,
          -1.201359615189873,
          1.5325015503193518,
          -0.4881633821714732,
          -0.5057962567151923,
          1.1308257061231044,
          -0.23356594422792676,
          0.66092576287292,
          1.6404688258806333,
          -1.5081626093929672,
          -0.0013041142872921448,
          0.12204994284248882,
          1.4721906166668761,
          -0.08003811206186177,
          -0.9092222820745258,
          -0.8407007439622989,
          -0.11436673916364293,
          0.06406328064075953,
          0.48221062292822475,
          -0.7807229952837661,
          -0.20502892323697028,
          0.3447615780074933,
          -1.583612014364668,
          0.5130380961580526,
          -1.551310104687635,
          0.7237591993777599,
          1.5059564157142509,
          -0.10163714145529341,
          -1.67186290946623,
          -0.31584531717802655,
          1.0644113882459774,
          2.274346155576829,
          0.49930813021148723,
          1.6405651595955058,
          -0.33937453326899897,
          0.10632705592337412,
          -1.2642467659208292,
          -0.17540983564574716,
          -0.1862548195584329,
          1.4326108248716156,
          0.06485852176902505,
          -0.36945518458348525,
          0.541657819502985,
          0.4634294898545669,
          -1.3654976940987307,
          -0.45372839134779486,
          1.0423110939962679,
          0.4128596468131367,
          -0.4937751704955059,
          -0.24026055088614237,
          -0.6454607232329427,
          0.8484132678342798,
          0.8798070172304139,
          -0.8837609675709918,
          0.03975057728511999,
          -0.5563341326163922,
          -0.23772094092618812,
          0.18642158069051573,
          0.8268192191747974,
          1.9527936074764647,
          0.8109508402703056,
          -0.44120277682258874,
          0.407627374675604
         ]
        },
        {
         "boxpoints": false,
         "line": {
          "width": 1.3
         },
         "marker": {
          "color": "rgba(50, 171, 96, 1.0)"
         },
         "name": "C",
         "orientation": "v",
         "type": "box",
         "y": [
          0.06329159238094456,
          0.6016141276373372,
          -0.38598146492664975,
          -1.7948377710650494,
          0.6922603131019637,
          1.546950767603398,
          -0.3401423629939599,
          0.8640624768539411,
          -0.3007610328344426,
          1.6514878814844314,
          0.13979537922420346,
          -1.7044467395329324,
          -0.7573626273806366,
          -0.8152744940674739,
          -0.4727052090045964,
          0.040216665584898045,
          -0.43615128786506685,
          0.27344294693179144,
          -0.03349601413188458,
          -0.12851704529268604,
          1.1576163763863443,
          -0.18968775085366393,
          1.5373714863021704,
          1.996631567981592,
          -1.8478908256856124,
          0.2121399690241807,
          0.9903320529159314,
          -2.0640303113562224,
          2.1754063918501094,
          -1.1037872507948654,
          0.5923189542086722,
          -0.7949907287764912,
          1.8361725833088216,
          -0.8336354871997873,
          -0.8708116492198833,
          -0.8802815476308914,
          -0.020241790336094603,
          -0.8355316846439435,
          1.0059170082047086,
          1.0054939597481938,
          1.1040552035428135,
          2.741336901378624,
          -1.2872567660378902,
          1.7236070774494099,
          -2.053011458665576,
          -1.6554645975852431,
          -1.3191147093346898,
          0.14488040663958976,
          0.5307445563011728,
          0.448353435089702,
          0.6448543734164054,
          0.14196129190770976,
          1.5615778114103345,
          -1.6426252419380063,
          -1.405870219150968,
          1.2447263759979295,
          1.2268295001316207,
          0.1708153488927121,
          0.31821376174331156,
          1.0899629968418847,
          -1.324169834479461,
          1.7383695412197921,
          1.4666328621047053,
          -0.004273859710908556,
          -1.0528261698514383,
          -0.8326514854130332,
          1.0007331977147034,
          1.3236434581815582,
          -0.8749821765698546,
          -0.2712525553847711,
          0.5312922787388977,
          0.07442547177048062,
          -0.3691969468632882,
          1.4239953529637823,
          0.380692863230286,
          0.14935094281469008,
          -0.09986944765673177,
          2.4401718896791125,
          -2.078988567371166,
          -0.49433118320023206,
          -0.4953751435521029,
          -1.5785245909476824,
          0.25623531508960756,
          1.0485164469030575,
          -1.0737703034037116,
          0.49552445732235395,
          -0.43824199054292745,
          -0.34985233947132677,
          0.3573169550646374,
          1.0850984979754426,
          -0.707552616005236,
          2.038015366809184,
          0.5957484226452919,
          -0.7887252110202742,
          1.2576250591330205,
          -1.5489921574005654,
          -0.741054262577547,
          0.4864247229814855,
          -0.6666552351510178,
          1.3809168626082857
         ]
        },
        {
         "boxpoints": false,
         "line": {
          "width": 1.3
         },
         "marker": {
          "color": "rgba(128, 0, 128, 1.0)"
         },
         "name": "D",
         "orientation": "v",
         "type": "box",
         "y": [
          -1.9389212579683277,
          1.0318746543195694,
          0.19609179025269244,
          2.084503587262951,
          -0.6879289588930549,
          0.5905955951758107,
          -2.107265660329813,
          0.42375512577914876,
          0.4777623966893956,
          0.2962445297721372,
          -1.1856223496029463,
          1.7022382630606143,
          0.07680793951844446,
          0.8922634028440726,
          -1.1378324118039944,
          2.0167810536162274,
          -0.5868298273047612,
          1.450307501782666,
          1.2446645289563552,
          -0.07944153762300908,
          1.0167359000338412,
          2.427420320730947,
          -0.20128925540517068,
          0.40952059386452916,
          -0.11310106445409522,
          -1.0208138813781207,
          -1.6819789689603284,
          -1.6407317956038237,
          0.5044967236629525,
          0.5076414862093444,
          -1.3622577458763638,
          -1.385513710137751,
          0.4379302170510106,
          -1.0360657971318514,
          0.956725027101898,
          -1.1309412070101597,
          -0.4539498795026894,
          -0.7651633537773271,
          -1.9138987826185374,
          -0.3404523866186954,
          -0.966483327909447,
          -2.223145811291357,
          0.2274200919509542,
          -1.1008190146824435,
          1.597931806234551,
          -0.6904200201169924,
          0.3795736008139735,
          1.1552876033284938,
          1.0802041243340248,
          1.591449198739368,
          -0.5101850194713661,
          0.3656485055448906,
          -1.7781102598964273,
          -0.048838218782504175,
          0.015466680660355055,
          0.9563915331719891,
          -0.8281332359056763,
          -0.2732587642962962,
          -1.224484378166469,
          -0.6961648914628961,
          -1.4217156713230616,
          -0.16325341225772871,
          0.462763681717857,
          -0.12551804694449417,
          0.9597070364983735,
          1.6251869409639046,
          -0.4691100693646398,
          -1.5469095947287455,
          0.5302987629420041,
          0.6857862918116193,
          1.37072509031351,
          -0.5040834234575051,
          0.05051138614709521,
          -0.46101192287628784,
          -2.2860966773402467,
          0.6292167975290144,
          -0.5637220158358606,
          1.2270958978103588,
          1.5741280403319107,
          -0.42940636866567056,
          1.2551709882371325,
          0.7941629170507719,
          0.11090865061083648,
          1.7735491268694554,
          -0.08379969518485648,
          0.2171914794734731,
          -0.4425196060685648,
          1.4339298753585892,
          1.5238027903197608,
          0.9212217064512468,
          -1.6708110306106638,
          -2.6270043901327247,
          -1.538743232667884,
          3.2051948720019845,
          -0.6416520265791904,
          -0.5453567889345559,
          0.9669641250569055,
          0.4416490283576272,
          -2.7373733213933353,
          -0.31505769803083433
         ]
        }
       ],
       "layout": {
        "legend": {
         "bgcolor": "#F5F6F9",
         "font": {
          "color": "#4D5663"
         }
        },
        "paper_bgcolor": "#F5F6F9",
        "plot_bgcolor": "#F5F6F9",
        "template": {
         "data": {
          "bar": [
           {
            "error_x": {
             "color": "#2a3f5f"
            },
            "error_y": {
             "color": "#2a3f5f"
            },
            "marker": {
             "line": {
              "color": "#E5ECF6",
              "width": 0.5
             },
             "pattern": {
              "fillmode": "overlay",
              "size": 10,
              "solidity": 0.2
             }
            },
            "type": "bar"
           }
          ],
          "barpolar": [
           {
            "marker": {
             "line": {
              "color": "#E5ECF6",
              "width": 0.5
             },
             "pattern": {
              "fillmode": "overlay",
              "size": 10,
              "solidity": 0.2
             }
            },
            "type": "barpolar"
           }
          ],
          "carpet": [
           {
            "aaxis": {
             "endlinecolor": "#2a3f5f",
             "gridcolor": "white",
             "linecolor": "white",
             "minorgridcolor": "white",
             "startlinecolor": "#2a3f5f"
            },
            "baxis": {
             "endlinecolor": "#2a3f5f",
             "gridcolor": "white",
             "linecolor": "white",
             "minorgridcolor": "white",
             "startlinecolor": "#2a3f5f"
            },
            "type": "carpet"
           }
          ],
          "choropleth": [
           {
            "colorbar": {
             "outlinewidth": 0,
             "ticks": ""
            },
            "type": "choropleth"
           }
          ],
          "contour": [
           {
            "colorbar": {
             "outlinewidth": 0,
             "ticks": ""
            },
            "colorscale": [
             [
              0,
              "#0d0887"
             ],
             [
              0.1111111111111111,
              "#46039f"
             ],
             [
              0.2222222222222222,
              "#7201a8"
             ],
             [
              0.3333333333333333,
              "#9c179e"
             ],
             [
              0.4444444444444444,
              "#bd3786"
             ],
             [
              0.5555555555555556,
              "#d8576b"
             ],
             [
              0.6666666666666666,
              "#ed7953"
             ],
             [
              0.7777777777777778,
              "#fb9f3a"
             ],
             [
              0.8888888888888888,
              "#fdca26"
             ],
             [
              1,
              "#f0f921"
             ]
            ],
            "type": "contour"
           }
          ],
          "contourcarpet": [
           {
            "colorbar": {
             "outlinewidth": 0,
             "ticks": ""
            },
            "type": "contourcarpet"
           }
          ],
          "heatmap": [
           {
            "colorbar": {
             "outlinewidth": 0,
             "ticks": ""
            },
            "colorscale": [
             [
              0,
              "#0d0887"
             ],
             [
              0.1111111111111111,
              "#46039f"
             ],
             [
              0.2222222222222222,
              "#7201a8"
             ],
             [
              0.3333333333333333,
              "#9c179e"
             ],
             [
              0.4444444444444444,
              "#bd3786"
             ],
             [
              0.5555555555555556,
              "#d8576b"
             ],
             [
              0.6666666666666666,
              "#ed7953"
             ],
             [
              0.7777777777777778,
              "#fb9f3a"
             ],
             [
              0.8888888888888888,
              "#fdca26"
             ],
             [
              1,
              "#f0f921"
             ]
            ],
            "type": "heatmap"
           }
          ],
          "heatmapgl": [
           {
            "colorbar": {
             "outlinewidth": 0,
             "ticks": ""
            },
            "colorscale": [
             [
              0,
              "#0d0887"
             ],
             [
              0.1111111111111111,
              "#46039f"
             ],
             [
              0.2222222222222222,
              "#7201a8"
             ],
             [
              0.3333333333333333,
              "#9c179e"
             ],
             [
              0.4444444444444444,
              "#bd3786"
             ],
             [
              0.5555555555555556,
              "#d8576b"
             ],
             [
              0.6666666666666666,
              "#ed7953"
             ],
             [
              0.7777777777777778,
              "#fb9f3a"
             ],
             [
              0.8888888888888888,
              "#fdca26"
             ],
             [
              1,
              "#f0f921"
             ]
            ],
            "type": "heatmapgl"
           }
          ],
          "histogram": [
           {
            "marker": {
             "pattern": {
              "fillmode": "overlay",
              "size": 10,
              "solidity": 0.2
             }
            },
            "type": "histogram"
           }
          ],
          "histogram2d": [
           {
            "colorbar": {
             "outlinewidth": 0,
             "ticks": ""
            },
            "colorscale": [
             [
              0,
              "#0d0887"
             ],
             [
              0.1111111111111111,
              "#46039f"
             ],
             [
              0.2222222222222222,
              "#7201a8"
             ],
             [
              0.3333333333333333,
              "#9c179e"
             ],
             [
              0.4444444444444444,
              "#bd3786"
             ],
             [
              0.5555555555555556,
              "#d8576b"
             ],
             [
              0.6666666666666666,
              "#ed7953"
             ],
             [
              0.7777777777777778,
              "#fb9f3a"
             ],
             [
              0.8888888888888888,
              "#fdca26"
             ],
             [
              1,
              "#f0f921"
             ]
            ],
            "type": "histogram2d"
           }
          ],
          "histogram2dcontour": [
           {
            "colorbar": {
             "outlinewidth": 0,
             "ticks": ""
            },
            "colorscale": [
             [
              0,
              "#0d0887"
             ],
             [
              0.1111111111111111,
              "#46039f"
             ],
             [
              0.2222222222222222,
              "#7201a8"
             ],
             [
              0.3333333333333333,
              "#9c179e"
             ],
             [
              0.4444444444444444,
              "#bd3786"
             ],
             [
              0.5555555555555556,
              "#d8576b"
             ],
             [
              0.6666666666666666,
              "#ed7953"
             ],
             [
              0.7777777777777778,
              "#fb9f3a"
             ],
             [
              0.8888888888888888,
              "#fdca26"
             ],
             [
              1,
              "#f0f921"
             ]
            ],
            "type": "histogram2dcontour"
           }
          ],
          "mesh3d": [
           {
            "colorbar": {
             "outlinewidth": 0,
             "ticks": ""
            },
            "type": "mesh3d"
           }
          ],
          "parcoords": [
           {
            "line": {
             "colorbar": {
              "outlinewidth": 0,
              "ticks": ""
             }
            },
            "type": "parcoords"
           }
          ],
          "pie": [
           {
            "automargin": true,
            "type": "pie"
           }
          ],
          "scatter": [
           {
            "marker": {
             "colorbar": {
              "outlinewidth": 0,
              "ticks": ""
             }
            },
            "type": "scatter"
           }
          ],
          "scatter3d": [
           {
            "line": {
             "colorbar": {
              "outlinewidth": 0,
              "ticks": ""
             }
            },
            "marker": {
             "colorbar": {
              "outlinewidth": 0,
              "ticks": ""
             }
            },
            "type": "scatter3d"
           }
          ],
          "scattercarpet": [
           {
            "marker": {
             "colorbar": {
              "outlinewidth": 0,
              "ticks": ""
             }
            },
            "type": "scattercarpet"
           }
          ],
          "scattergeo": [
           {
            "marker": {
             "colorbar": {
              "outlinewidth": 0,
              "ticks": ""
             }
            },
            "type": "scattergeo"
           }
          ],
          "scattergl": [
           {
            "marker": {
             "colorbar": {
              "outlinewidth": 0,
              "ticks": ""
             }
            },
            "type": "scattergl"
           }
          ],
          "scattermapbox": [
           {
            "marker": {
             "colorbar": {
              "outlinewidth": 0,
              "ticks": ""
             }
            },
            "type": "scattermapbox"
           }
          ],
          "scatterpolar": [
           {
            "marker": {
             "colorbar": {
              "outlinewidth": 0,
              "ticks": ""
             }
            },
            "type": "scatterpolar"
           }
          ],
          "scatterpolargl": [
           {
            "marker": {
             "colorbar": {
              "outlinewidth": 0,
              "ticks": ""
             }
            },
            "type": "scatterpolargl"
           }
          ],
          "scatterternary": [
           {
            "marker": {
             "colorbar": {
              "outlinewidth": 0,
              "ticks": ""
             }
            },
            "type": "scatterternary"
           }
          ],
          "surface": [
           {
            "colorbar": {
             "outlinewidth": 0,
             "ticks": ""
            },
            "colorscale": [
             [
              0,
              "#0d0887"
             ],
             [
              0.1111111111111111,
              "#46039f"
             ],
             [
              0.2222222222222222,
              "#7201a8"
             ],
             [
              0.3333333333333333,
              "#9c179e"
             ],
             [
              0.4444444444444444,
              "#bd3786"
             ],
             [
              0.5555555555555556,
              "#d8576b"
             ],
             [
              0.6666666666666666,
              "#ed7953"
             ],
             [
              0.7777777777777778,
              "#fb9f3a"
             ],
             [
              0.8888888888888888,
              "#fdca26"
             ],
             [
              1,
              "#f0f921"
             ]
            ],
            "type": "surface"
           }
          ],
          "table": [
           {
            "cells": {
             "fill": {
              "color": "#EBF0F8"
             },
             "line": {
              "color": "white"
             }
            },
            "header": {
             "fill": {
              "color": "#C8D4E3"
             },
             "line": {
              "color": "white"
             }
            },
            "type": "table"
           }
          ]
         },
         "layout": {
          "annotationdefaults": {
           "arrowcolor": "#2a3f5f",
           "arrowhead": 0,
           "arrowwidth": 1
          },
          "autotypenumbers": "strict",
          "coloraxis": {
           "colorbar": {
            "outlinewidth": 0,
            "ticks": ""
           }
          },
          "colorscale": {
           "diverging": [
            [
             0,
             "#8e0152"
            ],
            [
             0.1,
             "#c51b7d"
            ],
            [
             0.2,
             "#de77ae"
            ],
            [
             0.3,
             "#f1b6da"
            ],
            [
             0.4,
             "#fde0ef"
            ],
            [
             0.5,
             "#f7f7f7"
            ],
            [
             0.6,
             "#e6f5d0"
            ],
            [
             0.7,
             "#b8e186"
            ],
            [
             0.8,
             "#7fbc41"
            ],
            [
             0.9,
             "#4d9221"
            ],
            [
             1,
             "#276419"
            ]
           ],
           "sequential": [
            [
             0,
             "#0d0887"
            ],
            [
             0.1111111111111111,
             "#46039f"
            ],
            [
             0.2222222222222222,
             "#7201a8"
            ],
            [
             0.3333333333333333,
             "#9c179e"
            ],
            [
             0.4444444444444444,
             "#bd3786"
            ],
            [
             0.5555555555555556,
             "#d8576b"
            ],
            [
             0.6666666666666666,
             "#ed7953"
            ],
            [
             0.7777777777777778,
             "#fb9f3a"
            ],
            [
             0.8888888888888888,
             "#fdca26"
            ],
            [
             1,
             "#f0f921"
            ]
           ],
           "sequentialminus": [
            [
             0,
             "#0d0887"
            ],
            [
             0.1111111111111111,
             "#46039f"
            ],
            [
             0.2222222222222222,
             "#7201a8"
            ],
            [
             0.3333333333333333,
             "#9c179e"
            ],
            [
             0.4444444444444444,
             "#bd3786"
            ],
            [
             0.5555555555555556,
             "#d8576b"
            ],
            [
             0.6666666666666666,
             "#ed7953"
            ],
            [
             0.7777777777777778,
             "#fb9f3a"
            ],
            [
             0.8888888888888888,
             "#fdca26"
            ],
            [
             1,
             "#f0f921"
            ]
           ]
          },
          "colorway": [
           "#636efa",
           "#EF553B",
           "#00cc96",
           "#ab63fa",
           "#FFA15A",
           "#19d3f3",
           "#FF6692",
           "#B6E880",
           "#FF97FF",
           "#FECB52"
          ],
          "font": {
           "color": "#2a3f5f"
          },
          "geo": {
           "bgcolor": "white",
           "lakecolor": "white",
           "landcolor": "#E5ECF6",
           "showlakes": true,
           "showland": true,
           "subunitcolor": "white"
          },
          "hoverlabel": {
           "align": "left"
          },
          "hovermode": "closest",
          "mapbox": {
           "style": "light"
          },
          "paper_bgcolor": "white",
          "plot_bgcolor": "#E5ECF6",
          "polar": {
           "angularaxis": {
            "gridcolor": "white",
            "linecolor": "white",
            "ticks": ""
           },
           "bgcolor": "#E5ECF6",
           "radialaxis": {
            "gridcolor": "white",
            "linecolor": "white",
            "ticks": ""
           }
          },
          "scene": {
           "xaxis": {
            "backgroundcolor": "#E5ECF6",
            "gridcolor": "white",
            "gridwidth": 2,
            "linecolor": "white",
            "showbackground": true,
            "ticks": "",
            "zerolinecolor": "white"
           },
           "yaxis": {
            "backgroundcolor": "#E5ECF6",
            "gridcolor": "white",
            "gridwidth": 2,
            "linecolor": "white",
            "showbackground": true,
            "ticks": "",
            "zerolinecolor": "white"
           },
           "zaxis": {
            "backgroundcolor": "#E5ECF6",
            "gridcolor": "white",
            "gridwidth": 2,
            "linecolor": "white",
            "showbackground": true,
            "ticks": "",
            "zerolinecolor": "white"
           }
          },
          "shapedefaults": {
           "line": {
            "color": "#2a3f5f"
           }
          },
          "ternary": {
           "aaxis": {
            "gridcolor": "white",
            "linecolor": "white",
            "ticks": ""
           },
           "baxis": {
            "gridcolor": "white",
            "linecolor": "white",
            "ticks": ""
           },
           "bgcolor": "#E5ECF6",
           "caxis": {
            "gridcolor": "white",
            "linecolor": "white",
            "ticks": ""
           }
          },
          "title": {
           "x": 0.05
          },
          "xaxis": {
           "automargin": true,
           "gridcolor": "white",
           "linecolor": "white",
           "ticks": "",
           "title": {
            "standoff": 15
           },
           "zerolinecolor": "white",
           "zerolinewidth": 2
          },
          "yaxis": {
           "automargin": true,
           "gridcolor": "white",
           "linecolor": "white",
           "ticks": "",
           "title": {
            "standoff": 15
           },
           "zerolinecolor": "white",
           "zerolinewidth": 2
          }
         }
        },
        "title": {
         "font": {
          "color": "#4D5663"
         }
        },
        "xaxis": {
         "gridcolor": "#E1E5ED",
         "showgrid": true,
         "tickfont": {
          "color": "#4D5663"
         },
         "title": {
          "font": {
           "color": "#4D5663"
          },
          "text": ""
         },
         "zerolinecolor": "#E1E5ED"
        },
        "yaxis": {
         "gridcolor": "#E1E5ED",
         "showgrid": true,
         "tickfont": {
          "color": "#4D5663"
         },
         "title": {
          "font": {
           "color": "#4D5663"
          },
          "text": ""
         },
         "zerolinecolor": "#E1E5ED"
        }
       }
      },
      "text/html": [
       "<div>                            <div id=\"caa6ed3d-0300-4cdb-9704-4fbeb10a972e\" class=\"plotly-graph-div\" style=\"height:525px; width:100%;\"></div>            <script type=\"text/javascript\">                require([\"plotly\"], function(Plotly) {                    window.PLOTLYENV=window.PLOTLYENV || {};\n",
       "                    window.PLOTLYENV.BASE_URL='https://plot.ly';                                    if (document.getElementById(\"caa6ed3d-0300-4cdb-9704-4fbeb10a972e\")) {                    Plotly.newPlot(                        \"caa6ed3d-0300-4cdb-9704-4fbeb10a972e\",                        [{\"boxpoints\":false,\"line\":{\"width\":1.3},\"marker\":{\"color\":\"rgba(255, 153, 51, 1.0)\"},\"name\":\"A\",\"orientation\":\"v\",\"y\":[-1.4179226392462503,-0.46264200324192123,0.7515224608796539,0.017214914882547446,-2.119230156508853,1.4246987135038927,-1.3484391107921905,0.6432498838271453,-0.9263864887473827,0.7570861795056825,0.07543918980622479,1.1599339441805279,-0.04608268499591076,-0.09120078183586999,0.8842914961718378,-0.9162025719299867,-1.2610444177759146,0.027904167487635967,-0.7061578863184852,0.7709016638285334,-0.8539166153517274,0.7309733763722845,-1.7691103627746505,1.263558824772134,0.4717765277347702,0.557405859177239,-1.6819089715393656,1.0025284313403557,1.572525731929163,-0.9650143742388076,1.151517875183336,-0.18247700098496303,-0.7167113193989513,1.1761072211193844,0.12819699293539916,-0.23688078197346668,-0.560705340480975,-0.39787163984807145,1.3382710439775771,-1.7798709075126007,-1.2702252329912076,-0.4152839220015532,0.17542127517078324,0.39285448248880483,0.9045840149471326,-0.16994995097364154,0.3381582060118401,0.2063929493612841,-0.11094598121380154,0.7974586479279469,-2.199222319526443,1.3997599864684436,0.22941627710272822,1.4240802742453296,0.3094390144366311,1.5403747340754785,0.5810551927052852,-1.066762083853598,-0.059946047063189144,0.22949791684170903,0.8327749881915162,-0.06636372674054501,-0.6190169447247864,2.0048868335375056,1.736487965277091,-1.3831774356984614,1.4976344360500824,-0.7067197193609598,-0.4385844889747408,-0.9353036023038812,-0.47593035642229686,1.6132806108278546,-0.6287717679502393,1.0345780523748735,-1.27284403429772,-0.21598606336809065,-0.21383616429784602,3.2313217531556826,1.3382365732922021,-0.22487702362562872,2.340429170474291,0.6271993811365263,1.997890339440614,-2.033624272129717,0.32279225575672327,0.8666550678088079,0.8252385648058315,-1.657914673275361,1.2379383904314973,0.7149995599320481,-1.1761176335038575,0.5706312135572416,-0.4558503278911321,0.37983919034349595,0.09595899429015453,-1.2417447649974065,-0.5217493081296127,0.7542010755173852,-1.145180906491648,1.6740518150812944],\"type\":\"box\"},{\"boxpoints\":false,\"line\":{\"width\":1.3},\"marker\":{\"color\":\"rgba(55, 128, 191, 1.0)\"},\"name\":\"B\",\"orientation\":\"v\",\"y\":[0.43916847768055367,0.7754169812744081,-1.766184215926334,0.4674257707543401,0.29321032071154995,1.41774816480575,1.3445969383110263,0.4416487341811845,-1.430772057414031,-0.8505022925340281,0.4691920933044812,1.826784708762384,-0.10576410338109243,-1.500461426023311,0.7965390567393406,-0.012409030102622055,-0.15130451407398446,-2.071058423059817,-0.8255625544235962,-0.8074054383028947,-0.9301852379698403,-1.6773017541992195,-0.3946539688644478,-2.9870582870265263,-0.03318946511355068,-0.016251530567965744,0.7030357504362612,-0.4999960084700399,-0.9420611634530786,-0.1432729844634614,0.6557312074595607,0.35574155452593026,-0.07734755312316859,-1.7102423679022432,-0.04205763850987133,-1.4785422652968754,0.7645412296582739,-0.24706609101356192,-1.201359615189873,1.5325015503193518,-0.4881633821714732,-0.5057962567151923,1.1308257061231044,-0.23356594422792676,0.66092576287292,1.6404688258806333,-1.5081626093929672,-0.0013041142872921448,0.12204994284248882,1.4721906166668761,-0.08003811206186177,-0.9092222820745258,-0.8407007439622989,-0.11436673916364293,0.06406328064075953,0.48221062292822475,-0.7807229952837661,-0.20502892323697028,0.3447615780074933,-1.583612014364668,0.5130380961580526,-1.551310104687635,0.7237591993777599,1.5059564157142509,-0.10163714145529341,-1.67186290946623,-0.31584531717802655,1.0644113882459774,2.274346155576829,0.49930813021148723,1.6405651595955058,-0.33937453326899897,0.10632705592337412,-1.2642467659208292,-0.17540983564574716,-0.1862548195584329,1.4326108248716156,0.06485852176902505,-0.36945518458348525,0.541657819502985,0.4634294898545669,-1.3654976940987307,-0.45372839134779486,1.0423110939962679,0.4128596468131367,-0.4937751704955059,-0.24026055088614237,-0.6454607232329427,0.8484132678342798,0.8798070172304139,-0.8837609675709918,0.03975057728511999,-0.5563341326163922,-0.23772094092618812,0.18642158069051573,0.8268192191747974,1.9527936074764647,0.8109508402703056,-0.44120277682258874,0.407627374675604],\"type\":\"box\"},{\"boxpoints\":false,\"line\":{\"width\":1.3},\"marker\":{\"color\":\"rgba(50, 171, 96, 1.0)\"},\"name\":\"C\",\"orientation\":\"v\",\"y\":[0.06329159238094456,0.6016141276373372,-0.38598146492664975,-1.7948377710650494,0.6922603131019637,1.546950767603398,-0.3401423629939599,0.8640624768539411,-0.3007610328344426,1.6514878814844314,0.13979537922420346,-1.7044467395329324,-0.7573626273806366,-0.8152744940674739,-0.4727052090045964,0.040216665584898045,-0.43615128786506685,0.27344294693179144,-0.03349601413188458,-0.12851704529268604,1.1576163763863443,-0.18968775085366393,1.5373714863021704,1.996631567981592,-1.8478908256856124,0.2121399690241807,0.9903320529159314,-2.0640303113562224,2.1754063918501094,-1.1037872507948654,0.5923189542086722,-0.7949907287764912,1.8361725833088216,-0.8336354871997873,-0.8708116492198833,-0.8802815476308914,-0.020241790336094603,-0.8355316846439435,1.0059170082047086,1.0054939597481938,1.1040552035428135,2.741336901378624,-1.2872567660378902,1.7236070774494099,-2.053011458665576,-1.6554645975852431,-1.3191147093346898,0.14488040663958976,0.5307445563011728,0.448353435089702,0.6448543734164054,0.14196129190770976,1.5615778114103345,-1.6426252419380063,-1.405870219150968,1.2447263759979295,1.2268295001316207,0.1708153488927121,0.31821376174331156,1.0899629968418847,-1.324169834479461,1.7383695412197921,1.4666328621047053,-0.004273859710908556,-1.0528261698514383,-0.8326514854130332,1.0007331977147034,1.3236434581815582,-0.8749821765698546,-0.2712525553847711,0.5312922787388977,0.07442547177048062,-0.3691969468632882,1.4239953529637823,0.380692863230286,0.14935094281469008,-0.09986944765673177,2.4401718896791125,-2.078988567371166,-0.49433118320023206,-0.4953751435521029,-1.5785245909476824,0.25623531508960756,1.0485164469030575,-1.0737703034037116,0.49552445732235395,-0.43824199054292745,-0.34985233947132677,0.3573169550646374,1.0850984979754426,-0.707552616005236,2.038015366809184,0.5957484226452919,-0.7887252110202742,1.2576250591330205,-1.5489921574005654,-0.741054262577547,0.4864247229814855,-0.6666552351510178,1.3809168626082857],\"type\":\"box\"},{\"boxpoints\":false,\"line\":{\"width\":1.3},\"marker\":{\"color\":\"rgba(128, 0, 128, 1.0)\"},\"name\":\"D\",\"orientation\":\"v\",\"y\":[-1.9389212579683277,1.0318746543195694,0.19609179025269244,2.084503587262951,-0.6879289588930549,0.5905955951758107,-2.107265660329813,0.42375512577914876,0.4777623966893956,0.2962445297721372,-1.1856223496029463,1.7022382630606143,0.07680793951844446,0.8922634028440726,-1.1378324118039944,2.0167810536162274,-0.5868298273047612,1.450307501782666,1.2446645289563552,-0.07944153762300908,1.0167359000338412,2.427420320730947,-0.20128925540517068,0.40952059386452916,-0.11310106445409522,-1.0208138813781207,-1.6819789689603284,-1.6407317956038237,0.5044967236629525,0.5076414862093444,-1.3622577458763638,-1.385513710137751,0.4379302170510106,-1.0360657971318514,0.956725027101898,-1.1309412070101597,-0.4539498795026894,-0.7651633537773271,-1.9138987826185374,-0.3404523866186954,-0.966483327909447,-2.223145811291357,0.2274200919509542,-1.1008190146824435,1.597931806234551,-0.6904200201169924,0.3795736008139735,1.1552876033284938,1.0802041243340248,1.591449198739368,-0.5101850194713661,0.3656485055448906,-1.7781102598964273,-0.048838218782504175,0.015466680660355055,0.9563915331719891,-0.8281332359056763,-0.2732587642962962,-1.224484378166469,-0.6961648914628961,-1.4217156713230616,-0.16325341225772871,0.462763681717857,-0.12551804694449417,0.9597070364983735,1.6251869409639046,-0.4691100693646398,-1.5469095947287455,0.5302987629420041,0.6857862918116193,1.37072509031351,-0.5040834234575051,0.05051138614709521,-0.46101192287628784,-2.2860966773402467,0.6292167975290144,-0.5637220158358606,1.2270958978103588,1.5741280403319107,-0.42940636866567056,1.2551709882371325,0.7941629170507719,0.11090865061083648,1.7735491268694554,-0.08379969518485648,0.2171914794734731,-0.4425196060685648,1.4339298753585892,1.5238027903197608,0.9212217064512468,-1.6708110306106638,-2.6270043901327247,-1.538743232667884,3.2051948720019845,-0.6416520265791904,-0.5453567889345559,0.9669641250569055,0.4416490283576272,-2.7373733213933353,-0.31505769803083433],\"type\":\"box\"}],                        {\"legend\":{\"bgcolor\":\"#F5F6F9\",\"font\":{\"color\":\"#4D5663\"}},\"paper_bgcolor\":\"#F5F6F9\",\"plot_bgcolor\":\"#F5F6F9\",\"template\":{\"data\":{\"barpolar\":[{\"marker\":{\"line\":{\"color\":\"#E5ECF6\",\"width\":0.5},\"pattern\":{\"fillmode\":\"overlay\",\"size\":10,\"solidity\":0.2}},\"type\":\"barpolar\"}],\"bar\":[{\"error_x\":{\"color\":\"#2a3f5f\"},\"error_y\":{\"color\":\"#2a3f5f\"},\"marker\":{\"line\":{\"color\":\"#E5ECF6\",\"width\":0.5},\"pattern\":{\"fillmode\":\"overlay\",\"size\":10,\"solidity\":0.2}},\"type\":\"bar\"}],\"carpet\":[{\"aaxis\":{\"endlinecolor\":\"#2a3f5f\",\"gridcolor\":\"white\",\"linecolor\":\"white\",\"minorgridcolor\":\"white\",\"startlinecolor\":\"#2a3f5f\"},\"baxis\":{\"endlinecolor\":\"#2a3f5f\",\"gridcolor\":\"white\",\"linecolor\":\"white\",\"minorgridcolor\":\"white\",\"startlinecolor\":\"#2a3f5f\"},\"type\":\"carpet\"}],\"choropleth\":[{\"colorbar\":{\"outlinewidth\":0,\"ticks\":\"\"},\"type\":\"choropleth\"}],\"contourcarpet\":[{\"colorbar\":{\"outlinewidth\":0,\"ticks\":\"\"},\"type\":\"contourcarpet\"}],\"contour\":[{\"colorbar\":{\"outlinewidth\":0,\"ticks\":\"\"},\"colorscale\":[[0.0,\"#0d0887\"],[0.1111111111111111,\"#46039f\"],[0.2222222222222222,\"#7201a8\"],[0.3333333333333333,\"#9c179e\"],[0.4444444444444444,\"#bd3786\"],[0.5555555555555556,\"#d8576b\"],[0.6666666666666666,\"#ed7953\"],[0.7777777777777778,\"#fb9f3a\"],[0.8888888888888888,\"#fdca26\"],[1.0,\"#f0f921\"]],\"type\":\"contour\"}],\"heatmapgl\":[{\"colorbar\":{\"outlinewidth\":0,\"ticks\":\"\"},\"colorscale\":[[0.0,\"#0d0887\"],[0.1111111111111111,\"#46039f\"],[0.2222222222222222,\"#7201a8\"],[0.3333333333333333,\"#9c179e\"],[0.4444444444444444,\"#bd3786\"],[0.5555555555555556,\"#d8576b\"],[0.6666666666666666,\"#ed7953\"],[0.7777777777777778,\"#fb9f3a\"],[0.8888888888888888,\"#fdca26\"],[1.0,\"#f0f921\"]],\"type\":\"heatmapgl\"}],\"heatmap\":[{\"colorbar\":{\"outlinewidth\":0,\"ticks\":\"\"},\"colorscale\":[[0.0,\"#0d0887\"],[0.1111111111111111,\"#46039f\"],[0.2222222222222222,\"#7201a8\"],[0.3333333333333333,\"#9c179e\"],[0.4444444444444444,\"#bd3786\"],[0.5555555555555556,\"#d8576b\"],[0.6666666666666666,\"#ed7953\"],[0.7777777777777778,\"#fb9f3a\"],[0.8888888888888888,\"#fdca26\"],[1.0,\"#f0f921\"]],\"type\":\"heatmap\"}],\"histogram2dcontour\":[{\"colorbar\":{\"outlinewidth\":0,\"ticks\":\"\"},\"colorscale\":[[0.0,\"#0d0887\"],[0.1111111111111111,\"#46039f\"],[0.2222222222222222,\"#7201a8\"],[0.3333333333333333,\"#9c179e\"],[0.4444444444444444,\"#bd3786\"],[0.5555555555555556,\"#d8576b\"],[0.6666666666666666,\"#ed7953\"],[0.7777777777777778,\"#fb9f3a\"],[0.8888888888888888,\"#fdca26\"],[1.0,\"#f0f921\"]],\"type\":\"histogram2dcontour\"}],\"histogram2d\":[{\"colorbar\":{\"outlinewidth\":0,\"ticks\":\"\"},\"colorscale\":[[0.0,\"#0d0887\"],[0.1111111111111111,\"#46039f\"],[0.2222222222222222,\"#7201a8\"],[0.3333333333333333,\"#9c179e\"],[0.4444444444444444,\"#bd3786\"],[0.5555555555555556,\"#d8576b\"],[0.6666666666666666,\"#ed7953\"],[0.7777777777777778,\"#fb9f3a\"],[0.8888888888888888,\"#fdca26\"],[1.0,\"#f0f921\"]],\"type\":\"histogram2d\"}],\"histogram\":[{\"marker\":{\"pattern\":{\"fillmode\":\"overlay\",\"size\":10,\"solidity\":0.2}},\"type\":\"histogram\"}],\"mesh3d\":[{\"colorbar\":{\"outlinewidth\":0,\"ticks\":\"\"},\"type\":\"mesh3d\"}],\"parcoords\":[{\"line\":{\"colorbar\":{\"outlinewidth\":0,\"ticks\":\"\"}},\"type\":\"parcoords\"}],\"pie\":[{\"automargin\":true,\"type\":\"pie\"}],\"scatter3d\":[{\"line\":{\"colorbar\":{\"outlinewidth\":0,\"ticks\":\"\"}},\"marker\":{\"colorbar\":{\"outlinewidth\":0,\"ticks\":\"\"}},\"type\":\"scatter3d\"}],\"scattercarpet\":[{\"marker\":{\"colorbar\":{\"outlinewidth\":0,\"ticks\":\"\"}},\"type\":\"scattercarpet\"}],\"scattergeo\":[{\"marker\":{\"colorbar\":{\"outlinewidth\":0,\"ticks\":\"\"}},\"type\":\"scattergeo\"}],\"scattergl\":[{\"marker\":{\"colorbar\":{\"outlinewidth\":0,\"ticks\":\"\"}},\"type\":\"scattergl\"}],\"scattermapbox\":[{\"marker\":{\"colorbar\":{\"outlinewidth\":0,\"ticks\":\"\"}},\"type\":\"scattermapbox\"}],\"scatterpolargl\":[{\"marker\":{\"colorbar\":{\"outlinewidth\":0,\"ticks\":\"\"}},\"type\":\"scatterpolargl\"}],\"scatterpolar\":[{\"marker\":{\"colorbar\":{\"outlinewidth\":0,\"ticks\":\"\"}},\"type\":\"scatterpolar\"}],\"scatter\":[{\"marker\":{\"colorbar\":{\"outlinewidth\":0,\"ticks\":\"\"}},\"type\":\"scatter\"}],\"scatterternary\":[{\"marker\":{\"colorbar\":{\"outlinewidth\":0,\"ticks\":\"\"}},\"type\":\"scatterternary\"}],\"surface\":[{\"colorbar\":{\"outlinewidth\":0,\"ticks\":\"\"},\"colorscale\":[[0.0,\"#0d0887\"],[0.1111111111111111,\"#46039f\"],[0.2222222222222222,\"#7201a8\"],[0.3333333333333333,\"#9c179e\"],[0.4444444444444444,\"#bd3786\"],[0.5555555555555556,\"#d8576b\"],[0.6666666666666666,\"#ed7953\"],[0.7777777777777778,\"#fb9f3a\"],[0.8888888888888888,\"#fdca26\"],[1.0,\"#f0f921\"]],\"type\":\"surface\"}],\"table\":[{\"cells\":{\"fill\":{\"color\":\"#EBF0F8\"},\"line\":{\"color\":\"white\"}},\"header\":{\"fill\":{\"color\":\"#C8D4E3\"},\"line\":{\"color\":\"white\"}},\"type\":\"table\"}]},\"layout\":{\"annotationdefaults\":{\"arrowcolor\":\"#2a3f5f\",\"arrowhead\":0,\"arrowwidth\":1},\"autotypenumbers\":\"strict\",\"coloraxis\":{\"colorbar\":{\"outlinewidth\":0,\"ticks\":\"\"}},\"colorscale\":{\"diverging\":[[0,\"#8e0152\"],[0.1,\"#c51b7d\"],[0.2,\"#de77ae\"],[0.3,\"#f1b6da\"],[0.4,\"#fde0ef\"],[0.5,\"#f7f7f7\"],[0.6,\"#e6f5d0\"],[0.7,\"#b8e186\"],[0.8,\"#7fbc41\"],[0.9,\"#4d9221\"],[1,\"#276419\"]],\"sequential\":[[0.0,\"#0d0887\"],[0.1111111111111111,\"#46039f\"],[0.2222222222222222,\"#7201a8\"],[0.3333333333333333,\"#9c179e\"],[0.4444444444444444,\"#bd3786\"],[0.5555555555555556,\"#d8576b\"],[0.6666666666666666,\"#ed7953\"],[0.7777777777777778,\"#fb9f3a\"],[0.8888888888888888,\"#fdca26\"],[1.0,\"#f0f921\"]],\"sequentialminus\":[[0.0,\"#0d0887\"],[0.1111111111111111,\"#46039f\"],[0.2222222222222222,\"#7201a8\"],[0.3333333333333333,\"#9c179e\"],[0.4444444444444444,\"#bd3786\"],[0.5555555555555556,\"#d8576b\"],[0.6666666666666666,\"#ed7953\"],[0.7777777777777778,\"#fb9f3a\"],[0.8888888888888888,\"#fdca26\"],[1.0,\"#f0f921\"]]},\"colorway\":[\"#636efa\",\"#EF553B\",\"#00cc96\",\"#ab63fa\",\"#FFA15A\",\"#19d3f3\",\"#FF6692\",\"#B6E880\",\"#FF97FF\",\"#FECB52\"],\"font\":{\"color\":\"#2a3f5f\"},\"geo\":{\"bgcolor\":\"white\",\"lakecolor\":\"white\",\"landcolor\":\"#E5ECF6\",\"showlakes\":true,\"showland\":true,\"subunitcolor\":\"white\"},\"hoverlabel\":{\"align\":\"left\"},\"hovermode\":\"closest\",\"mapbox\":{\"style\":\"light\"},\"paper_bgcolor\":\"white\",\"plot_bgcolor\":\"#E5ECF6\",\"polar\":{\"angularaxis\":{\"gridcolor\":\"white\",\"linecolor\":\"white\",\"ticks\":\"\"},\"bgcolor\":\"#E5ECF6\",\"radialaxis\":{\"gridcolor\":\"white\",\"linecolor\":\"white\",\"ticks\":\"\"}},\"scene\":{\"xaxis\":{\"backgroundcolor\":\"#E5ECF6\",\"gridcolor\":\"white\",\"gridwidth\":2,\"linecolor\":\"white\",\"showbackground\":true,\"ticks\":\"\",\"zerolinecolor\":\"white\"},\"yaxis\":{\"backgroundcolor\":\"#E5ECF6\",\"gridcolor\":\"white\",\"gridwidth\":2,\"linecolor\":\"white\",\"showbackground\":true,\"ticks\":\"\",\"zerolinecolor\":\"white\"},\"zaxis\":{\"backgroundcolor\":\"#E5ECF6\",\"gridcolor\":\"white\",\"gridwidth\":2,\"linecolor\":\"white\",\"showbackground\":true,\"ticks\":\"\",\"zerolinecolor\":\"white\"}},\"shapedefaults\":{\"line\":{\"color\":\"#2a3f5f\"}},\"ternary\":{\"aaxis\":{\"gridcolor\":\"white\",\"linecolor\":\"white\",\"ticks\":\"\"},\"baxis\":{\"gridcolor\":\"white\",\"linecolor\":\"white\",\"ticks\":\"\"},\"bgcolor\":\"#E5ECF6\",\"caxis\":{\"gridcolor\":\"white\",\"linecolor\":\"white\",\"ticks\":\"\"}},\"title\":{\"x\":0.05},\"xaxis\":{\"automargin\":true,\"gridcolor\":\"white\",\"linecolor\":\"white\",\"ticks\":\"\",\"title\":{\"standoff\":15},\"zerolinecolor\":\"white\",\"zerolinewidth\":2},\"yaxis\":{\"automargin\":true,\"gridcolor\":\"white\",\"linecolor\":\"white\",\"ticks\":\"\",\"title\":{\"standoff\":15},\"zerolinecolor\":\"white\",\"zerolinewidth\":2}}},\"title\":{\"font\":{\"color\":\"#4D5663\"}},\"xaxis\":{\"gridcolor\":\"#E1E5ED\",\"showgrid\":true,\"tickfont\":{\"color\":\"#4D5663\"},\"title\":{\"font\":{\"color\":\"#4D5663\"},\"text\":\"\"},\"zerolinecolor\":\"#E1E5ED\"},\"yaxis\":{\"gridcolor\":\"#E1E5ED\",\"showgrid\":true,\"tickfont\":{\"color\":\"#4D5663\"},\"title\":{\"font\":{\"color\":\"#4D5663\"},\"text\":\"\"},\"zerolinecolor\":\"#E1E5ED\"}},                        {\"showLink\": true, \"linkText\": \"Export to plot.ly\", \"plotlyServerURL\": \"https://plot.ly\", \"responsive\": true}                    ).then(function(){\n",
       "                            \n",
       "var gd = document.getElementById('caa6ed3d-0300-4cdb-9704-4fbeb10a972e');\n",
       "var x = new MutationObserver(function (mutations, observer) {{\n",
       "        var display = window.getComputedStyle(gd).display;\n",
       "        if (!display || display === 'none') {{\n",
       "            console.log([gd, 'removed!']);\n",
       "            Plotly.purge(gd);\n",
       "            observer.disconnect();\n",
       "        }}\n",
       "}});\n",
       "\n",
       "// Listen for the removal of the full notebook cells\n",
       "var notebookContainer = gd.closest('#notebook-container');\n",
       "if (notebookContainer) {{\n",
       "    x.observe(notebookContainer, {childList: true});\n",
       "}}\n",
       "\n",
       "// Listen for the clearing of the current output cell\n",
       "var outputEl = gd.closest('.output');\n",
       "if (outputEl) {{\n",
       "    x.observe(outputEl, {childList: true});\n",
       "}}\n",
       "\n",
       "                        })                };                });            </script>        </div>"
      ]
     },
     "metadata": {},
     "output_type": "display_data"
    }
   ],
   "source": [
    "df.iplot(kind='box')"
   ]
  },
  {
   "cell_type": "code",
   "execution_count": 22,
   "id": "73e2ccb5",
   "metadata": {},
   "outputs": [],
   "source": [
    "df3=pd.DataFrame({'x':[1,2,3,4,5],'y':[10,20,30,20,10],'z':[5,4,3,2,1]})"
   ]
  },
  {
   "cell_type": "code",
   "execution_count": 23,
   "id": "5e2f47a0",
   "metadata": {},
   "outputs": [
    {
     "data": {
      "text/html": [
       "<div>\n",
       "<style scoped>\n",
       "    .dataframe tbody tr th:only-of-type {\n",
       "        vertical-align: middle;\n",
       "    }\n",
       "\n",
       "    .dataframe tbody tr th {\n",
       "        vertical-align: top;\n",
       "    }\n",
       "\n",
       "    .dataframe thead th {\n",
       "        text-align: right;\n",
       "    }\n",
       "</style>\n",
       "<table border=\"1\" class=\"dataframe\">\n",
       "  <thead>\n",
       "    <tr style=\"text-align: right;\">\n",
       "      <th></th>\n",
       "      <th>x</th>\n",
       "      <th>y</th>\n",
       "      <th>z</th>\n",
       "    </tr>\n",
       "  </thead>\n",
       "  <tbody>\n",
       "    <tr>\n",
       "      <th>0</th>\n",
       "      <td>1</td>\n",
       "      <td>10</td>\n",
       "      <td>5</td>\n",
       "    </tr>\n",
       "    <tr>\n",
       "      <th>1</th>\n",
       "      <td>2</td>\n",
       "      <td>20</td>\n",
       "      <td>4</td>\n",
       "    </tr>\n",
       "    <tr>\n",
       "      <th>2</th>\n",
       "      <td>3</td>\n",
       "      <td>30</td>\n",
       "      <td>3</td>\n",
       "    </tr>\n",
       "    <tr>\n",
       "      <th>3</th>\n",
       "      <td>4</td>\n",
       "      <td>20</td>\n",
       "      <td>2</td>\n",
       "    </tr>\n",
       "    <tr>\n",
       "      <th>4</th>\n",
       "      <td>5</td>\n",
       "      <td>10</td>\n",
       "      <td>1</td>\n",
       "    </tr>\n",
       "  </tbody>\n",
       "</table>\n",
       "</div>"
      ],
      "text/plain": [
       "   x   y  z\n",
       "0  1  10  5\n",
       "1  2  20  4\n",
       "2  3  30  3\n",
       "3  4  20  2\n",
       "4  5  10  1"
      ]
     },
     "execution_count": 23,
     "metadata": {},
     "output_type": "execute_result"
    }
   ],
   "source": [
    "df3"
   ]
  },
  {
   "cell_type": "code",
   "execution_count": 24,
   "id": "5b129e8a",
   "metadata": {},
   "outputs": [
    {
     "data": {
      "application/vnd.plotly.v1+json": {
       "config": {
        "linkText": "Export to plot.ly",
        "plotlyServerURL": "https://plot.ly",
        "showLink": true
       },
       "data": [
        {
         "colorscale": [
          [
           0,
           "rgb(255, 153, 51)"
          ],
          [
           0.1111111111111111,
           "rgb(55, 128, 191)"
          ],
          [
           0.2222222222222222,
           "rgb(50, 171, 96)"
          ],
          [
           0.3333333333333333,
           "rgb(128, 0, 128)"
          ],
          [
           0.4444444444444444,
           "rgb(219, 64, 82)"
          ],
          [
           0.5555555555555556,
           "rgb(0, 128, 128)"
          ],
          [
           0.6666666666666666,
           "rgb(255, 255, 51)"
          ],
          [
           0.7777777777777778,
           "rgb(128, 128, 0)"
          ],
          [
           0.8888888888888888,
           "rgb(251, 128, 114)"
          ],
          [
           1,
           "rgb(128, 177, 211)"
          ]
         ],
         "type": "surface",
         "x": [
          0,
          1,
          2,
          3,
          4
         ],
         "y": [
          "x",
          "y",
          "z"
         ],
         "z": [
          [
           1,
           2,
           3,
           4,
           5
          ],
          [
           10,
           20,
           30,
           20,
           10
          ],
          [
           5,
           4,
           3,
           2,
           1
          ]
         ]
        }
       ],
       "layout": {
        "legend": {
         "bgcolor": "#F5F6F9",
         "font": {
          "color": "#4D5663"
         }
        },
        "paper_bgcolor": "#F5F6F9",
        "plot_bgcolor": "#F5F6F9",
        "template": {
         "data": {
          "bar": [
           {
            "error_x": {
             "color": "#2a3f5f"
            },
            "error_y": {
             "color": "#2a3f5f"
            },
            "marker": {
             "line": {
              "color": "#E5ECF6",
              "width": 0.5
             },
             "pattern": {
              "fillmode": "overlay",
              "size": 10,
              "solidity": 0.2
             }
            },
            "type": "bar"
           }
          ],
          "barpolar": [
           {
            "marker": {
             "line": {
              "color": "#E5ECF6",
              "width": 0.5
             },
             "pattern": {
              "fillmode": "overlay",
              "size": 10,
              "solidity": 0.2
             }
            },
            "type": "barpolar"
           }
          ],
          "carpet": [
           {
            "aaxis": {
             "endlinecolor": "#2a3f5f",
             "gridcolor": "white",
             "linecolor": "white",
             "minorgridcolor": "white",
             "startlinecolor": "#2a3f5f"
            },
            "baxis": {
             "endlinecolor": "#2a3f5f",
             "gridcolor": "white",
             "linecolor": "white",
             "minorgridcolor": "white",
             "startlinecolor": "#2a3f5f"
            },
            "type": "carpet"
           }
          ],
          "choropleth": [
           {
            "colorbar": {
             "outlinewidth": 0,
             "ticks": ""
            },
            "type": "choropleth"
           }
          ],
          "contour": [
           {
            "colorbar": {
             "outlinewidth": 0,
             "ticks": ""
            },
            "colorscale": [
             [
              0,
              "#0d0887"
             ],
             [
              0.1111111111111111,
              "#46039f"
             ],
             [
              0.2222222222222222,
              "#7201a8"
             ],
             [
              0.3333333333333333,
              "#9c179e"
             ],
             [
              0.4444444444444444,
              "#bd3786"
             ],
             [
              0.5555555555555556,
              "#d8576b"
             ],
             [
              0.6666666666666666,
              "#ed7953"
             ],
             [
              0.7777777777777778,
              "#fb9f3a"
             ],
             [
              0.8888888888888888,
              "#fdca26"
             ],
             [
              1,
              "#f0f921"
             ]
            ],
            "type": "contour"
           }
          ],
          "contourcarpet": [
           {
            "colorbar": {
             "outlinewidth": 0,
             "ticks": ""
            },
            "type": "contourcarpet"
           }
          ],
          "heatmap": [
           {
            "colorbar": {
             "outlinewidth": 0,
             "ticks": ""
            },
            "colorscale": [
             [
              0,
              "#0d0887"
             ],
             [
              0.1111111111111111,
              "#46039f"
             ],
             [
              0.2222222222222222,
              "#7201a8"
             ],
             [
              0.3333333333333333,
              "#9c179e"
             ],
             [
              0.4444444444444444,
              "#bd3786"
             ],
             [
              0.5555555555555556,
              "#d8576b"
             ],
             [
              0.6666666666666666,
              "#ed7953"
             ],
             [
              0.7777777777777778,
              "#fb9f3a"
             ],
             [
              0.8888888888888888,
              "#fdca26"
             ],
             [
              1,
              "#f0f921"
             ]
            ],
            "type": "heatmap"
           }
          ],
          "heatmapgl": [
           {
            "colorbar": {
             "outlinewidth": 0,
             "ticks": ""
            },
            "colorscale": [
             [
              0,
              "#0d0887"
             ],
             [
              0.1111111111111111,
              "#46039f"
             ],
             [
              0.2222222222222222,
              "#7201a8"
             ],
             [
              0.3333333333333333,
              "#9c179e"
             ],
             [
              0.4444444444444444,
              "#bd3786"
             ],
             [
              0.5555555555555556,
              "#d8576b"
             ],
             [
              0.6666666666666666,
              "#ed7953"
             ],
             [
              0.7777777777777778,
              "#fb9f3a"
             ],
             [
              0.8888888888888888,
              "#fdca26"
             ],
             [
              1,
              "#f0f921"
             ]
            ],
            "type": "heatmapgl"
           }
          ],
          "histogram": [
           {
            "marker": {
             "pattern": {
              "fillmode": "overlay",
              "size": 10,
              "solidity": 0.2
             }
            },
            "type": "histogram"
           }
          ],
          "histogram2d": [
           {
            "colorbar": {
             "outlinewidth": 0,
             "ticks": ""
            },
            "colorscale": [
             [
              0,
              "#0d0887"
             ],
             [
              0.1111111111111111,
              "#46039f"
             ],
             [
              0.2222222222222222,
              "#7201a8"
             ],
             [
              0.3333333333333333,
              "#9c179e"
             ],
             [
              0.4444444444444444,
              "#bd3786"
             ],
             [
              0.5555555555555556,
              "#d8576b"
             ],
             [
              0.6666666666666666,
              "#ed7953"
             ],
             [
              0.7777777777777778,
              "#fb9f3a"
             ],
             [
              0.8888888888888888,
              "#fdca26"
             ],
             [
              1,
              "#f0f921"
             ]
            ],
            "type": "histogram2d"
           }
          ],
          "histogram2dcontour": [
           {
            "colorbar": {
             "outlinewidth": 0,
             "ticks": ""
            },
            "colorscale": [
             [
              0,
              "#0d0887"
             ],
             [
              0.1111111111111111,
              "#46039f"
             ],
             [
              0.2222222222222222,
              "#7201a8"
             ],
             [
              0.3333333333333333,
              "#9c179e"
             ],
             [
              0.4444444444444444,
              "#bd3786"
             ],
             [
              0.5555555555555556,
              "#d8576b"
             ],
             [
              0.6666666666666666,
              "#ed7953"
             ],
             [
              0.7777777777777778,
              "#fb9f3a"
             ],
             [
              0.8888888888888888,
              "#fdca26"
             ],
             [
              1,
              "#f0f921"
             ]
            ],
            "type": "histogram2dcontour"
           }
          ],
          "mesh3d": [
           {
            "colorbar": {
             "outlinewidth": 0,
             "ticks": ""
            },
            "type": "mesh3d"
           }
          ],
          "parcoords": [
           {
            "line": {
             "colorbar": {
              "outlinewidth": 0,
              "ticks": ""
             }
            },
            "type": "parcoords"
           }
          ],
          "pie": [
           {
            "automargin": true,
            "type": "pie"
           }
          ],
          "scatter": [
           {
            "marker": {
             "colorbar": {
              "outlinewidth": 0,
              "ticks": ""
             }
            },
            "type": "scatter"
           }
          ],
          "scatter3d": [
           {
            "line": {
             "colorbar": {
              "outlinewidth": 0,
              "ticks": ""
             }
            },
            "marker": {
             "colorbar": {
              "outlinewidth": 0,
              "ticks": ""
             }
            },
            "type": "scatter3d"
           }
          ],
          "scattercarpet": [
           {
            "marker": {
             "colorbar": {
              "outlinewidth": 0,
              "ticks": ""
             }
            },
            "type": "scattercarpet"
           }
          ],
          "scattergeo": [
           {
            "marker": {
             "colorbar": {
              "outlinewidth": 0,
              "ticks": ""
             }
            },
            "type": "scattergeo"
           }
          ],
          "scattergl": [
           {
            "marker": {
             "colorbar": {
              "outlinewidth": 0,
              "ticks": ""
             }
            },
            "type": "scattergl"
           }
          ],
          "scattermapbox": [
           {
            "marker": {
             "colorbar": {
              "outlinewidth": 0,
              "ticks": ""
             }
            },
            "type": "scattermapbox"
           }
          ],
          "scatterpolar": [
           {
            "marker": {
             "colorbar": {
              "outlinewidth": 0,
              "ticks": ""
             }
            },
            "type": "scatterpolar"
           }
          ],
          "scatterpolargl": [
           {
            "marker": {
             "colorbar": {
              "outlinewidth": 0,
              "ticks": ""
             }
            },
            "type": "scatterpolargl"
           }
          ],
          "scatterternary": [
           {
            "marker": {
             "colorbar": {
              "outlinewidth": 0,
              "ticks": ""
             }
            },
            "type": "scatterternary"
           }
          ],
          "surface": [
           {
            "colorbar": {
             "outlinewidth": 0,
             "ticks": ""
            },
            "colorscale": [
             [
              0,
              "#0d0887"
             ],
             [
              0.1111111111111111,
              "#46039f"
             ],
             [
              0.2222222222222222,
              "#7201a8"
             ],
             [
              0.3333333333333333,
              "#9c179e"
             ],
             [
              0.4444444444444444,
              "#bd3786"
             ],
             [
              0.5555555555555556,
              "#d8576b"
             ],
             [
              0.6666666666666666,
              "#ed7953"
             ],
             [
              0.7777777777777778,
              "#fb9f3a"
             ],
             [
              0.8888888888888888,
              "#fdca26"
             ],
             [
              1,
              "#f0f921"
             ]
            ],
            "type": "surface"
           }
          ],
          "table": [
           {
            "cells": {
             "fill": {
              "color": "#EBF0F8"
             },
             "line": {
              "color": "white"
             }
            },
            "header": {
             "fill": {
              "color": "#C8D4E3"
             },
             "line": {
              "color": "white"
             }
            },
            "type": "table"
           }
          ]
         },
         "layout": {
          "annotationdefaults": {
           "arrowcolor": "#2a3f5f",
           "arrowhead": 0,
           "arrowwidth": 1
          },
          "autotypenumbers": "strict",
          "coloraxis": {
           "colorbar": {
            "outlinewidth": 0,
            "ticks": ""
           }
          },
          "colorscale": {
           "diverging": [
            [
             0,
             "#8e0152"
            ],
            [
             0.1,
             "#c51b7d"
            ],
            [
             0.2,
             "#de77ae"
            ],
            [
             0.3,
             "#f1b6da"
            ],
            [
             0.4,
             "#fde0ef"
            ],
            [
             0.5,
             "#f7f7f7"
            ],
            [
             0.6,
             "#e6f5d0"
            ],
            [
             0.7,
             "#b8e186"
            ],
            [
             0.8,
             "#7fbc41"
            ],
            [
             0.9,
             "#4d9221"
            ],
            [
             1,
             "#276419"
            ]
           ],
           "sequential": [
            [
             0,
             "#0d0887"
            ],
            [
             0.1111111111111111,
             "#46039f"
            ],
            [
             0.2222222222222222,
             "#7201a8"
            ],
            [
             0.3333333333333333,
             "#9c179e"
            ],
            [
             0.4444444444444444,
             "#bd3786"
            ],
            [
             0.5555555555555556,
             "#d8576b"
            ],
            [
             0.6666666666666666,
             "#ed7953"
            ],
            [
             0.7777777777777778,
             "#fb9f3a"
            ],
            [
             0.8888888888888888,
             "#fdca26"
            ],
            [
             1,
             "#f0f921"
            ]
           ],
           "sequentialminus": [
            [
             0,
             "#0d0887"
            ],
            [
             0.1111111111111111,
             "#46039f"
            ],
            [
             0.2222222222222222,
             "#7201a8"
            ],
            [
             0.3333333333333333,
             "#9c179e"
            ],
            [
             0.4444444444444444,
             "#bd3786"
            ],
            [
             0.5555555555555556,
             "#d8576b"
            ],
            [
             0.6666666666666666,
             "#ed7953"
            ],
            [
             0.7777777777777778,
             "#fb9f3a"
            ],
            [
             0.8888888888888888,
             "#fdca26"
            ],
            [
             1,
             "#f0f921"
            ]
           ]
          },
          "colorway": [
           "#636efa",
           "#EF553B",
           "#00cc96",
           "#ab63fa",
           "#FFA15A",
           "#19d3f3",
           "#FF6692",
           "#B6E880",
           "#FF97FF",
           "#FECB52"
          ],
          "font": {
           "color": "#2a3f5f"
          },
          "geo": {
           "bgcolor": "white",
           "lakecolor": "white",
           "landcolor": "#E5ECF6",
           "showlakes": true,
           "showland": true,
           "subunitcolor": "white"
          },
          "hoverlabel": {
           "align": "left"
          },
          "hovermode": "closest",
          "mapbox": {
           "style": "light"
          },
          "paper_bgcolor": "white",
          "plot_bgcolor": "#E5ECF6",
          "polar": {
           "angularaxis": {
            "gridcolor": "white",
            "linecolor": "white",
            "ticks": ""
           },
           "bgcolor": "#E5ECF6",
           "radialaxis": {
            "gridcolor": "white",
            "linecolor": "white",
            "ticks": ""
           }
          },
          "scene": {
           "xaxis": {
            "backgroundcolor": "#E5ECF6",
            "gridcolor": "white",
            "gridwidth": 2,
            "linecolor": "white",
            "showbackground": true,
            "ticks": "",
            "zerolinecolor": "white"
           },
           "yaxis": {
            "backgroundcolor": "#E5ECF6",
            "gridcolor": "white",
            "gridwidth": 2,
            "linecolor": "white",
            "showbackground": true,
            "ticks": "",
            "zerolinecolor": "white"
           },
           "zaxis": {
            "backgroundcolor": "#E5ECF6",
            "gridcolor": "white",
            "gridwidth": 2,
            "linecolor": "white",
            "showbackground": true,
            "ticks": "",
            "zerolinecolor": "white"
           }
          },
          "shapedefaults": {
           "line": {
            "color": "#2a3f5f"
           }
          },
          "ternary": {
           "aaxis": {
            "gridcolor": "white",
            "linecolor": "white",
            "ticks": ""
           },
           "baxis": {
            "gridcolor": "white",
            "linecolor": "white",
            "ticks": ""
           },
           "bgcolor": "#E5ECF6",
           "caxis": {
            "gridcolor": "white",
            "linecolor": "white",
            "ticks": ""
           }
          },
          "title": {
           "x": 0.05
          },
          "xaxis": {
           "automargin": true,
           "gridcolor": "white",
           "linecolor": "white",
           "ticks": "",
           "title": {
            "standoff": 15
           },
           "zerolinecolor": "white",
           "zerolinewidth": 2
          },
          "yaxis": {
           "automargin": true,
           "gridcolor": "white",
           "linecolor": "white",
           "ticks": "",
           "title": {
            "standoff": 15
           },
           "zerolinecolor": "white",
           "zerolinewidth": 2
          }
         }
        },
        "title": {
         "font": {
          "color": "#4D5663"
         }
        },
        "xaxis": {
         "gridcolor": "#E1E5ED",
         "showgrid": true,
         "tickfont": {
          "color": "#4D5663"
         },
         "title": {
          "font": {
           "color": "#4D5663"
          },
          "text": ""
         },
         "zerolinecolor": "#E1E5ED"
        },
        "yaxis": {
         "gridcolor": "#E1E5ED",
         "showgrid": true,
         "tickfont": {
          "color": "#4D5663"
         },
         "title": {
          "font": {
           "color": "#4D5663"
          },
          "text": ""
         },
         "zerolinecolor": "#E1E5ED"
        }
       }
      },
      "text/html": [
       "<div>                            <div id=\"77c1ad68-254c-43ee-b0b9-08c654145a76\" class=\"plotly-graph-div\" style=\"height:525px; width:100%;\"></div>            <script type=\"text/javascript\">                require([\"plotly\"], function(Plotly) {                    window.PLOTLYENV=window.PLOTLYENV || {};\n",
       "                    window.PLOTLYENV.BASE_URL='https://plot.ly';                                    if (document.getElementById(\"77c1ad68-254c-43ee-b0b9-08c654145a76\")) {                    Plotly.newPlot(                        \"77c1ad68-254c-43ee-b0b9-08c654145a76\",                        [{\"colorscale\":[[0.0,\"rgb(255, 153, 51)\"],[0.1111111111111111,\"rgb(55, 128, 191)\"],[0.2222222222222222,\"rgb(50, 171, 96)\"],[0.3333333333333333,\"rgb(128, 0, 128)\"],[0.4444444444444444,\"rgb(219, 64, 82)\"],[0.5555555555555556,\"rgb(0, 128, 128)\"],[0.6666666666666666,\"rgb(255, 255, 51)\"],[0.7777777777777778,\"rgb(128, 128, 0)\"],[0.8888888888888888,\"rgb(251, 128, 114)\"],[1.0,\"rgb(128, 177, 211)\"]],\"x\":[0,1,2,3,4],\"y\":[\"x\",\"y\",\"z\"],\"z\":[[1,2,3,4,5],[10,20,30,20,10],[5,4,3,2,1]],\"type\":\"surface\"}],                        {\"legend\":{\"bgcolor\":\"#F5F6F9\",\"font\":{\"color\":\"#4D5663\"}},\"paper_bgcolor\":\"#F5F6F9\",\"plot_bgcolor\":\"#F5F6F9\",\"template\":{\"data\":{\"barpolar\":[{\"marker\":{\"line\":{\"color\":\"#E5ECF6\",\"width\":0.5},\"pattern\":{\"fillmode\":\"overlay\",\"size\":10,\"solidity\":0.2}},\"type\":\"barpolar\"}],\"bar\":[{\"error_x\":{\"color\":\"#2a3f5f\"},\"error_y\":{\"color\":\"#2a3f5f\"},\"marker\":{\"line\":{\"color\":\"#E5ECF6\",\"width\":0.5},\"pattern\":{\"fillmode\":\"overlay\",\"size\":10,\"solidity\":0.2}},\"type\":\"bar\"}],\"carpet\":[{\"aaxis\":{\"endlinecolor\":\"#2a3f5f\",\"gridcolor\":\"white\",\"linecolor\":\"white\",\"minorgridcolor\":\"white\",\"startlinecolor\":\"#2a3f5f\"},\"baxis\":{\"endlinecolor\":\"#2a3f5f\",\"gridcolor\":\"white\",\"linecolor\":\"white\",\"minorgridcolor\":\"white\",\"startlinecolor\":\"#2a3f5f\"},\"type\":\"carpet\"}],\"choropleth\":[{\"colorbar\":{\"outlinewidth\":0,\"ticks\":\"\"},\"type\":\"choropleth\"}],\"contourcarpet\":[{\"colorbar\":{\"outlinewidth\":0,\"ticks\":\"\"},\"type\":\"contourcarpet\"}],\"contour\":[{\"colorbar\":{\"outlinewidth\":0,\"ticks\":\"\"},\"colorscale\":[[0.0,\"#0d0887\"],[0.1111111111111111,\"#46039f\"],[0.2222222222222222,\"#7201a8\"],[0.3333333333333333,\"#9c179e\"],[0.4444444444444444,\"#bd3786\"],[0.5555555555555556,\"#d8576b\"],[0.6666666666666666,\"#ed7953\"],[0.7777777777777778,\"#fb9f3a\"],[0.8888888888888888,\"#fdca26\"],[1.0,\"#f0f921\"]],\"type\":\"contour\"}],\"heatmapgl\":[{\"colorbar\":{\"outlinewidth\":0,\"ticks\":\"\"},\"colorscale\":[[0.0,\"#0d0887\"],[0.1111111111111111,\"#46039f\"],[0.2222222222222222,\"#7201a8\"],[0.3333333333333333,\"#9c179e\"],[0.4444444444444444,\"#bd3786\"],[0.5555555555555556,\"#d8576b\"],[0.6666666666666666,\"#ed7953\"],[0.7777777777777778,\"#fb9f3a\"],[0.8888888888888888,\"#fdca26\"],[1.0,\"#f0f921\"]],\"type\":\"heatmapgl\"}],\"heatmap\":[{\"colorbar\":{\"outlinewidth\":0,\"ticks\":\"\"},\"colorscale\":[[0.0,\"#0d0887\"],[0.1111111111111111,\"#46039f\"],[0.2222222222222222,\"#7201a8\"],[0.3333333333333333,\"#9c179e\"],[0.4444444444444444,\"#bd3786\"],[0.5555555555555556,\"#d8576b\"],[0.6666666666666666,\"#ed7953\"],[0.7777777777777778,\"#fb9f3a\"],[0.8888888888888888,\"#fdca26\"],[1.0,\"#f0f921\"]],\"type\":\"heatmap\"}],\"histogram2dcontour\":[{\"colorbar\":{\"outlinewidth\":0,\"ticks\":\"\"},\"colorscale\":[[0.0,\"#0d0887\"],[0.1111111111111111,\"#46039f\"],[0.2222222222222222,\"#7201a8\"],[0.3333333333333333,\"#9c179e\"],[0.4444444444444444,\"#bd3786\"],[0.5555555555555556,\"#d8576b\"],[0.6666666666666666,\"#ed7953\"],[0.7777777777777778,\"#fb9f3a\"],[0.8888888888888888,\"#fdca26\"],[1.0,\"#f0f921\"]],\"type\":\"histogram2dcontour\"}],\"histogram2d\":[{\"colorbar\":{\"outlinewidth\":0,\"ticks\":\"\"},\"colorscale\":[[0.0,\"#0d0887\"],[0.1111111111111111,\"#46039f\"],[0.2222222222222222,\"#7201a8\"],[0.3333333333333333,\"#9c179e\"],[0.4444444444444444,\"#bd3786\"],[0.5555555555555556,\"#d8576b\"],[0.6666666666666666,\"#ed7953\"],[0.7777777777777778,\"#fb9f3a\"],[0.8888888888888888,\"#fdca26\"],[1.0,\"#f0f921\"]],\"type\":\"histogram2d\"}],\"histogram\":[{\"marker\":{\"pattern\":{\"fillmode\":\"overlay\",\"size\":10,\"solidity\":0.2}},\"type\":\"histogram\"}],\"mesh3d\":[{\"colorbar\":{\"outlinewidth\":0,\"ticks\":\"\"},\"type\":\"mesh3d\"}],\"parcoords\":[{\"line\":{\"colorbar\":{\"outlinewidth\":0,\"ticks\":\"\"}},\"type\":\"parcoords\"}],\"pie\":[{\"automargin\":true,\"type\":\"pie\"}],\"scatter3d\":[{\"line\":{\"colorbar\":{\"outlinewidth\":0,\"ticks\":\"\"}},\"marker\":{\"colorbar\":{\"outlinewidth\":0,\"ticks\":\"\"}},\"type\":\"scatter3d\"}],\"scattercarpet\":[{\"marker\":{\"colorbar\":{\"outlinewidth\":0,\"ticks\":\"\"}},\"type\":\"scattercarpet\"}],\"scattergeo\":[{\"marker\":{\"colorbar\":{\"outlinewidth\":0,\"ticks\":\"\"}},\"type\":\"scattergeo\"}],\"scattergl\":[{\"marker\":{\"colorbar\":{\"outlinewidth\":0,\"ticks\":\"\"}},\"type\":\"scattergl\"}],\"scattermapbox\":[{\"marker\":{\"colorbar\":{\"outlinewidth\":0,\"ticks\":\"\"}},\"type\":\"scattermapbox\"}],\"scatterpolargl\":[{\"marker\":{\"colorbar\":{\"outlinewidth\":0,\"ticks\":\"\"}},\"type\":\"scatterpolargl\"}],\"scatterpolar\":[{\"marker\":{\"colorbar\":{\"outlinewidth\":0,\"ticks\":\"\"}},\"type\":\"scatterpolar\"}],\"scatter\":[{\"marker\":{\"colorbar\":{\"outlinewidth\":0,\"ticks\":\"\"}},\"type\":\"scatter\"}],\"scatterternary\":[{\"marker\":{\"colorbar\":{\"outlinewidth\":0,\"ticks\":\"\"}},\"type\":\"scatterternary\"}],\"surface\":[{\"colorbar\":{\"outlinewidth\":0,\"ticks\":\"\"},\"colorscale\":[[0.0,\"#0d0887\"],[0.1111111111111111,\"#46039f\"],[0.2222222222222222,\"#7201a8\"],[0.3333333333333333,\"#9c179e\"],[0.4444444444444444,\"#bd3786\"],[0.5555555555555556,\"#d8576b\"],[0.6666666666666666,\"#ed7953\"],[0.7777777777777778,\"#fb9f3a\"],[0.8888888888888888,\"#fdca26\"],[1.0,\"#f0f921\"]],\"type\":\"surface\"}],\"table\":[{\"cells\":{\"fill\":{\"color\":\"#EBF0F8\"},\"line\":{\"color\":\"white\"}},\"header\":{\"fill\":{\"color\":\"#C8D4E3\"},\"line\":{\"color\":\"white\"}},\"type\":\"table\"}]},\"layout\":{\"annotationdefaults\":{\"arrowcolor\":\"#2a3f5f\",\"arrowhead\":0,\"arrowwidth\":1},\"autotypenumbers\":\"strict\",\"coloraxis\":{\"colorbar\":{\"outlinewidth\":0,\"ticks\":\"\"}},\"colorscale\":{\"diverging\":[[0,\"#8e0152\"],[0.1,\"#c51b7d\"],[0.2,\"#de77ae\"],[0.3,\"#f1b6da\"],[0.4,\"#fde0ef\"],[0.5,\"#f7f7f7\"],[0.6,\"#e6f5d0\"],[0.7,\"#b8e186\"],[0.8,\"#7fbc41\"],[0.9,\"#4d9221\"],[1,\"#276419\"]],\"sequential\":[[0.0,\"#0d0887\"],[0.1111111111111111,\"#46039f\"],[0.2222222222222222,\"#7201a8\"],[0.3333333333333333,\"#9c179e\"],[0.4444444444444444,\"#bd3786\"],[0.5555555555555556,\"#d8576b\"],[0.6666666666666666,\"#ed7953\"],[0.7777777777777778,\"#fb9f3a\"],[0.8888888888888888,\"#fdca26\"],[1.0,\"#f0f921\"]],\"sequentialminus\":[[0.0,\"#0d0887\"],[0.1111111111111111,\"#46039f\"],[0.2222222222222222,\"#7201a8\"],[0.3333333333333333,\"#9c179e\"],[0.4444444444444444,\"#bd3786\"],[0.5555555555555556,\"#d8576b\"],[0.6666666666666666,\"#ed7953\"],[0.7777777777777778,\"#fb9f3a\"],[0.8888888888888888,\"#fdca26\"],[1.0,\"#f0f921\"]]},\"colorway\":[\"#636efa\",\"#EF553B\",\"#00cc96\",\"#ab63fa\",\"#FFA15A\",\"#19d3f3\",\"#FF6692\",\"#B6E880\",\"#FF97FF\",\"#FECB52\"],\"font\":{\"color\":\"#2a3f5f\"},\"geo\":{\"bgcolor\":\"white\",\"lakecolor\":\"white\",\"landcolor\":\"#E5ECF6\",\"showlakes\":true,\"showland\":true,\"subunitcolor\":\"white\"},\"hoverlabel\":{\"align\":\"left\"},\"hovermode\":\"closest\",\"mapbox\":{\"style\":\"light\"},\"paper_bgcolor\":\"white\",\"plot_bgcolor\":\"#E5ECF6\",\"polar\":{\"angularaxis\":{\"gridcolor\":\"white\",\"linecolor\":\"white\",\"ticks\":\"\"},\"bgcolor\":\"#E5ECF6\",\"radialaxis\":{\"gridcolor\":\"white\",\"linecolor\":\"white\",\"ticks\":\"\"}},\"scene\":{\"xaxis\":{\"backgroundcolor\":\"#E5ECF6\",\"gridcolor\":\"white\",\"gridwidth\":2,\"linecolor\":\"white\",\"showbackground\":true,\"ticks\":\"\",\"zerolinecolor\":\"white\"},\"yaxis\":{\"backgroundcolor\":\"#E5ECF6\",\"gridcolor\":\"white\",\"gridwidth\":2,\"linecolor\":\"white\",\"showbackground\":true,\"ticks\":\"\",\"zerolinecolor\":\"white\"},\"zaxis\":{\"backgroundcolor\":\"#E5ECF6\",\"gridcolor\":\"white\",\"gridwidth\":2,\"linecolor\":\"white\",\"showbackground\":true,\"ticks\":\"\",\"zerolinecolor\":\"white\"}},\"shapedefaults\":{\"line\":{\"color\":\"#2a3f5f\"}},\"ternary\":{\"aaxis\":{\"gridcolor\":\"white\",\"linecolor\":\"white\",\"ticks\":\"\"},\"baxis\":{\"gridcolor\":\"white\",\"linecolor\":\"white\",\"ticks\":\"\"},\"bgcolor\":\"#E5ECF6\",\"caxis\":{\"gridcolor\":\"white\",\"linecolor\":\"white\",\"ticks\":\"\"}},\"title\":{\"x\":0.05},\"xaxis\":{\"automargin\":true,\"gridcolor\":\"white\",\"linecolor\":\"white\",\"ticks\":\"\",\"title\":{\"standoff\":15},\"zerolinecolor\":\"white\",\"zerolinewidth\":2},\"yaxis\":{\"automargin\":true,\"gridcolor\":\"white\",\"linecolor\":\"white\",\"ticks\":\"\",\"title\":{\"standoff\":15},\"zerolinecolor\":\"white\",\"zerolinewidth\":2}}},\"title\":{\"font\":{\"color\":\"#4D5663\"}},\"xaxis\":{\"gridcolor\":\"#E1E5ED\",\"showgrid\":true,\"tickfont\":{\"color\":\"#4D5663\"},\"title\":{\"font\":{\"color\":\"#4D5663\"},\"text\":\"\"},\"zerolinecolor\":\"#E1E5ED\"},\"yaxis\":{\"gridcolor\":\"#E1E5ED\",\"showgrid\":true,\"tickfont\":{\"color\":\"#4D5663\"},\"title\":{\"font\":{\"color\":\"#4D5663\"},\"text\":\"\"},\"zerolinecolor\":\"#E1E5ED\"}},                        {\"showLink\": true, \"linkText\": \"Export to plot.ly\", \"plotlyServerURL\": \"https://plot.ly\", \"responsive\": true}                    ).then(function(){\n",
       "                            \n",
       "var gd = document.getElementById('77c1ad68-254c-43ee-b0b9-08c654145a76');\n",
       "var x = new MutationObserver(function (mutations, observer) {{\n",
       "        var display = window.getComputedStyle(gd).display;\n",
       "        if (!display || display === 'none') {{\n",
       "            console.log([gd, 'removed!']);\n",
       "            Plotly.purge(gd);\n",
       "            observer.disconnect();\n",
       "        }}\n",
       "}});\n",
       "\n",
       "// Listen for the removal of the full notebook cells\n",
       "var notebookContainer = gd.closest('#notebook-container');\n",
       "if (notebookContainer) {{\n",
       "    x.observe(notebookContainer, {childList: true});\n",
       "}}\n",
       "\n",
       "// Listen for the clearing of the current output cell\n",
       "var outputEl = gd.closest('.output');\n",
       "if (outputEl) {{\n",
       "    x.observe(outputEl, {childList: true});\n",
       "}}\n",
       "\n",
       "                        })                };                });            </script>        </div>"
      ]
     },
     "metadata": {},
     "output_type": "display_data"
    }
   ],
   "source": [
    "df3.iplot(kind='surface')"
   ]
  },
  {
   "cell_type": "code",
   "execution_count": 25,
   "id": "3d145173",
   "metadata": {},
   "outputs": [
    {
     "data": {
      "application/vnd.plotly.v1+json": {
       "config": {
        "linkText": "Export to plot.ly",
        "plotlyServerURL": "https://plot.ly",
        "showLink": true
       },
       "data": [
        {
         "colorscale": [
          [
           0,
           "rgb(165,0,38)"
          ],
          [
           0.1,
           "rgb(215,48,39)"
          ],
          [
           0.2,
           "rgb(244,109,67)"
          ],
          [
           0.3,
           "rgb(253,174,97)"
          ],
          [
           0.4,
           "rgb(254,224,144)"
          ],
          [
           0.5,
           "rgb(255,255,191)"
          ],
          [
           0.6,
           "rgb(224,243,248)"
          ],
          [
           0.7,
           "rgb(171,217,233)"
          ],
          [
           0.8,
           "rgb(116,173,209)"
          ],
          [
           0.9,
           "rgb(69,117,180)"
          ],
          [
           1,
           "rgb(49,54,149)"
          ]
         ],
         "type": "surface",
         "x": [
          0,
          1,
          2,
          3,
          4
         ],
         "y": [
          "x",
          "y",
          "z"
         ],
         "z": [
          [
           1,
           2,
           3,
           4,
           5
          ],
          [
           10,
           20,
           30,
           20,
           10
          ],
          [
           5,
           4,
           3,
           2,
           1
          ]
         ]
        }
       ],
       "layout": {
        "legend": {
         "bgcolor": "#F5F6F9",
         "font": {
          "color": "#4D5663"
         }
        },
        "paper_bgcolor": "#F5F6F9",
        "plot_bgcolor": "#F5F6F9",
        "template": {
         "data": {
          "bar": [
           {
            "error_x": {
             "color": "#2a3f5f"
            },
            "error_y": {
             "color": "#2a3f5f"
            },
            "marker": {
             "line": {
              "color": "#E5ECF6",
              "width": 0.5
             },
             "pattern": {
              "fillmode": "overlay",
              "size": 10,
              "solidity": 0.2
             }
            },
            "type": "bar"
           }
          ],
          "barpolar": [
           {
            "marker": {
             "line": {
              "color": "#E5ECF6",
              "width": 0.5
             },
             "pattern": {
              "fillmode": "overlay",
              "size": 10,
              "solidity": 0.2
             }
            },
            "type": "barpolar"
           }
          ],
          "carpet": [
           {
            "aaxis": {
             "endlinecolor": "#2a3f5f",
             "gridcolor": "white",
             "linecolor": "white",
             "minorgridcolor": "white",
             "startlinecolor": "#2a3f5f"
            },
            "baxis": {
             "endlinecolor": "#2a3f5f",
             "gridcolor": "white",
             "linecolor": "white",
             "minorgridcolor": "white",
             "startlinecolor": "#2a3f5f"
            },
            "type": "carpet"
           }
          ],
          "choropleth": [
           {
            "colorbar": {
             "outlinewidth": 0,
             "ticks": ""
            },
            "type": "choropleth"
           }
          ],
          "contour": [
           {
            "colorbar": {
             "outlinewidth": 0,
             "ticks": ""
            },
            "colorscale": [
             [
              0,
              "#0d0887"
             ],
             [
              0.1111111111111111,
              "#46039f"
             ],
             [
              0.2222222222222222,
              "#7201a8"
             ],
             [
              0.3333333333333333,
              "#9c179e"
             ],
             [
              0.4444444444444444,
              "#bd3786"
             ],
             [
              0.5555555555555556,
              "#d8576b"
             ],
             [
              0.6666666666666666,
              "#ed7953"
             ],
             [
              0.7777777777777778,
              "#fb9f3a"
             ],
             [
              0.8888888888888888,
              "#fdca26"
             ],
             [
              1,
              "#f0f921"
             ]
            ],
            "type": "contour"
           }
          ],
          "contourcarpet": [
           {
            "colorbar": {
             "outlinewidth": 0,
             "ticks": ""
            },
            "type": "contourcarpet"
           }
          ],
          "heatmap": [
           {
            "colorbar": {
             "outlinewidth": 0,
             "ticks": ""
            },
            "colorscale": [
             [
              0,
              "#0d0887"
             ],
             [
              0.1111111111111111,
              "#46039f"
             ],
             [
              0.2222222222222222,
              "#7201a8"
             ],
             [
              0.3333333333333333,
              "#9c179e"
             ],
             [
              0.4444444444444444,
              "#bd3786"
             ],
             [
              0.5555555555555556,
              "#d8576b"
             ],
             [
              0.6666666666666666,
              "#ed7953"
             ],
             [
              0.7777777777777778,
              "#fb9f3a"
             ],
             [
              0.8888888888888888,
              "#fdca26"
             ],
             [
              1,
              "#f0f921"
             ]
            ],
            "type": "heatmap"
           }
          ],
          "heatmapgl": [
           {
            "colorbar": {
             "outlinewidth": 0,
             "ticks": ""
            },
            "colorscale": [
             [
              0,
              "#0d0887"
             ],
             [
              0.1111111111111111,
              "#46039f"
             ],
             [
              0.2222222222222222,
              "#7201a8"
             ],
             [
              0.3333333333333333,
              "#9c179e"
             ],
             [
              0.4444444444444444,
              "#bd3786"
             ],
             [
              0.5555555555555556,
              "#d8576b"
             ],
             [
              0.6666666666666666,
              "#ed7953"
             ],
             [
              0.7777777777777778,
              "#fb9f3a"
             ],
             [
              0.8888888888888888,
              "#fdca26"
             ],
             [
              1,
              "#f0f921"
             ]
            ],
            "type": "heatmapgl"
           }
          ],
          "histogram": [
           {
            "marker": {
             "pattern": {
              "fillmode": "overlay",
              "size": 10,
              "solidity": 0.2
             }
            },
            "type": "histogram"
           }
          ],
          "histogram2d": [
           {
            "colorbar": {
             "outlinewidth": 0,
             "ticks": ""
            },
            "colorscale": [
             [
              0,
              "#0d0887"
             ],
             [
              0.1111111111111111,
              "#46039f"
             ],
             [
              0.2222222222222222,
              "#7201a8"
             ],
             [
              0.3333333333333333,
              "#9c179e"
             ],
             [
              0.4444444444444444,
              "#bd3786"
             ],
             [
              0.5555555555555556,
              "#d8576b"
             ],
             [
              0.6666666666666666,
              "#ed7953"
             ],
             [
              0.7777777777777778,
              "#fb9f3a"
             ],
             [
              0.8888888888888888,
              "#fdca26"
             ],
             [
              1,
              "#f0f921"
             ]
            ],
            "type": "histogram2d"
           }
          ],
          "histogram2dcontour": [
           {
            "colorbar": {
             "outlinewidth": 0,
             "ticks": ""
            },
            "colorscale": [
             [
              0,
              "#0d0887"
             ],
             [
              0.1111111111111111,
              "#46039f"
             ],
             [
              0.2222222222222222,
              "#7201a8"
             ],
             [
              0.3333333333333333,
              "#9c179e"
             ],
             [
              0.4444444444444444,
              "#bd3786"
             ],
             [
              0.5555555555555556,
              "#d8576b"
             ],
             [
              0.6666666666666666,
              "#ed7953"
             ],
             [
              0.7777777777777778,
              "#fb9f3a"
             ],
             [
              0.8888888888888888,
              "#fdca26"
             ],
             [
              1,
              "#f0f921"
             ]
            ],
            "type": "histogram2dcontour"
           }
          ],
          "mesh3d": [
           {
            "colorbar": {
             "outlinewidth": 0,
             "ticks": ""
            },
            "type": "mesh3d"
           }
          ],
          "parcoords": [
           {
            "line": {
             "colorbar": {
              "outlinewidth": 0,
              "ticks": ""
             }
            },
            "type": "parcoords"
           }
          ],
          "pie": [
           {
            "automargin": true,
            "type": "pie"
           }
          ],
          "scatter": [
           {
            "marker": {
             "colorbar": {
              "outlinewidth": 0,
              "ticks": ""
             }
            },
            "type": "scatter"
           }
          ],
          "scatter3d": [
           {
            "line": {
             "colorbar": {
              "outlinewidth": 0,
              "ticks": ""
             }
            },
            "marker": {
             "colorbar": {
              "outlinewidth": 0,
              "ticks": ""
             }
            },
            "type": "scatter3d"
           }
          ],
          "scattercarpet": [
           {
            "marker": {
             "colorbar": {
              "outlinewidth": 0,
              "ticks": ""
             }
            },
            "type": "scattercarpet"
           }
          ],
          "scattergeo": [
           {
            "marker": {
             "colorbar": {
              "outlinewidth": 0,
              "ticks": ""
             }
            },
            "type": "scattergeo"
           }
          ],
          "scattergl": [
           {
            "marker": {
             "colorbar": {
              "outlinewidth": 0,
              "ticks": ""
             }
            },
            "type": "scattergl"
           }
          ],
          "scattermapbox": [
           {
            "marker": {
             "colorbar": {
              "outlinewidth": 0,
              "ticks": ""
             }
            },
            "type": "scattermapbox"
           }
          ],
          "scatterpolar": [
           {
            "marker": {
             "colorbar": {
              "outlinewidth": 0,
              "ticks": ""
             }
            },
            "type": "scatterpolar"
           }
          ],
          "scatterpolargl": [
           {
            "marker": {
             "colorbar": {
              "outlinewidth": 0,
              "ticks": ""
             }
            },
            "type": "scatterpolargl"
           }
          ],
          "scatterternary": [
           {
            "marker": {
             "colorbar": {
              "outlinewidth": 0,
              "ticks": ""
             }
            },
            "type": "scatterternary"
           }
          ],
          "surface": [
           {
            "colorbar": {
             "outlinewidth": 0,
             "ticks": ""
            },
            "colorscale": [
             [
              0,
              "#0d0887"
             ],
             [
              0.1111111111111111,
              "#46039f"
             ],
             [
              0.2222222222222222,
              "#7201a8"
             ],
             [
              0.3333333333333333,
              "#9c179e"
             ],
             [
              0.4444444444444444,
              "#bd3786"
             ],
             [
              0.5555555555555556,
              "#d8576b"
             ],
             [
              0.6666666666666666,
              "#ed7953"
             ],
             [
              0.7777777777777778,
              "#fb9f3a"
             ],
             [
              0.8888888888888888,
              "#fdca26"
             ],
             [
              1,
              "#f0f921"
             ]
            ],
            "type": "surface"
           }
          ],
          "table": [
           {
            "cells": {
             "fill": {
              "color": "#EBF0F8"
             },
             "line": {
              "color": "white"
             }
            },
            "header": {
             "fill": {
              "color": "#C8D4E3"
             },
             "line": {
              "color": "white"
             }
            },
            "type": "table"
           }
          ]
         },
         "layout": {
          "annotationdefaults": {
           "arrowcolor": "#2a3f5f",
           "arrowhead": 0,
           "arrowwidth": 1
          },
          "autotypenumbers": "strict",
          "coloraxis": {
           "colorbar": {
            "outlinewidth": 0,
            "ticks": ""
           }
          },
          "colorscale": {
           "diverging": [
            [
             0,
             "#8e0152"
            ],
            [
             0.1,
             "#c51b7d"
            ],
            [
             0.2,
             "#de77ae"
            ],
            [
             0.3,
             "#f1b6da"
            ],
            [
             0.4,
             "#fde0ef"
            ],
            [
             0.5,
             "#f7f7f7"
            ],
            [
             0.6,
             "#e6f5d0"
            ],
            [
             0.7,
             "#b8e186"
            ],
            [
             0.8,
             "#7fbc41"
            ],
            [
             0.9,
             "#4d9221"
            ],
            [
             1,
             "#276419"
            ]
           ],
           "sequential": [
            [
             0,
             "#0d0887"
            ],
            [
             0.1111111111111111,
             "#46039f"
            ],
            [
             0.2222222222222222,
             "#7201a8"
            ],
            [
             0.3333333333333333,
             "#9c179e"
            ],
            [
             0.4444444444444444,
             "#bd3786"
            ],
            [
             0.5555555555555556,
             "#d8576b"
            ],
            [
             0.6666666666666666,
             "#ed7953"
            ],
            [
             0.7777777777777778,
             "#fb9f3a"
            ],
            [
             0.8888888888888888,
             "#fdca26"
            ],
            [
             1,
             "#f0f921"
            ]
           ],
           "sequentialminus": [
            [
             0,
             "#0d0887"
            ],
            [
             0.1111111111111111,
             "#46039f"
            ],
            [
             0.2222222222222222,
             "#7201a8"
            ],
            [
             0.3333333333333333,
             "#9c179e"
            ],
            [
             0.4444444444444444,
             "#bd3786"
            ],
            [
             0.5555555555555556,
             "#d8576b"
            ],
            [
             0.6666666666666666,
             "#ed7953"
            ],
            [
             0.7777777777777778,
             "#fb9f3a"
            ],
            [
             0.8888888888888888,
             "#fdca26"
            ],
            [
             1,
             "#f0f921"
            ]
           ]
          },
          "colorway": [
           "#636efa",
           "#EF553B",
           "#00cc96",
           "#ab63fa",
           "#FFA15A",
           "#19d3f3",
           "#FF6692",
           "#B6E880",
           "#FF97FF",
           "#FECB52"
          ],
          "font": {
           "color": "#2a3f5f"
          },
          "geo": {
           "bgcolor": "white",
           "lakecolor": "white",
           "landcolor": "#E5ECF6",
           "showlakes": true,
           "showland": true,
           "subunitcolor": "white"
          },
          "hoverlabel": {
           "align": "left"
          },
          "hovermode": "closest",
          "mapbox": {
           "style": "light"
          },
          "paper_bgcolor": "white",
          "plot_bgcolor": "#E5ECF6",
          "polar": {
           "angularaxis": {
            "gridcolor": "white",
            "linecolor": "white",
            "ticks": ""
           },
           "bgcolor": "#E5ECF6",
           "radialaxis": {
            "gridcolor": "white",
            "linecolor": "white",
            "ticks": ""
           }
          },
          "scene": {
           "xaxis": {
            "backgroundcolor": "#E5ECF6",
            "gridcolor": "white",
            "gridwidth": 2,
            "linecolor": "white",
            "showbackground": true,
            "ticks": "",
            "zerolinecolor": "white"
           },
           "yaxis": {
            "backgroundcolor": "#E5ECF6",
            "gridcolor": "white",
            "gridwidth": 2,
            "linecolor": "white",
            "showbackground": true,
            "ticks": "",
            "zerolinecolor": "white"
           },
           "zaxis": {
            "backgroundcolor": "#E5ECF6",
            "gridcolor": "white",
            "gridwidth": 2,
            "linecolor": "white",
            "showbackground": true,
            "ticks": "",
            "zerolinecolor": "white"
           }
          },
          "shapedefaults": {
           "line": {
            "color": "#2a3f5f"
           }
          },
          "ternary": {
           "aaxis": {
            "gridcolor": "white",
            "linecolor": "white",
            "ticks": ""
           },
           "baxis": {
            "gridcolor": "white",
            "linecolor": "white",
            "ticks": ""
           },
           "bgcolor": "#E5ECF6",
           "caxis": {
            "gridcolor": "white",
            "linecolor": "white",
            "ticks": ""
           }
          },
          "title": {
           "x": 0.05
          },
          "xaxis": {
           "automargin": true,
           "gridcolor": "white",
           "linecolor": "white",
           "ticks": "",
           "title": {
            "standoff": 15
           },
           "zerolinecolor": "white",
           "zerolinewidth": 2
          },
          "yaxis": {
           "automargin": true,
           "gridcolor": "white",
           "linecolor": "white",
           "ticks": "",
           "title": {
            "standoff": 15
           },
           "zerolinecolor": "white",
           "zerolinewidth": 2
          }
         }
        },
        "title": {
         "font": {
          "color": "#4D5663"
         }
        },
        "xaxis": {
         "gridcolor": "#E1E5ED",
         "showgrid": true,
         "tickfont": {
          "color": "#4D5663"
         },
         "title": {
          "font": {
           "color": "#4D5663"
          },
          "text": ""
         },
         "zerolinecolor": "#E1E5ED"
        },
        "yaxis": {
         "gridcolor": "#E1E5ED",
         "showgrid": true,
         "tickfont": {
          "color": "#4D5663"
         },
         "title": {
          "font": {
           "color": "#4D5663"
          },
          "text": ""
         },
         "zerolinecolor": "#E1E5ED"
        }
       }
      },
      "text/html": [
       "<div>                            <div id=\"9cb7dcb4-f6e4-4898-817d-2bd19ead2b51\" class=\"plotly-graph-div\" style=\"height:525px; width:100%;\"></div>            <script type=\"text/javascript\">                require([\"plotly\"], function(Plotly) {                    window.PLOTLYENV=window.PLOTLYENV || {};\n",
       "                    window.PLOTLYENV.BASE_URL='https://plot.ly';                                    if (document.getElementById(\"9cb7dcb4-f6e4-4898-817d-2bd19ead2b51\")) {                    Plotly.newPlot(                        \"9cb7dcb4-f6e4-4898-817d-2bd19ead2b51\",                        [{\"colorscale\":[[0.0,\"rgb(165,0,38)\"],[0.1,\"rgb(215,48,39)\"],[0.2,\"rgb(244,109,67)\"],[0.3,\"rgb(253,174,97)\"],[0.4,\"rgb(254,224,144)\"],[0.5,\"rgb(255,255,191)\"],[0.6,\"rgb(224,243,248)\"],[0.7,\"rgb(171,217,233)\"],[0.8,\"rgb(116,173,209)\"],[0.9,\"rgb(69,117,180)\"],[1.0,\"rgb(49,54,149)\"]],\"x\":[0,1,2,3,4],\"y\":[\"x\",\"y\",\"z\"],\"z\":[[1,2,3,4,5],[10,20,30,20,10],[5,4,3,2,1]],\"type\":\"surface\"}],                        {\"legend\":{\"bgcolor\":\"#F5F6F9\",\"font\":{\"color\":\"#4D5663\"}},\"paper_bgcolor\":\"#F5F6F9\",\"plot_bgcolor\":\"#F5F6F9\",\"template\":{\"data\":{\"barpolar\":[{\"marker\":{\"line\":{\"color\":\"#E5ECF6\",\"width\":0.5},\"pattern\":{\"fillmode\":\"overlay\",\"size\":10,\"solidity\":0.2}},\"type\":\"barpolar\"}],\"bar\":[{\"error_x\":{\"color\":\"#2a3f5f\"},\"error_y\":{\"color\":\"#2a3f5f\"},\"marker\":{\"line\":{\"color\":\"#E5ECF6\",\"width\":0.5},\"pattern\":{\"fillmode\":\"overlay\",\"size\":10,\"solidity\":0.2}},\"type\":\"bar\"}],\"carpet\":[{\"aaxis\":{\"endlinecolor\":\"#2a3f5f\",\"gridcolor\":\"white\",\"linecolor\":\"white\",\"minorgridcolor\":\"white\",\"startlinecolor\":\"#2a3f5f\"},\"baxis\":{\"endlinecolor\":\"#2a3f5f\",\"gridcolor\":\"white\",\"linecolor\":\"white\",\"minorgridcolor\":\"white\",\"startlinecolor\":\"#2a3f5f\"},\"type\":\"carpet\"}],\"choropleth\":[{\"colorbar\":{\"outlinewidth\":0,\"ticks\":\"\"},\"type\":\"choropleth\"}],\"contourcarpet\":[{\"colorbar\":{\"outlinewidth\":0,\"ticks\":\"\"},\"type\":\"contourcarpet\"}],\"contour\":[{\"colorbar\":{\"outlinewidth\":0,\"ticks\":\"\"},\"colorscale\":[[0.0,\"#0d0887\"],[0.1111111111111111,\"#46039f\"],[0.2222222222222222,\"#7201a8\"],[0.3333333333333333,\"#9c179e\"],[0.4444444444444444,\"#bd3786\"],[0.5555555555555556,\"#d8576b\"],[0.6666666666666666,\"#ed7953\"],[0.7777777777777778,\"#fb9f3a\"],[0.8888888888888888,\"#fdca26\"],[1.0,\"#f0f921\"]],\"type\":\"contour\"}],\"heatmapgl\":[{\"colorbar\":{\"outlinewidth\":0,\"ticks\":\"\"},\"colorscale\":[[0.0,\"#0d0887\"],[0.1111111111111111,\"#46039f\"],[0.2222222222222222,\"#7201a8\"],[0.3333333333333333,\"#9c179e\"],[0.4444444444444444,\"#bd3786\"],[0.5555555555555556,\"#d8576b\"],[0.6666666666666666,\"#ed7953\"],[0.7777777777777778,\"#fb9f3a\"],[0.8888888888888888,\"#fdca26\"],[1.0,\"#f0f921\"]],\"type\":\"heatmapgl\"}],\"heatmap\":[{\"colorbar\":{\"outlinewidth\":0,\"ticks\":\"\"},\"colorscale\":[[0.0,\"#0d0887\"],[0.1111111111111111,\"#46039f\"],[0.2222222222222222,\"#7201a8\"],[0.3333333333333333,\"#9c179e\"],[0.4444444444444444,\"#bd3786\"],[0.5555555555555556,\"#d8576b\"],[0.6666666666666666,\"#ed7953\"],[0.7777777777777778,\"#fb9f3a\"],[0.8888888888888888,\"#fdca26\"],[1.0,\"#f0f921\"]],\"type\":\"heatmap\"}],\"histogram2dcontour\":[{\"colorbar\":{\"outlinewidth\":0,\"ticks\":\"\"},\"colorscale\":[[0.0,\"#0d0887\"],[0.1111111111111111,\"#46039f\"],[0.2222222222222222,\"#7201a8\"],[0.3333333333333333,\"#9c179e\"],[0.4444444444444444,\"#bd3786\"],[0.5555555555555556,\"#d8576b\"],[0.6666666666666666,\"#ed7953\"],[0.7777777777777778,\"#fb9f3a\"],[0.8888888888888888,\"#fdca26\"],[1.0,\"#f0f921\"]],\"type\":\"histogram2dcontour\"}],\"histogram2d\":[{\"colorbar\":{\"outlinewidth\":0,\"ticks\":\"\"},\"colorscale\":[[0.0,\"#0d0887\"],[0.1111111111111111,\"#46039f\"],[0.2222222222222222,\"#7201a8\"],[0.3333333333333333,\"#9c179e\"],[0.4444444444444444,\"#bd3786\"],[0.5555555555555556,\"#d8576b\"],[0.6666666666666666,\"#ed7953\"],[0.7777777777777778,\"#fb9f3a\"],[0.8888888888888888,\"#fdca26\"],[1.0,\"#f0f921\"]],\"type\":\"histogram2d\"}],\"histogram\":[{\"marker\":{\"pattern\":{\"fillmode\":\"overlay\",\"size\":10,\"solidity\":0.2}},\"type\":\"histogram\"}],\"mesh3d\":[{\"colorbar\":{\"outlinewidth\":0,\"ticks\":\"\"},\"type\":\"mesh3d\"}],\"parcoords\":[{\"line\":{\"colorbar\":{\"outlinewidth\":0,\"ticks\":\"\"}},\"type\":\"parcoords\"}],\"pie\":[{\"automargin\":true,\"type\":\"pie\"}],\"scatter3d\":[{\"line\":{\"colorbar\":{\"outlinewidth\":0,\"ticks\":\"\"}},\"marker\":{\"colorbar\":{\"outlinewidth\":0,\"ticks\":\"\"}},\"type\":\"scatter3d\"}],\"scattercarpet\":[{\"marker\":{\"colorbar\":{\"outlinewidth\":0,\"ticks\":\"\"}},\"type\":\"scattercarpet\"}],\"scattergeo\":[{\"marker\":{\"colorbar\":{\"outlinewidth\":0,\"ticks\":\"\"}},\"type\":\"scattergeo\"}],\"scattergl\":[{\"marker\":{\"colorbar\":{\"outlinewidth\":0,\"ticks\":\"\"}},\"type\":\"scattergl\"}],\"scattermapbox\":[{\"marker\":{\"colorbar\":{\"outlinewidth\":0,\"ticks\":\"\"}},\"type\":\"scattermapbox\"}],\"scatterpolargl\":[{\"marker\":{\"colorbar\":{\"outlinewidth\":0,\"ticks\":\"\"}},\"type\":\"scatterpolargl\"}],\"scatterpolar\":[{\"marker\":{\"colorbar\":{\"outlinewidth\":0,\"ticks\":\"\"}},\"type\":\"scatterpolar\"}],\"scatter\":[{\"marker\":{\"colorbar\":{\"outlinewidth\":0,\"ticks\":\"\"}},\"type\":\"scatter\"}],\"scatterternary\":[{\"marker\":{\"colorbar\":{\"outlinewidth\":0,\"ticks\":\"\"}},\"type\":\"scatterternary\"}],\"surface\":[{\"colorbar\":{\"outlinewidth\":0,\"ticks\":\"\"},\"colorscale\":[[0.0,\"#0d0887\"],[0.1111111111111111,\"#46039f\"],[0.2222222222222222,\"#7201a8\"],[0.3333333333333333,\"#9c179e\"],[0.4444444444444444,\"#bd3786\"],[0.5555555555555556,\"#d8576b\"],[0.6666666666666666,\"#ed7953\"],[0.7777777777777778,\"#fb9f3a\"],[0.8888888888888888,\"#fdca26\"],[1.0,\"#f0f921\"]],\"type\":\"surface\"}],\"table\":[{\"cells\":{\"fill\":{\"color\":\"#EBF0F8\"},\"line\":{\"color\":\"white\"}},\"header\":{\"fill\":{\"color\":\"#C8D4E3\"},\"line\":{\"color\":\"white\"}},\"type\":\"table\"}]},\"layout\":{\"annotationdefaults\":{\"arrowcolor\":\"#2a3f5f\",\"arrowhead\":0,\"arrowwidth\":1},\"autotypenumbers\":\"strict\",\"coloraxis\":{\"colorbar\":{\"outlinewidth\":0,\"ticks\":\"\"}},\"colorscale\":{\"diverging\":[[0,\"#8e0152\"],[0.1,\"#c51b7d\"],[0.2,\"#de77ae\"],[0.3,\"#f1b6da\"],[0.4,\"#fde0ef\"],[0.5,\"#f7f7f7\"],[0.6,\"#e6f5d0\"],[0.7,\"#b8e186\"],[0.8,\"#7fbc41\"],[0.9,\"#4d9221\"],[1,\"#276419\"]],\"sequential\":[[0.0,\"#0d0887\"],[0.1111111111111111,\"#46039f\"],[0.2222222222222222,\"#7201a8\"],[0.3333333333333333,\"#9c179e\"],[0.4444444444444444,\"#bd3786\"],[0.5555555555555556,\"#d8576b\"],[0.6666666666666666,\"#ed7953\"],[0.7777777777777778,\"#fb9f3a\"],[0.8888888888888888,\"#fdca26\"],[1.0,\"#f0f921\"]],\"sequentialminus\":[[0.0,\"#0d0887\"],[0.1111111111111111,\"#46039f\"],[0.2222222222222222,\"#7201a8\"],[0.3333333333333333,\"#9c179e\"],[0.4444444444444444,\"#bd3786\"],[0.5555555555555556,\"#d8576b\"],[0.6666666666666666,\"#ed7953\"],[0.7777777777777778,\"#fb9f3a\"],[0.8888888888888888,\"#fdca26\"],[1.0,\"#f0f921\"]]},\"colorway\":[\"#636efa\",\"#EF553B\",\"#00cc96\",\"#ab63fa\",\"#FFA15A\",\"#19d3f3\",\"#FF6692\",\"#B6E880\",\"#FF97FF\",\"#FECB52\"],\"font\":{\"color\":\"#2a3f5f\"},\"geo\":{\"bgcolor\":\"white\",\"lakecolor\":\"white\",\"landcolor\":\"#E5ECF6\",\"showlakes\":true,\"showland\":true,\"subunitcolor\":\"white\"},\"hoverlabel\":{\"align\":\"left\"},\"hovermode\":\"closest\",\"mapbox\":{\"style\":\"light\"},\"paper_bgcolor\":\"white\",\"plot_bgcolor\":\"#E5ECF6\",\"polar\":{\"angularaxis\":{\"gridcolor\":\"white\",\"linecolor\":\"white\",\"ticks\":\"\"},\"bgcolor\":\"#E5ECF6\",\"radialaxis\":{\"gridcolor\":\"white\",\"linecolor\":\"white\",\"ticks\":\"\"}},\"scene\":{\"xaxis\":{\"backgroundcolor\":\"#E5ECF6\",\"gridcolor\":\"white\",\"gridwidth\":2,\"linecolor\":\"white\",\"showbackground\":true,\"ticks\":\"\",\"zerolinecolor\":\"white\"},\"yaxis\":{\"backgroundcolor\":\"#E5ECF6\",\"gridcolor\":\"white\",\"gridwidth\":2,\"linecolor\":\"white\",\"showbackground\":true,\"ticks\":\"\",\"zerolinecolor\":\"white\"},\"zaxis\":{\"backgroundcolor\":\"#E5ECF6\",\"gridcolor\":\"white\",\"gridwidth\":2,\"linecolor\":\"white\",\"showbackground\":true,\"ticks\":\"\",\"zerolinecolor\":\"white\"}},\"shapedefaults\":{\"line\":{\"color\":\"#2a3f5f\"}},\"ternary\":{\"aaxis\":{\"gridcolor\":\"white\",\"linecolor\":\"white\",\"ticks\":\"\"},\"baxis\":{\"gridcolor\":\"white\",\"linecolor\":\"white\",\"ticks\":\"\"},\"bgcolor\":\"#E5ECF6\",\"caxis\":{\"gridcolor\":\"white\",\"linecolor\":\"white\",\"ticks\":\"\"}},\"title\":{\"x\":0.05},\"xaxis\":{\"automargin\":true,\"gridcolor\":\"white\",\"linecolor\":\"white\",\"ticks\":\"\",\"title\":{\"standoff\":15},\"zerolinecolor\":\"white\",\"zerolinewidth\":2},\"yaxis\":{\"automargin\":true,\"gridcolor\":\"white\",\"linecolor\":\"white\",\"ticks\":\"\",\"title\":{\"standoff\":15},\"zerolinecolor\":\"white\",\"zerolinewidth\":2}}},\"title\":{\"font\":{\"color\":\"#4D5663\"}},\"xaxis\":{\"gridcolor\":\"#E1E5ED\",\"showgrid\":true,\"tickfont\":{\"color\":\"#4D5663\"},\"title\":{\"font\":{\"color\":\"#4D5663\"},\"text\":\"\"},\"zerolinecolor\":\"#E1E5ED\"},\"yaxis\":{\"gridcolor\":\"#E1E5ED\",\"showgrid\":true,\"tickfont\":{\"color\":\"#4D5663\"},\"title\":{\"font\":{\"color\":\"#4D5663\"},\"text\":\"\"},\"zerolinecolor\":\"#E1E5ED\"}},                        {\"showLink\": true, \"linkText\": \"Export to plot.ly\", \"plotlyServerURL\": \"https://plot.ly\", \"responsive\": true}                    ).then(function(){\n",
       "                            \n",
       "var gd = document.getElementById('9cb7dcb4-f6e4-4898-817d-2bd19ead2b51');\n",
       "var x = new MutationObserver(function (mutations, observer) {{\n",
       "        var display = window.getComputedStyle(gd).display;\n",
       "        if (!display || display === 'none') {{\n",
       "            console.log([gd, 'removed!']);\n",
       "            Plotly.purge(gd);\n",
       "            observer.disconnect();\n",
       "        }}\n",
       "}});\n",
       "\n",
       "// Listen for the removal of the full notebook cells\n",
       "var notebookContainer = gd.closest('#notebook-container');\n",
       "if (notebookContainer) {{\n",
       "    x.observe(notebookContainer, {childList: true});\n",
       "}}\n",
       "\n",
       "// Listen for the clearing of the current output cell\n",
       "var outputEl = gd.closest('.output');\n",
       "if (outputEl) {{\n",
       "    x.observe(outputEl, {childList: true});\n",
       "}}\n",
       "\n",
       "                        })                };                });            </script>        </div>"
      ]
     },
     "metadata": {},
     "output_type": "display_data"
    }
   ],
   "source": [
    "df3.iplot(kind='surface',colorscale='rdylbu')"
   ]
  },
  {
   "cell_type": "code",
   "execution_count": 26,
   "id": "bca86ae7",
   "metadata": {},
   "outputs": [
    {
     "data": {
      "text/html": [
       "<div>\n",
       "<style scoped>\n",
       "    .dataframe tbody tr th:only-of-type {\n",
       "        vertical-align: middle;\n",
       "    }\n",
       "\n",
       "    .dataframe tbody tr th {\n",
       "        vertical-align: top;\n",
       "    }\n",
       "\n",
       "    .dataframe thead th {\n",
       "        text-align: right;\n",
       "    }\n",
       "</style>\n",
       "<table border=\"1\" class=\"dataframe\">\n",
       "  <thead>\n",
       "    <tr style=\"text-align: right;\">\n",
       "      <th></th>\n",
       "      <th>A</th>\n",
       "      <th>B</th>\n",
       "      <th>C</th>\n",
       "      <th>D</th>\n",
       "    </tr>\n",
       "  </thead>\n",
       "  <tbody>\n",
       "    <tr>\n",
       "      <th>0</th>\n",
       "      <td>-1.417923</td>\n",
       "      <td>0.439168</td>\n",
       "      <td>0.063292</td>\n",
       "      <td>-1.938921</td>\n",
       "    </tr>\n",
       "    <tr>\n",
       "      <th>1</th>\n",
       "      <td>-0.462642</td>\n",
       "      <td>0.775417</td>\n",
       "      <td>0.601614</td>\n",
       "      <td>1.031875</td>\n",
       "    </tr>\n",
       "    <tr>\n",
       "      <th>2</th>\n",
       "      <td>0.751522</td>\n",
       "      <td>-1.766184</td>\n",
       "      <td>-0.385981</td>\n",
       "      <td>0.196092</td>\n",
       "    </tr>\n",
       "    <tr>\n",
       "      <th>3</th>\n",
       "      <td>0.017215</td>\n",
       "      <td>0.467426</td>\n",
       "      <td>-1.794838</td>\n",
       "      <td>2.084504</td>\n",
       "    </tr>\n",
       "    <tr>\n",
       "      <th>4</th>\n",
       "      <td>-2.119230</td>\n",
       "      <td>0.293210</td>\n",
       "      <td>0.692260</td>\n",
       "      <td>-0.687929</td>\n",
       "    </tr>\n",
       "    <tr>\n",
       "      <th>...</th>\n",
       "      <td>...</td>\n",
       "      <td>...</td>\n",
       "      <td>...</td>\n",
       "      <td>...</td>\n",
       "    </tr>\n",
       "    <tr>\n",
       "      <th>95</th>\n",
       "      <td>-1.241745</td>\n",
       "      <td>0.826819</td>\n",
       "      <td>-1.548992</td>\n",
       "      <td>-0.545357</td>\n",
       "    </tr>\n",
       "    <tr>\n",
       "      <th>96</th>\n",
       "      <td>-0.521749</td>\n",
       "      <td>1.952794</td>\n",
       "      <td>-0.741054</td>\n",
       "      <td>0.966964</td>\n",
       "    </tr>\n",
       "    <tr>\n",
       "      <th>97</th>\n",
       "      <td>0.754201</td>\n",
       "      <td>0.810951</td>\n",
       "      <td>0.486425</td>\n",
       "      <td>0.441649</td>\n",
       "    </tr>\n",
       "    <tr>\n",
       "      <th>98</th>\n",
       "      <td>-1.145181</td>\n",
       "      <td>-0.441203</td>\n",
       "      <td>-0.666655</td>\n",
       "      <td>-2.737373</td>\n",
       "    </tr>\n",
       "    <tr>\n",
       "      <th>99</th>\n",
       "      <td>1.674052</td>\n",
       "      <td>0.407627</td>\n",
       "      <td>1.380917</td>\n",
       "      <td>-0.315058</td>\n",
       "    </tr>\n",
       "  </tbody>\n",
       "</table>\n",
       "<p>100 rows × 4 columns</p>\n",
       "</div>"
      ],
      "text/plain": [
       "           A         B         C         D\n",
       "0  -1.417923  0.439168  0.063292 -1.938921\n",
       "1  -0.462642  0.775417  0.601614  1.031875\n",
       "2   0.751522 -1.766184 -0.385981  0.196092\n",
       "3   0.017215  0.467426 -1.794838  2.084504\n",
       "4  -2.119230  0.293210  0.692260 -0.687929\n",
       "..       ...       ...       ...       ...\n",
       "95 -1.241745  0.826819 -1.548992 -0.545357\n",
       "96 -0.521749  1.952794 -0.741054  0.966964\n",
       "97  0.754201  0.810951  0.486425  0.441649\n",
       "98 -1.145181 -0.441203 -0.666655 -2.737373\n",
       "99  1.674052  0.407627  1.380917 -0.315058\n",
       "\n",
       "[100 rows x 4 columns]"
      ]
     },
     "execution_count": 26,
     "metadata": {},
     "output_type": "execute_result"
    }
   ],
   "source": [
    "df\n"
   ]
  },
  {
   "cell_type": "code",
   "execution_count": 27,
   "id": "3f91b132",
   "metadata": {},
   "outputs": [
    {
     "data": {
      "application/vnd.plotly.v1+json": {
       "config": {
        "linkText": "Export to plot.ly",
        "plotlyServerURL": "https://plot.ly",
        "showLink": true
       },
       "data": [
        {
         "histfunc": "count",
         "histnorm": "",
         "marker": {
          "color": "rgba(255, 153, 51, 1.0)",
          "line": {
           "color": "#4D5663",
           "width": 1.3
          }
         },
         "name": "A",
         "nbinsx": 50,
         "opacity": 0.8,
         "orientation": "v",
         "type": "histogram",
         "x": [
          -1.4179226392462503,
          -0.46264200324192123,
          0.7515224608796539,
          0.017214914882547446,
          -2.119230156508853,
          1.4246987135038927,
          -1.3484391107921905,
          0.6432498838271453,
          -0.9263864887473827,
          0.7570861795056825,
          0.07543918980622479,
          1.1599339441805279,
          -0.04608268499591076,
          -0.09120078183586999,
          0.8842914961718378,
          -0.9162025719299867,
          -1.2610444177759146,
          0.027904167487635967,
          -0.7061578863184852,
          0.7709016638285334,
          -0.8539166153517274,
          0.7309733763722845,
          -1.7691103627746505,
          1.263558824772134,
          0.4717765277347702,
          0.557405859177239,
          -1.6819089715393656,
          1.0025284313403557,
          1.572525731929163,
          -0.9650143742388076,
          1.151517875183336,
          -0.18247700098496303,
          -0.7167113193989513,
          1.1761072211193844,
          0.12819699293539916,
          -0.23688078197346668,
          -0.560705340480975,
          -0.39787163984807145,
          1.3382710439775771,
          -1.7798709075126007,
          -1.2702252329912076,
          -0.4152839220015532,
          0.17542127517078324,
          0.39285448248880483,
          0.9045840149471326,
          -0.16994995097364154,
          0.3381582060118401,
          0.2063929493612841,
          -0.11094598121380154,
          0.7974586479279469,
          -2.199222319526443,
          1.3997599864684436,
          0.22941627710272822,
          1.4240802742453296,
          0.3094390144366311,
          1.5403747340754785,
          0.5810551927052852,
          -1.066762083853598,
          -0.059946047063189144,
          0.22949791684170903,
          0.8327749881915162,
          -0.06636372674054501,
          -0.6190169447247864,
          2.0048868335375056,
          1.736487965277091,
          -1.3831774356984614,
          1.4976344360500824,
          -0.7067197193609598,
          -0.4385844889747408,
          -0.9353036023038812,
          -0.47593035642229686,
          1.6132806108278546,
          -0.6287717679502393,
          1.0345780523748735,
          -1.27284403429772,
          -0.21598606336809065,
          -0.21383616429784602,
          3.2313217531556826,
          1.3382365732922021,
          -0.22487702362562872,
          2.340429170474291,
          0.6271993811365263,
          1.997890339440614,
          -2.033624272129717,
          0.32279225575672327,
          0.8666550678088079,
          0.8252385648058315,
          -1.657914673275361,
          1.2379383904314973,
          0.7149995599320481,
          -1.1761176335038575,
          0.5706312135572416,
          -0.4558503278911321,
          0.37983919034349595,
          0.09595899429015453,
          -1.2417447649974065,
          -0.5217493081296127,
          0.7542010755173852,
          -1.145180906491648,
          1.6740518150812944
         ]
        }
       ],
       "layout": {
        "barmode": "overlay",
        "legend": {
         "bgcolor": "#F5F6F9",
         "font": {
          "color": "#4D5663"
         }
        },
        "paper_bgcolor": "#F5F6F9",
        "plot_bgcolor": "#F5F6F9",
        "template": {
         "data": {
          "bar": [
           {
            "error_x": {
             "color": "#2a3f5f"
            },
            "error_y": {
             "color": "#2a3f5f"
            },
            "marker": {
             "line": {
              "color": "#E5ECF6",
              "width": 0.5
             },
             "pattern": {
              "fillmode": "overlay",
              "size": 10,
              "solidity": 0.2
             }
            },
            "type": "bar"
           }
          ],
          "barpolar": [
           {
            "marker": {
             "line": {
              "color": "#E5ECF6",
              "width": 0.5
             },
             "pattern": {
              "fillmode": "overlay",
              "size": 10,
              "solidity": 0.2
             }
            },
            "type": "barpolar"
           }
          ],
          "carpet": [
           {
            "aaxis": {
             "endlinecolor": "#2a3f5f",
             "gridcolor": "white",
             "linecolor": "white",
             "minorgridcolor": "white",
             "startlinecolor": "#2a3f5f"
            },
            "baxis": {
             "endlinecolor": "#2a3f5f",
             "gridcolor": "white",
             "linecolor": "white",
             "minorgridcolor": "white",
             "startlinecolor": "#2a3f5f"
            },
            "type": "carpet"
           }
          ],
          "choropleth": [
           {
            "colorbar": {
             "outlinewidth": 0,
             "ticks": ""
            },
            "type": "choropleth"
           }
          ],
          "contour": [
           {
            "colorbar": {
             "outlinewidth": 0,
             "ticks": ""
            },
            "colorscale": [
             [
              0,
              "#0d0887"
             ],
             [
              0.1111111111111111,
              "#46039f"
             ],
             [
              0.2222222222222222,
              "#7201a8"
             ],
             [
              0.3333333333333333,
              "#9c179e"
             ],
             [
              0.4444444444444444,
              "#bd3786"
             ],
             [
              0.5555555555555556,
              "#d8576b"
             ],
             [
              0.6666666666666666,
              "#ed7953"
             ],
             [
              0.7777777777777778,
              "#fb9f3a"
             ],
             [
              0.8888888888888888,
              "#fdca26"
             ],
             [
              1,
              "#f0f921"
             ]
            ],
            "type": "contour"
           }
          ],
          "contourcarpet": [
           {
            "colorbar": {
             "outlinewidth": 0,
             "ticks": ""
            },
            "type": "contourcarpet"
           }
          ],
          "heatmap": [
           {
            "colorbar": {
             "outlinewidth": 0,
             "ticks": ""
            },
            "colorscale": [
             [
              0,
              "#0d0887"
             ],
             [
              0.1111111111111111,
              "#46039f"
             ],
             [
              0.2222222222222222,
              "#7201a8"
             ],
             [
              0.3333333333333333,
              "#9c179e"
             ],
             [
              0.4444444444444444,
              "#bd3786"
             ],
             [
              0.5555555555555556,
              "#d8576b"
             ],
             [
              0.6666666666666666,
              "#ed7953"
             ],
             [
              0.7777777777777778,
              "#fb9f3a"
             ],
             [
              0.8888888888888888,
              "#fdca26"
             ],
             [
              1,
              "#f0f921"
             ]
            ],
            "type": "heatmap"
           }
          ],
          "heatmapgl": [
           {
            "colorbar": {
             "outlinewidth": 0,
             "ticks": ""
            },
            "colorscale": [
             [
              0,
              "#0d0887"
             ],
             [
              0.1111111111111111,
              "#46039f"
             ],
             [
              0.2222222222222222,
              "#7201a8"
             ],
             [
              0.3333333333333333,
              "#9c179e"
             ],
             [
              0.4444444444444444,
              "#bd3786"
             ],
             [
              0.5555555555555556,
              "#d8576b"
             ],
             [
              0.6666666666666666,
              "#ed7953"
             ],
             [
              0.7777777777777778,
              "#fb9f3a"
             ],
             [
              0.8888888888888888,
              "#fdca26"
             ],
             [
              1,
              "#f0f921"
             ]
            ],
            "type": "heatmapgl"
           }
          ],
          "histogram": [
           {
            "marker": {
             "pattern": {
              "fillmode": "overlay",
              "size": 10,
              "solidity": 0.2
             }
            },
            "type": "histogram"
           }
          ],
          "histogram2d": [
           {
            "colorbar": {
             "outlinewidth": 0,
             "ticks": ""
            },
            "colorscale": [
             [
              0,
              "#0d0887"
             ],
             [
              0.1111111111111111,
              "#46039f"
             ],
             [
              0.2222222222222222,
              "#7201a8"
             ],
             [
              0.3333333333333333,
              "#9c179e"
             ],
             [
              0.4444444444444444,
              "#bd3786"
             ],
             [
              0.5555555555555556,
              "#d8576b"
             ],
             [
              0.6666666666666666,
              "#ed7953"
             ],
             [
              0.7777777777777778,
              "#fb9f3a"
             ],
             [
              0.8888888888888888,
              "#fdca26"
             ],
             [
              1,
              "#f0f921"
             ]
            ],
            "type": "histogram2d"
           }
          ],
          "histogram2dcontour": [
           {
            "colorbar": {
             "outlinewidth": 0,
             "ticks": ""
            },
            "colorscale": [
             [
              0,
              "#0d0887"
             ],
             [
              0.1111111111111111,
              "#46039f"
             ],
             [
              0.2222222222222222,
              "#7201a8"
             ],
             [
              0.3333333333333333,
              "#9c179e"
             ],
             [
              0.4444444444444444,
              "#bd3786"
             ],
             [
              0.5555555555555556,
              "#d8576b"
             ],
             [
              0.6666666666666666,
              "#ed7953"
             ],
             [
              0.7777777777777778,
              "#fb9f3a"
             ],
             [
              0.8888888888888888,
              "#fdca26"
             ],
             [
              1,
              "#f0f921"
             ]
            ],
            "type": "histogram2dcontour"
           }
          ],
          "mesh3d": [
           {
            "colorbar": {
             "outlinewidth": 0,
             "ticks": ""
            },
            "type": "mesh3d"
           }
          ],
          "parcoords": [
           {
            "line": {
             "colorbar": {
              "outlinewidth": 0,
              "ticks": ""
             }
            },
            "type": "parcoords"
           }
          ],
          "pie": [
           {
            "automargin": true,
            "type": "pie"
           }
          ],
          "scatter": [
           {
            "marker": {
             "colorbar": {
              "outlinewidth": 0,
              "ticks": ""
             }
            },
            "type": "scatter"
           }
          ],
          "scatter3d": [
           {
            "line": {
             "colorbar": {
              "outlinewidth": 0,
              "ticks": ""
             }
            },
            "marker": {
             "colorbar": {
              "outlinewidth": 0,
              "ticks": ""
             }
            },
            "type": "scatter3d"
           }
          ],
          "scattercarpet": [
           {
            "marker": {
             "colorbar": {
              "outlinewidth": 0,
              "ticks": ""
             }
            },
            "type": "scattercarpet"
           }
          ],
          "scattergeo": [
           {
            "marker": {
             "colorbar": {
              "outlinewidth": 0,
              "ticks": ""
             }
            },
            "type": "scattergeo"
           }
          ],
          "scattergl": [
           {
            "marker": {
             "colorbar": {
              "outlinewidth": 0,
              "ticks": ""
             }
            },
            "type": "scattergl"
           }
          ],
          "scattermapbox": [
           {
            "marker": {
             "colorbar": {
              "outlinewidth": 0,
              "ticks": ""
             }
            },
            "type": "scattermapbox"
           }
          ],
          "scatterpolar": [
           {
            "marker": {
             "colorbar": {
              "outlinewidth": 0,
              "ticks": ""
             }
            },
            "type": "scatterpolar"
           }
          ],
          "scatterpolargl": [
           {
            "marker": {
             "colorbar": {
              "outlinewidth": 0,
              "ticks": ""
             }
            },
            "type": "scatterpolargl"
           }
          ],
          "scatterternary": [
           {
            "marker": {
             "colorbar": {
              "outlinewidth": 0,
              "ticks": ""
             }
            },
            "type": "scatterternary"
           }
          ],
          "surface": [
           {
            "colorbar": {
             "outlinewidth": 0,
             "ticks": ""
            },
            "colorscale": [
             [
              0,
              "#0d0887"
             ],
             [
              0.1111111111111111,
              "#46039f"
             ],
             [
              0.2222222222222222,
              "#7201a8"
             ],
             [
              0.3333333333333333,
              "#9c179e"
             ],
             [
              0.4444444444444444,
              "#bd3786"
             ],
             [
              0.5555555555555556,
              "#d8576b"
             ],
             [
              0.6666666666666666,
              "#ed7953"
             ],
             [
              0.7777777777777778,
              "#fb9f3a"
             ],
             [
              0.8888888888888888,
              "#fdca26"
             ],
             [
              1,
              "#f0f921"
             ]
            ],
            "type": "surface"
           }
          ],
          "table": [
           {
            "cells": {
             "fill": {
              "color": "#EBF0F8"
             },
             "line": {
              "color": "white"
             }
            },
            "header": {
             "fill": {
              "color": "#C8D4E3"
             },
             "line": {
              "color": "white"
             }
            },
            "type": "table"
           }
          ]
         },
         "layout": {
          "annotationdefaults": {
           "arrowcolor": "#2a3f5f",
           "arrowhead": 0,
           "arrowwidth": 1
          },
          "autotypenumbers": "strict",
          "coloraxis": {
           "colorbar": {
            "outlinewidth": 0,
            "ticks": ""
           }
          },
          "colorscale": {
           "diverging": [
            [
             0,
             "#8e0152"
            ],
            [
             0.1,
             "#c51b7d"
            ],
            [
             0.2,
             "#de77ae"
            ],
            [
             0.3,
             "#f1b6da"
            ],
            [
             0.4,
             "#fde0ef"
            ],
            [
             0.5,
             "#f7f7f7"
            ],
            [
             0.6,
             "#e6f5d0"
            ],
            [
             0.7,
             "#b8e186"
            ],
            [
             0.8,
             "#7fbc41"
            ],
            [
             0.9,
             "#4d9221"
            ],
            [
             1,
             "#276419"
            ]
           ],
           "sequential": [
            [
             0,
             "#0d0887"
            ],
            [
             0.1111111111111111,
             "#46039f"
            ],
            [
             0.2222222222222222,
             "#7201a8"
            ],
            [
             0.3333333333333333,
             "#9c179e"
            ],
            [
             0.4444444444444444,
             "#bd3786"
            ],
            [
             0.5555555555555556,
             "#d8576b"
            ],
            [
             0.6666666666666666,
             "#ed7953"
            ],
            [
             0.7777777777777778,
             "#fb9f3a"
            ],
            [
             0.8888888888888888,
             "#fdca26"
            ],
            [
             1,
             "#f0f921"
            ]
           ],
           "sequentialminus": [
            [
             0,
             "#0d0887"
            ],
            [
             0.1111111111111111,
             "#46039f"
            ],
            [
             0.2222222222222222,
             "#7201a8"
            ],
            [
             0.3333333333333333,
             "#9c179e"
            ],
            [
             0.4444444444444444,
             "#bd3786"
            ],
            [
             0.5555555555555556,
             "#d8576b"
            ],
            [
             0.6666666666666666,
             "#ed7953"
            ],
            [
             0.7777777777777778,
             "#fb9f3a"
            ],
            [
             0.8888888888888888,
             "#fdca26"
            ],
            [
             1,
             "#f0f921"
            ]
           ]
          },
          "colorway": [
           "#636efa",
           "#EF553B",
           "#00cc96",
           "#ab63fa",
           "#FFA15A",
           "#19d3f3",
           "#FF6692",
           "#B6E880",
           "#FF97FF",
           "#FECB52"
          ],
          "font": {
           "color": "#2a3f5f"
          },
          "geo": {
           "bgcolor": "white",
           "lakecolor": "white",
           "landcolor": "#E5ECF6",
           "showlakes": true,
           "showland": true,
           "subunitcolor": "white"
          },
          "hoverlabel": {
           "align": "left"
          },
          "hovermode": "closest",
          "mapbox": {
           "style": "light"
          },
          "paper_bgcolor": "white",
          "plot_bgcolor": "#E5ECF6",
          "polar": {
           "angularaxis": {
            "gridcolor": "white",
            "linecolor": "white",
            "ticks": ""
           },
           "bgcolor": "#E5ECF6",
           "radialaxis": {
            "gridcolor": "white",
            "linecolor": "white",
            "ticks": ""
           }
          },
          "scene": {
           "xaxis": {
            "backgroundcolor": "#E5ECF6",
            "gridcolor": "white",
            "gridwidth": 2,
            "linecolor": "white",
            "showbackground": true,
            "ticks": "",
            "zerolinecolor": "white"
           },
           "yaxis": {
            "backgroundcolor": "#E5ECF6",
            "gridcolor": "white",
            "gridwidth": 2,
            "linecolor": "white",
            "showbackground": true,
            "ticks": "",
            "zerolinecolor": "white"
           },
           "zaxis": {
            "backgroundcolor": "#E5ECF6",
            "gridcolor": "white",
            "gridwidth": 2,
            "linecolor": "white",
            "showbackground": true,
            "ticks": "",
            "zerolinecolor": "white"
           }
          },
          "shapedefaults": {
           "line": {
            "color": "#2a3f5f"
           }
          },
          "ternary": {
           "aaxis": {
            "gridcolor": "white",
            "linecolor": "white",
            "ticks": ""
           },
           "baxis": {
            "gridcolor": "white",
            "linecolor": "white",
            "ticks": ""
           },
           "bgcolor": "#E5ECF6",
           "caxis": {
            "gridcolor": "white",
            "linecolor": "white",
            "ticks": ""
           }
          },
          "title": {
           "x": 0.05
          },
          "xaxis": {
           "automargin": true,
           "gridcolor": "white",
           "linecolor": "white",
           "ticks": "",
           "title": {
            "standoff": 15
           },
           "zerolinecolor": "white",
           "zerolinewidth": 2
          },
          "yaxis": {
           "automargin": true,
           "gridcolor": "white",
           "linecolor": "white",
           "ticks": "",
           "title": {
            "standoff": 15
           },
           "zerolinecolor": "white",
           "zerolinewidth": 2
          }
         }
        },
        "title": {
         "font": {
          "color": "#4D5663"
         }
        },
        "xaxis": {
         "gridcolor": "#E1E5ED",
         "showgrid": true,
         "tickfont": {
          "color": "#4D5663"
         },
         "title": {
          "font": {
           "color": "#4D5663"
          },
          "text": ""
         },
         "zerolinecolor": "#E1E5ED"
        },
        "yaxis": {
         "gridcolor": "#E1E5ED",
         "showgrid": true,
         "tickfont": {
          "color": "#4D5663"
         },
         "title": {
          "font": {
           "color": "#4D5663"
          },
          "text": ""
         },
         "zerolinecolor": "#E1E5ED"
        }
       }
      },
      "text/html": [
       "<div>                            <div id=\"d2c38f36-691b-44e1-84fd-0596d5cb93d4\" class=\"plotly-graph-div\" style=\"height:525px; width:100%;\"></div>            <script type=\"text/javascript\">                require([\"plotly\"], function(Plotly) {                    window.PLOTLYENV=window.PLOTLYENV || {};\n",
       "                    window.PLOTLYENV.BASE_URL='https://plot.ly';                                    if (document.getElementById(\"d2c38f36-691b-44e1-84fd-0596d5cb93d4\")) {                    Plotly.newPlot(                        \"d2c38f36-691b-44e1-84fd-0596d5cb93d4\",                        [{\"histfunc\":\"count\",\"histnorm\":\"\",\"marker\":{\"color\":\"rgba(255, 153, 51, 1.0)\",\"line\":{\"color\":\"#4D5663\",\"width\":1.3}},\"name\":\"A\",\"nbinsx\":50,\"opacity\":0.8,\"orientation\":\"v\",\"x\":[-1.4179226392462503,-0.46264200324192123,0.7515224608796539,0.017214914882547446,-2.119230156508853,1.4246987135038927,-1.3484391107921905,0.6432498838271453,-0.9263864887473827,0.7570861795056825,0.07543918980622479,1.1599339441805279,-0.04608268499591076,-0.09120078183586999,0.8842914961718378,-0.9162025719299867,-1.2610444177759146,0.027904167487635967,-0.7061578863184852,0.7709016638285334,-0.8539166153517274,0.7309733763722845,-1.7691103627746505,1.263558824772134,0.4717765277347702,0.557405859177239,-1.6819089715393656,1.0025284313403557,1.572525731929163,-0.9650143742388076,1.151517875183336,-0.18247700098496303,-0.7167113193989513,1.1761072211193844,0.12819699293539916,-0.23688078197346668,-0.560705340480975,-0.39787163984807145,1.3382710439775771,-1.7798709075126007,-1.2702252329912076,-0.4152839220015532,0.17542127517078324,0.39285448248880483,0.9045840149471326,-0.16994995097364154,0.3381582060118401,0.2063929493612841,-0.11094598121380154,0.7974586479279469,-2.199222319526443,1.3997599864684436,0.22941627710272822,1.4240802742453296,0.3094390144366311,1.5403747340754785,0.5810551927052852,-1.066762083853598,-0.059946047063189144,0.22949791684170903,0.8327749881915162,-0.06636372674054501,-0.6190169447247864,2.0048868335375056,1.736487965277091,-1.3831774356984614,1.4976344360500824,-0.7067197193609598,-0.4385844889747408,-0.9353036023038812,-0.47593035642229686,1.6132806108278546,-0.6287717679502393,1.0345780523748735,-1.27284403429772,-0.21598606336809065,-0.21383616429784602,3.2313217531556826,1.3382365732922021,-0.22487702362562872,2.340429170474291,0.6271993811365263,1.997890339440614,-2.033624272129717,0.32279225575672327,0.8666550678088079,0.8252385648058315,-1.657914673275361,1.2379383904314973,0.7149995599320481,-1.1761176335038575,0.5706312135572416,-0.4558503278911321,0.37983919034349595,0.09595899429015453,-1.2417447649974065,-0.5217493081296127,0.7542010755173852,-1.145180906491648,1.6740518150812944],\"type\":\"histogram\"}],                        {\"barmode\":\"overlay\",\"legend\":{\"bgcolor\":\"#F5F6F9\",\"font\":{\"color\":\"#4D5663\"}},\"paper_bgcolor\":\"#F5F6F9\",\"plot_bgcolor\":\"#F5F6F9\",\"template\":{\"data\":{\"barpolar\":[{\"marker\":{\"line\":{\"color\":\"#E5ECF6\",\"width\":0.5},\"pattern\":{\"fillmode\":\"overlay\",\"size\":10,\"solidity\":0.2}},\"type\":\"barpolar\"}],\"bar\":[{\"error_x\":{\"color\":\"#2a3f5f\"},\"error_y\":{\"color\":\"#2a3f5f\"},\"marker\":{\"line\":{\"color\":\"#E5ECF6\",\"width\":0.5},\"pattern\":{\"fillmode\":\"overlay\",\"size\":10,\"solidity\":0.2}},\"type\":\"bar\"}],\"carpet\":[{\"aaxis\":{\"endlinecolor\":\"#2a3f5f\",\"gridcolor\":\"white\",\"linecolor\":\"white\",\"minorgridcolor\":\"white\",\"startlinecolor\":\"#2a3f5f\"},\"baxis\":{\"endlinecolor\":\"#2a3f5f\",\"gridcolor\":\"white\",\"linecolor\":\"white\",\"minorgridcolor\":\"white\",\"startlinecolor\":\"#2a3f5f\"},\"type\":\"carpet\"}],\"choropleth\":[{\"colorbar\":{\"outlinewidth\":0,\"ticks\":\"\"},\"type\":\"choropleth\"}],\"contourcarpet\":[{\"colorbar\":{\"outlinewidth\":0,\"ticks\":\"\"},\"type\":\"contourcarpet\"}],\"contour\":[{\"colorbar\":{\"outlinewidth\":0,\"ticks\":\"\"},\"colorscale\":[[0.0,\"#0d0887\"],[0.1111111111111111,\"#46039f\"],[0.2222222222222222,\"#7201a8\"],[0.3333333333333333,\"#9c179e\"],[0.4444444444444444,\"#bd3786\"],[0.5555555555555556,\"#d8576b\"],[0.6666666666666666,\"#ed7953\"],[0.7777777777777778,\"#fb9f3a\"],[0.8888888888888888,\"#fdca26\"],[1.0,\"#f0f921\"]],\"type\":\"contour\"}],\"heatmapgl\":[{\"colorbar\":{\"outlinewidth\":0,\"ticks\":\"\"},\"colorscale\":[[0.0,\"#0d0887\"],[0.1111111111111111,\"#46039f\"],[0.2222222222222222,\"#7201a8\"],[0.3333333333333333,\"#9c179e\"],[0.4444444444444444,\"#bd3786\"],[0.5555555555555556,\"#d8576b\"],[0.6666666666666666,\"#ed7953\"],[0.7777777777777778,\"#fb9f3a\"],[0.8888888888888888,\"#fdca26\"],[1.0,\"#f0f921\"]],\"type\":\"heatmapgl\"}],\"heatmap\":[{\"colorbar\":{\"outlinewidth\":0,\"ticks\":\"\"},\"colorscale\":[[0.0,\"#0d0887\"],[0.1111111111111111,\"#46039f\"],[0.2222222222222222,\"#7201a8\"],[0.3333333333333333,\"#9c179e\"],[0.4444444444444444,\"#bd3786\"],[0.5555555555555556,\"#d8576b\"],[0.6666666666666666,\"#ed7953\"],[0.7777777777777778,\"#fb9f3a\"],[0.8888888888888888,\"#fdca26\"],[1.0,\"#f0f921\"]],\"type\":\"heatmap\"}],\"histogram2dcontour\":[{\"colorbar\":{\"outlinewidth\":0,\"ticks\":\"\"},\"colorscale\":[[0.0,\"#0d0887\"],[0.1111111111111111,\"#46039f\"],[0.2222222222222222,\"#7201a8\"],[0.3333333333333333,\"#9c179e\"],[0.4444444444444444,\"#bd3786\"],[0.5555555555555556,\"#d8576b\"],[0.6666666666666666,\"#ed7953\"],[0.7777777777777778,\"#fb9f3a\"],[0.8888888888888888,\"#fdca26\"],[1.0,\"#f0f921\"]],\"type\":\"histogram2dcontour\"}],\"histogram2d\":[{\"colorbar\":{\"outlinewidth\":0,\"ticks\":\"\"},\"colorscale\":[[0.0,\"#0d0887\"],[0.1111111111111111,\"#46039f\"],[0.2222222222222222,\"#7201a8\"],[0.3333333333333333,\"#9c179e\"],[0.4444444444444444,\"#bd3786\"],[0.5555555555555556,\"#d8576b\"],[0.6666666666666666,\"#ed7953\"],[0.7777777777777778,\"#fb9f3a\"],[0.8888888888888888,\"#fdca26\"],[1.0,\"#f0f921\"]],\"type\":\"histogram2d\"}],\"histogram\":[{\"marker\":{\"pattern\":{\"fillmode\":\"overlay\",\"size\":10,\"solidity\":0.2}},\"type\":\"histogram\"}],\"mesh3d\":[{\"colorbar\":{\"outlinewidth\":0,\"ticks\":\"\"},\"type\":\"mesh3d\"}],\"parcoords\":[{\"line\":{\"colorbar\":{\"outlinewidth\":0,\"ticks\":\"\"}},\"type\":\"parcoords\"}],\"pie\":[{\"automargin\":true,\"type\":\"pie\"}],\"scatter3d\":[{\"line\":{\"colorbar\":{\"outlinewidth\":0,\"ticks\":\"\"}},\"marker\":{\"colorbar\":{\"outlinewidth\":0,\"ticks\":\"\"}},\"type\":\"scatter3d\"}],\"scattercarpet\":[{\"marker\":{\"colorbar\":{\"outlinewidth\":0,\"ticks\":\"\"}},\"type\":\"scattercarpet\"}],\"scattergeo\":[{\"marker\":{\"colorbar\":{\"outlinewidth\":0,\"ticks\":\"\"}},\"type\":\"scattergeo\"}],\"scattergl\":[{\"marker\":{\"colorbar\":{\"outlinewidth\":0,\"ticks\":\"\"}},\"type\":\"scattergl\"}],\"scattermapbox\":[{\"marker\":{\"colorbar\":{\"outlinewidth\":0,\"ticks\":\"\"}},\"type\":\"scattermapbox\"}],\"scatterpolargl\":[{\"marker\":{\"colorbar\":{\"outlinewidth\":0,\"ticks\":\"\"}},\"type\":\"scatterpolargl\"}],\"scatterpolar\":[{\"marker\":{\"colorbar\":{\"outlinewidth\":0,\"ticks\":\"\"}},\"type\":\"scatterpolar\"}],\"scatter\":[{\"marker\":{\"colorbar\":{\"outlinewidth\":0,\"ticks\":\"\"}},\"type\":\"scatter\"}],\"scatterternary\":[{\"marker\":{\"colorbar\":{\"outlinewidth\":0,\"ticks\":\"\"}},\"type\":\"scatterternary\"}],\"surface\":[{\"colorbar\":{\"outlinewidth\":0,\"ticks\":\"\"},\"colorscale\":[[0.0,\"#0d0887\"],[0.1111111111111111,\"#46039f\"],[0.2222222222222222,\"#7201a8\"],[0.3333333333333333,\"#9c179e\"],[0.4444444444444444,\"#bd3786\"],[0.5555555555555556,\"#d8576b\"],[0.6666666666666666,\"#ed7953\"],[0.7777777777777778,\"#fb9f3a\"],[0.8888888888888888,\"#fdca26\"],[1.0,\"#f0f921\"]],\"type\":\"surface\"}],\"table\":[{\"cells\":{\"fill\":{\"color\":\"#EBF0F8\"},\"line\":{\"color\":\"white\"}},\"header\":{\"fill\":{\"color\":\"#C8D4E3\"},\"line\":{\"color\":\"white\"}},\"type\":\"table\"}]},\"layout\":{\"annotationdefaults\":{\"arrowcolor\":\"#2a3f5f\",\"arrowhead\":0,\"arrowwidth\":1},\"autotypenumbers\":\"strict\",\"coloraxis\":{\"colorbar\":{\"outlinewidth\":0,\"ticks\":\"\"}},\"colorscale\":{\"diverging\":[[0,\"#8e0152\"],[0.1,\"#c51b7d\"],[0.2,\"#de77ae\"],[0.3,\"#f1b6da\"],[0.4,\"#fde0ef\"],[0.5,\"#f7f7f7\"],[0.6,\"#e6f5d0\"],[0.7,\"#b8e186\"],[0.8,\"#7fbc41\"],[0.9,\"#4d9221\"],[1,\"#276419\"]],\"sequential\":[[0.0,\"#0d0887\"],[0.1111111111111111,\"#46039f\"],[0.2222222222222222,\"#7201a8\"],[0.3333333333333333,\"#9c179e\"],[0.4444444444444444,\"#bd3786\"],[0.5555555555555556,\"#d8576b\"],[0.6666666666666666,\"#ed7953\"],[0.7777777777777778,\"#fb9f3a\"],[0.8888888888888888,\"#fdca26\"],[1.0,\"#f0f921\"]],\"sequentialminus\":[[0.0,\"#0d0887\"],[0.1111111111111111,\"#46039f\"],[0.2222222222222222,\"#7201a8\"],[0.3333333333333333,\"#9c179e\"],[0.4444444444444444,\"#bd3786\"],[0.5555555555555556,\"#d8576b\"],[0.6666666666666666,\"#ed7953\"],[0.7777777777777778,\"#fb9f3a\"],[0.8888888888888888,\"#fdca26\"],[1.0,\"#f0f921\"]]},\"colorway\":[\"#636efa\",\"#EF553B\",\"#00cc96\",\"#ab63fa\",\"#FFA15A\",\"#19d3f3\",\"#FF6692\",\"#B6E880\",\"#FF97FF\",\"#FECB52\"],\"font\":{\"color\":\"#2a3f5f\"},\"geo\":{\"bgcolor\":\"white\",\"lakecolor\":\"white\",\"landcolor\":\"#E5ECF6\",\"showlakes\":true,\"showland\":true,\"subunitcolor\":\"white\"},\"hoverlabel\":{\"align\":\"left\"},\"hovermode\":\"closest\",\"mapbox\":{\"style\":\"light\"},\"paper_bgcolor\":\"white\",\"plot_bgcolor\":\"#E5ECF6\",\"polar\":{\"angularaxis\":{\"gridcolor\":\"white\",\"linecolor\":\"white\",\"ticks\":\"\"},\"bgcolor\":\"#E5ECF6\",\"radialaxis\":{\"gridcolor\":\"white\",\"linecolor\":\"white\",\"ticks\":\"\"}},\"scene\":{\"xaxis\":{\"backgroundcolor\":\"#E5ECF6\",\"gridcolor\":\"white\",\"gridwidth\":2,\"linecolor\":\"white\",\"showbackground\":true,\"ticks\":\"\",\"zerolinecolor\":\"white\"},\"yaxis\":{\"backgroundcolor\":\"#E5ECF6\",\"gridcolor\":\"white\",\"gridwidth\":2,\"linecolor\":\"white\",\"showbackground\":true,\"ticks\":\"\",\"zerolinecolor\":\"white\"},\"zaxis\":{\"backgroundcolor\":\"#E5ECF6\",\"gridcolor\":\"white\",\"gridwidth\":2,\"linecolor\":\"white\",\"showbackground\":true,\"ticks\":\"\",\"zerolinecolor\":\"white\"}},\"shapedefaults\":{\"line\":{\"color\":\"#2a3f5f\"}},\"ternary\":{\"aaxis\":{\"gridcolor\":\"white\",\"linecolor\":\"white\",\"ticks\":\"\"},\"baxis\":{\"gridcolor\":\"white\",\"linecolor\":\"white\",\"ticks\":\"\"},\"bgcolor\":\"#E5ECF6\",\"caxis\":{\"gridcolor\":\"white\",\"linecolor\":\"white\",\"ticks\":\"\"}},\"title\":{\"x\":0.05},\"xaxis\":{\"automargin\":true,\"gridcolor\":\"white\",\"linecolor\":\"white\",\"ticks\":\"\",\"title\":{\"standoff\":15},\"zerolinecolor\":\"white\",\"zerolinewidth\":2},\"yaxis\":{\"automargin\":true,\"gridcolor\":\"white\",\"linecolor\":\"white\",\"ticks\":\"\",\"title\":{\"standoff\":15},\"zerolinecolor\":\"white\",\"zerolinewidth\":2}}},\"title\":{\"font\":{\"color\":\"#4D5663\"}},\"xaxis\":{\"gridcolor\":\"#E1E5ED\",\"showgrid\":true,\"tickfont\":{\"color\":\"#4D5663\"},\"title\":{\"font\":{\"color\":\"#4D5663\"},\"text\":\"\"},\"zerolinecolor\":\"#E1E5ED\"},\"yaxis\":{\"gridcolor\":\"#E1E5ED\",\"showgrid\":true,\"tickfont\":{\"color\":\"#4D5663\"},\"title\":{\"font\":{\"color\":\"#4D5663\"},\"text\":\"\"},\"zerolinecolor\":\"#E1E5ED\"}},                        {\"showLink\": true, \"linkText\": \"Export to plot.ly\", \"plotlyServerURL\": \"https://plot.ly\", \"responsive\": true}                    ).then(function(){\n",
       "                            \n",
       "var gd = document.getElementById('d2c38f36-691b-44e1-84fd-0596d5cb93d4');\n",
       "var x = new MutationObserver(function (mutations, observer) {{\n",
       "        var display = window.getComputedStyle(gd).display;\n",
       "        if (!display || display === 'none') {{\n",
       "            console.log([gd, 'removed!']);\n",
       "            Plotly.purge(gd);\n",
       "            observer.disconnect();\n",
       "        }}\n",
       "}});\n",
       "\n",
       "// Listen for the removal of the full notebook cells\n",
       "var notebookContainer = gd.closest('#notebook-container');\n",
       "if (notebookContainer) {{\n",
       "    x.observe(notebookContainer, {childList: true});\n",
       "}}\n",
       "\n",
       "// Listen for the clearing of the current output cell\n",
       "var outputEl = gd.closest('.output');\n",
       "if (outputEl) {{\n",
       "    x.observe(outputEl, {childList: true});\n",
       "}}\n",
       "\n",
       "                        })                };                });            </script>        </div>"
      ]
     },
     "metadata": {},
     "output_type": "display_data"
    }
   ],
   "source": [
    "df['A'].iplot(kind='hist',bins=50)"
   ]
  },
  {
   "cell_type": "code",
   "execution_count": 28,
   "id": "2eb3e4d2",
   "metadata": {},
   "outputs": [
    {
     "name": "stderr",
     "output_type": "stream",
     "text": [
      "C:\\Users\\Ansari\\anaconda3\\lib\\site-packages\\cufflinks\\plotlytools.py:849: FutureWarning:\n",
      "\n",
      "The pandas.np module is deprecated and will be removed from pandas in a future version. Import numpy directly instead.\n",
      "\n",
      "C:\\Users\\Ansari\\anaconda3\\lib\\site-packages\\cufflinks\\plotlytools.py:850: FutureWarning:\n",
      "\n",
      "The pandas.np module is deprecated and will be removed from pandas in a future version. Import numpy directly instead.\n",
      "\n"
     ]
    },
    {
     "data": {
      "application/vnd.plotly.v1+json": {
       "config": {
        "linkText": "Export to plot.ly",
        "plotlyServerURL": "https://plot.ly",
        "showLink": true
       },
       "data": [
        {
         "line": {
          "color": "rgba(255, 153, 51, 1.0)",
          "dash": "solid",
          "shape": "linear",
          "width": 1.3
         },
         "mode": "lines",
         "name": "A",
         "text": "",
         "type": "scatter",
         "x": [
          0,
          1,
          2,
          3,
          4,
          5,
          6,
          7,
          8,
          9,
          10,
          11,
          12,
          13,
          14,
          15,
          16,
          17,
          18,
          19,
          20,
          21,
          22,
          23,
          24,
          25,
          26,
          27,
          28,
          29,
          30,
          31,
          32,
          33,
          34,
          35,
          36,
          37,
          38,
          39,
          40,
          41,
          42,
          43,
          44,
          45,
          46,
          47,
          48,
          49,
          50,
          51,
          52,
          53,
          54,
          55,
          56,
          57,
          58,
          59,
          60,
          61,
          62,
          63,
          64,
          65,
          66,
          67,
          68,
          69,
          70,
          71,
          72,
          73,
          74,
          75,
          76,
          77,
          78,
          79,
          80,
          81,
          82,
          83,
          84,
          85,
          86,
          87,
          88,
          89,
          90,
          91,
          92,
          93,
          94,
          95,
          96,
          97,
          98,
          99
         ],
         "y": [
          -1.4179226392462503,
          -0.46264200324192123,
          0.7515224608796539,
          0.017214914882547446,
          -2.119230156508853,
          1.4246987135038927,
          -1.3484391107921905,
          0.6432498838271453,
          -0.9263864887473827,
          0.7570861795056825,
          0.07543918980622479,
          1.1599339441805279,
          -0.04608268499591076,
          -0.09120078183586999,
          0.8842914961718378,
          -0.9162025719299867,
          -1.2610444177759146,
          0.027904167487635967,
          -0.7061578863184852,
          0.7709016638285334,
          -0.8539166153517274,
          0.7309733763722845,
          -1.7691103627746505,
          1.263558824772134,
          0.4717765277347702,
          0.557405859177239,
          -1.6819089715393656,
          1.0025284313403557,
          1.572525731929163,
          -0.9650143742388076,
          1.151517875183336,
          -0.18247700098496303,
          -0.7167113193989513,
          1.1761072211193844,
          0.12819699293539916,
          -0.23688078197346668,
          -0.560705340480975,
          -0.39787163984807145,
          1.3382710439775771,
          -1.7798709075126007,
          -1.2702252329912076,
          -0.4152839220015532,
          0.17542127517078324,
          0.39285448248880483,
          0.9045840149471326,
          -0.16994995097364154,
          0.3381582060118401,
          0.2063929493612841,
          -0.11094598121380154,
          0.7974586479279469,
          -2.199222319526443,
          1.3997599864684436,
          0.22941627710272822,
          1.4240802742453296,
          0.3094390144366311,
          1.5403747340754785,
          0.5810551927052852,
          -1.066762083853598,
          -0.059946047063189144,
          0.22949791684170903,
          0.8327749881915162,
          -0.06636372674054501,
          -0.6190169447247864,
          2.0048868335375056,
          1.736487965277091,
          -1.3831774356984614,
          1.4976344360500824,
          -0.7067197193609598,
          -0.4385844889747408,
          -0.9353036023038812,
          -0.47593035642229686,
          1.6132806108278546,
          -0.6287717679502393,
          1.0345780523748735,
          -1.27284403429772,
          -0.21598606336809065,
          -0.21383616429784602,
          3.2313217531556826,
          1.3382365732922021,
          -0.22487702362562872,
          2.340429170474291,
          0.6271993811365263,
          1.997890339440614,
          -2.033624272129717,
          0.32279225575672327,
          0.8666550678088079,
          0.8252385648058315,
          -1.657914673275361,
          1.2379383904314973,
          0.7149995599320481,
          -1.1761176335038575,
          0.5706312135572416,
          -0.4558503278911321,
          0.37983919034349595,
          0.09595899429015453,
          -1.2417447649974065,
          -0.5217493081296127,
          0.7542010755173852,
          -1.145180906491648,
          1.6740518150812944
         ]
        },
        {
         "line": {
          "color": "rgba(55, 128, 191, 1.0)",
          "dash": "solid",
          "shape": "linear",
          "width": 1.3
         },
         "mode": "lines",
         "name": "B",
         "text": "",
         "type": "scatter",
         "x": [
          0,
          1,
          2,
          3,
          4,
          5,
          6,
          7,
          8,
          9,
          10,
          11,
          12,
          13,
          14,
          15,
          16,
          17,
          18,
          19,
          20,
          21,
          22,
          23,
          24,
          25,
          26,
          27,
          28,
          29,
          30,
          31,
          32,
          33,
          34,
          35,
          36,
          37,
          38,
          39,
          40,
          41,
          42,
          43,
          44,
          45,
          46,
          47,
          48,
          49,
          50,
          51,
          52,
          53,
          54,
          55,
          56,
          57,
          58,
          59,
          60,
          61,
          62,
          63,
          64,
          65,
          66,
          67,
          68,
          69,
          70,
          71,
          72,
          73,
          74,
          75,
          76,
          77,
          78,
          79,
          80,
          81,
          82,
          83,
          84,
          85,
          86,
          87,
          88,
          89,
          90,
          91,
          92,
          93,
          94,
          95,
          96,
          97,
          98,
          99
         ],
         "y": [
          0.43916847768055367,
          0.7754169812744081,
          -1.766184215926334,
          0.4674257707543401,
          0.29321032071154995,
          1.41774816480575,
          1.3445969383110263,
          0.4416487341811845,
          -1.430772057414031,
          -0.8505022925340281,
          0.4691920933044812,
          1.826784708762384,
          -0.10576410338109243,
          -1.500461426023311,
          0.7965390567393406,
          -0.012409030102622055,
          -0.15130451407398446,
          -2.071058423059817,
          -0.8255625544235962,
          -0.8074054383028947,
          -0.9301852379698403,
          -1.6773017541992195,
          -0.3946539688644478,
          -2.9870582870265263,
          -0.03318946511355068,
          -0.016251530567965744,
          0.7030357504362612,
          -0.4999960084700399,
          -0.9420611634530786,
          -0.1432729844634614,
          0.6557312074595607,
          0.35574155452593026,
          -0.07734755312316859,
          -1.7102423679022432,
          -0.04205763850987133,
          -1.4785422652968754,
          0.7645412296582739,
          -0.24706609101356192,
          -1.201359615189873,
          1.5325015503193518,
          -0.4881633821714732,
          -0.5057962567151923,
          1.1308257061231044,
          -0.23356594422792676,
          0.66092576287292,
          1.6404688258806333,
          -1.5081626093929672,
          -0.0013041142872921448,
          0.12204994284248882,
          1.4721906166668761,
          -0.08003811206186177,
          -0.9092222820745258,
          -0.8407007439622989,
          -0.11436673916364293,
          0.06406328064075953,
          0.48221062292822475,
          -0.7807229952837661,
          -0.20502892323697028,
          0.3447615780074933,
          -1.583612014364668,
          0.5130380961580526,
          -1.551310104687635,
          0.7237591993777599,
          1.5059564157142509,
          -0.10163714145529341,
          -1.67186290946623,
          -0.31584531717802655,
          1.0644113882459774,
          2.274346155576829,
          0.49930813021148723,
          1.6405651595955058,
          -0.33937453326899897,
          0.10632705592337412,
          -1.2642467659208292,
          -0.17540983564574716,
          -0.1862548195584329,
          1.4326108248716156,
          0.06485852176902505,
          -0.36945518458348525,
          0.541657819502985,
          0.4634294898545669,
          -1.3654976940987307,
          -0.45372839134779486,
          1.0423110939962679,
          0.4128596468131367,
          -0.4937751704955059,
          -0.24026055088614237,
          -0.6454607232329427,
          0.8484132678342798,
          0.8798070172304139,
          -0.8837609675709918,
          0.03975057728511999,
          -0.5563341326163922,
          -0.23772094092618812,
          0.18642158069051573,
          0.8268192191747974,
          1.9527936074764647,
          0.8109508402703056,
          -0.44120277682258874,
          0.407627374675604
         ]
        },
        {
         "connectgaps": false,
         "fill": "tozeroy",
         "line": {
          "color": "green",
          "dash": "solid",
          "shape": "linear",
          "width": 0.5
         },
         "mode": "lines",
         "name": "Spread",
         "showlegend": false,
         "type": "scatter",
         "x": [
          0,
          1,
          2,
          3,
          4,
          5,
          6,
          7,
          8,
          9,
          10,
          11,
          12,
          13,
          14,
          15,
          16,
          17,
          18,
          19,
          20,
          21,
          22,
          23,
          24,
          25,
          26,
          27,
          28,
          29,
          30,
          31,
          32,
          33,
          34,
          35,
          36,
          37,
          38,
          39,
          40,
          41,
          42,
          43,
          44,
          45,
          46,
          47,
          48,
          49,
          50,
          51,
          52,
          53,
          54,
          55,
          56,
          57,
          58,
          59,
          60,
          61,
          62,
          63,
          64,
          65,
          66,
          67,
          68,
          69,
          70,
          71,
          72,
          73,
          74,
          75,
          76,
          77,
          78,
          79,
          80,
          81,
          82,
          83,
          84,
          85,
          86,
          87,
          88,
          89,
          90,
          91,
          92,
          93,
          94,
          95,
          96,
          97,
          98,
          99
         ],
         "xaxis": "x2",
         "y": [
          "",
          "",
          2.5177066768059877,
          "",
          "",
          0.006950548698142711,
          "",
          0.20160114964596082,
          0.5043855686666483,
          1.6075884720397107,
          "",
          "",
          0.05968141838518167,
          1.409260644187441,
          0.08775243943249722,
          "",
          "",
          2.098962590547453,
          0.11940466810511097,
          1.578307102131428,
          0.07626862261811296,
          2.408275130571504,
          "",
          4.25061711179866,
          0.5049659928483209,
          0.5736573897452046,
          "",
          1.5025244398103956,
          2.5145868953822417,
          "",
          0.4957866677237752,
          "",
          "",
          2.8863495890216275,
          0.17025463144527048,
          1.2416614833234088,
          "",
          "",
          2.5396306591674502,
          "",
          "",
          0.09051233471363918,
          "",
          0.6264204267167316,
          0.24365825207421254,
          "",
          1.8463208154048072,
          0.20769706364857626,
          "",
          "",
          "",
          2.3089822685429695,
          1.070117021065027,
          1.5384470134089725,
          0.24537573379587155,
          1.0581641111472537,
          1.3617781879890511,
          "",
          "",
          1.813109931206377,
          0.31973689203346356,
          1.48494637794709,
          "",
          0.49893041782325476,
          1.8381251067323845,
          0.28868547376776865,
          1.8134797532281088,
          "",
          "",
          "",
          "",
          1.9526551440968536,
          "",
          2.298824818295703,
          "",
          "",
          "",
          3.1664632313866576,
          1.7076917578756874,
          "",
          1.8769996806197242,
          1.9926970752352569,
          2.4516187307884088,
          "",
          "",
          1.3604302383043136,
          1.0654991156919738,
          "",
          0.3895251225972175,
          "",
          "",
          0.5308806362721216,
          0.10048380472526008,
          0.6175601312696841,
          "",
          "",
          "",
          "",
          "",
          1.2664244404056904
         ],
         "yaxis": "y2"
        },
        {
         "connectgaps": false,
         "fill": "tozeroy",
         "line": {
          "color": "red",
          "dash": "solid",
          "shape": "linear",
          "width": 0.5
         },
         "mode": "lines",
         "name": "Spread",
         "showlegend": false,
         "type": "scatter",
         "x": [
          0,
          1,
          2,
          3,
          4,
          5,
          6,
          7,
          8,
          9,
          10,
          11,
          12,
          13,
          14,
          15,
          16,
          17,
          18,
          19,
          20,
          21,
          22,
          23,
          24,
          25,
          26,
          27,
          28,
          29,
          30,
          31,
          32,
          33,
          34,
          35,
          36,
          37,
          38,
          39,
          40,
          41,
          42,
          43,
          44,
          45,
          46,
          47,
          48,
          49,
          50,
          51,
          52,
          53,
          54,
          55,
          56,
          57,
          58,
          59,
          60,
          61,
          62,
          63,
          64,
          65,
          66,
          67,
          68,
          69,
          70,
          71,
          72,
          73,
          74,
          75,
          76,
          77,
          78,
          79,
          80,
          81,
          82,
          83,
          84,
          85,
          86,
          87,
          88,
          89,
          90,
          91,
          92,
          93,
          94,
          95,
          96,
          97,
          98,
          99
         ],
         "xaxis": "x2",
         "y": [
          -1.8570911169268038,
          -1.2380589845163292,
          "",
          -0.45021085587179266,
          -2.412440477220403,
          "",
          -2.693036049103217,
          "",
          "",
          "",
          -0.3937529034982564,
          -0.6668507645818562,
          "",
          "",
          "",
          -0.9037935418273646,
          -1.1097399037019302,
          "",
          "",
          "",
          "",
          "",
          -1.3744563939102026,
          "",
          "",
          "",
          -2.384944721975627,
          "",
          "",
          -0.8217413897753463,
          "",
          -0.5382185555108933,
          -0.6393637662757827,
          "",
          "",
          "",
          -1.3252465701392488,
          -0.15080554883450953,
          "",
          -3.3123724578319527,
          -0.7820618508197343,
          "",
          -0.9554044309523212,
          "",
          "",
          -1.8104187768542748,
          "",
          "",
          -0.23299592405629038,
          -0.6747319687389293,
          -2.1191842074645812,
          "",
          "",
          "",
          "",
          "",
          "",
          -0.8617331606166277,
          -0.4047076250706824,
          "",
          "",
          "",
          -1.3427761441025463,
          "",
          "",
          "",
          "",
          -1.7711311076069371,
          -2.71293064455157,
          -1.4346117325153684,
          -2.1164955160178027,
          "",
          -0.7350988238736134,
          "",
          -1.097434198651973,
          -0.029731243809657748,
          -1.6464469891694615,
          "",
          "",
          -0.7665348431286136,
          "",
          "",
          "",
          -3.075935366125985,
          -0.09006739105641343,
          "",
          "",
          -1.0124539500424183,
          "",
          -0.16480745729836577,
          -0.2923566659328657,
          "",
          "",
          "",
          -0.0904625864003612,
          -2.068563984172204,
          -2.4745429156060776,
          -0.05674976475292037,
          -0.7039781296690593,
          ""
         ],
         "yaxis": "y2"
        }
       ],
       "layout": {
        "hovermode": "x",
        "legend": {
         "bgcolor": "#F5F6F9",
         "font": {
          "color": "#4D5663"
         }
        },
        "paper_bgcolor": "#F5F6F9",
        "plot_bgcolor": "#F5F6F9",
        "template": {
         "data": {
          "bar": [
           {
            "error_x": {
             "color": "#2a3f5f"
            },
            "error_y": {
             "color": "#2a3f5f"
            },
            "marker": {
             "line": {
              "color": "#E5ECF6",
              "width": 0.5
             },
             "pattern": {
              "fillmode": "overlay",
              "size": 10,
              "solidity": 0.2
             }
            },
            "type": "bar"
           }
          ],
          "barpolar": [
           {
            "marker": {
             "line": {
              "color": "#E5ECF6",
              "width": 0.5
             },
             "pattern": {
              "fillmode": "overlay",
              "size": 10,
              "solidity": 0.2
             }
            },
            "type": "barpolar"
           }
          ],
          "carpet": [
           {
            "aaxis": {
             "endlinecolor": "#2a3f5f",
             "gridcolor": "white",
             "linecolor": "white",
             "minorgridcolor": "white",
             "startlinecolor": "#2a3f5f"
            },
            "baxis": {
             "endlinecolor": "#2a3f5f",
             "gridcolor": "white",
             "linecolor": "white",
             "minorgridcolor": "white",
             "startlinecolor": "#2a3f5f"
            },
            "type": "carpet"
           }
          ],
          "choropleth": [
           {
            "colorbar": {
             "outlinewidth": 0,
             "ticks": ""
            },
            "type": "choropleth"
           }
          ],
          "contour": [
           {
            "colorbar": {
             "outlinewidth": 0,
             "ticks": ""
            },
            "colorscale": [
             [
              0,
              "#0d0887"
             ],
             [
              0.1111111111111111,
              "#46039f"
             ],
             [
              0.2222222222222222,
              "#7201a8"
             ],
             [
              0.3333333333333333,
              "#9c179e"
             ],
             [
              0.4444444444444444,
              "#bd3786"
             ],
             [
              0.5555555555555556,
              "#d8576b"
             ],
             [
              0.6666666666666666,
              "#ed7953"
             ],
             [
              0.7777777777777778,
              "#fb9f3a"
             ],
             [
              0.8888888888888888,
              "#fdca26"
             ],
             [
              1,
              "#f0f921"
             ]
            ],
            "type": "contour"
           }
          ],
          "contourcarpet": [
           {
            "colorbar": {
             "outlinewidth": 0,
             "ticks": ""
            },
            "type": "contourcarpet"
           }
          ],
          "heatmap": [
           {
            "colorbar": {
             "outlinewidth": 0,
             "ticks": ""
            },
            "colorscale": [
             [
              0,
              "#0d0887"
             ],
             [
              0.1111111111111111,
              "#46039f"
             ],
             [
              0.2222222222222222,
              "#7201a8"
             ],
             [
              0.3333333333333333,
              "#9c179e"
             ],
             [
              0.4444444444444444,
              "#bd3786"
             ],
             [
              0.5555555555555556,
              "#d8576b"
             ],
             [
              0.6666666666666666,
              "#ed7953"
             ],
             [
              0.7777777777777778,
              "#fb9f3a"
             ],
             [
              0.8888888888888888,
              "#fdca26"
             ],
             [
              1,
              "#f0f921"
             ]
            ],
            "type": "heatmap"
           }
          ],
          "heatmapgl": [
           {
            "colorbar": {
             "outlinewidth": 0,
             "ticks": ""
            },
            "colorscale": [
             [
              0,
              "#0d0887"
             ],
             [
              0.1111111111111111,
              "#46039f"
             ],
             [
              0.2222222222222222,
              "#7201a8"
             ],
             [
              0.3333333333333333,
              "#9c179e"
             ],
             [
              0.4444444444444444,
              "#bd3786"
             ],
             [
              0.5555555555555556,
              "#d8576b"
             ],
             [
              0.6666666666666666,
              "#ed7953"
             ],
             [
              0.7777777777777778,
              "#fb9f3a"
             ],
             [
              0.8888888888888888,
              "#fdca26"
             ],
             [
              1,
              "#f0f921"
             ]
            ],
            "type": "heatmapgl"
           }
          ],
          "histogram": [
           {
            "marker": {
             "pattern": {
              "fillmode": "overlay",
              "size": 10,
              "solidity": 0.2
             }
            },
            "type": "histogram"
           }
          ],
          "histogram2d": [
           {
            "colorbar": {
             "outlinewidth": 0,
             "ticks": ""
            },
            "colorscale": [
             [
              0,
              "#0d0887"
             ],
             [
              0.1111111111111111,
              "#46039f"
             ],
             [
              0.2222222222222222,
              "#7201a8"
             ],
             [
              0.3333333333333333,
              "#9c179e"
             ],
             [
              0.4444444444444444,
              "#bd3786"
             ],
             [
              0.5555555555555556,
              "#d8576b"
             ],
             [
              0.6666666666666666,
              "#ed7953"
             ],
             [
              0.7777777777777778,
              "#fb9f3a"
             ],
             [
              0.8888888888888888,
              "#fdca26"
             ],
             [
              1,
              "#f0f921"
             ]
            ],
            "type": "histogram2d"
           }
          ],
          "histogram2dcontour": [
           {
            "colorbar": {
             "outlinewidth": 0,
             "ticks": ""
            },
            "colorscale": [
             [
              0,
              "#0d0887"
             ],
             [
              0.1111111111111111,
              "#46039f"
             ],
             [
              0.2222222222222222,
              "#7201a8"
             ],
             [
              0.3333333333333333,
              "#9c179e"
             ],
             [
              0.4444444444444444,
              "#bd3786"
             ],
             [
              0.5555555555555556,
              "#d8576b"
             ],
             [
              0.6666666666666666,
              "#ed7953"
             ],
             [
              0.7777777777777778,
              "#fb9f3a"
             ],
             [
              0.8888888888888888,
              "#fdca26"
             ],
             [
              1,
              "#f0f921"
             ]
            ],
            "type": "histogram2dcontour"
           }
          ],
          "mesh3d": [
           {
            "colorbar": {
             "outlinewidth": 0,
             "ticks": ""
            },
            "type": "mesh3d"
           }
          ],
          "parcoords": [
           {
            "line": {
             "colorbar": {
              "outlinewidth": 0,
              "ticks": ""
             }
            },
            "type": "parcoords"
           }
          ],
          "pie": [
           {
            "automargin": true,
            "type": "pie"
           }
          ],
          "scatter": [
           {
            "marker": {
             "colorbar": {
              "outlinewidth": 0,
              "ticks": ""
             }
            },
            "type": "scatter"
           }
          ],
          "scatter3d": [
           {
            "line": {
             "colorbar": {
              "outlinewidth": 0,
              "ticks": ""
             }
            },
            "marker": {
             "colorbar": {
              "outlinewidth": 0,
              "ticks": ""
             }
            },
            "type": "scatter3d"
           }
          ],
          "scattercarpet": [
           {
            "marker": {
             "colorbar": {
              "outlinewidth": 0,
              "ticks": ""
             }
            },
            "type": "scattercarpet"
           }
          ],
          "scattergeo": [
           {
            "marker": {
             "colorbar": {
              "outlinewidth": 0,
              "ticks": ""
             }
            },
            "type": "scattergeo"
           }
          ],
          "scattergl": [
           {
            "marker": {
             "colorbar": {
              "outlinewidth": 0,
              "ticks": ""
             }
            },
            "type": "scattergl"
           }
          ],
          "scattermapbox": [
           {
            "marker": {
             "colorbar": {
              "outlinewidth": 0,
              "ticks": ""
             }
            },
            "type": "scattermapbox"
           }
          ],
          "scatterpolar": [
           {
            "marker": {
             "colorbar": {
              "outlinewidth": 0,
              "ticks": ""
             }
            },
            "type": "scatterpolar"
           }
          ],
          "scatterpolargl": [
           {
            "marker": {
             "colorbar": {
              "outlinewidth": 0,
              "ticks": ""
             }
            },
            "type": "scatterpolargl"
           }
          ],
          "scatterternary": [
           {
            "marker": {
             "colorbar": {
              "outlinewidth": 0,
              "ticks": ""
             }
            },
            "type": "scatterternary"
           }
          ],
          "surface": [
           {
            "colorbar": {
             "outlinewidth": 0,
             "ticks": ""
            },
            "colorscale": [
             [
              0,
              "#0d0887"
             ],
             [
              0.1111111111111111,
              "#46039f"
             ],
             [
              0.2222222222222222,
              "#7201a8"
             ],
             [
              0.3333333333333333,
              "#9c179e"
             ],
             [
              0.4444444444444444,
              "#bd3786"
             ],
             [
              0.5555555555555556,
              "#d8576b"
             ],
             [
              0.6666666666666666,
              "#ed7953"
             ],
             [
              0.7777777777777778,
              "#fb9f3a"
             ],
             [
              0.8888888888888888,
              "#fdca26"
             ],
             [
              1,
              "#f0f921"
             ]
            ],
            "type": "surface"
           }
          ],
          "table": [
           {
            "cells": {
             "fill": {
              "color": "#EBF0F8"
             },
             "line": {
              "color": "white"
             }
            },
            "header": {
             "fill": {
              "color": "#C8D4E3"
             },
             "line": {
              "color": "white"
             }
            },
            "type": "table"
           }
          ]
         },
         "layout": {
          "annotationdefaults": {
           "arrowcolor": "#2a3f5f",
           "arrowhead": 0,
           "arrowwidth": 1
          },
          "autotypenumbers": "strict",
          "coloraxis": {
           "colorbar": {
            "outlinewidth": 0,
            "ticks": ""
           }
          },
          "colorscale": {
           "diverging": [
            [
             0,
             "#8e0152"
            ],
            [
             0.1,
             "#c51b7d"
            ],
            [
             0.2,
             "#de77ae"
            ],
            [
             0.3,
             "#f1b6da"
            ],
            [
             0.4,
             "#fde0ef"
            ],
            [
             0.5,
             "#f7f7f7"
            ],
            [
             0.6,
             "#e6f5d0"
            ],
            [
             0.7,
             "#b8e186"
            ],
            [
             0.8,
             "#7fbc41"
            ],
            [
             0.9,
             "#4d9221"
            ],
            [
             1,
             "#276419"
            ]
           ],
           "sequential": [
            [
             0,
             "#0d0887"
            ],
            [
             0.1111111111111111,
             "#46039f"
            ],
            [
             0.2222222222222222,
             "#7201a8"
            ],
            [
             0.3333333333333333,
             "#9c179e"
            ],
            [
             0.4444444444444444,
             "#bd3786"
            ],
            [
             0.5555555555555556,
             "#d8576b"
            ],
            [
             0.6666666666666666,
             "#ed7953"
            ],
            [
             0.7777777777777778,
             "#fb9f3a"
            ],
            [
             0.8888888888888888,
             "#fdca26"
            ],
            [
             1,
             "#f0f921"
            ]
           ],
           "sequentialminus": [
            [
             0,
             "#0d0887"
            ],
            [
             0.1111111111111111,
             "#46039f"
            ],
            [
             0.2222222222222222,
             "#7201a8"
            ],
            [
             0.3333333333333333,
             "#9c179e"
            ],
            [
             0.4444444444444444,
             "#bd3786"
            ],
            [
             0.5555555555555556,
             "#d8576b"
            ],
            [
             0.6666666666666666,
             "#ed7953"
            ],
            [
             0.7777777777777778,
             "#fb9f3a"
            ],
            [
             0.8888888888888888,
             "#fdca26"
            ],
            [
             1,
             "#f0f921"
            ]
           ]
          },
          "colorway": [
           "#636efa",
           "#EF553B",
           "#00cc96",
           "#ab63fa",
           "#FFA15A",
           "#19d3f3",
           "#FF6692",
           "#B6E880",
           "#FF97FF",
           "#FECB52"
          ],
          "font": {
           "color": "#2a3f5f"
          },
          "geo": {
           "bgcolor": "white",
           "lakecolor": "white",
           "landcolor": "#E5ECF6",
           "showlakes": true,
           "showland": true,
           "subunitcolor": "white"
          },
          "hoverlabel": {
           "align": "left"
          },
          "hovermode": "closest",
          "mapbox": {
           "style": "light"
          },
          "paper_bgcolor": "white",
          "plot_bgcolor": "#E5ECF6",
          "polar": {
           "angularaxis": {
            "gridcolor": "white",
            "linecolor": "white",
            "ticks": ""
           },
           "bgcolor": "#E5ECF6",
           "radialaxis": {
            "gridcolor": "white",
            "linecolor": "white",
            "ticks": ""
           }
          },
          "scene": {
           "xaxis": {
            "backgroundcolor": "#E5ECF6",
            "gridcolor": "white",
            "gridwidth": 2,
            "linecolor": "white",
            "showbackground": true,
            "ticks": "",
            "zerolinecolor": "white"
           },
           "yaxis": {
            "backgroundcolor": "#E5ECF6",
            "gridcolor": "white",
            "gridwidth": 2,
            "linecolor": "white",
            "showbackground": true,
            "ticks": "",
            "zerolinecolor": "white"
           },
           "zaxis": {
            "backgroundcolor": "#E5ECF6",
            "gridcolor": "white",
            "gridwidth": 2,
            "linecolor": "white",
            "showbackground": true,
            "ticks": "",
            "zerolinecolor": "white"
           }
          },
          "shapedefaults": {
           "line": {
            "color": "#2a3f5f"
           }
          },
          "ternary": {
           "aaxis": {
            "gridcolor": "white",
            "linecolor": "white",
            "ticks": ""
           },
           "baxis": {
            "gridcolor": "white",
            "linecolor": "white",
            "ticks": ""
           },
           "bgcolor": "#E5ECF6",
           "caxis": {
            "gridcolor": "white",
            "linecolor": "white",
            "ticks": ""
           }
          },
          "title": {
           "x": 0.05
          },
          "xaxis": {
           "automargin": true,
           "gridcolor": "white",
           "linecolor": "white",
           "ticks": "",
           "title": {
            "standoff": 15
           },
           "zerolinecolor": "white",
           "zerolinewidth": 2
          },
          "yaxis": {
           "automargin": true,
           "gridcolor": "white",
           "linecolor": "white",
           "ticks": "",
           "title": {
            "standoff": 15
           },
           "zerolinecolor": "white",
           "zerolinewidth": 2
          }
         }
        },
        "title": {
         "font": {
          "color": "#4D5663"
         }
        },
        "xaxis": {
         "gridcolor": "#E1E5ED",
         "showgrid": true,
         "tickfont": {
          "color": "#4D5663"
         },
         "title": {
          "font": {
           "color": "#4D5663"
          },
          "text": ""
         },
         "zerolinecolor": "#E1E5ED"
        },
        "xaxis2": {
         "anchor": "y2",
         "gridcolor": "#E1E5ED",
         "showgrid": true,
         "showticklabels": false,
         "tickfont": {
          "color": "#4D5663"
         },
         "title": {
          "font": {
           "color": "#4D5663"
          },
          "text": ""
         },
         "zerolinecolor": "#E1E5ED"
        },
        "yaxis": {
         "domain": [
          0.3,
          1
         ],
         "gridcolor": "#E1E5ED",
         "showgrid": true,
         "tickfont": {
          "color": "#4D5663"
         },
         "title": {
          "font": {
           "color": "#4D5663"
          },
          "text": ""
         },
         "zerolinecolor": "#E1E5ED"
        },
        "yaxis2": {
         "domain": [
          0,
          0.25
         ],
         "gridcolor": "#E1E5ED",
         "showgrid": true,
         "tickfont": {
          "color": "#4D5663"
         },
         "title": {
          "font": {
           "color": "#4D5663"
          },
          "text": "Spread"
         },
         "zerolinecolor": "#E1E5ED"
        }
       }
      },
      "text/html": [
       "<div>                            <div id=\"de0eea45-2639-49ae-bae2-dd3928fc3698\" class=\"plotly-graph-div\" style=\"height:525px; width:100%;\"></div>            <script type=\"text/javascript\">                require([\"plotly\"], function(Plotly) {                    window.PLOTLYENV=window.PLOTLYENV || {};\n",
       "                    window.PLOTLYENV.BASE_URL='https://plot.ly';                                    if (document.getElementById(\"de0eea45-2639-49ae-bae2-dd3928fc3698\")) {                    Plotly.newPlot(                        \"de0eea45-2639-49ae-bae2-dd3928fc3698\",                        [{\"line\":{\"color\":\"rgba(255, 153, 51, 1.0)\",\"dash\":\"solid\",\"shape\":\"linear\",\"width\":1.3},\"mode\":\"lines\",\"name\":\"A\",\"text\":\"\",\"x\":[0,1,2,3,4,5,6,7,8,9,10,11,12,13,14,15,16,17,18,19,20,21,22,23,24,25,26,27,28,29,30,31,32,33,34,35,36,37,38,39,40,41,42,43,44,45,46,47,48,49,50,51,52,53,54,55,56,57,58,59,60,61,62,63,64,65,66,67,68,69,70,71,72,73,74,75,76,77,78,79,80,81,82,83,84,85,86,87,88,89,90,91,92,93,94,95,96,97,98,99],\"y\":[-1.4179226392462503,-0.46264200324192123,0.7515224608796539,0.017214914882547446,-2.119230156508853,1.4246987135038927,-1.3484391107921905,0.6432498838271453,-0.9263864887473827,0.7570861795056825,0.07543918980622479,1.1599339441805279,-0.04608268499591076,-0.09120078183586999,0.8842914961718378,-0.9162025719299867,-1.2610444177759146,0.027904167487635967,-0.7061578863184852,0.7709016638285334,-0.8539166153517274,0.7309733763722845,-1.7691103627746505,1.263558824772134,0.4717765277347702,0.557405859177239,-1.6819089715393656,1.0025284313403557,1.572525731929163,-0.9650143742388076,1.151517875183336,-0.18247700098496303,-0.7167113193989513,1.1761072211193844,0.12819699293539916,-0.23688078197346668,-0.560705340480975,-0.39787163984807145,1.3382710439775771,-1.7798709075126007,-1.2702252329912076,-0.4152839220015532,0.17542127517078324,0.39285448248880483,0.9045840149471326,-0.16994995097364154,0.3381582060118401,0.2063929493612841,-0.11094598121380154,0.7974586479279469,-2.199222319526443,1.3997599864684436,0.22941627710272822,1.4240802742453296,0.3094390144366311,1.5403747340754785,0.5810551927052852,-1.066762083853598,-0.059946047063189144,0.22949791684170903,0.8327749881915162,-0.06636372674054501,-0.6190169447247864,2.0048868335375056,1.736487965277091,-1.3831774356984614,1.4976344360500824,-0.7067197193609598,-0.4385844889747408,-0.9353036023038812,-0.47593035642229686,1.6132806108278546,-0.6287717679502393,1.0345780523748735,-1.27284403429772,-0.21598606336809065,-0.21383616429784602,3.2313217531556826,1.3382365732922021,-0.22487702362562872,2.340429170474291,0.6271993811365263,1.997890339440614,-2.033624272129717,0.32279225575672327,0.8666550678088079,0.8252385648058315,-1.657914673275361,1.2379383904314973,0.7149995599320481,-1.1761176335038575,0.5706312135572416,-0.4558503278911321,0.37983919034349595,0.09595899429015453,-1.2417447649974065,-0.5217493081296127,0.7542010755173852,-1.145180906491648,1.6740518150812944],\"type\":\"scatter\"},{\"line\":{\"color\":\"rgba(55, 128, 191, 1.0)\",\"dash\":\"solid\",\"shape\":\"linear\",\"width\":1.3},\"mode\":\"lines\",\"name\":\"B\",\"text\":\"\",\"x\":[0,1,2,3,4,5,6,7,8,9,10,11,12,13,14,15,16,17,18,19,20,21,22,23,24,25,26,27,28,29,30,31,32,33,34,35,36,37,38,39,40,41,42,43,44,45,46,47,48,49,50,51,52,53,54,55,56,57,58,59,60,61,62,63,64,65,66,67,68,69,70,71,72,73,74,75,76,77,78,79,80,81,82,83,84,85,86,87,88,89,90,91,92,93,94,95,96,97,98,99],\"y\":[0.43916847768055367,0.7754169812744081,-1.766184215926334,0.4674257707543401,0.29321032071154995,1.41774816480575,1.3445969383110263,0.4416487341811845,-1.430772057414031,-0.8505022925340281,0.4691920933044812,1.826784708762384,-0.10576410338109243,-1.500461426023311,0.7965390567393406,-0.012409030102622055,-0.15130451407398446,-2.071058423059817,-0.8255625544235962,-0.8074054383028947,-0.9301852379698403,-1.6773017541992195,-0.3946539688644478,-2.9870582870265263,-0.03318946511355068,-0.016251530567965744,0.7030357504362612,-0.4999960084700399,-0.9420611634530786,-0.1432729844634614,0.6557312074595607,0.35574155452593026,-0.07734755312316859,-1.7102423679022432,-0.04205763850987133,-1.4785422652968754,0.7645412296582739,-0.24706609101356192,-1.201359615189873,1.5325015503193518,-0.4881633821714732,-0.5057962567151923,1.1308257061231044,-0.23356594422792676,0.66092576287292,1.6404688258806333,-1.5081626093929672,-0.0013041142872921448,0.12204994284248882,1.4721906166668761,-0.08003811206186177,-0.9092222820745258,-0.8407007439622989,-0.11436673916364293,0.06406328064075953,0.48221062292822475,-0.7807229952837661,-0.20502892323697028,0.3447615780074933,-1.583612014364668,0.5130380961580526,-1.551310104687635,0.7237591993777599,1.5059564157142509,-0.10163714145529341,-1.67186290946623,-0.31584531717802655,1.0644113882459774,2.274346155576829,0.49930813021148723,1.6405651595955058,-0.33937453326899897,0.10632705592337412,-1.2642467659208292,-0.17540983564574716,-0.1862548195584329,1.4326108248716156,0.06485852176902505,-0.36945518458348525,0.541657819502985,0.4634294898545669,-1.3654976940987307,-0.45372839134779486,1.0423110939962679,0.4128596468131367,-0.4937751704955059,-0.24026055088614237,-0.6454607232329427,0.8484132678342798,0.8798070172304139,-0.8837609675709918,0.03975057728511999,-0.5563341326163922,-0.23772094092618812,0.18642158069051573,0.8268192191747974,1.9527936074764647,0.8109508402703056,-0.44120277682258874,0.407627374675604],\"type\":\"scatter\"},{\"connectgaps\":false,\"fill\":\"tozeroy\",\"line\":{\"color\":\"green\",\"dash\":\"solid\",\"shape\":\"linear\",\"width\":0.5},\"mode\":\"lines\",\"name\":\"Spread\",\"showlegend\":false,\"x\":[0,1,2,3,4,5,6,7,8,9,10,11,12,13,14,15,16,17,18,19,20,21,22,23,24,25,26,27,28,29,30,31,32,33,34,35,36,37,38,39,40,41,42,43,44,45,46,47,48,49,50,51,52,53,54,55,56,57,58,59,60,61,62,63,64,65,66,67,68,69,70,71,72,73,74,75,76,77,78,79,80,81,82,83,84,85,86,87,88,89,90,91,92,93,94,95,96,97,98,99],\"xaxis\":\"x2\",\"y\":[\"\",\"\",2.5177066768059877,\"\",\"\",0.006950548698142711,\"\",0.20160114964596082,0.5043855686666483,1.6075884720397107,\"\",\"\",0.05968141838518167,1.409260644187441,0.08775243943249722,\"\",\"\",2.098962590547453,0.11940466810511097,1.578307102131428,0.07626862261811296,2.408275130571504,\"\",4.25061711179866,0.5049659928483209,0.5736573897452046,\"\",1.5025244398103956,2.5145868953822417,\"\",0.4957866677237752,\"\",\"\",2.8863495890216275,0.17025463144527048,1.2416614833234088,\"\",\"\",2.5396306591674502,\"\",\"\",0.09051233471363918,\"\",0.6264204267167316,0.24365825207421254,\"\",1.8463208154048072,0.20769706364857626,\"\",\"\",\"\",2.3089822685429695,1.070117021065027,1.5384470134089725,0.24537573379587155,1.0581641111472537,1.3617781879890511,\"\",\"\",1.813109931206377,0.31973689203346356,1.48494637794709,\"\",0.49893041782325476,1.8381251067323845,0.28868547376776865,1.8134797532281088,\"\",\"\",\"\",\"\",1.9526551440968536,\"\",2.298824818295703,\"\",\"\",\"\",3.1664632313866576,1.7076917578756874,\"\",1.8769996806197242,1.9926970752352569,2.4516187307884088,\"\",\"\",1.3604302383043136,1.0654991156919738,\"\",0.3895251225972175,\"\",\"\",0.5308806362721216,0.10048380472526008,0.6175601312696841,\"\",\"\",\"\",\"\",\"\",1.2664244404056904],\"yaxis\":\"y2\",\"type\":\"scatter\"},{\"connectgaps\":false,\"fill\":\"tozeroy\",\"line\":{\"color\":\"red\",\"dash\":\"solid\",\"shape\":\"linear\",\"width\":0.5},\"mode\":\"lines\",\"name\":\"Spread\",\"showlegend\":false,\"x\":[0,1,2,3,4,5,6,7,8,9,10,11,12,13,14,15,16,17,18,19,20,21,22,23,24,25,26,27,28,29,30,31,32,33,34,35,36,37,38,39,40,41,42,43,44,45,46,47,48,49,50,51,52,53,54,55,56,57,58,59,60,61,62,63,64,65,66,67,68,69,70,71,72,73,74,75,76,77,78,79,80,81,82,83,84,85,86,87,88,89,90,91,92,93,94,95,96,97,98,99],\"xaxis\":\"x2\",\"y\":[-1.8570911169268038,-1.2380589845163292,\"\",-0.45021085587179266,-2.412440477220403,\"\",-2.693036049103217,\"\",\"\",\"\",-0.3937529034982564,-0.6668507645818562,\"\",\"\",\"\",-0.9037935418273646,-1.1097399037019302,\"\",\"\",\"\",\"\",\"\",-1.3744563939102026,\"\",\"\",\"\",-2.384944721975627,\"\",\"\",-0.8217413897753463,\"\",-0.5382185555108933,-0.6393637662757827,\"\",\"\",\"\",-1.3252465701392488,-0.15080554883450953,\"\",-3.3123724578319527,-0.7820618508197343,\"\",-0.9554044309523212,\"\",\"\",-1.8104187768542748,\"\",\"\",-0.23299592405629038,-0.6747319687389293,-2.1191842074645812,\"\",\"\",\"\",\"\",\"\",\"\",-0.8617331606166277,-0.4047076250706824,\"\",\"\",\"\",-1.3427761441025463,\"\",\"\",\"\",\"\",-1.7711311076069371,-2.71293064455157,-1.4346117325153684,-2.1164955160178027,\"\",-0.7350988238736134,\"\",-1.097434198651973,-0.029731243809657748,-1.6464469891694615,\"\",\"\",-0.7665348431286136,\"\",\"\",\"\",-3.075935366125985,-0.09006739105641343,\"\",\"\",-1.0124539500424183,\"\",-0.16480745729836577,-0.2923566659328657,\"\",\"\",\"\",-0.0904625864003612,-2.068563984172204,-2.4745429156060776,-0.05674976475292037,-0.7039781296690593,\"\"],\"yaxis\":\"y2\",\"type\":\"scatter\"}],                        {\"hovermode\":\"x\",\"legend\":{\"bgcolor\":\"#F5F6F9\",\"font\":{\"color\":\"#4D5663\"}},\"paper_bgcolor\":\"#F5F6F9\",\"plot_bgcolor\":\"#F5F6F9\",\"template\":{\"data\":{\"barpolar\":[{\"marker\":{\"line\":{\"color\":\"#E5ECF6\",\"width\":0.5},\"pattern\":{\"fillmode\":\"overlay\",\"size\":10,\"solidity\":0.2}},\"type\":\"barpolar\"}],\"bar\":[{\"error_x\":{\"color\":\"#2a3f5f\"},\"error_y\":{\"color\":\"#2a3f5f\"},\"marker\":{\"line\":{\"color\":\"#E5ECF6\",\"width\":0.5},\"pattern\":{\"fillmode\":\"overlay\",\"size\":10,\"solidity\":0.2}},\"type\":\"bar\"}],\"carpet\":[{\"aaxis\":{\"endlinecolor\":\"#2a3f5f\",\"gridcolor\":\"white\",\"linecolor\":\"white\",\"minorgridcolor\":\"white\",\"startlinecolor\":\"#2a3f5f\"},\"baxis\":{\"endlinecolor\":\"#2a3f5f\",\"gridcolor\":\"white\",\"linecolor\":\"white\",\"minorgridcolor\":\"white\",\"startlinecolor\":\"#2a3f5f\"},\"type\":\"carpet\"}],\"choropleth\":[{\"colorbar\":{\"outlinewidth\":0,\"ticks\":\"\"},\"type\":\"choropleth\"}],\"contourcarpet\":[{\"colorbar\":{\"outlinewidth\":0,\"ticks\":\"\"},\"type\":\"contourcarpet\"}],\"contour\":[{\"colorbar\":{\"outlinewidth\":0,\"ticks\":\"\"},\"colorscale\":[[0.0,\"#0d0887\"],[0.1111111111111111,\"#46039f\"],[0.2222222222222222,\"#7201a8\"],[0.3333333333333333,\"#9c179e\"],[0.4444444444444444,\"#bd3786\"],[0.5555555555555556,\"#d8576b\"],[0.6666666666666666,\"#ed7953\"],[0.7777777777777778,\"#fb9f3a\"],[0.8888888888888888,\"#fdca26\"],[1.0,\"#f0f921\"]],\"type\":\"contour\"}],\"heatmapgl\":[{\"colorbar\":{\"outlinewidth\":0,\"ticks\":\"\"},\"colorscale\":[[0.0,\"#0d0887\"],[0.1111111111111111,\"#46039f\"],[0.2222222222222222,\"#7201a8\"],[0.3333333333333333,\"#9c179e\"],[0.4444444444444444,\"#bd3786\"],[0.5555555555555556,\"#d8576b\"],[0.6666666666666666,\"#ed7953\"],[0.7777777777777778,\"#fb9f3a\"],[0.8888888888888888,\"#fdca26\"],[1.0,\"#f0f921\"]],\"type\":\"heatmapgl\"}],\"heatmap\":[{\"colorbar\":{\"outlinewidth\":0,\"ticks\":\"\"},\"colorscale\":[[0.0,\"#0d0887\"],[0.1111111111111111,\"#46039f\"],[0.2222222222222222,\"#7201a8\"],[0.3333333333333333,\"#9c179e\"],[0.4444444444444444,\"#bd3786\"],[0.5555555555555556,\"#d8576b\"],[0.6666666666666666,\"#ed7953\"],[0.7777777777777778,\"#fb9f3a\"],[0.8888888888888888,\"#fdca26\"],[1.0,\"#f0f921\"]],\"type\":\"heatmap\"}],\"histogram2dcontour\":[{\"colorbar\":{\"outlinewidth\":0,\"ticks\":\"\"},\"colorscale\":[[0.0,\"#0d0887\"],[0.1111111111111111,\"#46039f\"],[0.2222222222222222,\"#7201a8\"],[0.3333333333333333,\"#9c179e\"],[0.4444444444444444,\"#bd3786\"],[0.5555555555555556,\"#d8576b\"],[0.6666666666666666,\"#ed7953\"],[0.7777777777777778,\"#fb9f3a\"],[0.8888888888888888,\"#fdca26\"],[1.0,\"#f0f921\"]],\"type\":\"histogram2dcontour\"}],\"histogram2d\":[{\"colorbar\":{\"outlinewidth\":0,\"ticks\":\"\"},\"colorscale\":[[0.0,\"#0d0887\"],[0.1111111111111111,\"#46039f\"],[0.2222222222222222,\"#7201a8\"],[0.3333333333333333,\"#9c179e\"],[0.4444444444444444,\"#bd3786\"],[0.5555555555555556,\"#d8576b\"],[0.6666666666666666,\"#ed7953\"],[0.7777777777777778,\"#fb9f3a\"],[0.8888888888888888,\"#fdca26\"],[1.0,\"#f0f921\"]],\"type\":\"histogram2d\"}],\"histogram\":[{\"marker\":{\"pattern\":{\"fillmode\":\"overlay\",\"size\":10,\"solidity\":0.2}},\"type\":\"histogram\"}],\"mesh3d\":[{\"colorbar\":{\"outlinewidth\":0,\"ticks\":\"\"},\"type\":\"mesh3d\"}],\"parcoords\":[{\"line\":{\"colorbar\":{\"outlinewidth\":0,\"ticks\":\"\"}},\"type\":\"parcoords\"}],\"pie\":[{\"automargin\":true,\"type\":\"pie\"}],\"scatter3d\":[{\"line\":{\"colorbar\":{\"outlinewidth\":0,\"ticks\":\"\"}},\"marker\":{\"colorbar\":{\"outlinewidth\":0,\"ticks\":\"\"}},\"type\":\"scatter3d\"}],\"scattercarpet\":[{\"marker\":{\"colorbar\":{\"outlinewidth\":0,\"ticks\":\"\"}},\"type\":\"scattercarpet\"}],\"scattergeo\":[{\"marker\":{\"colorbar\":{\"outlinewidth\":0,\"ticks\":\"\"}},\"type\":\"scattergeo\"}],\"scattergl\":[{\"marker\":{\"colorbar\":{\"outlinewidth\":0,\"ticks\":\"\"}},\"type\":\"scattergl\"}],\"scattermapbox\":[{\"marker\":{\"colorbar\":{\"outlinewidth\":0,\"ticks\":\"\"}},\"type\":\"scattermapbox\"}],\"scatterpolargl\":[{\"marker\":{\"colorbar\":{\"outlinewidth\":0,\"ticks\":\"\"}},\"type\":\"scatterpolargl\"}],\"scatterpolar\":[{\"marker\":{\"colorbar\":{\"outlinewidth\":0,\"ticks\":\"\"}},\"type\":\"scatterpolar\"}],\"scatter\":[{\"marker\":{\"colorbar\":{\"outlinewidth\":0,\"ticks\":\"\"}},\"type\":\"scatter\"}],\"scatterternary\":[{\"marker\":{\"colorbar\":{\"outlinewidth\":0,\"ticks\":\"\"}},\"type\":\"scatterternary\"}],\"surface\":[{\"colorbar\":{\"outlinewidth\":0,\"ticks\":\"\"},\"colorscale\":[[0.0,\"#0d0887\"],[0.1111111111111111,\"#46039f\"],[0.2222222222222222,\"#7201a8\"],[0.3333333333333333,\"#9c179e\"],[0.4444444444444444,\"#bd3786\"],[0.5555555555555556,\"#d8576b\"],[0.6666666666666666,\"#ed7953\"],[0.7777777777777778,\"#fb9f3a\"],[0.8888888888888888,\"#fdca26\"],[1.0,\"#f0f921\"]],\"type\":\"surface\"}],\"table\":[{\"cells\":{\"fill\":{\"color\":\"#EBF0F8\"},\"line\":{\"color\":\"white\"}},\"header\":{\"fill\":{\"color\":\"#C8D4E3\"},\"line\":{\"color\":\"white\"}},\"type\":\"table\"}]},\"layout\":{\"annotationdefaults\":{\"arrowcolor\":\"#2a3f5f\",\"arrowhead\":0,\"arrowwidth\":1},\"autotypenumbers\":\"strict\",\"coloraxis\":{\"colorbar\":{\"outlinewidth\":0,\"ticks\":\"\"}},\"colorscale\":{\"diverging\":[[0,\"#8e0152\"],[0.1,\"#c51b7d\"],[0.2,\"#de77ae\"],[0.3,\"#f1b6da\"],[0.4,\"#fde0ef\"],[0.5,\"#f7f7f7\"],[0.6,\"#e6f5d0\"],[0.7,\"#b8e186\"],[0.8,\"#7fbc41\"],[0.9,\"#4d9221\"],[1,\"#276419\"]],\"sequential\":[[0.0,\"#0d0887\"],[0.1111111111111111,\"#46039f\"],[0.2222222222222222,\"#7201a8\"],[0.3333333333333333,\"#9c179e\"],[0.4444444444444444,\"#bd3786\"],[0.5555555555555556,\"#d8576b\"],[0.6666666666666666,\"#ed7953\"],[0.7777777777777778,\"#fb9f3a\"],[0.8888888888888888,\"#fdca26\"],[1.0,\"#f0f921\"]],\"sequentialminus\":[[0.0,\"#0d0887\"],[0.1111111111111111,\"#46039f\"],[0.2222222222222222,\"#7201a8\"],[0.3333333333333333,\"#9c179e\"],[0.4444444444444444,\"#bd3786\"],[0.5555555555555556,\"#d8576b\"],[0.6666666666666666,\"#ed7953\"],[0.7777777777777778,\"#fb9f3a\"],[0.8888888888888888,\"#fdca26\"],[1.0,\"#f0f921\"]]},\"colorway\":[\"#636efa\",\"#EF553B\",\"#00cc96\",\"#ab63fa\",\"#FFA15A\",\"#19d3f3\",\"#FF6692\",\"#B6E880\",\"#FF97FF\",\"#FECB52\"],\"font\":{\"color\":\"#2a3f5f\"},\"geo\":{\"bgcolor\":\"white\",\"lakecolor\":\"white\",\"landcolor\":\"#E5ECF6\",\"showlakes\":true,\"showland\":true,\"subunitcolor\":\"white\"},\"hoverlabel\":{\"align\":\"left\"},\"hovermode\":\"closest\",\"mapbox\":{\"style\":\"light\"},\"paper_bgcolor\":\"white\",\"plot_bgcolor\":\"#E5ECF6\",\"polar\":{\"angularaxis\":{\"gridcolor\":\"white\",\"linecolor\":\"white\",\"ticks\":\"\"},\"bgcolor\":\"#E5ECF6\",\"radialaxis\":{\"gridcolor\":\"white\",\"linecolor\":\"white\",\"ticks\":\"\"}},\"scene\":{\"xaxis\":{\"backgroundcolor\":\"#E5ECF6\",\"gridcolor\":\"white\",\"gridwidth\":2,\"linecolor\":\"white\",\"showbackground\":true,\"ticks\":\"\",\"zerolinecolor\":\"white\"},\"yaxis\":{\"backgroundcolor\":\"#E5ECF6\",\"gridcolor\":\"white\",\"gridwidth\":2,\"linecolor\":\"white\",\"showbackground\":true,\"ticks\":\"\",\"zerolinecolor\":\"white\"},\"zaxis\":{\"backgroundcolor\":\"#E5ECF6\",\"gridcolor\":\"white\",\"gridwidth\":2,\"linecolor\":\"white\",\"showbackground\":true,\"ticks\":\"\",\"zerolinecolor\":\"white\"}},\"shapedefaults\":{\"line\":{\"color\":\"#2a3f5f\"}},\"ternary\":{\"aaxis\":{\"gridcolor\":\"white\",\"linecolor\":\"white\",\"ticks\":\"\"},\"baxis\":{\"gridcolor\":\"white\",\"linecolor\":\"white\",\"ticks\":\"\"},\"bgcolor\":\"#E5ECF6\",\"caxis\":{\"gridcolor\":\"white\",\"linecolor\":\"white\",\"ticks\":\"\"}},\"title\":{\"x\":0.05},\"xaxis\":{\"automargin\":true,\"gridcolor\":\"white\",\"linecolor\":\"white\",\"ticks\":\"\",\"title\":{\"standoff\":15},\"zerolinecolor\":\"white\",\"zerolinewidth\":2},\"yaxis\":{\"automargin\":true,\"gridcolor\":\"white\",\"linecolor\":\"white\",\"ticks\":\"\",\"title\":{\"standoff\":15},\"zerolinecolor\":\"white\",\"zerolinewidth\":2}}},\"title\":{\"font\":{\"color\":\"#4D5663\"}},\"xaxis\":{\"gridcolor\":\"#E1E5ED\",\"showgrid\":true,\"tickfont\":{\"color\":\"#4D5663\"},\"title\":{\"font\":{\"color\":\"#4D5663\"},\"text\":\"\"},\"zerolinecolor\":\"#E1E5ED\"},\"yaxis\":{\"domain\":[0.3,1],\"gridcolor\":\"#E1E5ED\",\"showgrid\":true,\"tickfont\":{\"color\":\"#4D5663\"},\"title\":{\"font\":{\"color\":\"#4D5663\"},\"text\":\"\"},\"zerolinecolor\":\"#E1E5ED\"},\"yaxis2\":{\"domain\":[0,0.25],\"gridcolor\":\"#E1E5ED\",\"showgrid\":true,\"tickfont\":{\"color\":\"#4D5663\"},\"title\":{\"font\":{\"color\":\"#4D5663\"},\"text\":\"Spread\"},\"zerolinecolor\":\"#E1E5ED\"},\"xaxis2\":{\"anchor\":\"y2\",\"gridcolor\":\"#E1E5ED\",\"showgrid\":true,\"showticklabels\":false,\"tickfont\":{\"color\":\"#4D5663\"},\"title\":{\"font\":{\"color\":\"#4D5663\"},\"text\":\"\"},\"zerolinecolor\":\"#E1E5ED\"}},                        {\"showLink\": true, \"linkText\": \"Export to plot.ly\", \"plotlyServerURL\": \"https://plot.ly\", \"responsive\": true}                    ).then(function(){\n",
       "                            \n",
       "var gd = document.getElementById('de0eea45-2639-49ae-bae2-dd3928fc3698');\n",
       "var x = new MutationObserver(function (mutations, observer) {{\n",
       "        var display = window.getComputedStyle(gd).display;\n",
       "        if (!display || display === 'none') {{\n",
       "            console.log([gd, 'removed!']);\n",
       "            Plotly.purge(gd);\n",
       "            observer.disconnect();\n",
       "        }}\n",
       "}});\n",
       "\n",
       "// Listen for the removal of the full notebook cells\n",
       "var notebookContainer = gd.closest('#notebook-container');\n",
       "if (notebookContainer) {{\n",
       "    x.observe(notebookContainer, {childList: true});\n",
       "}}\n",
       "\n",
       "// Listen for the clearing of the current output cell\n",
       "var outputEl = gd.closest('.output');\n",
       "if (outputEl) {{\n",
       "    x.observe(outputEl, {childList: true});\n",
       "}}\n",
       "\n",
       "                        })                };                });            </script>        </div>"
      ]
     },
     "metadata": {},
     "output_type": "display_data"
    }
   ],
   "source": [
    "df[['A','B']].iplot(kind='spread')"
   ]
  },
  {
   "cell_type": "code",
   "execution_count": 29,
   "id": "f9d478ca",
   "metadata": {},
   "outputs": [
    {
     "data": {
      "application/vnd.plotly.v1+json": {
       "config": {
        "linkText": "Export to plot.ly",
        "plotlyServerURL": "https://plot.ly",
        "showLink": true
       },
       "data": [
        {
         "marker": {
          "color": [
           "rgb(255, 153, 51)",
           "rgb(55, 128, 191)",
           "rgb(50, 171, 96)",
           "rgb(128, 0, 128)",
           "rgb(219, 64, 82)",
           "rgb(0, 128, 128)",
           "rgb(255, 255, 51)",
           "rgb(128, 128, 0)",
           "rgb(251, 128, 114)",
           "rgb(128, 177, 211)"
          ],
          "line": {
           "width": 1.3
          },
          "size": [
           56,
           67,
           47,
           17,
           69,
           87,
           48,
           73,
           48,
           89,
           58,
           19,
           39,
           38,
           45,
           55,
           46,
           60,
           54,
           52,
           79,
           51,
           87,
           96,
           16,
           59,
           75,
           12,
           100,
           32,
           67,
           38,
           93,
           37,
           37,
           36,
           54,
           37,
           75,
           75,
           78,
           112,
           28,
           90,
           12,
           20,
           27,
           58,
           66,
           64,
           68,
           58,
           87,
           21,
           25,
           80,
           80,
           58,
           61,
           77,
           27,
           91,
           85,
           55,
           33,
           37,
           75,
           82,
           36,
           49,
           66,
           56,
           47,
           84,
           63,
           58,
           53,
           105,
           12,
           44,
           44,
           22,
           60,
           76,
           32,
           65,
           46,
           47,
           62,
           77,
           40,
           97,
           67,
           38,
           81,
           22,
           39,
           65,
           41,
           83
          ],
          "symbol": "circle"
         },
         "mode": "markers",
         "text": "",
         "type": "scatter",
         "x": [
          -1.4179226392462503,
          -0.46264200324192123,
          0.7515224608796539,
          0.017214914882547446,
          -2.119230156508853,
          1.4246987135038927,
          -1.3484391107921905,
          0.6432498838271453,
          -0.9263864887473827,
          0.7570861795056825,
          0.07543918980622479,
          1.1599339441805279,
          -0.04608268499591076,
          -0.09120078183586999,
          0.8842914961718378,
          -0.9162025719299867,
          -1.2610444177759146,
          0.027904167487635967,
          -0.7061578863184852,
          0.7709016638285334,
          -0.8539166153517274,
          0.7309733763722845,
          -1.7691103627746505,
          1.263558824772134,
          0.4717765277347702,
          0.557405859177239,
          -1.6819089715393656,
          1.0025284313403557,
          1.572525731929163,
          -0.9650143742388076,
          1.151517875183336,
          -0.18247700098496303,
          -0.7167113193989513,
          1.1761072211193844,
          0.12819699293539916,
          -0.23688078197346668,
          -0.560705340480975,
          -0.39787163984807145,
          1.3382710439775771,
          -1.7798709075126007,
          -1.2702252329912076,
          -0.4152839220015532,
          0.17542127517078324,
          0.39285448248880483,
          0.9045840149471326,
          -0.16994995097364154,
          0.3381582060118401,
          0.2063929493612841,
          -0.11094598121380154,
          0.7974586479279469,
          -2.199222319526443,
          1.3997599864684436,
          0.22941627710272822,
          1.4240802742453296,
          0.3094390144366311,
          1.5403747340754785,
          0.5810551927052852,
          -1.066762083853598,
          -0.059946047063189144,
          0.22949791684170903,
          0.8327749881915162,
          -0.06636372674054501,
          -0.6190169447247864,
          2.0048868335375056,
          1.736487965277091,
          -1.3831774356984614,
          1.4976344360500824,
          -0.7067197193609598,
          -0.4385844889747408,
          -0.9353036023038812,
          -0.47593035642229686,
          1.6132806108278546,
          -0.6287717679502393,
          1.0345780523748735,
          -1.27284403429772,
          -0.21598606336809065,
          -0.21383616429784602,
          3.2313217531556826,
          1.3382365732922021,
          -0.22487702362562872,
          2.340429170474291,
          0.6271993811365263,
          1.997890339440614,
          -2.033624272129717,
          0.32279225575672327,
          0.8666550678088079,
          0.8252385648058315,
          -1.657914673275361,
          1.2379383904314973,
          0.7149995599320481,
          -1.1761176335038575,
          0.5706312135572416,
          -0.4558503278911321,
          0.37983919034349595,
          0.09595899429015453,
          -1.2417447649974065,
          -0.5217493081296127,
          0.7542010755173852,
          -1.145180906491648,
          1.6740518150812944
         ],
         "y": [
          0.43916847768055367,
          0.7754169812744081,
          -1.766184215926334,
          0.4674257707543401,
          0.29321032071154995,
          1.41774816480575,
          1.3445969383110263,
          0.4416487341811845,
          -1.430772057414031,
          -0.8505022925340281,
          0.4691920933044812,
          1.826784708762384,
          -0.10576410338109243,
          -1.500461426023311,
          0.7965390567393406,
          -0.012409030102622055,
          -0.15130451407398446,
          -2.071058423059817,
          -0.8255625544235962,
          -0.8074054383028947,
          -0.9301852379698403,
          -1.6773017541992195,
          -0.3946539688644478,
          -2.9870582870265263,
          -0.03318946511355068,
          -0.016251530567965744,
          0.7030357504362612,
          -0.4999960084700399,
          -0.9420611634530786,
          -0.1432729844634614,
          0.6557312074595607,
          0.35574155452593026,
          -0.07734755312316859,
          -1.7102423679022432,
          -0.04205763850987133,
          -1.4785422652968754,
          0.7645412296582739,
          -0.24706609101356192,
          -1.201359615189873,
          1.5325015503193518,
          -0.4881633821714732,
          -0.5057962567151923,
          1.1308257061231044,
          -0.23356594422792676,
          0.66092576287292,
          1.6404688258806333,
          -1.5081626093929672,
          -0.0013041142872921448,
          0.12204994284248882,
          1.4721906166668761,
          -0.08003811206186177,
          -0.9092222820745258,
          -0.8407007439622989,
          -0.11436673916364293,
          0.06406328064075953,
          0.48221062292822475,
          -0.7807229952837661,
          -0.20502892323697028,
          0.3447615780074933,
          -1.583612014364668,
          0.5130380961580526,
          -1.551310104687635,
          0.7237591993777599,
          1.5059564157142509,
          -0.10163714145529341,
          -1.67186290946623,
          -0.31584531717802655,
          1.0644113882459774,
          2.274346155576829,
          0.49930813021148723,
          1.6405651595955058,
          -0.33937453326899897,
          0.10632705592337412,
          -1.2642467659208292,
          -0.17540983564574716,
          -0.1862548195584329,
          1.4326108248716156,
          0.06485852176902505,
          -0.36945518458348525,
          0.541657819502985,
          0.4634294898545669,
          -1.3654976940987307,
          -0.45372839134779486,
          1.0423110939962679,
          0.4128596468131367,
          -0.4937751704955059,
          -0.24026055088614237,
          -0.6454607232329427,
          0.8484132678342798,
          0.8798070172304139,
          -0.8837609675709918,
          0.03975057728511999,
          -0.5563341326163922,
          -0.23772094092618812,
          0.18642158069051573,
          0.8268192191747974,
          1.9527936074764647,
          0.8109508402703056,
          -0.44120277682258874,
          0.407627374675604
         ]
        }
       ],
       "layout": {
        "legend": {
         "bgcolor": "#F5F6F9",
         "font": {
          "color": "#4D5663"
         }
        },
        "paper_bgcolor": "#F5F6F9",
        "plot_bgcolor": "#F5F6F9",
        "template": {
         "data": {
          "bar": [
           {
            "error_x": {
             "color": "#2a3f5f"
            },
            "error_y": {
             "color": "#2a3f5f"
            },
            "marker": {
             "line": {
              "color": "#E5ECF6",
              "width": 0.5
             },
             "pattern": {
              "fillmode": "overlay",
              "size": 10,
              "solidity": 0.2
             }
            },
            "type": "bar"
           }
          ],
          "barpolar": [
           {
            "marker": {
             "line": {
              "color": "#E5ECF6",
              "width": 0.5
             },
             "pattern": {
              "fillmode": "overlay",
              "size": 10,
              "solidity": 0.2
             }
            },
            "type": "barpolar"
           }
          ],
          "carpet": [
           {
            "aaxis": {
             "endlinecolor": "#2a3f5f",
             "gridcolor": "white",
             "linecolor": "white",
             "minorgridcolor": "white",
             "startlinecolor": "#2a3f5f"
            },
            "baxis": {
             "endlinecolor": "#2a3f5f",
             "gridcolor": "white",
             "linecolor": "white",
             "minorgridcolor": "white",
             "startlinecolor": "#2a3f5f"
            },
            "type": "carpet"
           }
          ],
          "choropleth": [
           {
            "colorbar": {
             "outlinewidth": 0,
             "ticks": ""
            },
            "type": "choropleth"
           }
          ],
          "contour": [
           {
            "colorbar": {
             "outlinewidth": 0,
             "ticks": ""
            },
            "colorscale": [
             [
              0,
              "#0d0887"
             ],
             [
              0.1111111111111111,
              "#46039f"
             ],
             [
              0.2222222222222222,
              "#7201a8"
             ],
             [
              0.3333333333333333,
              "#9c179e"
             ],
             [
              0.4444444444444444,
              "#bd3786"
             ],
             [
              0.5555555555555556,
              "#d8576b"
             ],
             [
              0.6666666666666666,
              "#ed7953"
             ],
             [
              0.7777777777777778,
              "#fb9f3a"
             ],
             [
              0.8888888888888888,
              "#fdca26"
             ],
             [
              1,
              "#f0f921"
             ]
            ],
            "type": "contour"
           }
          ],
          "contourcarpet": [
           {
            "colorbar": {
             "outlinewidth": 0,
             "ticks": ""
            },
            "type": "contourcarpet"
           }
          ],
          "heatmap": [
           {
            "colorbar": {
             "outlinewidth": 0,
             "ticks": ""
            },
            "colorscale": [
             [
              0,
              "#0d0887"
             ],
             [
              0.1111111111111111,
              "#46039f"
             ],
             [
              0.2222222222222222,
              "#7201a8"
             ],
             [
              0.3333333333333333,
              "#9c179e"
             ],
             [
              0.4444444444444444,
              "#bd3786"
             ],
             [
              0.5555555555555556,
              "#d8576b"
             ],
             [
              0.6666666666666666,
              "#ed7953"
             ],
             [
              0.7777777777777778,
              "#fb9f3a"
             ],
             [
              0.8888888888888888,
              "#fdca26"
             ],
             [
              1,
              "#f0f921"
             ]
            ],
            "type": "heatmap"
           }
          ],
          "heatmapgl": [
           {
            "colorbar": {
             "outlinewidth": 0,
             "ticks": ""
            },
            "colorscale": [
             [
              0,
              "#0d0887"
             ],
             [
              0.1111111111111111,
              "#46039f"
             ],
             [
              0.2222222222222222,
              "#7201a8"
             ],
             [
              0.3333333333333333,
              "#9c179e"
             ],
             [
              0.4444444444444444,
              "#bd3786"
             ],
             [
              0.5555555555555556,
              "#d8576b"
             ],
             [
              0.6666666666666666,
              "#ed7953"
             ],
             [
              0.7777777777777778,
              "#fb9f3a"
             ],
             [
              0.8888888888888888,
              "#fdca26"
             ],
             [
              1,
              "#f0f921"
             ]
            ],
            "type": "heatmapgl"
           }
          ],
          "histogram": [
           {
            "marker": {
             "pattern": {
              "fillmode": "overlay",
              "size": 10,
              "solidity": 0.2
             }
            },
            "type": "histogram"
           }
          ],
          "histogram2d": [
           {
            "colorbar": {
             "outlinewidth": 0,
             "ticks": ""
            },
            "colorscale": [
             [
              0,
              "#0d0887"
             ],
             [
              0.1111111111111111,
              "#46039f"
             ],
             [
              0.2222222222222222,
              "#7201a8"
             ],
             [
              0.3333333333333333,
              "#9c179e"
             ],
             [
              0.4444444444444444,
              "#bd3786"
             ],
             [
              0.5555555555555556,
              "#d8576b"
             ],
             [
              0.6666666666666666,
              "#ed7953"
             ],
             [
              0.7777777777777778,
              "#fb9f3a"
             ],
             [
              0.8888888888888888,
              "#fdca26"
             ],
             [
              1,
              "#f0f921"
             ]
            ],
            "type": "histogram2d"
           }
          ],
          "histogram2dcontour": [
           {
            "colorbar": {
             "outlinewidth": 0,
             "ticks": ""
            },
            "colorscale": [
             [
              0,
              "#0d0887"
             ],
             [
              0.1111111111111111,
              "#46039f"
             ],
             [
              0.2222222222222222,
              "#7201a8"
             ],
             [
              0.3333333333333333,
              "#9c179e"
             ],
             [
              0.4444444444444444,
              "#bd3786"
             ],
             [
              0.5555555555555556,
              "#d8576b"
             ],
             [
              0.6666666666666666,
              "#ed7953"
             ],
             [
              0.7777777777777778,
              "#fb9f3a"
             ],
             [
              0.8888888888888888,
              "#fdca26"
             ],
             [
              1,
              "#f0f921"
             ]
            ],
            "type": "histogram2dcontour"
           }
          ],
          "mesh3d": [
           {
            "colorbar": {
             "outlinewidth": 0,
             "ticks": ""
            },
            "type": "mesh3d"
           }
          ],
          "parcoords": [
           {
            "line": {
             "colorbar": {
              "outlinewidth": 0,
              "ticks": ""
             }
            },
            "type": "parcoords"
           }
          ],
          "pie": [
           {
            "automargin": true,
            "type": "pie"
           }
          ],
          "scatter": [
           {
            "marker": {
             "colorbar": {
              "outlinewidth": 0,
              "ticks": ""
             }
            },
            "type": "scatter"
           }
          ],
          "scatter3d": [
           {
            "line": {
             "colorbar": {
              "outlinewidth": 0,
              "ticks": ""
             }
            },
            "marker": {
             "colorbar": {
              "outlinewidth": 0,
              "ticks": ""
             }
            },
            "type": "scatter3d"
           }
          ],
          "scattercarpet": [
           {
            "marker": {
             "colorbar": {
              "outlinewidth": 0,
              "ticks": ""
             }
            },
            "type": "scattercarpet"
           }
          ],
          "scattergeo": [
           {
            "marker": {
             "colorbar": {
              "outlinewidth": 0,
              "ticks": ""
             }
            },
            "type": "scattergeo"
           }
          ],
          "scattergl": [
           {
            "marker": {
             "colorbar": {
              "outlinewidth": 0,
              "ticks": ""
             }
            },
            "type": "scattergl"
           }
          ],
          "scattermapbox": [
           {
            "marker": {
             "colorbar": {
              "outlinewidth": 0,
              "ticks": ""
             }
            },
            "type": "scattermapbox"
           }
          ],
          "scatterpolar": [
           {
            "marker": {
             "colorbar": {
              "outlinewidth": 0,
              "ticks": ""
             }
            },
            "type": "scatterpolar"
           }
          ],
          "scatterpolargl": [
           {
            "marker": {
             "colorbar": {
              "outlinewidth": 0,
              "ticks": ""
             }
            },
            "type": "scatterpolargl"
           }
          ],
          "scatterternary": [
           {
            "marker": {
             "colorbar": {
              "outlinewidth": 0,
              "ticks": ""
             }
            },
            "type": "scatterternary"
           }
          ],
          "surface": [
           {
            "colorbar": {
             "outlinewidth": 0,
             "ticks": ""
            },
            "colorscale": [
             [
              0,
              "#0d0887"
             ],
             [
              0.1111111111111111,
              "#46039f"
             ],
             [
              0.2222222222222222,
              "#7201a8"
             ],
             [
              0.3333333333333333,
              "#9c179e"
             ],
             [
              0.4444444444444444,
              "#bd3786"
             ],
             [
              0.5555555555555556,
              "#d8576b"
             ],
             [
              0.6666666666666666,
              "#ed7953"
             ],
             [
              0.7777777777777778,
              "#fb9f3a"
             ],
             [
              0.8888888888888888,
              "#fdca26"
             ],
             [
              1,
              "#f0f921"
             ]
            ],
            "type": "surface"
           }
          ],
          "table": [
           {
            "cells": {
             "fill": {
              "color": "#EBF0F8"
             },
             "line": {
              "color": "white"
             }
            },
            "header": {
             "fill": {
              "color": "#C8D4E3"
             },
             "line": {
              "color": "white"
             }
            },
            "type": "table"
           }
          ]
         },
         "layout": {
          "annotationdefaults": {
           "arrowcolor": "#2a3f5f",
           "arrowhead": 0,
           "arrowwidth": 1
          },
          "autotypenumbers": "strict",
          "coloraxis": {
           "colorbar": {
            "outlinewidth": 0,
            "ticks": ""
           }
          },
          "colorscale": {
           "diverging": [
            [
             0,
             "#8e0152"
            ],
            [
             0.1,
             "#c51b7d"
            ],
            [
             0.2,
             "#de77ae"
            ],
            [
             0.3,
             "#f1b6da"
            ],
            [
             0.4,
             "#fde0ef"
            ],
            [
             0.5,
             "#f7f7f7"
            ],
            [
             0.6,
             "#e6f5d0"
            ],
            [
             0.7,
             "#b8e186"
            ],
            [
             0.8,
             "#7fbc41"
            ],
            [
             0.9,
             "#4d9221"
            ],
            [
             1,
             "#276419"
            ]
           ],
           "sequential": [
            [
             0,
             "#0d0887"
            ],
            [
             0.1111111111111111,
             "#46039f"
            ],
            [
             0.2222222222222222,
             "#7201a8"
            ],
            [
             0.3333333333333333,
             "#9c179e"
            ],
            [
             0.4444444444444444,
             "#bd3786"
            ],
            [
             0.5555555555555556,
             "#d8576b"
            ],
            [
             0.6666666666666666,
             "#ed7953"
            ],
            [
             0.7777777777777778,
             "#fb9f3a"
            ],
            [
             0.8888888888888888,
             "#fdca26"
            ],
            [
             1,
             "#f0f921"
            ]
           ],
           "sequentialminus": [
            [
             0,
             "#0d0887"
            ],
            [
             0.1111111111111111,
             "#46039f"
            ],
            [
             0.2222222222222222,
             "#7201a8"
            ],
            [
             0.3333333333333333,
             "#9c179e"
            ],
            [
             0.4444444444444444,
             "#bd3786"
            ],
            [
             0.5555555555555556,
             "#d8576b"
            ],
            [
             0.6666666666666666,
             "#ed7953"
            ],
            [
             0.7777777777777778,
             "#fb9f3a"
            ],
            [
             0.8888888888888888,
             "#fdca26"
            ],
            [
             1,
             "#f0f921"
            ]
           ]
          },
          "colorway": [
           "#636efa",
           "#EF553B",
           "#00cc96",
           "#ab63fa",
           "#FFA15A",
           "#19d3f3",
           "#FF6692",
           "#B6E880",
           "#FF97FF",
           "#FECB52"
          ],
          "font": {
           "color": "#2a3f5f"
          },
          "geo": {
           "bgcolor": "white",
           "lakecolor": "white",
           "landcolor": "#E5ECF6",
           "showlakes": true,
           "showland": true,
           "subunitcolor": "white"
          },
          "hoverlabel": {
           "align": "left"
          },
          "hovermode": "closest",
          "mapbox": {
           "style": "light"
          },
          "paper_bgcolor": "white",
          "plot_bgcolor": "#E5ECF6",
          "polar": {
           "angularaxis": {
            "gridcolor": "white",
            "linecolor": "white",
            "ticks": ""
           },
           "bgcolor": "#E5ECF6",
           "radialaxis": {
            "gridcolor": "white",
            "linecolor": "white",
            "ticks": ""
           }
          },
          "scene": {
           "xaxis": {
            "backgroundcolor": "#E5ECF6",
            "gridcolor": "white",
            "gridwidth": 2,
            "linecolor": "white",
            "showbackground": true,
            "ticks": "",
            "zerolinecolor": "white"
           },
           "yaxis": {
            "backgroundcolor": "#E5ECF6",
            "gridcolor": "white",
            "gridwidth": 2,
            "linecolor": "white",
            "showbackground": true,
            "ticks": "",
            "zerolinecolor": "white"
           },
           "zaxis": {
            "backgroundcolor": "#E5ECF6",
            "gridcolor": "white",
            "gridwidth": 2,
            "linecolor": "white",
            "showbackground": true,
            "ticks": "",
            "zerolinecolor": "white"
           }
          },
          "shapedefaults": {
           "line": {
            "color": "#2a3f5f"
           }
          },
          "ternary": {
           "aaxis": {
            "gridcolor": "white",
            "linecolor": "white",
            "ticks": ""
           },
           "baxis": {
            "gridcolor": "white",
            "linecolor": "white",
            "ticks": ""
           },
           "bgcolor": "#E5ECF6",
           "caxis": {
            "gridcolor": "white",
            "linecolor": "white",
            "ticks": ""
           }
          },
          "title": {
           "x": 0.05
          },
          "xaxis": {
           "automargin": true,
           "gridcolor": "white",
           "linecolor": "white",
           "ticks": "",
           "title": {
            "standoff": 15
           },
           "zerolinecolor": "white",
           "zerolinewidth": 2
          },
          "yaxis": {
           "automargin": true,
           "gridcolor": "white",
           "linecolor": "white",
           "ticks": "",
           "title": {
            "standoff": 15
           },
           "zerolinecolor": "white",
           "zerolinewidth": 2
          }
         }
        },
        "title": {
         "font": {
          "color": "#4D5663"
         }
        },
        "xaxis": {
         "gridcolor": "#E1E5ED",
         "showgrid": true,
         "tickfont": {
          "color": "#4D5663"
         },
         "title": {
          "font": {
           "color": "#4D5663"
          },
          "text": ""
         },
         "zerolinecolor": "#E1E5ED"
        },
        "yaxis": {
         "gridcolor": "#E1E5ED",
         "showgrid": true,
         "tickfont": {
          "color": "#4D5663"
         },
         "title": {
          "font": {
           "color": "#4D5663"
          },
          "text": ""
         },
         "zerolinecolor": "#E1E5ED"
        }
       }
      },
      "text/html": [
       "<div>                            <div id=\"c0714bdf-8f34-45ae-9294-ad62febcd5d0\" class=\"plotly-graph-div\" style=\"height:525px; width:100%;\"></div>            <script type=\"text/javascript\">                require([\"plotly\"], function(Plotly) {                    window.PLOTLYENV=window.PLOTLYENV || {};\n",
       "                    window.PLOTLYENV.BASE_URL='https://plot.ly';                                    if (document.getElementById(\"c0714bdf-8f34-45ae-9294-ad62febcd5d0\")) {                    Plotly.newPlot(                        \"c0714bdf-8f34-45ae-9294-ad62febcd5d0\",                        [{\"marker\":{\"color\":[\"rgb(255, 153, 51)\",\"rgb(55, 128, 191)\",\"rgb(50, 171, 96)\",\"rgb(128, 0, 128)\",\"rgb(219, 64, 82)\",\"rgb(0, 128, 128)\",\"rgb(255, 255, 51)\",\"rgb(128, 128, 0)\",\"rgb(251, 128, 114)\",\"rgb(128, 177, 211)\"],\"line\":{\"width\":1.3},\"size\":[56,67,47,17,69,87,48,73,48,89,58,19,39,38,45,55,46,60,54,52,79,51,87,96,16,59,75,12,100,32,67,38,93,37,37,36,54,37,75,75,78,112,28,90,12,20,27,58,66,64,68,58,87,21,25,80,80,58,61,77,27,91,85,55,33,37,75,82,36,49,66,56,47,84,63,58,53,105,12,44,44,22,60,76,32,65,46,47,62,77,40,97,67,38,81,22,39,65,41,83],\"symbol\":\"circle\"},\"mode\":\"markers\",\"text\":\"\",\"x\":[-1.4179226392462503,-0.46264200324192123,0.7515224608796539,0.017214914882547446,-2.119230156508853,1.4246987135038927,-1.3484391107921905,0.6432498838271453,-0.9263864887473827,0.7570861795056825,0.07543918980622479,1.1599339441805279,-0.04608268499591076,-0.09120078183586999,0.8842914961718378,-0.9162025719299867,-1.2610444177759146,0.027904167487635967,-0.7061578863184852,0.7709016638285334,-0.8539166153517274,0.7309733763722845,-1.7691103627746505,1.263558824772134,0.4717765277347702,0.557405859177239,-1.6819089715393656,1.0025284313403557,1.572525731929163,-0.9650143742388076,1.151517875183336,-0.18247700098496303,-0.7167113193989513,1.1761072211193844,0.12819699293539916,-0.23688078197346668,-0.560705340480975,-0.39787163984807145,1.3382710439775771,-1.7798709075126007,-1.2702252329912076,-0.4152839220015532,0.17542127517078324,0.39285448248880483,0.9045840149471326,-0.16994995097364154,0.3381582060118401,0.2063929493612841,-0.11094598121380154,0.7974586479279469,-2.199222319526443,1.3997599864684436,0.22941627710272822,1.4240802742453296,0.3094390144366311,1.5403747340754785,0.5810551927052852,-1.066762083853598,-0.059946047063189144,0.22949791684170903,0.8327749881915162,-0.06636372674054501,-0.6190169447247864,2.0048868335375056,1.736487965277091,-1.3831774356984614,1.4976344360500824,-0.7067197193609598,-0.4385844889747408,-0.9353036023038812,-0.47593035642229686,1.6132806108278546,-0.6287717679502393,1.0345780523748735,-1.27284403429772,-0.21598606336809065,-0.21383616429784602,3.2313217531556826,1.3382365732922021,-0.22487702362562872,2.340429170474291,0.6271993811365263,1.997890339440614,-2.033624272129717,0.32279225575672327,0.8666550678088079,0.8252385648058315,-1.657914673275361,1.2379383904314973,0.7149995599320481,-1.1761176335038575,0.5706312135572416,-0.4558503278911321,0.37983919034349595,0.09595899429015453,-1.2417447649974065,-0.5217493081296127,0.7542010755173852,-1.145180906491648,1.6740518150812944],\"y\":[0.43916847768055367,0.7754169812744081,-1.766184215926334,0.4674257707543401,0.29321032071154995,1.41774816480575,1.3445969383110263,0.4416487341811845,-1.430772057414031,-0.8505022925340281,0.4691920933044812,1.826784708762384,-0.10576410338109243,-1.500461426023311,0.7965390567393406,-0.012409030102622055,-0.15130451407398446,-2.071058423059817,-0.8255625544235962,-0.8074054383028947,-0.9301852379698403,-1.6773017541992195,-0.3946539688644478,-2.9870582870265263,-0.03318946511355068,-0.016251530567965744,0.7030357504362612,-0.4999960084700399,-0.9420611634530786,-0.1432729844634614,0.6557312074595607,0.35574155452593026,-0.07734755312316859,-1.7102423679022432,-0.04205763850987133,-1.4785422652968754,0.7645412296582739,-0.24706609101356192,-1.201359615189873,1.5325015503193518,-0.4881633821714732,-0.5057962567151923,1.1308257061231044,-0.23356594422792676,0.66092576287292,1.6404688258806333,-1.5081626093929672,-0.0013041142872921448,0.12204994284248882,1.4721906166668761,-0.08003811206186177,-0.9092222820745258,-0.8407007439622989,-0.11436673916364293,0.06406328064075953,0.48221062292822475,-0.7807229952837661,-0.20502892323697028,0.3447615780074933,-1.583612014364668,0.5130380961580526,-1.551310104687635,0.7237591993777599,1.5059564157142509,-0.10163714145529341,-1.67186290946623,-0.31584531717802655,1.0644113882459774,2.274346155576829,0.49930813021148723,1.6405651595955058,-0.33937453326899897,0.10632705592337412,-1.2642467659208292,-0.17540983564574716,-0.1862548195584329,1.4326108248716156,0.06485852176902505,-0.36945518458348525,0.541657819502985,0.4634294898545669,-1.3654976940987307,-0.45372839134779486,1.0423110939962679,0.4128596468131367,-0.4937751704955059,-0.24026055088614237,-0.6454607232329427,0.8484132678342798,0.8798070172304139,-0.8837609675709918,0.03975057728511999,-0.5563341326163922,-0.23772094092618812,0.18642158069051573,0.8268192191747974,1.9527936074764647,0.8109508402703056,-0.44120277682258874,0.407627374675604],\"type\":\"scatter\"}],                        {\"legend\":{\"bgcolor\":\"#F5F6F9\",\"font\":{\"color\":\"#4D5663\"}},\"paper_bgcolor\":\"#F5F6F9\",\"plot_bgcolor\":\"#F5F6F9\",\"template\":{\"data\":{\"barpolar\":[{\"marker\":{\"line\":{\"color\":\"#E5ECF6\",\"width\":0.5},\"pattern\":{\"fillmode\":\"overlay\",\"size\":10,\"solidity\":0.2}},\"type\":\"barpolar\"}],\"bar\":[{\"error_x\":{\"color\":\"#2a3f5f\"},\"error_y\":{\"color\":\"#2a3f5f\"},\"marker\":{\"line\":{\"color\":\"#E5ECF6\",\"width\":0.5},\"pattern\":{\"fillmode\":\"overlay\",\"size\":10,\"solidity\":0.2}},\"type\":\"bar\"}],\"carpet\":[{\"aaxis\":{\"endlinecolor\":\"#2a3f5f\",\"gridcolor\":\"white\",\"linecolor\":\"white\",\"minorgridcolor\":\"white\",\"startlinecolor\":\"#2a3f5f\"},\"baxis\":{\"endlinecolor\":\"#2a3f5f\",\"gridcolor\":\"white\",\"linecolor\":\"white\",\"minorgridcolor\":\"white\",\"startlinecolor\":\"#2a3f5f\"},\"type\":\"carpet\"}],\"choropleth\":[{\"colorbar\":{\"outlinewidth\":0,\"ticks\":\"\"},\"type\":\"choropleth\"}],\"contourcarpet\":[{\"colorbar\":{\"outlinewidth\":0,\"ticks\":\"\"},\"type\":\"contourcarpet\"}],\"contour\":[{\"colorbar\":{\"outlinewidth\":0,\"ticks\":\"\"},\"colorscale\":[[0.0,\"#0d0887\"],[0.1111111111111111,\"#46039f\"],[0.2222222222222222,\"#7201a8\"],[0.3333333333333333,\"#9c179e\"],[0.4444444444444444,\"#bd3786\"],[0.5555555555555556,\"#d8576b\"],[0.6666666666666666,\"#ed7953\"],[0.7777777777777778,\"#fb9f3a\"],[0.8888888888888888,\"#fdca26\"],[1.0,\"#f0f921\"]],\"type\":\"contour\"}],\"heatmapgl\":[{\"colorbar\":{\"outlinewidth\":0,\"ticks\":\"\"},\"colorscale\":[[0.0,\"#0d0887\"],[0.1111111111111111,\"#46039f\"],[0.2222222222222222,\"#7201a8\"],[0.3333333333333333,\"#9c179e\"],[0.4444444444444444,\"#bd3786\"],[0.5555555555555556,\"#d8576b\"],[0.6666666666666666,\"#ed7953\"],[0.7777777777777778,\"#fb9f3a\"],[0.8888888888888888,\"#fdca26\"],[1.0,\"#f0f921\"]],\"type\":\"heatmapgl\"}],\"heatmap\":[{\"colorbar\":{\"outlinewidth\":0,\"ticks\":\"\"},\"colorscale\":[[0.0,\"#0d0887\"],[0.1111111111111111,\"#46039f\"],[0.2222222222222222,\"#7201a8\"],[0.3333333333333333,\"#9c179e\"],[0.4444444444444444,\"#bd3786\"],[0.5555555555555556,\"#d8576b\"],[0.6666666666666666,\"#ed7953\"],[0.7777777777777778,\"#fb9f3a\"],[0.8888888888888888,\"#fdca26\"],[1.0,\"#f0f921\"]],\"type\":\"heatmap\"}],\"histogram2dcontour\":[{\"colorbar\":{\"outlinewidth\":0,\"ticks\":\"\"},\"colorscale\":[[0.0,\"#0d0887\"],[0.1111111111111111,\"#46039f\"],[0.2222222222222222,\"#7201a8\"],[0.3333333333333333,\"#9c179e\"],[0.4444444444444444,\"#bd3786\"],[0.5555555555555556,\"#d8576b\"],[0.6666666666666666,\"#ed7953\"],[0.7777777777777778,\"#fb9f3a\"],[0.8888888888888888,\"#fdca26\"],[1.0,\"#f0f921\"]],\"type\":\"histogram2dcontour\"}],\"histogram2d\":[{\"colorbar\":{\"outlinewidth\":0,\"ticks\":\"\"},\"colorscale\":[[0.0,\"#0d0887\"],[0.1111111111111111,\"#46039f\"],[0.2222222222222222,\"#7201a8\"],[0.3333333333333333,\"#9c179e\"],[0.4444444444444444,\"#bd3786\"],[0.5555555555555556,\"#d8576b\"],[0.6666666666666666,\"#ed7953\"],[0.7777777777777778,\"#fb9f3a\"],[0.8888888888888888,\"#fdca26\"],[1.0,\"#f0f921\"]],\"type\":\"histogram2d\"}],\"histogram\":[{\"marker\":{\"pattern\":{\"fillmode\":\"overlay\",\"size\":10,\"solidity\":0.2}},\"type\":\"histogram\"}],\"mesh3d\":[{\"colorbar\":{\"outlinewidth\":0,\"ticks\":\"\"},\"type\":\"mesh3d\"}],\"parcoords\":[{\"line\":{\"colorbar\":{\"outlinewidth\":0,\"ticks\":\"\"}},\"type\":\"parcoords\"}],\"pie\":[{\"automargin\":true,\"type\":\"pie\"}],\"scatter3d\":[{\"line\":{\"colorbar\":{\"outlinewidth\":0,\"ticks\":\"\"}},\"marker\":{\"colorbar\":{\"outlinewidth\":0,\"ticks\":\"\"}},\"type\":\"scatter3d\"}],\"scattercarpet\":[{\"marker\":{\"colorbar\":{\"outlinewidth\":0,\"ticks\":\"\"}},\"type\":\"scattercarpet\"}],\"scattergeo\":[{\"marker\":{\"colorbar\":{\"outlinewidth\":0,\"ticks\":\"\"}},\"type\":\"scattergeo\"}],\"scattergl\":[{\"marker\":{\"colorbar\":{\"outlinewidth\":0,\"ticks\":\"\"}},\"type\":\"scattergl\"}],\"scattermapbox\":[{\"marker\":{\"colorbar\":{\"outlinewidth\":0,\"ticks\":\"\"}},\"type\":\"scattermapbox\"}],\"scatterpolargl\":[{\"marker\":{\"colorbar\":{\"outlinewidth\":0,\"ticks\":\"\"}},\"type\":\"scatterpolargl\"}],\"scatterpolar\":[{\"marker\":{\"colorbar\":{\"outlinewidth\":0,\"ticks\":\"\"}},\"type\":\"scatterpolar\"}],\"scatter\":[{\"marker\":{\"colorbar\":{\"outlinewidth\":0,\"ticks\":\"\"}},\"type\":\"scatter\"}],\"scatterternary\":[{\"marker\":{\"colorbar\":{\"outlinewidth\":0,\"ticks\":\"\"}},\"type\":\"scatterternary\"}],\"surface\":[{\"colorbar\":{\"outlinewidth\":0,\"ticks\":\"\"},\"colorscale\":[[0.0,\"#0d0887\"],[0.1111111111111111,\"#46039f\"],[0.2222222222222222,\"#7201a8\"],[0.3333333333333333,\"#9c179e\"],[0.4444444444444444,\"#bd3786\"],[0.5555555555555556,\"#d8576b\"],[0.6666666666666666,\"#ed7953\"],[0.7777777777777778,\"#fb9f3a\"],[0.8888888888888888,\"#fdca26\"],[1.0,\"#f0f921\"]],\"type\":\"surface\"}],\"table\":[{\"cells\":{\"fill\":{\"color\":\"#EBF0F8\"},\"line\":{\"color\":\"white\"}},\"header\":{\"fill\":{\"color\":\"#C8D4E3\"},\"line\":{\"color\":\"white\"}},\"type\":\"table\"}]},\"layout\":{\"annotationdefaults\":{\"arrowcolor\":\"#2a3f5f\",\"arrowhead\":0,\"arrowwidth\":1},\"autotypenumbers\":\"strict\",\"coloraxis\":{\"colorbar\":{\"outlinewidth\":0,\"ticks\":\"\"}},\"colorscale\":{\"diverging\":[[0,\"#8e0152\"],[0.1,\"#c51b7d\"],[0.2,\"#de77ae\"],[0.3,\"#f1b6da\"],[0.4,\"#fde0ef\"],[0.5,\"#f7f7f7\"],[0.6,\"#e6f5d0\"],[0.7,\"#b8e186\"],[0.8,\"#7fbc41\"],[0.9,\"#4d9221\"],[1,\"#276419\"]],\"sequential\":[[0.0,\"#0d0887\"],[0.1111111111111111,\"#46039f\"],[0.2222222222222222,\"#7201a8\"],[0.3333333333333333,\"#9c179e\"],[0.4444444444444444,\"#bd3786\"],[0.5555555555555556,\"#d8576b\"],[0.6666666666666666,\"#ed7953\"],[0.7777777777777778,\"#fb9f3a\"],[0.8888888888888888,\"#fdca26\"],[1.0,\"#f0f921\"]],\"sequentialminus\":[[0.0,\"#0d0887\"],[0.1111111111111111,\"#46039f\"],[0.2222222222222222,\"#7201a8\"],[0.3333333333333333,\"#9c179e\"],[0.4444444444444444,\"#bd3786\"],[0.5555555555555556,\"#d8576b\"],[0.6666666666666666,\"#ed7953\"],[0.7777777777777778,\"#fb9f3a\"],[0.8888888888888888,\"#fdca26\"],[1.0,\"#f0f921\"]]},\"colorway\":[\"#636efa\",\"#EF553B\",\"#00cc96\",\"#ab63fa\",\"#FFA15A\",\"#19d3f3\",\"#FF6692\",\"#B6E880\",\"#FF97FF\",\"#FECB52\"],\"font\":{\"color\":\"#2a3f5f\"},\"geo\":{\"bgcolor\":\"white\",\"lakecolor\":\"white\",\"landcolor\":\"#E5ECF6\",\"showlakes\":true,\"showland\":true,\"subunitcolor\":\"white\"},\"hoverlabel\":{\"align\":\"left\"},\"hovermode\":\"closest\",\"mapbox\":{\"style\":\"light\"},\"paper_bgcolor\":\"white\",\"plot_bgcolor\":\"#E5ECF6\",\"polar\":{\"angularaxis\":{\"gridcolor\":\"white\",\"linecolor\":\"white\",\"ticks\":\"\"},\"bgcolor\":\"#E5ECF6\",\"radialaxis\":{\"gridcolor\":\"white\",\"linecolor\":\"white\",\"ticks\":\"\"}},\"scene\":{\"xaxis\":{\"backgroundcolor\":\"#E5ECF6\",\"gridcolor\":\"white\",\"gridwidth\":2,\"linecolor\":\"white\",\"showbackground\":true,\"ticks\":\"\",\"zerolinecolor\":\"white\"},\"yaxis\":{\"backgroundcolor\":\"#E5ECF6\",\"gridcolor\":\"white\",\"gridwidth\":2,\"linecolor\":\"white\",\"showbackground\":true,\"ticks\":\"\",\"zerolinecolor\":\"white\"},\"zaxis\":{\"backgroundcolor\":\"#E5ECF6\",\"gridcolor\":\"white\",\"gridwidth\":2,\"linecolor\":\"white\",\"showbackground\":true,\"ticks\":\"\",\"zerolinecolor\":\"white\"}},\"shapedefaults\":{\"line\":{\"color\":\"#2a3f5f\"}},\"ternary\":{\"aaxis\":{\"gridcolor\":\"white\",\"linecolor\":\"white\",\"ticks\":\"\"},\"baxis\":{\"gridcolor\":\"white\",\"linecolor\":\"white\",\"ticks\":\"\"},\"bgcolor\":\"#E5ECF6\",\"caxis\":{\"gridcolor\":\"white\",\"linecolor\":\"white\",\"ticks\":\"\"}},\"title\":{\"x\":0.05},\"xaxis\":{\"automargin\":true,\"gridcolor\":\"white\",\"linecolor\":\"white\",\"ticks\":\"\",\"title\":{\"standoff\":15},\"zerolinecolor\":\"white\",\"zerolinewidth\":2},\"yaxis\":{\"automargin\":true,\"gridcolor\":\"white\",\"linecolor\":\"white\",\"ticks\":\"\",\"title\":{\"standoff\":15},\"zerolinecolor\":\"white\",\"zerolinewidth\":2}}},\"title\":{\"font\":{\"color\":\"#4D5663\"}},\"xaxis\":{\"gridcolor\":\"#E1E5ED\",\"showgrid\":true,\"tickfont\":{\"color\":\"#4D5663\"},\"title\":{\"font\":{\"color\":\"#4D5663\"},\"text\":\"\"},\"zerolinecolor\":\"#E1E5ED\"},\"yaxis\":{\"gridcolor\":\"#E1E5ED\",\"showgrid\":true,\"tickfont\":{\"color\":\"#4D5663\"},\"title\":{\"font\":{\"color\":\"#4D5663\"},\"text\":\"\"},\"zerolinecolor\":\"#E1E5ED\"}},                        {\"showLink\": true, \"linkText\": \"Export to plot.ly\", \"plotlyServerURL\": \"https://plot.ly\", \"responsive\": true}                    ).then(function(){\n",
       "                            \n",
       "var gd = document.getElementById('c0714bdf-8f34-45ae-9294-ad62febcd5d0');\n",
       "var x = new MutationObserver(function (mutations, observer) {{\n",
       "        var display = window.getComputedStyle(gd).display;\n",
       "        if (!display || display === 'none') {{\n",
       "            console.log([gd, 'removed!']);\n",
       "            Plotly.purge(gd);\n",
       "            observer.disconnect();\n",
       "        }}\n",
       "}});\n",
       "\n",
       "// Listen for the removal of the full notebook cells\n",
       "var notebookContainer = gd.closest('#notebook-container');\n",
       "if (notebookContainer) {{\n",
       "    x.observe(notebookContainer, {childList: true});\n",
       "}}\n",
       "\n",
       "// Listen for the clearing of the current output cell\n",
       "var outputEl = gd.closest('.output');\n",
       "if (outputEl) {{\n",
       "    x.observe(outputEl, {childList: true});\n",
       "}}\n",
       "\n",
       "                        })                };                });            </script>        </div>"
      ]
     },
     "metadata": {},
     "output_type": "display_data"
    }
   ],
   "source": [
    "df.iplot(kind='bubble',x='A',y='B',size='C')"
   ]
  },
  {
   "cell_type": "code",
   "execution_count": 30,
   "id": "f00fcb9a",
   "metadata": {},
   "outputs": [
    {
     "data": {
      "application/vnd.plotly.v1+json": {
       "config": {
        "linkText": "Export to plot.ly",
        "plotlyServerURL": "https://plot.ly",
        "showLink": true
       },
       "data": [
        {
         "histfunc": "count",
         "histnorm": "",
         "marker": {
          "color": "rgba(255, 153, 51, 1.0)",
          "line": {
           "color": "#4D5663",
           "width": 1.3
          }
         },
         "name": "A",
         "nbinsx": 10,
         "opacity": 0.8,
         "orientation": "v",
         "type": "histogram",
         "x": [
          -1.4179226392462503,
          -0.46264200324192123,
          0.7515224608796539,
          0.017214914882547446,
          -2.119230156508853,
          1.4246987135038927,
          -1.3484391107921905,
          0.6432498838271453,
          -0.9263864887473827,
          0.7570861795056825,
          0.07543918980622479,
          1.1599339441805279,
          -0.04608268499591076,
          -0.09120078183586999,
          0.8842914961718378,
          -0.9162025719299867,
          -1.2610444177759146,
          0.027904167487635967,
          -0.7061578863184852,
          0.7709016638285334,
          -0.8539166153517274,
          0.7309733763722845,
          -1.7691103627746505,
          1.263558824772134,
          0.4717765277347702,
          0.557405859177239,
          -1.6819089715393656,
          1.0025284313403557,
          1.572525731929163,
          -0.9650143742388076,
          1.151517875183336,
          -0.18247700098496303,
          -0.7167113193989513,
          1.1761072211193844,
          0.12819699293539916,
          -0.23688078197346668,
          -0.560705340480975,
          -0.39787163984807145,
          1.3382710439775771,
          -1.7798709075126007,
          -1.2702252329912076,
          -0.4152839220015532,
          0.17542127517078324,
          0.39285448248880483,
          0.9045840149471326,
          -0.16994995097364154,
          0.3381582060118401,
          0.2063929493612841,
          -0.11094598121380154,
          0.7974586479279469,
          -2.199222319526443,
          1.3997599864684436,
          0.22941627710272822,
          1.4240802742453296,
          0.3094390144366311,
          1.5403747340754785,
          0.5810551927052852,
          -1.066762083853598,
          -0.059946047063189144,
          0.22949791684170903,
          0.8327749881915162,
          -0.06636372674054501,
          -0.6190169447247864,
          2.0048868335375056,
          1.736487965277091,
          -1.3831774356984614,
          1.4976344360500824,
          -0.7067197193609598,
          -0.4385844889747408,
          -0.9353036023038812,
          -0.47593035642229686,
          1.6132806108278546,
          -0.6287717679502393,
          1.0345780523748735,
          -1.27284403429772,
          -0.21598606336809065,
          -0.21383616429784602,
          3.2313217531556826,
          1.3382365732922021,
          -0.22487702362562872,
          2.340429170474291,
          0.6271993811365263,
          1.997890339440614,
          -2.033624272129717,
          0.32279225575672327,
          0.8666550678088079,
          0.8252385648058315,
          -1.657914673275361,
          1.2379383904314973,
          0.7149995599320481,
          -1.1761176335038575,
          0.5706312135572416,
          -0.4558503278911321,
          0.37983919034349595,
          0.09595899429015453,
          -1.2417447649974065,
          -0.5217493081296127,
          0.7542010755173852,
          -1.145180906491648,
          1.6740518150812944
         ],
         "xaxis": "x",
         "yaxis": "y"
        },
        {
         "line": {
          "color": "rgba(128, 128, 128, 1.0)",
          "dash": "solid",
          "shape": "linear",
          "width": 1.3
         },
         "marker": {
          "size": 2,
          "symbol": "circle"
         },
         "mode": "markers",
         "name": "A",
         "text": "",
         "type": "scatter",
         "x": [
          0.43916847768055367,
          0.7754169812744081,
          -1.766184215926334,
          0.4674257707543401,
          0.29321032071154995,
          1.41774816480575,
          1.3445969383110263,
          0.4416487341811845,
          -1.430772057414031,
          -0.8505022925340281,
          0.4691920933044812,
          1.826784708762384,
          -0.10576410338109243,
          -1.500461426023311,
          0.7965390567393406,
          -0.012409030102622055,
          -0.15130451407398446,
          -2.071058423059817,
          -0.8255625544235962,
          -0.8074054383028947,
          -0.9301852379698403,
          -1.6773017541992195,
          -0.3946539688644478,
          -2.9870582870265263,
          -0.03318946511355068,
          -0.016251530567965744,
          0.7030357504362612,
          -0.4999960084700399,
          -0.9420611634530786,
          -0.1432729844634614,
          0.6557312074595607,
          0.35574155452593026,
          -0.07734755312316859,
          -1.7102423679022432,
          -0.04205763850987133,
          -1.4785422652968754,
          0.7645412296582739,
          -0.24706609101356192,
          -1.201359615189873,
          1.5325015503193518,
          -0.4881633821714732,
          -0.5057962567151923,
          1.1308257061231044,
          -0.23356594422792676,
          0.66092576287292,
          1.6404688258806333,
          -1.5081626093929672,
          -0.0013041142872921448,
          0.12204994284248882,
          1.4721906166668761,
          -0.08003811206186177,
          -0.9092222820745258,
          -0.8407007439622989,
          -0.11436673916364293,
          0.06406328064075953,
          0.48221062292822475,
          -0.7807229952837661,
          -0.20502892323697028,
          0.3447615780074933,
          -1.583612014364668,
          0.5130380961580526,
          -1.551310104687635,
          0.7237591993777599,
          1.5059564157142509,
          -0.10163714145529341,
          -1.67186290946623,
          -0.31584531717802655,
          1.0644113882459774,
          2.274346155576829,
          0.49930813021148723,
          1.6405651595955058,
          -0.33937453326899897,
          0.10632705592337412,
          -1.2642467659208292,
          -0.17540983564574716,
          -0.1862548195584329,
          1.4326108248716156,
          0.06485852176902505,
          -0.36945518458348525,
          0.541657819502985,
          0.4634294898545669,
          -1.3654976940987307,
          -0.45372839134779486,
          1.0423110939962679,
          0.4128596468131367,
          -0.4937751704955059,
          -0.24026055088614237,
          -0.6454607232329427,
          0.8484132678342798,
          0.8798070172304139,
          -0.8837609675709918,
          0.03975057728511999,
          -0.5563341326163922,
          -0.23772094092618812,
          0.18642158069051573,
          0.8268192191747974,
          1.9527936074764647,
          0.8109508402703056,
          -0.44120277682258874,
          0.407627374675604
         ],
         "xaxis": "x2",
         "y": [
          -1.4179226392462503,
          -0.46264200324192123,
          0.7515224608796539,
          0.017214914882547446,
          -2.119230156508853,
          1.4246987135038927,
          -1.3484391107921905,
          0.6432498838271453,
          -0.9263864887473827,
          0.7570861795056825,
          0.07543918980622479,
          1.1599339441805279,
          -0.04608268499591076,
          -0.09120078183586999,
          0.8842914961718378,
          -0.9162025719299867,
          -1.2610444177759146,
          0.027904167487635967,
          -0.7061578863184852,
          0.7709016638285334,
          -0.8539166153517274,
          0.7309733763722845,
          -1.7691103627746505,
          1.263558824772134,
          0.4717765277347702,
          0.557405859177239,
          -1.6819089715393656,
          1.0025284313403557,
          1.572525731929163,
          -0.9650143742388076,
          1.151517875183336,
          -0.18247700098496303,
          -0.7167113193989513,
          1.1761072211193844,
          0.12819699293539916,
          -0.23688078197346668,
          -0.560705340480975,
          -0.39787163984807145,
          1.3382710439775771,
          -1.7798709075126007,
          -1.2702252329912076,
          -0.4152839220015532,
          0.17542127517078324,
          0.39285448248880483,
          0.9045840149471326,
          -0.16994995097364154,
          0.3381582060118401,
          0.2063929493612841,
          -0.11094598121380154,
          0.7974586479279469,
          -2.199222319526443,
          1.3997599864684436,
          0.22941627710272822,
          1.4240802742453296,
          0.3094390144366311,
          1.5403747340754785,
          0.5810551927052852,
          -1.066762083853598,
          -0.059946047063189144,
          0.22949791684170903,
          0.8327749881915162,
          -0.06636372674054501,
          -0.6190169447247864,
          2.0048868335375056,
          1.736487965277091,
          -1.3831774356984614,
          1.4976344360500824,
          -0.7067197193609598,
          -0.4385844889747408,
          -0.9353036023038812,
          -0.47593035642229686,
          1.6132806108278546,
          -0.6287717679502393,
          1.0345780523748735,
          -1.27284403429772,
          -0.21598606336809065,
          -0.21383616429784602,
          3.2313217531556826,
          1.3382365732922021,
          -0.22487702362562872,
          2.340429170474291,
          0.6271993811365263,
          1.997890339440614,
          -2.033624272129717,
          0.32279225575672327,
          0.8666550678088079,
          0.8252385648058315,
          -1.657914673275361,
          1.2379383904314973,
          0.7149995599320481,
          -1.1761176335038575,
          0.5706312135572416,
          -0.4558503278911321,
          0.37983919034349595,
          0.09595899429015453,
          -1.2417447649974065,
          -0.5217493081296127,
          0.7542010755173852,
          -1.145180906491648,
          1.6740518150812944
         ],
         "yaxis": "y2"
        },
        {
         "line": {
          "color": "rgba(128, 128, 128, 1.0)",
          "dash": "solid",
          "shape": "linear",
          "width": 1.3
         },
         "marker": {
          "size": 2,
          "symbol": "circle"
         },
         "mode": "markers",
         "name": "A",
         "text": "",
         "type": "scatter",
         "x": [
          0.06329159238094456,
          0.6016141276373372,
          -0.38598146492664975,
          -1.7948377710650494,
          0.6922603131019637,
          1.546950767603398,
          -0.3401423629939599,
          0.8640624768539411,
          -0.3007610328344426,
          1.6514878814844314,
          0.13979537922420346,
          -1.7044467395329324,
          -0.7573626273806366,
          -0.8152744940674739,
          -0.4727052090045964,
          0.040216665584898045,
          -0.43615128786506685,
          0.27344294693179144,
          -0.03349601413188458,
          -0.12851704529268604,
          1.1576163763863443,
          -0.18968775085366393,
          1.5373714863021704,
          1.996631567981592,
          -1.8478908256856124,
          0.2121399690241807,
          0.9903320529159314,
          -2.0640303113562224,
          2.1754063918501094,
          -1.1037872507948654,
          0.5923189542086722,
          -0.7949907287764912,
          1.8361725833088216,
          -0.8336354871997873,
          -0.8708116492198833,
          -0.8802815476308914,
          -0.020241790336094603,
          -0.8355316846439435,
          1.0059170082047086,
          1.0054939597481938,
          1.1040552035428135,
          2.741336901378624,
          -1.2872567660378902,
          1.7236070774494099,
          -2.053011458665576,
          -1.6554645975852431,
          -1.3191147093346898,
          0.14488040663958976,
          0.5307445563011728,
          0.448353435089702,
          0.6448543734164054,
          0.14196129190770976,
          1.5615778114103345,
          -1.6426252419380063,
          -1.405870219150968,
          1.2447263759979295,
          1.2268295001316207,
          0.1708153488927121,
          0.31821376174331156,
          1.0899629968418847,
          -1.324169834479461,
          1.7383695412197921,
          1.4666328621047053,
          -0.004273859710908556,
          -1.0528261698514383,
          -0.8326514854130332,
          1.0007331977147034,
          1.3236434581815582,
          -0.8749821765698546,
          -0.2712525553847711,
          0.5312922787388977,
          0.07442547177048062,
          -0.3691969468632882,
          1.4239953529637823,
          0.380692863230286,
          0.14935094281469008,
          -0.09986944765673177,
          2.4401718896791125,
          -2.078988567371166,
          -0.49433118320023206,
          -0.4953751435521029,
          -1.5785245909476824,
          0.25623531508960756,
          1.0485164469030575,
          -1.0737703034037116,
          0.49552445732235395,
          -0.43824199054292745,
          -0.34985233947132677,
          0.3573169550646374,
          1.0850984979754426,
          -0.707552616005236,
          2.038015366809184,
          0.5957484226452919,
          -0.7887252110202742,
          1.2576250591330205,
          -1.5489921574005654,
          -0.741054262577547,
          0.4864247229814855,
          -0.6666552351510178,
          1.3809168626082857
         ],
         "xaxis": "x3",
         "y": [
          -1.4179226392462503,
          -0.46264200324192123,
          0.7515224608796539,
          0.017214914882547446,
          -2.119230156508853,
          1.4246987135038927,
          -1.3484391107921905,
          0.6432498838271453,
          -0.9263864887473827,
          0.7570861795056825,
          0.07543918980622479,
          1.1599339441805279,
          -0.04608268499591076,
          -0.09120078183586999,
          0.8842914961718378,
          -0.9162025719299867,
          -1.2610444177759146,
          0.027904167487635967,
          -0.7061578863184852,
          0.7709016638285334,
          -0.8539166153517274,
          0.7309733763722845,
          -1.7691103627746505,
          1.263558824772134,
          0.4717765277347702,
          0.557405859177239,
          -1.6819089715393656,
          1.0025284313403557,
          1.572525731929163,
          -0.9650143742388076,
          1.151517875183336,
          -0.18247700098496303,
          -0.7167113193989513,
          1.1761072211193844,
          0.12819699293539916,
          -0.23688078197346668,
          -0.560705340480975,
          -0.39787163984807145,
          1.3382710439775771,
          -1.7798709075126007,
          -1.2702252329912076,
          -0.4152839220015532,
          0.17542127517078324,
          0.39285448248880483,
          0.9045840149471326,
          -0.16994995097364154,
          0.3381582060118401,
          0.2063929493612841,
          -0.11094598121380154,
          0.7974586479279469,
          -2.199222319526443,
          1.3997599864684436,
          0.22941627710272822,
          1.4240802742453296,
          0.3094390144366311,
          1.5403747340754785,
          0.5810551927052852,
          -1.066762083853598,
          -0.059946047063189144,
          0.22949791684170903,
          0.8327749881915162,
          -0.06636372674054501,
          -0.6190169447247864,
          2.0048868335375056,
          1.736487965277091,
          -1.3831774356984614,
          1.4976344360500824,
          -0.7067197193609598,
          -0.4385844889747408,
          -0.9353036023038812,
          -0.47593035642229686,
          1.6132806108278546,
          -0.6287717679502393,
          1.0345780523748735,
          -1.27284403429772,
          -0.21598606336809065,
          -0.21383616429784602,
          3.2313217531556826,
          1.3382365732922021,
          -0.22487702362562872,
          2.340429170474291,
          0.6271993811365263,
          1.997890339440614,
          -2.033624272129717,
          0.32279225575672327,
          0.8666550678088079,
          0.8252385648058315,
          -1.657914673275361,
          1.2379383904314973,
          0.7149995599320481,
          -1.1761176335038575,
          0.5706312135572416,
          -0.4558503278911321,
          0.37983919034349595,
          0.09595899429015453,
          -1.2417447649974065,
          -0.5217493081296127,
          0.7542010755173852,
          -1.145180906491648,
          1.6740518150812944
         ],
         "yaxis": "y3"
        },
        {
         "line": {
          "color": "rgba(128, 128, 128, 1.0)",
          "dash": "solid",
          "shape": "linear",
          "width": 1.3
         },
         "marker": {
          "size": 2,
          "symbol": "circle"
         },
         "mode": "markers",
         "name": "A",
         "text": "",
         "type": "scatter",
         "x": [
          -1.9389212579683277,
          1.0318746543195694,
          0.19609179025269244,
          2.084503587262951,
          -0.6879289588930549,
          0.5905955951758107,
          -2.107265660329813,
          0.42375512577914876,
          0.4777623966893956,
          0.2962445297721372,
          -1.1856223496029463,
          1.7022382630606143,
          0.07680793951844446,
          0.8922634028440726,
          -1.1378324118039944,
          2.0167810536162274,
          -0.5868298273047612,
          1.450307501782666,
          1.2446645289563552,
          -0.07944153762300908,
          1.0167359000338412,
          2.427420320730947,
          -0.20128925540517068,
          0.40952059386452916,
          -0.11310106445409522,
          -1.0208138813781207,
          -1.6819789689603284,
          -1.6407317956038237,
          0.5044967236629525,
          0.5076414862093444,
          -1.3622577458763638,
          -1.385513710137751,
          0.4379302170510106,
          -1.0360657971318514,
          0.956725027101898,
          -1.1309412070101597,
          -0.4539498795026894,
          -0.7651633537773271,
          -1.9138987826185374,
          -0.3404523866186954,
          -0.966483327909447,
          -2.223145811291357,
          0.2274200919509542,
          -1.1008190146824435,
          1.597931806234551,
          -0.6904200201169924,
          0.3795736008139735,
          1.1552876033284938,
          1.0802041243340248,
          1.591449198739368,
          -0.5101850194713661,
          0.3656485055448906,
          -1.7781102598964273,
          -0.048838218782504175,
          0.015466680660355055,
          0.9563915331719891,
          -0.8281332359056763,
          -0.2732587642962962,
          -1.224484378166469,
          -0.6961648914628961,
          -1.4217156713230616,
          -0.16325341225772871,
          0.462763681717857,
          -0.12551804694449417,
          0.9597070364983735,
          1.6251869409639046,
          -0.4691100693646398,
          -1.5469095947287455,
          0.5302987629420041,
          0.6857862918116193,
          1.37072509031351,
          -0.5040834234575051,
          0.05051138614709521,
          -0.46101192287628784,
          -2.2860966773402467,
          0.6292167975290144,
          -0.5637220158358606,
          1.2270958978103588,
          1.5741280403319107,
          -0.42940636866567056,
          1.2551709882371325,
          0.7941629170507719,
          0.11090865061083648,
          1.7735491268694554,
          -0.08379969518485648,
          0.2171914794734731,
          -0.4425196060685648,
          1.4339298753585892,
          1.5238027903197608,
          0.9212217064512468,
          -1.6708110306106638,
          -2.6270043901327247,
          -1.538743232667884,
          3.2051948720019845,
          -0.6416520265791904,
          -0.5453567889345559,
          0.9669641250569055,
          0.4416490283576272,
          -2.7373733213933353,
          -0.31505769803083433
         ],
         "xaxis": "x4",
         "y": [
          -1.4179226392462503,
          -0.46264200324192123,
          0.7515224608796539,
          0.017214914882547446,
          -2.119230156508853,
          1.4246987135038927,
          -1.3484391107921905,
          0.6432498838271453,
          -0.9263864887473827,
          0.7570861795056825,
          0.07543918980622479,
          1.1599339441805279,
          -0.04608268499591076,
          -0.09120078183586999,
          0.8842914961718378,
          -0.9162025719299867,
          -1.2610444177759146,
          0.027904167487635967,
          -0.7061578863184852,
          0.7709016638285334,
          -0.8539166153517274,
          0.7309733763722845,
          -1.7691103627746505,
          1.263558824772134,
          0.4717765277347702,
          0.557405859177239,
          -1.6819089715393656,
          1.0025284313403557,
          1.572525731929163,
          -0.9650143742388076,
          1.151517875183336,
          -0.18247700098496303,
          -0.7167113193989513,
          1.1761072211193844,
          0.12819699293539916,
          -0.23688078197346668,
          -0.560705340480975,
          -0.39787163984807145,
          1.3382710439775771,
          -1.7798709075126007,
          -1.2702252329912076,
          -0.4152839220015532,
          0.17542127517078324,
          0.39285448248880483,
          0.9045840149471326,
          -0.16994995097364154,
          0.3381582060118401,
          0.2063929493612841,
          -0.11094598121380154,
          0.7974586479279469,
          -2.199222319526443,
          1.3997599864684436,
          0.22941627710272822,
          1.4240802742453296,
          0.3094390144366311,
          1.5403747340754785,
          0.5810551927052852,
          -1.066762083853598,
          -0.059946047063189144,
          0.22949791684170903,
          0.8327749881915162,
          -0.06636372674054501,
          -0.6190169447247864,
          2.0048868335375056,
          1.736487965277091,
          -1.3831774356984614,
          1.4976344360500824,
          -0.7067197193609598,
          -0.4385844889747408,
          -0.9353036023038812,
          -0.47593035642229686,
          1.6132806108278546,
          -0.6287717679502393,
          1.0345780523748735,
          -1.27284403429772,
          -0.21598606336809065,
          -0.21383616429784602,
          3.2313217531556826,
          1.3382365732922021,
          -0.22487702362562872,
          2.340429170474291,
          0.6271993811365263,
          1.997890339440614,
          -2.033624272129717,
          0.32279225575672327,
          0.8666550678088079,
          0.8252385648058315,
          -1.657914673275361,
          1.2379383904314973,
          0.7149995599320481,
          -1.1761176335038575,
          0.5706312135572416,
          -0.4558503278911321,
          0.37983919034349595,
          0.09595899429015453,
          -1.2417447649974065,
          -0.5217493081296127,
          0.7542010755173852,
          -1.145180906491648,
          1.6740518150812944
         ],
         "yaxis": "y4"
        },
        {
         "line": {
          "color": "rgba(128, 128, 128, 1.0)",
          "dash": "solid",
          "shape": "linear",
          "width": 1.3
         },
         "marker": {
          "size": 2,
          "symbol": "circle"
         },
         "mode": "markers",
         "name": "B",
         "text": "",
         "type": "scatter",
         "x": [
          -1.4179226392462503,
          -0.46264200324192123,
          0.7515224608796539,
          0.017214914882547446,
          -2.119230156508853,
          1.4246987135038927,
          -1.3484391107921905,
          0.6432498838271453,
          -0.9263864887473827,
          0.7570861795056825,
          0.07543918980622479,
          1.1599339441805279,
          -0.04608268499591076,
          -0.09120078183586999,
          0.8842914961718378,
          -0.9162025719299867,
          -1.2610444177759146,
          0.027904167487635967,
          -0.7061578863184852,
          0.7709016638285334,
          -0.8539166153517274,
          0.7309733763722845,
          -1.7691103627746505,
          1.263558824772134,
          0.4717765277347702,
          0.557405859177239,
          -1.6819089715393656,
          1.0025284313403557,
          1.572525731929163,
          -0.9650143742388076,
          1.151517875183336,
          -0.18247700098496303,
          -0.7167113193989513,
          1.1761072211193844,
          0.12819699293539916,
          -0.23688078197346668,
          -0.560705340480975,
          -0.39787163984807145,
          1.3382710439775771,
          -1.7798709075126007,
          -1.2702252329912076,
          -0.4152839220015532,
          0.17542127517078324,
          0.39285448248880483,
          0.9045840149471326,
          -0.16994995097364154,
          0.3381582060118401,
          0.2063929493612841,
          -0.11094598121380154,
          0.7974586479279469,
          -2.199222319526443,
          1.3997599864684436,
          0.22941627710272822,
          1.4240802742453296,
          0.3094390144366311,
          1.5403747340754785,
          0.5810551927052852,
          -1.066762083853598,
          -0.059946047063189144,
          0.22949791684170903,
          0.8327749881915162,
          -0.06636372674054501,
          -0.6190169447247864,
          2.0048868335375056,
          1.736487965277091,
          -1.3831774356984614,
          1.4976344360500824,
          -0.7067197193609598,
          -0.4385844889747408,
          -0.9353036023038812,
          -0.47593035642229686,
          1.6132806108278546,
          -0.6287717679502393,
          1.0345780523748735,
          -1.27284403429772,
          -0.21598606336809065,
          -0.21383616429784602,
          3.2313217531556826,
          1.3382365732922021,
          -0.22487702362562872,
          2.340429170474291,
          0.6271993811365263,
          1.997890339440614,
          -2.033624272129717,
          0.32279225575672327,
          0.8666550678088079,
          0.8252385648058315,
          -1.657914673275361,
          1.2379383904314973,
          0.7149995599320481,
          -1.1761176335038575,
          0.5706312135572416,
          -0.4558503278911321,
          0.37983919034349595,
          0.09595899429015453,
          -1.2417447649974065,
          -0.5217493081296127,
          0.7542010755173852,
          -1.145180906491648,
          1.6740518150812944
         ],
         "xaxis": "x5",
         "y": [
          0.43916847768055367,
          0.7754169812744081,
          -1.766184215926334,
          0.4674257707543401,
          0.29321032071154995,
          1.41774816480575,
          1.3445969383110263,
          0.4416487341811845,
          -1.430772057414031,
          -0.8505022925340281,
          0.4691920933044812,
          1.826784708762384,
          -0.10576410338109243,
          -1.500461426023311,
          0.7965390567393406,
          -0.012409030102622055,
          -0.15130451407398446,
          -2.071058423059817,
          -0.8255625544235962,
          -0.8074054383028947,
          -0.9301852379698403,
          -1.6773017541992195,
          -0.3946539688644478,
          -2.9870582870265263,
          -0.03318946511355068,
          -0.016251530567965744,
          0.7030357504362612,
          -0.4999960084700399,
          -0.9420611634530786,
          -0.1432729844634614,
          0.6557312074595607,
          0.35574155452593026,
          -0.07734755312316859,
          -1.7102423679022432,
          -0.04205763850987133,
          -1.4785422652968754,
          0.7645412296582739,
          -0.24706609101356192,
          -1.201359615189873,
          1.5325015503193518,
          -0.4881633821714732,
          -0.5057962567151923,
          1.1308257061231044,
          -0.23356594422792676,
          0.66092576287292,
          1.6404688258806333,
          -1.5081626093929672,
          -0.0013041142872921448,
          0.12204994284248882,
          1.4721906166668761,
          -0.08003811206186177,
          -0.9092222820745258,
          -0.8407007439622989,
          -0.11436673916364293,
          0.06406328064075953,
          0.48221062292822475,
          -0.7807229952837661,
          -0.20502892323697028,
          0.3447615780074933,
          -1.583612014364668,
          0.5130380961580526,
          -1.551310104687635,
          0.7237591993777599,
          1.5059564157142509,
          -0.10163714145529341,
          -1.67186290946623,
          -0.31584531717802655,
          1.0644113882459774,
          2.274346155576829,
          0.49930813021148723,
          1.6405651595955058,
          -0.33937453326899897,
          0.10632705592337412,
          -1.2642467659208292,
          -0.17540983564574716,
          -0.1862548195584329,
          1.4326108248716156,
          0.06485852176902505,
          -0.36945518458348525,
          0.541657819502985,
          0.4634294898545669,
          -1.3654976940987307,
          -0.45372839134779486,
          1.0423110939962679,
          0.4128596468131367,
          -0.4937751704955059,
          -0.24026055088614237,
          -0.6454607232329427,
          0.8484132678342798,
          0.8798070172304139,
          -0.8837609675709918,
          0.03975057728511999,
          -0.5563341326163922,
          -0.23772094092618812,
          0.18642158069051573,
          0.8268192191747974,
          1.9527936074764647,
          0.8109508402703056,
          -0.44120277682258874,
          0.407627374675604
         ],
         "yaxis": "y5"
        },
        {
         "histfunc": "count",
         "histnorm": "",
         "marker": {
          "color": "rgba(55, 128, 191, 1.0)",
          "line": {
           "color": "#4D5663",
           "width": 1.3
          }
         },
         "name": "B",
         "nbinsx": 10,
         "opacity": 0.8,
         "orientation": "v",
         "type": "histogram",
         "x": [
          0.43916847768055367,
          0.7754169812744081,
          -1.766184215926334,
          0.4674257707543401,
          0.29321032071154995,
          1.41774816480575,
          1.3445969383110263,
          0.4416487341811845,
          -1.430772057414031,
          -0.8505022925340281,
          0.4691920933044812,
          1.826784708762384,
          -0.10576410338109243,
          -1.500461426023311,
          0.7965390567393406,
          -0.012409030102622055,
          -0.15130451407398446,
          -2.071058423059817,
          -0.8255625544235962,
          -0.8074054383028947,
          -0.9301852379698403,
          -1.6773017541992195,
          -0.3946539688644478,
          -2.9870582870265263,
          -0.03318946511355068,
          -0.016251530567965744,
          0.7030357504362612,
          -0.4999960084700399,
          -0.9420611634530786,
          -0.1432729844634614,
          0.6557312074595607,
          0.35574155452593026,
          -0.07734755312316859,
          -1.7102423679022432,
          -0.04205763850987133,
          -1.4785422652968754,
          0.7645412296582739,
          -0.24706609101356192,
          -1.201359615189873,
          1.5325015503193518,
          -0.4881633821714732,
          -0.5057962567151923,
          1.1308257061231044,
          -0.23356594422792676,
          0.66092576287292,
          1.6404688258806333,
          -1.5081626093929672,
          -0.0013041142872921448,
          0.12204994284248882,
          1.4721906166668761,
          -0.08003811206186177,
          -0.9092222820745258,
          -0.8407007439622989,
          -0.11436673916364293,
          0.06406328064075953,
          0.48221062292822475,
          -0.7807229952837661,
          -0.20502892323697028,
          0.3447615780074933,
          -1.583612014364668,
          0.5130380961580526,
          -1.551310104687635,
          0.7237591993777599,
          1.5059564157142509,
          -0.10163714145529341,
          -1.67186290946623,
          -0.31584531717802655,
          1.0644113882459774,
          2.274346155576829,
          0.49930813021148723,
          1.6405651595955058,
          -0.33937453326899897,
          0.10632705592337412,
          -1.2642467659208292,
          -0.17540983564574716,
          -0.1862548195584329,
          1.4326108248716156,
          0.06485852176902505,
          -0.36945518458348525,
          0.541657819502985,
          0.4634294898545669,
          -1.3654976940987307,
          -0.45372839134779486,
          1.0423110939962679,
          0.4128596468131367,
          -0.4937751704955059,
          -0.24026055088614237,
          -0.6454607232329427,
          0.8484132678342798,
          0.8798070172304139,
          -0.8837609675709918,
          0.03975057728511999,
          -0.5563341326163922,
          -0.23772094092618812,
          0.18642158069051573,
          0.8268192191747974,
          1.9527936074764647,
          0.8109508402703056,
          -0.44120277682258874,
          0.407627374675604
         ],
         "xaxis": "x6",
         "yaxis": "y6"
        },
        {
         "line": {
          "color": "rgba(128, 128, 128, 1.0)",
          "dash": "solid",
          "shape": "linear",
          "width": 1.3
         },
         "marker": {
          "size": 2,
          "symbol": "circle"
         },
         "mode": "markers",
         "name": "B",
         "text": "",
         "type": "scatter",
         "x": [
          0.06329159238094456,
          0.6016141276373372,
          -0.38598146492664975,
          -1.7948377710650494,
          0.6922603131019637,
          1.546950767603398,
          -0.3401423629939599,
          0.8640624768539411,
          -0.3007610328344426,
          1.6514878814844314,
          0.13979537922420346,
          -1.7044467395329324,
          -0.7573626273806366,
          -0.8152744940674739,
          -0.4727052090045964,
          0.040216665584898045,
          -0.43615128786506685,
          0.27344294693179144,
          -0.03349601413188458,
          -0.12851704529268604,
          1.1576163763863443,
          -0.18968775085366393,
          1.5373714863021704,
          1.996631567981592,
          -1.8478908256856124,
          0.2121399690241807,
          0.9903320529159314,
          -2.0640303113562224,
          2.1754063918501094,
          -1.1037872507948654,
          0.5923189542086722,
          -0.7949907287764912,
          1.8361725833088216,
          -0.8336354871997873,
          -0.8708116492198833,
          -0.8802815476308914,
          -0.020241790336094603,
          -0.8355316846439435,
          1.0059170082047086,
          1.0054939597481938,
          1.1040552035428135,
          2.741336901378624,
          -1.2872567660378902,
          1.7236070774494099,
          -2.053011458665576,
          -1.6554645975852431,
          -1.3191147093346898,
          0.14488040663958976,
          0.5307445563011728,
          0.448353435089702,
          0.6448543734164054,
          0.14196129190770976,
          1.5615778114103345,
          -1.6426252419380063,
          -1.405870219150968,
          1.2447263759979295,
          1.2268295001316207,
          0.1708153488927121,
          0.31821376174331156,
          1.0899629968418847,
          -1.324169834479461,
          1.7383695412197921,
          1.4666328621047053,
          -0.004273859710908556,
          -1.0528261698514383,
          -0.8326514854130332,
          1.0007331977147034,
          1.3236434581815582,
          -0.8749821765698546,
          -0.2712525553847711,
          0.5312922787388977,
          0.07442547177048062,
          -0.3691969468632882,
          1.4239953529637823,
          0.380692863230286,
          0.14935094281469008,
          -0.09986944765673177,
          2.4401718896791125,
          -2.078988567371166,
          -0.49433118320023206,
          -0.4953751435521029,
          -1.5785245909476824,
          0.25623531508960756,
          1.0485164469030575,
          -1.0737703034037116,
          0.49552445732235395,
          -0.43824199054292745,
          -0.34985233947132677,
          0.3573169550646374,
          1.0850984979754426,
          -0.707552616005236,
          2.038015366809184,
          0.5957484226452919,
          -0.7887252110202742,
          1.2576250591330205,
          -1.5489921574005654,
          -0.741054262577547,
          0.4864247229814855,
          -0.6666552351510178,
          1.3809168626082857
         ],
         "xaxis": "x7",
         "y": [
          0.43916847768055367,
          0.7754169812744081,
          -1.766184215926334,
          0.4674257707543401,
          0.29321032071154995,
          1.41774816480575,
          1.3445969383110263,
          0.4416487341811845,
          -1.430772057414031,
          -0.8505022925340281,
          0.4691920933044812,
          1.826784708762384,
          -0.10576410338109243,
          -1.500461426023311,
          0.7965390567393406,
          -0.012409030102622055,
          -0.15130451407398446,
          -2.071058423059817,
          -0.8255625544235962,
          -0.8074054383028947,
          -0.9301852379698403,
          -1.6773017541992195,
          -0.3946539688644478,
          -2.9870582870265263,
          -0.03318946511355068,
          -0.016251530567965744,
          0.7030357504362612,
          -0.4999960084700399,
          -0.9420611634530786,
          -0.1432729844634614,
          0.6557312074595607,
          0.35574155452593026,
          -0.07734755312316859,
          -1.7102423679022432,
          -0.04205763850987133,
          -1.4785422652968754,
          0.7645412296582739,
          -0.24706609101356192,
          -1.201359615189873,
          1.5325015503193518,
          -0.4881633821714732,
          -0.5057962567151923,
          1.1308257061231044,
          -0.23356594422792676,
          0.66092576287292,
          1.6404688258806333,
          -1.5081626093929672,
          -0.0013041142872921448,
          0.12204994284248882,
          1.4721906166668761,
          -0.08003811206186177,
          -0.9092222820745258,
          -0.8407007439622989,
          -0.11436673916364293,
          0.06406328064075953,
          0.48221062292822475,
          -0.7807229952837661,
          -0.20502892323697028,
          0.3447615780074933,
          -1.583612014364668,
          0.5130380961580526,
          -1.551310104687635,
          0.7237591993777599,
          1.5059564157142509,
          -0.10163714145529341,
          -1.67186290946623,
          -0.31584531717802655,
          1.0644113882459774,
          2.274346155576829,
          0.49930813021148723,
          1.6405651595955058,
          -0.33937453326899897,
          0.10632705592337412,
          -1.2642467659208292,
          -0.17540983564574716,
          -0.1862548195584329,
          1.4326108248716156,
          0.06485852176902505,
          -0.36945518458348525,
          0.541657819502985,
          0.4634294898545669,
          -1.3654976940987307,
          -0.45372839134779486,
          1.0423110939962679,
          0.4128596468131367,
          -0.4937751704955059,
          -0.24026055088614237,
          -0.6454607232329427,
          0.8484132678342798,
          0.8798070172304139,
          -0.8837609675709918,
          0.03975057728511999,
          -0.5563341326163922,
          -0.23772094092618812,
          0.18642158069051573,
          0.8268192191747974,
          1.9527936074764647,
          0.8109508402703056,
          -0.44120277682258874,
          0.407627374675604
         ],
         "yaxis": "y7"
        },
        {
         "line": {
          "color": "rgba(128, 128, 128, 1.0)",
          "dash": "solid",
          "shape": "linear",
          "width": 1.3
         },
         "marker": {
          "size": 2,
          "symbol": "circle"
         },
         "mode": "markers",
         "name": "B",
         "text": "",
         "type": "scatter",
         "x": [
          -1.9389212579683277,
          1.0318746543195694,
          0.19609179025269244,
          2.084503587262951,
          -0.6879289588930549,
          0.5905955951758107,
          -2.107265660329813,
          0.42375512577914876,
          0.4777623966893956,
          0.2962445297721372,
          -1.1856223496029463,
          1.7022382630606143,
          0.07680793951844446,
          0.8922634028440726,
          -1.1378324118039944,
          2.0167810536162274,
          -0.5868298273047612,
          1.450307501782666,
          1.2446645289563552,
          -0.07944153762300908,
          1.0167359000338412,
          2.427420320730947,
          -0.20128925540517068,
          0.40952059386452916,
          -0.11310106445409522,
          -1.0208138813781207,
          -1.6819789689603284,
          -1.6407317956038237,
          0.5044967236629525,
          0.5076414862093444,
          -1.3622577458763638,
          -1.385513710137751,
          0.4379302170510106,
          -1.0360657971318514,
          0.956725027101898,
          -1.1309412070101597,
          -0.4539498795026894,
          -0.7651633537773271,
          -1.9138987826185374,
          -0.3404523866186954,
          -0.966483327909447,
          -2.223145811291357,
          0.2274200919509542,
          -1.1008190146824435,
          1.597931806234551,
          -0.6904200201169924,
          0.3795736008139735,
          1.1552876033284938,
          1.0802041243340248,
          1.591449198739368,
          -0.5101850194713661,
          0.3656485055448906,
          -1.7781102598964273,
          -0.048838218782504175,
          0.015466680660355055,
          0.9563915331719891,
          -0.8281332359056763,
          -0.2732587642962962,
          -1.224484378166469,
          -0.6961648914628961,
          -1.4217156713230616,
          -0.16325341225772871,
          0.462763681717857,
          -0.12551804694449417,
          0.9597070364983735,
          1.6251869409639046,
          -0.4691100693646398,
          -1.5469095947287455,
          0.5302987629420041,
          0.6857862918116193,
          1.37072509031351,
          -0.5040834234575051,
          0.05051138614709521,
          -0.46101192287628784,
          -2.2860966773402467,
          0.6292167975290144,
          -0.5637220158358606,
          1.2270958978103588,
          1.5741280403319107,
          -0.42940636866567056,
          1.2551709882371325,
          0.7941629170507719,
          0.11090865061083648,
          1.7735491268694554,
          -0.08379969518485648,
          0.2171914794734731,
          -0.4425196060685648,
          1.4339298753585892,
          1.5238027903197608,
          0.9212217064512468,
          -1.6708110306106638,
          -2.6270043901327247,
          -1.538743232667884,
          3.2051948720019845,
          -0.6416520265791904,
          -0.5453567889345559,
          0.9669641250569055,
          0.4416490283576272,
          -2.7373733213933353,
          -0.31505769803083433
         ],
         "xaxis": "x8",
         "y": [
          0.43916847768055367,
          0.7754169812744081,
          -1.766184215926334,
          0.4674257707543401,
          0.29321032071154995,
          1.41774816480575,
          1.3445969383110263,
          0.4416487341811845,
          -1.430772057414031,
          -0.8505022925340281,
          0.4691920933044812,
          1.826784708762384,
          -0.10576410338109243,
          -1.500461426023311,
          0.7965390567393406,
          -0.012409030102622055,
          -0.15130451407398446,
          -2.071058423059817,
          -0.8255625544235962,
          -0.8074054383028947,
          -0.9301852379698403,
          -1.6773017541992195,
          -0.3946539688644478,
          -2.9870582870265263,
          -0.03318946511355068,
          -0.016251530567965744,
          0.7030357504362612,
          -0.4999960084700399,
          -0.9420611634530786,
          -0.1432729844634614,
          0.6557312074595607,
          0.35574155452593026,
          -0.07734755312316859,
          -1.7102423679022432,
          -0.04205763850987133,
          -1.4785422652968754,
          0.7645412296582739,
          -0.24706609101356192,
          -1.201359615189873,
          1.5325015503193518,
          -0.4881633821714732,
          -0.5057962567151923,
          1.1308257061231044,
          -0.23356594422792676,
          0.66092576287292,
          1.6404688258806333,
          -1.5081626093929672,
          -0.0013041142872921448,
          0.12204994284248882,
          1.4721906166668761,
          -0.08003811206186177,
          -0.9092222820745258,
          -0.8407007439622989,
          -0.11436673916364293,
          0.06406328064075953,
          0.48221062292822475,
          -0.7807229952837661,
          -0.20502892323697028,
          0.3447615780074933,
          -1.583612014364668,
          0.5130380961580526,
          -1.551310104687635,
          0.7237591993777599,
          1.5059564157142509,
          -0.10163714145529341,
          -1.67186290946623,
          -0.31584531717802655,
          1.0644113882459774,
          2.274346155576829,
          0.49930813021148723,
          1.6405651595955058,
          -0.33937453326899897,
          0.10632705592337412,
          -1.2642467659208292,
          -0.17540983564574716,
          -0.1862548195584329,
          1.4326108248716156,
          0.06485852176902505,
          -0.36945518458348525,
          0.541657819502985,
          0.4634294898545669,
          -1.3654976940987307,
          -0.45372839134779486,
          1.0423110939962679,
          0.4128596468131367,
          -0.4937751704955059,
          -0.24026055088614237,
          -0.6454607232329427,
          0.8484132678342798,
          0.8798070172304139,
          -0.8837609675709918,
          0.03975057728511999,
          -0.5563341326163922,
          -0.23772094092618812,
          0.18642158069051573,
          0.8268192191747974,
          1.9527936074764647,
          0.8109508402703056,
          -0.44120277682258874,
          0.407627374675604
         ],
         "yaxis": "y8"
        },
        {
         "line": {
          "color": "rgba(128, 128, 128, 1.0)",
          "dash": "solid",
          "shape": "linear",
          "width": 1.3
         },
         "marker": {
          "size": 2,
          "symbol": "circle"
         },
         "mode": "markers",
         "name": "C",
         "text": "",
         "type": "scatter",
         "x": [
          -1.4179226392462503,
          -0.46264200324192123,
          0.7515224608796539,
          0.017214914882547446,
          -2.119230156508853,
          1.4246987135038927,
          -1.3484391107921905,
          0.6432498838271453,
          -0.9263864887473827,
          0.7570861795056825,
          0.07543918980622479,
          1.1599339441805279,
          -0.04608268499591076,
          -0.09120078183586999,
          0.8842914961718378,
          -0.9162025719299867,
          -1.2610444177759146,
          0.027904167487635967,
          -0.7061578863184852,
          0.7709016638285334,
          -0.8539166153517274,
          0.7309733763722845,
          -1.7691103627746505,
          1.263558824772134,
          0.4717765277347702,
          0.557405859177239,
          -1.6819089715393656,
          1.0025284313403557,
          1.572525731929163,
          -0.9650143742388076,
          1.151517875183336,
          -0.18247700098496303,
          -0.7167113193989513,
          1.1761072211193844,
          0.12819699293539916,
          -0.23688078197346668,
          -0.560705340480975,
          -0.39787163984807145,
          1.3382710439775771,
          -1.7798709075126007,
          -1.2702252329912076,
          -0.4152839220015532,
          0.17542127517078324,
          0.39285448248880483,
          0.9045840149471326,
          -0.16994995097364154,
          0.3381582060118401,
          0.2063929493612841,
          -0.11094598121380154,
          0.7974586479279469,
          -2.199222319526443,
          1.3997599864684436,
          0.22941627710272822,
          1.4240802742453296,
          0.3094390144366311,
          1.5403747340754785,
          0.5810551927052852,
          -1.066762083853598,
          -0.059946047063189144,
          0.22949791684170903,
          0.8327749881915162,
          -0.06636372674054501,
          -0.6190169447247864,
          2.0048868335375056,
          1.736487965277091,
          -1.3831774356984614,
          1.4976344360500824,
          -0.7067197193609598,
          -0.4385844889747408,
          -0.9353036023038812,
          -0.47593035642229686,
          1.6132806108278546,
          -0.6287717679502393,
          1.0345780523748735,
          -1.27284403429772,
          -0.21598606336809065,
          -0.21383616429784602,
          3.2313217531556826,
          1.3382365732922021,
          -0.22487702362562872,
          2.340429170474291,
          0.6271993811365263,
          1.997890339440614,
          -2.033624272129717,
          0.32279225575672327,
          0.8666550678088079,
          0.8252385648058315,
          -1.657914673275361,
          1.2379383904314973,
          0.7149995599320481,
          -1.1761176335038575,
          0.5706312135572416,
          -0.4558503278911321,
          0.37983919034349595,
          0.09595899429015453,
          -1.2417447649974065,
          -0.5217493081296127,
          0.7542010755173852,
          -1.145180906491648,
          1.6740518150812944
         ],
         "xaxis": "x9",
         "y": [
          0.06329159238094456,
          0.6016141276373372,
          -0.38598146492664975,
          -1.7948377710650494,
          0.6922603131019637,
          1.546950767603398,
          -0.3401423629939599,
          0.8640624768539411,
          -0.3007610328344426,
          1.6514878814844314,
          0.13979537922420346,
          -1.7044467395329324,
          -0.7573626273806366,
          -0.8152744940674739,
          -0.4727052090045964,
          0.040216665584898045,
          -0.43615128786506685,
          0.27344294693179144,
          -0.03349601413188458,
          -0.12851704529268604,
          1.1576163763863443,
          -0.18968775085366393,
          1.5373714863021704,
          1.996631567981592,
          -1.8478908256856124,
          0.2121399690241807,
          0.9903320529159314,
          -2.0640303113562224,
          2.1754063918501094,
          -1.1037872507948654,
          0.5923189542086722,
          -0.7949907287764912,
          1.8361725833088216,
          -0.8336354871997873,
          -0.8708116492198833,
          -0.8802815476308914,
          -0.020241790336094603,
          -0.8355316846439435,
          1.0059170082047086,
          1.0054939597481938,
          1.1040552035428135,
          2.741336901378624,
          -1.2872567660378902,
          1.7236070774494099,
          -2.053011458665576,
          -1.6554645975852431,
          -1.3191147093346898,
          0.14488040663958976,
          0.5307445563011728,
          0.448353435089702,
          0.6448543734164054,
          0.14196129190770976,
          1.5615778114103345,
          -1.6426252419380063,
          -1.405870219150968,
          1.2447263759979295,
          1.2268295001316207,
          0.1708153488927121,
          0.31821376174331156,
          1.0899629968418847,
          -1.324169834479461,
          1.7383695412197921,
          1.4666328621047053,
          -0.004273859710908556,
          -1.0528261698514383,
          -0.8326514854130332,
          1.0007331977147034,
          1.3236434581815582,
          -0.8749821765698546,
          -0.2712525553847711,
          0.5312922787388977,
          0.07442547177048062,
          -0.3691969468632882,
          1.4239953529637823,
          0.380692863230286,
          0.14935094281469008,
          -0.09986944765673177,
          2.4401718896791125,
          -2.078988567371166,
          -0.49433118320023206,
          -0.4953751435521029,
          -1.5785245909476824,
          0.25623531508960756,
          1.0485164469030575,
          -1.0737703034037116,
          0.49552445732235395,
          -0.43824199054292745,
          -0.34985233947132677,
          0.3573169550646374,
          1.0850984979754426,
          -0.707552616005236,
          2.038015366809184,
          0.5957484226452919,
          -0.7887252110202742,
          1.2576250591330205,
          -1.5489921574005654,
          -0.741054262577547,
          0.4864247229814855,
          -0.6666552351510178,
          1.3809168626082857
         ],
         "yaxis": "y9"
        },
        {
         "line": {
          "color": "rgba(128, 128, 128, 1.0)",
          "dash": "solid",
          "shape": "linear",
          "width": 1.3
         },
         "marker": {
          "size": 2,
          "symbol": "circle"
         },
         "mode": "markers",
         "name": "C",
         "text": "",
         "type": "scatter",
         "x": [
          0.43916847768055367,
          0.7754169812744081,
          -1.766184215926334,
          0.4674257707543401,
          0.29321032071154995,
          1.41774816480575,
          1.3445969383110263,
          0.4416487341811845,
          -1.430772057414031,
          -0.8505022925340281,
          0.4691920933044812,
          1.826784708762384,
          -0.10576410338109243,
          -1.500461426023311,
          0.7965390567393406,
          -0.012409030102622055,
          -0.15130451407398446,
          -2.071058423059817,
          -0.8255625544235962,
          -0.8074054383028947,
          -0.9301852379698403,
          -1.6773017541992195,
          -0.3946539688644478,
          -2.9870582870265263,
          -0.03318946511355068,
          -0.016251530567965744,
          0.7030357504362612,
          -0.4999960084700399,
          -0.9420611634530786,
          -0.1432729844634614,
          0.6557312074595607,
          0.35574155452593026,
          -0.07734755312316859,
          -1.7102423679022432,
          -0.04205763850987133,
          -1.4785422652968754,
          0.7645412296582739,
          -0.24706609101356192,
          -1.201359615189873,
          1.5325015503193518,
          -0.4881633821714732,
          -0.5057962567151923,
          1.1308257061231044,
          -0.23356594422792676,
          0.66092576287292,
          1.6404688258806333,
          -1.5081626093929672,
          -0.0013041142872921448,
          0.12204994284248882,
          1.4721906166668761,
          -0.08003811206186177,
          -0.9092222820745258,
          -0.8407007439622989,
          -0.11436673916364293,
          0.06406328064075953,
          0.48221062292822475,
          -0.7807229952837661,
          -0.20502892323697028,
          0.3447615780074933,
          -1.583612014364668,
          0.5130380961580526,
          -1.551310104687635,
          0.7237591993777599,
          1.5059564157142509,
          -0.10163714145529341,
          -1.67186290946623,
          -0.31584531717802655,
          1.0644113882459774,
          2.274346155576829,
          0.49930813021148723,
          1.6405651595955058,
          -0.33937453326899897,
          0.10632705592337412,
          -1.2642467659208292,
          -0.17540983564574716,
          -0.1862548195584329,
          1.4326108248716156,
          0.06485852176902505,
          -0.36945518458348525,
          0.541657819502985,
          0.4634294898545669,
          -1.3654976940987307,
          -0.45372839134779486,
          1.0423110939962679,
          0.4128596468131367,
          -0.4937751704955059,
          -0.24026055088614237,
          -0.6454607232329427,
          0.8484132678342798,
          0.8798070172304139,
          -0.8837609675709918,
          0.03975057728511999,
          -0.5563341326163922,
          -0.23772094092618812,
          0.18642158069051573,
          0.8268192191747974,
          1.9527936074764647,
          0.8109508402703056,
          -0.44120277682258874,
          0.407627374675604
         ],
         "xaxis": "x10",
         "y": [
          0.06329159238094456,
          0.6016141276373372,
          -0.38598146492664975,
          -1.7948377710650494,
          0.6922603131019637,
          1.546950767603398,
          -0.3401423629939599,
          0.8640624768539411,
          -0.3007610328344426,
          1.6514878814844314,
          0.13979537922420346,
          -1.7044467395329324,
          -0.7573626273806366,
          -0.8152744940674739,
          -0.4727052090045964,
          0.040216665584898045,
          -0.43615128786506685,
          0.27344294693179144,
          -0.03349601413188458,
          -0.12851704529268604,
          1.1576163763863443,
          -0.18968775085366393,
          1.5373714863021704,
          1.996631567981592,
          -1.8478908256856124,
          0.2121399690241807,
          0.9903320529159314,
          -2.0640303113562224,
          2.1754063918501094,
          -1.1037872507948654,
          0.5923189542086722,
          -0.7949907287764912,
          1.8361725833088216,
          -0.8336354871997873,
          -0.8708116492198833,
          -0.8802815476308914,
          -0.020241790336094603,
          -0.8355316846439435,
          1.0059170082047086,
          1.0054939597481938,
          1.1040552035428135,
          2.741336901378624,
          -1.2872567660378902,
          1.7236070774494099,
          -2.053011458665576,
          -1.6554645975852431,
          -1.3191147093346898,
          0.14488040663958976,
          0.5307445563011728,
          0.448353435089702,
          0.6448543734164054,
          0.14196129190770976,
          1.5615778114103345,
          -1.6426252419380063,
          -1.405870219150968,
          1.2447263759979295,
          1.2268295001316207,
          0.1708153488927121,
          0.31821376174331156,
          1.0899629968418847,
          -1.324169834479461,
          1.7383695412197921,
          1.4666328621047053,
          -0.004273859710908556,
          -1.0528261698514383,
          -0.8326514854130332,
          1.0007331977147034,
          1.3236434581815582,
          -0.8749821765698546,
          -0.2712525553847711,
          0.5312922787388977,
          0.07442547177048062,
          -0.3691969468632882,
          1.4239953529637823,
          0.380692863230286,
          0.14935094281469008,
          -0.09986944765673177,
          2.4401718896791125,
          -2.078988567371166,
          -0.49433118320023206,
          -0.4953751435521029,
          -1.5785245909476824,
          0.25623531508960756,
          1.0485164469030575,
          -1.0737703034037116,
          0.49552445732235395,
          -0.43824199054292745,
          -0.34985233947132677,
          0.3573169550646374,
          1.0850984979754426,
          -0.707552616005236,
          2.038015366809184,
          0.5957484226452919,
          -0.7887252110202742,
          1.2576250591330205,
          -1.5489921574005654,
          -0.741054262577547,
          0.4864247229814855,
          -0.6666552351510178,
          1.3809168626082857
         ],
         "yaxis": "y10"
        },
        {
         "histfunc": "count",
         "histnorm": "",
         "marker": {
          "color": "rgba(50, 171, 96, 1.0)",
          "line": {
           "color": "#4D5663",
           "width": 1.3
          }
         },
         "name": "C",
         "nbinsx": 10,
         "opacity": 0.8,
         "orientation": "v",
         "type": "histogram",
         "x": [
          0.06329159238094456,
          0.6016141276373372,
          -0.38598146492664975,
          -1.7948377710650494,
          0.6922603131019637,
          1.546950767603398,
          -0.3401423629939599,
          0.8640624768539411,
          -0.3007610328344426,
          1.6514878814844314,
          0.13979537922420346,
          -1.7044467395329324,
          -0.7573626273806366,
          -0.8152744940674739,
          -0.4727052090045964,
          0.040216665584898045,
          -0.43615128786506685,
          0.27344294693179144,
          -0.03349601413188458,
          -0.12851704529268604,
          1.1576163763863443,
          -0.18968775085366393,
          1.5373714863021704,
          1.996631567981592,
          -1.8478908256856124,
          0.2121399690241807,
          0.9903320529159314,
          -2.0640303113562224,
          2.1754063918501094,
          -1.1037872507948654,
          0.5923189542086722,
          -0.7949907287764912,
          1.8361725833088216,
          -0.8336354871997873,
          -0.8708116492198833,
          -0.8802815476308914,
          -0.020241790336094603,
          -0.8355316846439435,
          1.0059170082047086,
          1.0054939597481938,
          1.1040552035428135,
          2.741336901378624,
          -1.2872567660378902,
          1.7236070774494099,
          -2.053011458665576,
          -1.6554645975852431,
          -1.3191147093346898,
          0.14488040663958976,
          0.5307445563011728,
          0.448353435089702,
          0.6448543734164054,
          0.14196129190770976,
          1.5615778114103345,
          -1.6426252419380063,
          -1.405870219150968,
          1.2447263759979295,
          1.2268295001316207,
          0.1708153488927121,
          0.31821376174331156,
          1.0899629968418847,
          -1.324169834479461,
          1.7383695412197921,
          1.4666328621047053,
          -0.004273859710908556,
          -1.0528261698514383,
          -0.8326514854130332,
          1.0007331977147034,
          1.3236434581815582,
          -0.8749821765698546,
          -0.2712525553847711,
          0.5312922787388977,
          0.07442547177048062,
          -0.3691969468632882,
          1.4239953529637823,
          0.380692863230286,
          0.14935094281469008,
          -0.09986944765673177,
          2.4401718896791125,
          -2.078988567371166,
          -0.49433118320023206,
          -0.4953751435521029,
          -1.5785245909476824,
          0.25623531508960756,
          1.0485164469030575,
          -1.0737703034037116,
          0.49552445732235395,
          -0.43824199054292745,
          -0.34985233947132677,
          0.3573169550646374,
          1.0850984979754426,
          -0.707552616005236,
          2.038015366809184,
          0.5957484226452919,
          -0.7887252110202742,
          1.2576250591330205,
          -1.5489921574005654,
          -0.741054262577547,
          0.4864247229814855,
          -0.6666552351510178,
          1.3809168626082857
         ],
         "xaxis": "x11",
         "yaxis": "y11"
        },
        {
         "line": {
          "color": "rgba(128, 128, 128, 1.0)",
          "dash": "solid",
          "shape": "linear",
          "width": 1.3
         },
         "marker": {
          "size": 2,
          "symbol": "circle"
         },
         "mode": "markers",
         "name": "C",
         "text": "",
         "type": "scatter",
         "x": [
          -1.9389212579683277,
          1.0318746543195694,
          0.19609179025269244,
          2.084503587262951,
          -0.6879289588930549,
          0.5905955951758107,
          -2.107265660329813,
          0.42375512577914876,
          0.4777623966893956,
          0.2962445297721372,
          -1.1856223496029463,
          1.7022382630606143,
          0.07680793951844446,
          0.8922634028440726,
          -1.1378324118039944,
          2.0167810536162274,
          -0.5868298273047612,
          1.450307501782666,
          1.2446645289563552,
          -0.07944153762300908,
          1.0167359000338412,
          2.427420320730947,
          -0.20128925540517068,
          0.40952059386452916,
          -0.11310106445409522,
          -1.0208138813781207,
          -1.6819789689603284,
          -1.6407317956038237,
          0.5044967236629525,
          0.5076414862093444,
          -1.3622577458763638,
          -1.385513710137751,
          0.4379302170510106,
          -1.0360657971318514,
          0.956725027101898,
          -1.1309412070101597,
          -0.4539498795026894,
          -0.7651633537773271,
          -1.9138987826185374,
          -0.3404523866186954,
          -0.966483327909447,
          -2.223145811291357,
          0.2274200919509542,
          -1.1008190146824435,
          1.597931806234551,
          -0.6904200201169924,
          0.3795736008139735,
          1.1552876033284938,
          1.0802041243340248,
          1.591449198739368,
          -0.5101850194713661,
          0.3656485055448906,
          -1.7781102598964273,
          -0.048838218782504175,
          0.015466680660355055,
          0.9563915331719891,
          -0.8281332359056763,
          -0.2732587642962962,
          -1.224484378166469,
          -0.6961648914628961,
          -1.4217156713230616,
          -0.16325341225772871,
          0.462763681717857,
          -0.12551804694449417,
          0.9597070364983735,
          1.6251869409639046,
          -0.4691100693646398,
          -1.5469095947287455,
          0.5302987629420041,
          0.6857862918116193,
          1.37072509031351,
          -0.5040834234575051,
          0.05051138614709521,
          -0.46101192287628784,
          -2.2860966773402467,
          0.6292167975290144,
          -0.5637220158358606,
          1.2270958978103588,
          1.5741280403319107,
          -0.42940636866567056,
          1.2551709882371325,
          0.7941629170507719,
          0.11090865061083648,
          1.7735491268694554,
          -0.08379969518485648,
          0.2171914794734731,
          -0.4425196060685648,
          1.4339298753585892,
          1.5238027903197608,
          0.9212217064512468,
          -1.6708110306106638,
          -2.6270043901327247,
          -1.538743232667884,
          3.2051948720019845,
          -0.6416520265791904,
          -0.5453567889345559,
          0.9669641250569055,
          0.4416490283576272,
          -2.7373733213933353,
          -0.31505769803083433
         ],
         "xaxis": "x12",
         "y": [
          0.06329159238094456,
          0.6016141276373372,
          -0.38598146492664975,
          -1.7948377710650494,
          0.6922603131019637,
          1.546950767603398,
          -0.3401423629939599,
          0.8640624768539411,
          -0.3007610328344426,
          1.6514878814844314,
          0.13979537922420346,
          -1.7044467395329324,
          -0.7573626273806366,
          -0.8152744940674739,
          -0.4727052090045964,
          0.040216665584898045,
          -0.43615128786506685,
          0.27344294693179144,
          -0.03349601413188458,
          -0.12851704529268604,
          1.1576163763863443,
          -0.18968775085366393,
          1.5373714863021704,
          1.996631567981592,
          -1.8478908256856124,
          0.2121399690241807,
          0.9903320529159314,
          -2.0640303113562224,
          2.1754063918501094,
          -1.1037872507948654,
          0.5923189542086722,
          -0.7949907287764912,
          1.8361725833088216,
          -0.8336354871997873,
          -0.8708116492198833,
          -0.8802815476308914,
          -0.020241790336094603,
          -0.8355316846439435,
          1.0059170082047086,
          1.0054939597481938,
          1.1040552035428135,
          2.741336901378624,
          -1.2872567660378902,
          1.7236070774494099,
          -2.053011458665576,
          -1.6554645975852431,
          -1.3191147093346898,
          0.14488040663958976,
          0.5307445563011728,
          0.448353435089702,
          0.6448543734164054,
          0.14196129190770976,
          1.5615778114103345,
          -1.6426252419380063,
          -1.405870219150968,
          1.2447263759979295,
          1.2268295001316207,
          0.1708153488927121,
          0.31821376174331156,
          1.0899629968418847,
          -1.324169834479461,
          1.7383695412197921,
          1.4666328621047053,
          -0.004273859710908556,
          -1.0528261698514383,
          -0.8326514854130332,
          1.0007331977147034,
          1.3236434581815582,
          -0.8749821765698546,
          -0.2712525553847711,
          0.5312922787388977,
          0.07442547177048062,
          -0.3691969468632882,
          1.4239953529637823,
          0.380692863230286,
          0.14935094281469008,
          -0.09986944765673177,
          2.4401718896791125,
          -2.078988567371166,
          -0.49433118320023206,
          -0.4953751435521029,
          -1.5785245909476824,
          0.25623531508960756,
          1.0485164469030575,
          -1.0737703034037116,
          0.49552445732235395,
          -0.43824199054292745,
          -0.34985233947132677,
          0.3573169550646374,
          1.0850984979754426,
          -0.707552616005236,
          2.038015366809184,
          0.5957484226452919,
          -0.7887252110202742,
          1.2576250591330205,
          -1.5489921574005654,
          -0.741054262577547,
          0.4864247229814855,
          -0.6666552351510178,
          1.3809168626082857
         ],
         "yaxis": "y12"
        },
        {
         "line": {
          "color": "rgba(128, 128, 128, 1.0)",
          "dash": "solid",
          "shape": "linear",
          "width": 1.3
         },
         "marker": {
          "size": 2,
          "symbol": "circle"
         },
         "mode": "markers",
         "name": "D",
         "text": "",
         "type": "scatter",
         "x": [
          -1.4179226392462503,
          -0.46264200324192123,
          0.7515224608796539,
          0.017214914882547446,
          -2.119230156508853,
          1.4246987135038927,
          -1.3484391107921905,
          0.6432498838271453,
          -0.9263864887473827,
          0.7570861795056825,
          0.07543918980622479,
          1.1599339441805279,
          -0.04608268499591076,
          -0.09120078183586999,
          0.8842914961718378,
          -0.9162025719299867,
          -1.2610444177759146,
          0.027904167487635967,
          -0.7061578863184852,
          0.7709016638285334,
          -0.8539166153517274,
          0.7309733763722845,
          -1.7691103627746505,
          1.263558824772134,
          0.4717765277347702,
          0.557405859177239,
          -1.6819089715393656,
          1.0025284313403557,
          1.572525731929163,
          -0.9650143742388076,
          1.151517875183336,
          -0.18247700098496303,
          -0.7167113193989513,
          1.1761072211193844,
          0.12819699293539916,
          -0.23688078197346668,
          -0.560705340480975,
          -0.39787163984807145,
          1.3382710439775771,
          -1.7798709075126007,
          -1.2702252329912076,
          -0.4152839220015532,
          0.17542127517078324,
          0.39285448248880483,
          0.9045840149471326,
          -0.16994995097364154,
          0.3381582060118401,
          0.2063929493612841,
          -0.11094598121380154,
          0.7974586479279469,
          -2.199222319526443,
          1.3997599864684436,
          0.22941627710272822,
          1.4240802742453296,
          0.3094390144366311,
          1.5403747340754785,
          0.5810551927052852,
          -1.066762083853598,
          -0.059946047063189144,
          0.22949791684170903,
          0.8327749881915162,
          -0.06636372674054501,
          -0.6190169447247864,
          2.0048868335375056,
          1.736487965277091,
          -1.3831774356984614,
          1.4976344360500824,
          -0.7067197193609598,
          -0.4385844889747408,
          -0.9353036023038812,
          -0.47593035642229686,
          1.6132806108278546,
          -0.6287717679502393,
          1.0345780523748735,
          -1.27284403429772,
          -0.21598606336809065,
          -0.21383616429784602,
          3.2313217531556826,
          1.3382365732922021,
          -0.22487702362562872,
          2.340429170474291,
          0.6271993811365263,
          1.997890339440614,
          -2.033624272129717,
          0.32279225575672327,
          0.8666550678088079,
          0.8252385648058315,
          -1.657914673275361,
          1.2379383904314973,
          0.7149995599320481,
          -1.1761176335038575,
          0.5706312135572416,
          -0.4558503278911321,
          0.37983919034349595,
          0.09595899429015453,
          -1.2417447649974065,
          -0.5217493081296127,
          0.7542010755173852,
          -1.145180906491648,
          1.6740518150812944
         ],
         "xaxis": "x13",
         "y": [
          -1.9389212579683277,
          1.0318746543195694,
          0.19609179025269244,
          2.084503587262951,
          -0.6879289588930549,
          0.5905955951758107,
          -2.107265660329813,
          0.42375512577914876,
          0.4777623966893956,
          0.2962445297721372,
          -1.1856223496029463,
          1.7022382630606143,
          0.07680793951844446,
          0.8922634028440726,
          -1.1378324118039944,
          2.0167810536162274,
          -0.5868298273047612,
          1.450307501782666,
          1.2446645289563552,
          -0.07944153762300908,
          1.0167359000338412,
          2.427420320730947,
          -0.20128925540517068,
          0.40952059386452916,
          -0.11310106445409522,
          -1.0208138813781207,
          -1.6819789689603284,
          -1.6407317956038237,
          0.5044967236629525,
          0.5076414862093444,
          -1.3622577458763638,
          -1.385513710137751,
          0.4379302170510106,
          -1.0360657971318514,
          0.956725027101898,
          -1.1309412070101597,
          -0.4539498795026894,
          -0.7651633537773271,
          -1.9138987826185374,
          -0.3404523866186954,
          -0.966483327909447,
          -2.223145811291357,
          0.2274200919509542,
          -1.1008190146824435,
          1.597931806234551,
          -0.6904200201169924,
          0.3795736008139735,
          1.1552876033284938,
          1.0802041243340248,
          1.591449198739368,
          -0.5101850194713661,
          0.3656485055448906,
          -1.7781102598964273,
          -0.048838218782504175,
          0.015466680660355055,
          0.9563915331719891,
          -0.8281332359056763,
          -0.2732587642962962,
          -1.224484378166469,
          -0.6961648914628961,
          -1.4217156713230616,
          -0.16325341225772871,
          0.462763681717857,
          -0.12551804694449417,
          0.9597070364983735,
          1.6251869409639046,
          -0.4691100693646398,
          -1.5469095947287455,
          0.5302987629420041,
          0.6857862918116193,
          1.37072509031351,
          -0.5040834234575051,
          0.05051138614709521,
          -0.46101192287628784,
          -2.2860966773402467,
          0.6292167975290144,
          -0.5637220158358606,
          1.2270958978103588,
          1.5741280403319107,
          -0.42940636866567056,
          1.2551709882371325,
          0.7941629170507719,
          0.11090865061083648,
          1.7735491268694554,
          -0.08379969518485648,
          0.2171914794734731,
          -0.4425196060685648,
          1.4339298753585892,
          1.5238027903197608,
          0.9212217064512468,
          -1.6708110306106638,
          -2.6270043901327247,
          -1.538743232667884,
          3.2051948720019845,
          -0.6416520265791904,
          -0.5453567889345559,
          0.9669641250569055,
          0.4416490283576272,
          -2.7373733213933353,
          -0.31505769803083433
         ],
         "yaxis": "y13"
        },
        {
         "line": {
          "color": "rgba(128, 128, 128, 1.0)",
          "dash": "solid",
          "shape": "linear",
          "width": 1.3
         },
         "marker": {
          "size": 2,
          "symbol": "circle"
         },
         "mode": "markers",
         "name": "D",
         "text": "",
         "type": "scatter",
         "x": [
          0.43916847768055367,
          0.7754169812744081,
          -1.766184215926334,
          0.4674257707543401,
          0.29321032071154995,
          1.41774816480575,
          1.3445969383110263,
          0.4416487341811845,
          -1.430772057414031,
          -0.8505022925340281,
          0.4691920933044812,
          1.826784708762384,
          -0.10576410338109243,
          -1.500461426023311,
          0.7965390567393406,
          -0.012409030102622055,
          -0.15130451407398446,
          -2.071058423059817,
          -0.8255625544235962,
          -0.8074054383028947,
          -0.9301852379698403,
          -1.6773017541992195,
          -0.3946539688644478,
          -2.9870582870265263,
          -0.03318946511355068,
          -0.016251530567965744,
          0.7030357504362612,
          -0.4999960084700399,
          -0.9420611634530786,
          -0.1432729844634614,
          0.6557312074595607,
          0.35574155452593026,
          -0.07734755312316859,
          -1.7102423679022432,
          -0.04205763850987133,
          -1.4785422652968754,
          0.7645412296582739,
          -0.24706609101356192,
          -1.201359615189873,
          1.5325015503193518,
          -0.4881633821714732,
          -0.5057962567151923,
          1.1308257061231044,
          -0.23356594422792676,
          0.66092576287292,
          1.6404688258806333,
          -1.5081626093929672,
          -0.0013041142872921448,
          0.12204994284248882,
          1.4721906166668761,
          -0.08003811206186177,
          -0.9092222820745258,
          -0.8407007439622989,
          -0.11436673916364293,
          0.06406328064075953,
          0.48221062292822475,
          -0.7807229952837661,
          -0.20502892323697028,
          0.3447615780074933,
          -1.583612014364668,
          0.5130380961580526,
          -1.551310104687635,
          0.7237591993777599,
          1.5059564157142509,
          -0.10163714145529341,
          -1.67186290946623,
          -0.31584531717802655,
          1.0644113882459774,
          2.274346155576829,
          0.49930813021148723,
          1.6405651595955058,
          -0.33937453326899897,
          0.10632705592337412,
          -1.2642467659208292,
          -0.17540983564574716,
          -0.1862548195584329,
          1.4326108248716156,
          0.06485852176902505,
          -0.36945518458348525,
          0.541657819502985,
          0.4634294898545669,
          -1.3654976940987307,
          -0.45372839134779486,
          1.0423110939962679,
          0.4128596468131367,
          -0.4937751704955059,
          -0.24026055088614237,
          -0.6454607232329427,
          0.8484132678342798,
          0.8798070172304139,
          -0.8837609675709918,
          0.03975057728511999,
          -0.5563341326163922,
          -0.23772094092618812,
          0.18642158069051573,
          0.8268192191747974,
          1.9527936074764647,
          0.8109508402703056,
          -0.44120277682258874,
          0.407627374675604
         ],
         "xaxis": "x14",
         "y": [
          -1.9389212579683277,
          1.0318746543195694,
          0.19609179025269244,
          2.084503587262951,
          -0.6879289588930549,
          0.5905955951758107,
          -2.107265660329813,
          0.42375512577914876,
          0.4777623966893956,
          0.2962445297721372,
          -1.1856223496029463,
          1.7022382630606143,
          0.07680793951844446,
          0.8922634028440726,
          -1.1378324118039944,
          2.0167810536162274,
          -0.5868298273047612,
          1.450307501782666,
          1.2446645289563552,
          -0.07944153762300908,
          1.0167359000338412,
          2.427420320730947,
          -0.20128925540517068,
          0.40952059386452916,
          -0.11310106445409522,
          -1.0208138813781207,
          -1.6819789689603284,
          -1.6407317956038237,
          0.5044967236629525,
          0.5076414862093444,
          -1.3622577458763638,
          -1.385513710137751,
          0.4379302170510106,
          -1.0360657971318514,
          0.956725027101898,
          -1.1309412070101597,
          -0.4539498795026894,
          -0.7651633537773271,
          -1.9138987826185374,
          -0.3404523866186954,
          -0.966483327909447,
          -2.223145811291357,
          0.2274200919509542,
          -1.1008190146824435,
          1.597931806234551,
          -0.6904200201169924,
          0.3795736008139735,
          1.1552876033284938,
          1.0802041243340248,
          1.591449198739368,
          -0.5101850194713661,
          0.3656485055448906,
          -1.7781102598964273,
          -0.048838218782504175,
          0.015466680660355055,
          0.9563915331719891,
          -0.8281332359056763,
          -0.2732587642962962,
          -1.224484378166469,
          -0.6961648914628961,
          -1.4217156713230616,
          -0.16325341225772871,
          0.462763681717857,
          -0.12551804694449417,
          0.9597070364983735,
          1.6251869409639046,
          -0.4691100693646398,
          -1.5469095947287455,
          0.5302987629420041,
          0.6857862918116193,
          1.37072509031351,
          -0.5040834234575051,
          0.05051138614709521,
          -0.46101192287628784,
          -2.2860966773402467,
          0.6292167975290144,
          -0.5637220158358606,
          1.2270958978103588,
          1.5741280403319107,
          -0.42940636866567056,
          1.2551709882371325,
          0.7941629170507719,
          0.11090865061083648,
          1.7735491268694554,
          -0.08379969518485648,
          0.2171914794734731,
          -0.4425196060685648,
          1.4339298753585892,
          1.5238027903197608,
          0.9212217064512468,
          -1.6708110306106638,
          -2.6270043901327247,
          -1.538743232667884,
          3.2051948720019845,
          -0.6416520265791904,
          -0.5453567889345559,
          0.9669641250569055,
          0.4416490283576272,
          -2.7373733213933353,
          -0.31505769803083433
         ],
         "yaxis": "y14"
        },
        {
         "line": {
          "color": "rgba(128, 128, 128, 1.0)",
          "dash": "solid",
          "shape": "linear",
          "width": 1.3
         },
         "marker": {
          "size": 2,
          "symbol": "circle"
         },
         "mode": "markers",
         "name": "D",
         "text": "",
         "type": "scatter",
         "x": [
          0.06329159238094456,
          0.6016141276373372,
          -0.38598146492664975,
          -1.7948377710650494,
          0.6922603131019637,
          1.546950767603398,
          -0.3401423629939599,
          0.8640624768539411,
          -0.3007610328344426,
          1.6514878814844314,
          0.13979537922420346,
          -1.7044467395329324,
          -0.7573626273806366,
          -0.8152744940674739,
          -0.4727052090045964,
          0.040216665584898045,
          -0.43615128786506685,
          0.27344294693179144,
          -0.03349601413188458,
          -0.12851704529268604,
          1.1576163763863443,
          -0.18968775085366393,
          1.5373714863021704,
          1.996631567981592,
          -1.8478908256856124,
          0.2121399690241807,
          0.9903320529159314,
          -2.0640303113562224,
          2.1754063918501094,
          -1.1037872507948654,
          0.5923189542086722,
          -0.7949907287764912,
          1.8361725833088216,
          -0.8336354871997873,
          -0.8708116492198833,
          -0.8802815476308914,
          -0.020241790336094603,
          -0.8355316846439435,
          1.0059170082047086,
          1.0054939597481938,
          1.1040552035428135,
          2.741336901378624,
          -1.2872567660378902,
          1.7236070774494099,
          -2.053011458665576,
          -1.6554645975852431,
          -1.3191147093346898,
          0.14488040663958976,
          0.5307445563011728,
          0.448353435089702,
          0.6448543734164054,
          0.14196129190770976,
          1.5615778114103345,
          -1.6426252419380063,
          -1.405870219150968,
          1.2447263759979295,
          1.2268295001316207,
          0.1708153488927121,
          0.31821376174331156,
          1.0899629968418847,
          -1.324169834479461,
          1.7383695412197921,
          1.4666328621047053,
          -0.004273859710908556,
          -1.0528261698514383,
          -0.8326514854130332,
          1.0007331977147034,
          1.3236434581815582,
          -0.8749821765698546,
          -0.2712525553847711,
          0.5312922787388977,
          0.07442547177048062,
          -0.3691969468632882,
          1.4239953529637823,
          0.380692863230286,
          0.14935094281469008,
          -0.09986944765673177,
          2.4401718896791125,
          -2.078988567371166,
          -0.49433118320023206,
          -0.4953751435521029,
          -1.5785245909476824,
          0.25623531508960756,
          1.0485164469030575,
          -1.0737703034037116,
          0.49552445732235395,
          -0.43824199054292745,
          -0.34985233947132677,
          0.3573169550646374,
          1.0850984979754426,
          -0.707552616005236,
          2.038015366809184,
          0.5957484226452919,
          -0.7887252110202742,
          1.2576250591330205,
          -1.5489921574005654,
          -0.741054262577547,
          0.4864247229814855,
          -0.6666552351510178,
          1.3809168626082857
         ],
         "xaxis": "x15",
         "y": [
          -1.9389212579683277,
          1.0318746543195694,
          0.19609179025269244,
          2.084503587262951,
          -0.6879289588930549,
          0.5905955951758107,
          -2.107265660329813,
          0.42375512577914876,
          0.4777623966893956,
          0.2962445297721372,
          -1.1856223496029463,
          1.7022382630606143,
          0.07680793951844446,
          0.8922634028440726,
          -1.1378324118039944,
          2.0167810536162274,
          -0.5868298273047612,
          1.450307501782666,
          1.2446645289563552,
          -0.07944153762300908,
          1.0167359000338412,
          2.427420320730947,
          -0.20128925540517068,
          0.40952059386452916,
          -0.11310106445409522,
          -1.0208138813781207,
          -1.6819789689603284,
          -1.6407317956038237,
          0.5044967236629525,
          0.5076414862093444,
          -1.3622577458763638,
          -1.385513710137751,
          0.4379302170510106,
          -1.0360657971318514,
          0.956725027101898,
          -1.1309412070101597,
          -0.4539498795026894,
          -0.7651633537773271,
          -1.9138987826185374,
          -0.3404523866186954,
          -0.966483327909447,
          -2.223145811291357,
          0.2274200919509542,
          -1.1008190146824435,
          1.597931806234551,
          -0.6904200201169924,
          0.3795736008139735,
          1.1552876033284938,
          1.0802041243340248,
          1.591449198739368,
          -0.5101850194713661,
          0.3656485055448906,
          -1.7781102598964273,
          -0.048838218782504175,
          0.015466680660355055,
          0.9563915331719891,
          -0.8281332359056763,
          -0.2732587642962962,
          -1.224484378166469,
          -0.6961648914628961,
          -1.4217156713230616,
          -0.16325341225772871,
          0.462763681717857,
          -0.12551804694449417,
          0.9597070364983735,
          1.6251869409639046,
          -0.4691100693646398,
          -1.5469095947287455,
          0.5302987629420041,
          0.6857862918116193,
          1.37072509031351,
          -0.5040834234575051,
          0.05051138614709521,
          -0.46101192287628784,
          -2.2860966773402467,
          0.6292167975290144,
          -0.5637220158358606,
          1.2270958978103588,
          1.5741280403319107,
          -0.42940636866567056,
          1.2551709882371325,
          0.7941629170507719,
          0.11090865061083648,
          1.7735491268694554,
          -0.08379969518485648,
          0.2171914794734731,
          -0.4425196060685648,
          1.4339298753585892,
          1.5238027903197608,
          0.9212217064512468,
          -1.6708110306106638,
          -2.6270043901327247,
          -1.538743232667884,
          3.2051948720019845,
          -0.6416520265791904,
          -0.5453567889345559,
          0.9669641250569055,
          0.4416490283576272,
          -2.7373733213933353,
          -0.31505769803083433
         ],
         "yaxis": "y15"
        },
        {
         "histfunc": "count",
         "histnorm": "",
         "marker": {
          "color": "rgba(128, 0, 128, 1.0)",
          "line": {
           "color": "#4D5663",
           "width": 1.3
          }
         },
         "name": "D",
         "nbinsx": 10,
         "opacity": 0.8,
         "orientation": "v",
         "type": "histogram",
         "x": [
          -1.9389212579683277,
          1.0318746543195694,
          0.19609179025269244,
          2.084503587262951,
          -0.6879289588930549,
          0.5905955951758107,
          -2.107265660329813,
          0.42375512577914876,
          0.4777623966893956,
          0.2962445297721372,
          -1.1856223496029463,
          1.7022382630606143,
          0.07680793951844446,
          0.8922634028440726,
          -1.1378324118039944,
          2.0167810536162274,
          -0.5868298273047612,
          1.450307501782666,
          1.2446645289563552,
          -0.07944153762300908,
          1.0167359000338412,
          2.427420320730947,
          -0.20128925540517068,
          0.40952059386452916,
          -0.11310106445409522,
          -1.0208138813781207,
          -1.6819789689603284,
          -1.6407317956038237,
          0.5044967236629525,
          0.5076414862093444,
          -1.3622577458763638,
          -1.385513710137751,
          0.4379302170510106,
          -1.0360657971318514,
          0.956725027101898,
          -1.1309412070101597,
          -0.4539498795026894,
          -0.7651633537773271,
          -1.9138987826185374,
          -0.3404523866186954,
          -0.966483327909447,
          -2.223145811291357,
          0.2274200919509542,
          -1.1008190146824435,
          1.597931806234551,
          -0.6904200201169924,
          0.3795736008139735,
          1.1552876033284938,
          1.0802041243340248,
          1.591449198739368,
          -0.5101850194713661,
          0.3656485055448906,
          -1.7781102598964273,
          -0.048838218782504175,
          0.015466680660355055,
          0.9563915331719891,
          -0.8281332359056763,
          -0.2732587642962962,
          -1.224484378166469,
          -0.6961648914628961,
          -1.4217156713230616,
          -0.16325341225772871,
          0.462763681717857,
          -0.12551804694449417,
          0.9597070364983735,
          1.6251869409639046,
          -0.4691100693646398,
          -1.5469095947287455,
          0.5302987629420041,
          0.6857862918116193,
          1.37072509031351,
          -0.5040834234575051,
          0.05051138614709521,
          -0.46101192287628784,
          -2.2860966773402467,
          0.6292167975290144,
          -0.5637220158358606,
          1.2270958978103588,
          1.5741280403319107,
          -0.42940636866567056,
          1.2551709882371325,
          0.7941629170507719,
          0.11090865061083648,
          1.7735491268694554,
          -0.08379969518485648,
          0.2171914794734731,
          -0.4425196060685648,
          1.4339298753585892,
          1.5238027903197608,
          0.9212217064512468,
          -1.6708110306106638,
          -2.6270043901327247,
          -1.538743232667884,
          3.2051948720019845,
          -0.6416520265791904,
          -0.5453567889345559,
          0.9669641250569055,
          0.4416490283576272,
          -2.7373733213933353,
          -0.31505769803083433
         ],
         "xaxis": "x16",
         "yaxis": "y16"
        }
       ],
       "layout": {
        "bargap": 0.02,
        "legend": {
         "bgcolor": "#F5F6F9",
         "font": {
          "color": "#4D5663"
         }
        },
        "paper_bgcolor": "#F5F6F9",
        "plot_bgcolor": "#F5F6F9",
        "showlegend": false,
        "template": {
         "data": {
          "bar": [
           {
            "error_x": {
             "color": "#2a3f5f"
            },
            "error_y": {
             "color": "#2a3f5f"
            },
            "marker": {
             "line": {
              "color": "#E5ECF6",
              "width": 0.5
             },
             "pattern": {
              "fillmode": "overlay",
              "size": 10,
              "solidity": 0.2
             }
            },
            "type": "bar"
           }
          ],
          "barpolar": [
           {
            "marker": {
             "line": {
              "color": "#E5ECF6",
              "width": 0.5
             },
             "pattern": {
              "fillmode": "overlay",
              "size": 10,
              "solidity": 0.2
             }
            },
            "type": "barpolar"
           }
          ],
          "carpet": [
           {
            "aaxis": {
             "endlinecolor": "#2a3f5f",
             "gridcolor": "white",
             "linecolor": "white",
             "minorgridcolor": "white",
             "startlinecolor": "#2a3f5f"
            },
            "baxis": {
             "endlinecolor": "#2a3f5f",
             "gridcolor": "white",
             "linecolor": "white",
             "minorgridcolor": "white",
             "startlinecolor": "#2a3f5f"
            },
            "type": "carpet"
           }
          ],
          "choropleth": [
           {
            "colorbar": {
             "outlinewidth": 0,
             "ticks": ""
            },
            "type": "choropleth"
           }
          ],
          "contour": [
           {
            "colorbar": {
             "outlinewidth": 0,
             "ticks": ""
            },
            "colorscale": [
             [
              0,
              "#0d0887"
             ],
             [
              0.1111111111111111,
              "#46039f"
             ],
             [
              0.2222222222222222,
              "#7201a8"
             ],
             [
              0.3333333333333333,
              "#9c179e"
             ],
             [
              0.4444444444444444,
              "#bd3786"
             ],
             [
              0.5555555555555556,
              "#d8576b"
             ],
             [
              0.6666666666666666,
              "#ed7953"
             ],
             [
              0.7777777777777778,
              "#fb9f3a"
             ],
             [
              0.8888888888888888,
              "#fdca26"
             ],
             [
              1,
              "#f0f921"
             ]
            ],
            "type": "contour"
           }
          ],
          "contourcarpet": [
           {
            "colorbar": {
             "outlinewidth": 0,
             "ticks": ""
            },
            "type": "contourcarpet"
           }
          ],
          "heatmap": [
           {
            "colorbar": {
             "outlinewidth": 0,
             "ticks": ""
            },
            "colorscale": [
             [
              0,
              "#0d0887"
             ],
             [
              0.1111111111111111,
              "#46039f"
             ],
             [
              0.2222222222222222,
              "#7201a8"
             ],
             [
              0.3333333333333333,
              "#9c179e"
             ],
             [
              0.4444444444444444,
              "#bd3786"
             ],
             [
              0.5555555555555556,
              "#d8576b"
             ],
             [
              0.6666666666666666,
              "#ed7953"
             ],
             [
              0.7777777777777778,
              "#fb9f3a"
             ],
             [
              0.8888888888888888,
              "#fdca26"
             ],
             [
              1,
              "#f0f921"
             ]
            ],
            "type": "heatmap"
           }
          ],
          "heatmapgl": [
           {
            "colorbar": {
             "outlinewidth": 0,
             "ticks": ""
            },
            "colorscale": [
             [
              0,
              "#0d0887"
             ],
             [
              0.1111111111111111,
              "#46039f"
             ],
             [
              0.2222222222222222,
              "#7201a8"
             ],
             [
              0.3333333333333333,
              "#9c179e"
             ],
             [
              0.4444444444444444,
              "#bd3786"
             ],
             [
              0.5555555555555556,
              "#d8576b"
             ],
             [
              0.6666666666666666,
              "#ed7953"
             ],
             [
              0.7777777777777778,
              "#fb9f3a"
             ],
             [
              0.8888888888888888,
              "#fdca26"
             ],
             [
              1,
              "#f0f921"
             ]
            ],
            "type": "heatmapgl"
           }
          ],
          "histogram": [
           {
            "marker": {
             "pattern": {
              "fillmode": "overlay",
              "size": 10,
              "solidity": 0.2
             }
            },
            "type": "histogram"
           }
          ],
          "histogram2d": [
           {
            "colorbar": {
             "outlinewidth": 0,
             "ticks": ""
            },
            "colorscale": [
             [
              0,
              "#0d0887"
             ],
             [
              0.1111111111111111,
              "#46039f"
             ],
             [
              0.2222222222222222,
              "#7201a8"
             ],
             [
              0.3333333333333333,
              "#9c179e"
             ],
             [
              0.4444444444444444,
              "#bd3786"
             ],
             [
              0.5555555555555556,
              "#d8576b"
             ],
             [
              0.6666666666666666,
              "#ed7953"
             ],
             [
              0.7777777777777778,
              "#fb9f3a"
             ],
             [
              0.8888888888888888,
              "#fdca26"
             ],
             [
              1,
              "#f0f921"
             ]
            ],
            "type": "histogram2d"
           }
          ],
          "histogram2dcontour": [
           {
            "colorbar": {
             "outlinewidth": 0,
             "ticks": ""
            },
            "colorscale": [
             [
              0,
              "#0d0887"
             ],
             [
              0.1111111111111111,
              "#46039f"
             ],
             [
              0.2222222222222222,
              "#7201a8"
             ],
             [
              0.3333333333333333,
              "#9c179e"
             ],
             [
              0.4444444444444444,
              "#bd3786"
             ],
             [
              0.5555555555555556,
              "#d8576b"
             ],
             [
              0.6666666666666666,
              "#ed7953"
             ],
             [
              0.7777777777777778,
              "#fb9f3a"
             ],
             [
              0.8888888888888888,
              "#fdca26"
             ],
             [
              1,
              "#f0f921"
             ]
            ],
            "type": "histogram2dcontour"
           }
          ],
          "mesh3d": [
           {
            "colorbar": {
             "outlinewidth": 0,
             "ticks": ""
            },
            "type": "mesh3d"
           }
          ],
          "parcoords": [
           {
            "line": {
             "colorbar": {
              "outlinewidth": 0,
              "ticks": ""
             }
            },
            "type": "parcoords"
           }
          ],
          "pie": [
           {
            "automargin": true,
            "type": "pie"
           }
          ],
          "scatter": [
           {
            "marker": {
             "colorbar": {
              "outlinewidth": 0,
              "ticks": ""
             }
            },
            "type": "scatter"
           }
          ],
          "scatter3d": [
           {
            "line": {
             "colorbar": {
              "outlinewidth": 0,
              "ticks": ""
             }
            },
            "marker": {
             "colorbar": {
              "outlinewidth": 0,
              "ticks": ""
             }
            },
            "type": "scatter3d"
           }
          ],
          "scattercarpet": [
           {
            "marker": {
             "colorbar": {
              "outlinewidth": 0,
              "ticks": ""
             }
            },
            "type": "scattercarpet"
           }
          ],
          "scattergeo": [
           {
            "marker": {
             "colorbar": {
              "outlinewidth": 0,
              "ticks": ""
             }
            },
            "type": "scattergeo"
           }
          ],
          "scattergl": [
           {
            "marker": {
             "colorbar": {
              "outlinewidth": 0,
              "ticks": ""
             }
            },
            "type": "scattergl"
           }
          ],
          "scattermapbox": [
           {
            "marker": {
             "colorbar": {
              "outlinewidth": 0,
              "ticks": ""
             }
            },
            "type": "scattermapbox"
           }
          ],
          "scatterpolar": [
           {
            "marker": {
             "colorbar": {
              "outlinewidth": 0,
              "ticks": ""
             }
            },
            "type": "scatterpolar"
           }
          ],
          "scatterpolargl": [
           {
            "marker": {
             "colorbar": {
              "outlinewidth": 0,
              "ticks": ""
             }
            },
            "type": "scatterpolargl"
           }
          ],
          "scatterternary": [
           {
            "marker": {
             "colorbar": {
              "outlinewidth": 0,
              "ticks": ""
             }
            },
            "type": "scatterternary"
           }
          ],
          "surface": [
           {
            "colorbar": {
             "outlinewidth": 0,
             "ticks": ""
            },
            "colorscale": [
             [
              0,
              "#0d0887"
             ],
             [
              0.1111111111111111,
              "#46039f"
             ],
             [
              0.2222222222222222,
              "#7201a8"
             ],
             [
              0.3333333333333333,
              "#9c179e"
             ],
             [
              0.4444444444444444,
              "#bd3786"
             ],
             [
              0.5555555555555556,
              "#d8576b"
             ],
             [
              0.6666666666666666,
              "#ed7953"
             ],
             [
              0.7777777777777778,
              "#fb9f3a"
             ],
             [
              0.8888888888888888,
              "#fdca26"
             ],
             [
              1,
              "#f0f921"
             ]
            ],
            "type": "surface"
           }
          ],
          "table": [
           {
            "cells": {
             "fill": {
              "color": "#EBF0F8"
             },
             "line": {
              "color": "white"
             }
            },
            "header": {
             "fill": {
              "color": "#C8D4E3"
             },
             "line": {
              "color": "white"
             }
            },
            "type": "table"
           }
          ]
         },
         "layout": {
          "annotationdefaults": {
           "arrowcolor": "#2a3f5f",
           "arrowhead": 0,
           "arrowwidth": 1
          },
          "autotypenumbers": "strict",
          "coloraxis": {
           "colorbar": {
            "outlinewidth": 0,
            "ticks": ""
           }
          },
          "colorscale": {
           "diverging": [
            [
             0,
             "#8e0152"
            ],
            [
             0.1,
             "#c51b7d"
            ],
            [
             0.2,
             "#de77ae"
            ],
            [
             0.3,
             "#f1b6da"
            ],
            [
             0.4,
             "#fde0ef"
            ],
            [
             0.5,
             "#f7f7f7"
            ],
            [
             0.6,
             "#e6f5d0"
            ],
            [
             0.7,
             "#b8e186"
            ],
            [
             0.8,
             "#7fbc41"
            ],
            [
             0.9,
             "#4d9221"
            ],
            [
             1,
             "#276419"
            ]
           ],
           "sequential": [
            [
             0,
             "#0d0887"
            ],
            [
             0.1111111111111111,
             "#46039f"
            ],
            [
             0.2222222222222222,
             "#7201a8"
            ],
            [
             0.3333333333333333,
             "#9c179e"
            ],
            [
             0.4444444444444444,
             "#bd3786"
            ],
            [
             0.5555555555555556,
             "#d8576b"
            ],
            [
             0.6666666666666666,
             "#ed7953"
            ],
            [
             0.7777777777777778,
             "#fb9f3a"
            ],
            [
             0.8888888888888888,
             "#fdca26"
            ],
            [
             1,
             "#f0f921"
            ]
           ],
           "sequentialminus": [
            [
             0,
             "#0d0887"
            ],
            [
             0.1111111111111111,
             "#46039f"
            ],
            [
             0.2222222222222222,
             "#7201a8"
            ],
            [
             0.3333333333333333,
             "#9c179e"
            ],
            [
             0.4444444444444444,
             "#bd3786"
            ],
            [
             0.5555555555555556,
             "#d8576b"
            ],
            [
             0.6666666666666666,
             "#ed7953"
            ],
            [
             0.7777777777777778,
             "#fb9f3a"
            ],
            [
             0.8888888888888888,
             "#fdca26"
            ],
            [
             1,
             "#f0f921"
            ]
           ]
          },
          "colorway": [
           "#636efa",
           "#EF553B",
           "#00cc96",
           "#ab63fa",
           "#FFA15A",
           "#19d3f3",
           "#FF6692",
           "#B6E880",
           "#FF97FF",
           "#FECB52"
          ],
          "font": {
           "color": "#2a3f5f"
          },
          "geo": {
           "bgcolor": "white",
           "lakecolor": "white",
           "landcolor": "#E5ECF6",
           "showlakes": true,
           "showland": true,
           "subunitcolor": "white"
          },
          "hoverlabel": {
           "align": "left"
          },
          "hovermode": "closest",
          "mapbox": {
           "style": "light"
          },
          "paper_bgcolor": "white",
          "plot_bgcolor": "#E5ECF6",
          "polar": {
           "angularaxis": {
            "gridcolor": "white",
            "linecolor": "white",
            "ticks": ""
           },
           "bgcolor": "#E5ECF6",
           "radialaxis": {
            "gridcolor": "white",
            "linecolor": "white",
            "ticks": ""
           }
          },
          "scene": {
           "xaxis": {
            "backgroundcolor": "#E5ECF6",
            "gridcolor": "white",
            "gridwidth": 2,
            "linecolor": "white",
            "showbackground": true,
            "ticks": "",
            "zerolinecolor": "white"
           },
           "yaxis": {
            "backgroundcolor": "#E5ECF6",
            "gridcolor": "white",
            "gridwidth": 2,
            "linecolor": "white",
            "showbackground": true,
            "ticks": "",
            "zerolinecolor": "white"
           },
           "zaxis": {
            "backgroundcolor": "#E5ECF6",
            "gridcolor": "white",
            "gridwidth": 2,
            "linecolor": "white",
            "showbackground": true,
            "ticks": "",
            "zerolinecolor": "white"
           }
          },
          "shapedefaults": {
           "line": {
            "color": "#2a3f5f"
           }
          },
          "ternary": {
           "aaxis": {
            "gridcolor": "white",
            "linecolor": "white",
            "ticks": ""
           },
           "baxis": {
            "gridcolor": "white",
            "linecolor": "white",
            "ticks": ""
           },
           "bgcolor": "#E5ECF6",
           "caxis": {
            "gridcolor": "white",
            "linecolor": "white",
            "ticks": ""
           }
          },
          "title": {
           "x": 0.05
          },
          "xaxis": {
           "automargin": true,
           "gridcolor": "white",
           "linecolor": "white",
           "ticks": "",
           "title": {
            "standoff": 15
           },
           "zerolinecolor": "white",
           "zerolinewidth": 2
          },
          "yaxis": {
           "automargin": true,
           "gridcolor": "white",
           "linecolor": "white",
           "ticks": "",
           "title": {
            "standoff": 15
           },
           "zerolinecolor": "white",
           "zerolinewidth": 2
          }
         }
        },
        "title": {
         "font": {
          "color": "#4D5663"
         }
        },
        "xaxis": {
         "anchor": "y",
         "domain": [
          0,
          0.2125
         ],
         "gridcolor": "#E1E5ED",
         "showgrid": false,
         "tickfont": {
          "color": "#4D5663"
         },
         "title": {
          "font": {
           "color": "#4D5663"
          },
          "text": ""
         },
         "zerolinecolor": "#E1E5ED"
        },
        "xaxis10": {
         "anchor": "y10",
         "domain": [
          0.2625,
          0.475
         ],
         "gridcolor": "#E1E5ED",
         "showgrid": false,
         "tickfont": {
          "color": "#4D5663"
         },
         "title": {
          "font": {
           "color": "#4D5663"
          },
          "text": ""
         },
         "zerolinecolor": "#E1E5ED"
        },
        "xaxis11": {
         "anchor": "y11",
         "domain": [
          0.525,
          0.7375
         ],
         "gridcolor": "#E1E5ED",
         "showgrid": false,
         "tickfont": {
          "color": "#4D5663"
         },
         "title": {
          "font": {
           "color": "#4D5663"
          },
          "text": ""
         },
         "zerolinecolor": "#E1E5ED"
        },
        "xaxis12": {
         "anchor": "y12",
         "domain": [
          0.7875,
          1
         ],
         "gridcolor": "#E1E5ED",
         "showgrid": false,
         "tickfont": {
          "color": "#4D5663"
         },
         "title": {
          "font": {
           "color": "#4D5663"
          },
          "text": ""
         },
         "zerolinecolor": "#E1E5ED"
        },
        "xaxis13": {
         "anchor": "y13",
         "domain": [
          0,
          0.2125
         ],
         "gridcolor": "#E1E5ED",
         "showgrid": false,
         "tickfont": {
          "color": "#4D5663"
         },
         "title": {
          "font": {
           "color": "#4D5663"
          },
          "text": ""
         },
         "zerolinecolor": "#E1E5ED"
        },
        "xaxis14": {
         "anchor": "y14",
         "domain": [
          0.2625,
          0.475
         ],
         "gridcolor": "#E1E5ED",
         "showgrid": false,
         "tickfont": {
          "color": "#4D5663"
         },
         "title": {
          "font": {
           "color": "#4D5663"
          },
          "text": ""
         },
         "zerolinecolor": "#E1E5ED"
        },
        "xaxis15": {
         "anchor": "y15",
         "domain": [
          0.525,
          0.7375
         ],
         "gridcolor": "#E1E5ED",
         "showgrid": false,
         "tickfont": {
          "color": "#4D5663"
         },
         "title": {
          "font": {
           "color": "#4D5663"
          },
          "text": ""
         },
         "zerolinecolor": "#E1E5ED"
        },
        "xaxis16": {
         "anchor": "y16",
         "domain": [
          0.7875,
          1
         ],
         "gridcolor": "#E1E5ED",
         "showgrid": false,
         "tickfont": {
          "color": "#4D5663"
         },
         "title": {
          "font": {
           "color": "#4D5663"
          },
          "text": ""
         },
         "zerolinecolor": "#E1E5ED"
        },
        "xaxis2": {
         "anchor": "y2",
         "domain": [
          0.2625,
          0.475
         ],
         "gridcolor": "#E1E5ED",
         "showgrid": false,
         "tickfont": {
          "color": "#4D5663"
         },
         "title": {
          "font": {
           "color": "#4D5663"
          },
          "text": ""
         },
         "zerolinecolor": "#E1E5ED"
        },
        "xaxis3": {
         "anchor": "y3",
         "domain": [
          0.525,
          0.7375
         ],
         "gridcolor": "#E1E5ED",
         "showgrid": false,
         "tickfont": {
          "color": "#4D5663"
         },
         "title": {
          "font": {
           "color": "#4D5663"
          },
          "text": ""
         },
         "zerolinecolor": "#E1E5ED"
        },
        "xaxis4": {
         "anchor": "y4",
         "domain": [
          0.7875,
          1
         ],
         "gridcolor": "#E1E5ED",
         "showgrid": false,
         "tickfont": {
          "color": "#4D5663"
         },
         "title": {
          "font": {
           "color": "#4D5663"
          },
          "text": ""
         },
         "zerolinecolor": "#E1E5ED"
        },
        "xaxis5": {
         "anchor": "y5",
         "domain": [
          0,
          0.2125
         ],
         "gridcolor": "#E1E5ED",
         "showgrid": false,
         "tickfont": {
          "color": "#4D5663"
         },
         "title": {
          "font": {
           "color": "#4D5663"
          },
          "text": ""
         },
         "zerolinecolor": "#E1E5ED"
        },
        "xaxis6": {
         "anchor": "y6",
         "domain": [
          0.2625,
          0.475
         ],
         "gridcolor": "#E1E5ED",
         "showgrid": false,
         "tickfont": {
          "color": "#4D5663"
         },
         "title": {
          "font": {
           "color": "#4D5663"
          },
          "text": ""
         },
         "zerolinecolor": "#E1E5ED"
        },
        "xaxis7": {
         "anchor": "y7",
         "domain": [
          0.525,
          0.7375
         ],
         "gridcolor": "#E1E5ED",
         "showgrid": false,
         "tickfont": {
          "color": "#4D5663"
         },
         "title": {
          "font": {
           "color": "#4D5663"
          },
          "text": ""
         },
         "zerolinecolor": "#E1E5ED"
        },
        "xaxis8": {
         "anchor": "y8",
         "domain": [
          0.7875,
          1
         ],
         "gridcolor": "#E1E5ED",
         "showgrid": false,
         "tickfont": {
          "color": "#4D5663"
         },
         "title": {
          "font": {
           "color": "#4D5663"
          },
          "text": ""
         },
         "zerolinecolor": "#E1E5ED"
        },
        "xaxis9": {
         "anchor": "y9",
         "domain": [
          0,
          0.2125
         ],
         "gridcolor": "#E1E5ED",
         "showgrid": false,
         "tickfont": {
          "color": "#4D5663"
         },
         "title": {
          "font": {
           "color": "#4D5663"
          },
          "text": ""
         },
         "zerolinecolor": "#E1E5ED"
        },
        "yaxis": {
         "anchor": "x",
         "domain": [
          0.8025,
          1
         ],
         "gridcolor": "#E1E5ED",
         "showgrid": false,
         "tickfont": {
          "color": "#4D5663"
         },
         "title": {
          "font": {
           "color": "#4D5663"
          },
          "text": ""
         },
         "zerolinecolor": "#E1E5ED"
        },
        "yaxis10": {
         "anchor": "x10",
         "domain": [
          0.2675,
          0.465
         ],
         "gridcolor": "#E1E5ED",
         "showgrid": false,
         "tickfont": {
          "color": "#4D5663"
         },
         "title": {
          "font": {
           "color": "#4D5663"
          },
          "text": ""
         },
         "zerolinecolor": "#E1E5ED"
        },
        "yaxis11": {
         "anchor": "x11",
         "domain": [
          0.2675,
          0.465
         ],
         "gridcolor": "#E1E5ED",
         "showgrid": false,
         "tickfont": {
          "color": "#4D5663"
         },
         "title": {
          "font": {
           "color": "#4D5663"
          },
          "text": ""
         },
         "zerolinecolor": "#E1E5ED"
        },
        "yaxis12": {
         "anchor": "x12",
         "domain": [
          0.2675,
          0.465
         ],
         "gridcolor": "#E1E5ED",
         "showgrid": false,
         "tickfont": {
          "color": "#4D5663"
         },
         "title": {
          "font": {
           "color": "#4D5663"
          },
          "text": ""
         },
         "zerolinecolor": "#E1E5ED"
        },
        "yaxis13": {
         "anchor": "x13",
         "domain": [
          0,
          0.1975
         ],
         "gridcolor": "#E1E5ED",
         "showgrid": false,
         "tickfont": {
          "color": "#4D5663"
         },
         "title": {
          "font": {
           "color": "#4D5663"
          },
          "text": ""
         },
         "zerolinecolor": "#E1E5ED"
        },
        "yaxis14": {
         "anchor": "x14",
         "domain": [
          0,
          0.1975
         ],
         "gridcolor": "#E1E5ED",
         "showgrid": false,
         "tickfont": {
          "color": "#4D5663"
         },
         "title": {
          "font": {
           "color": "#4D5663"
          },
          "text": ""
         },
         "zerolinecolor": "#E1E5ED"
        },
        "yaxis15": {
         "anchor": "x15",
         "domain": [
          0,
          0.1975
         ],
         "gridcolor": "#E1E5ED",
         "showgrid": false,
         "tickfont": {
          "color": "#4D5663"
         },
         "title": {
          "font": {
           "color": "#4D5663"
          },
          "text": ""
         },
         "zerolinecolor": "#E1E5ED"
        },
        "yaxis16": {
         "anchor": "x16",
         "domain": [
          0,
          0.1975
         ],
         "gridcolor": "#E1E5ED",
         "showgrid": false,
         "tickfont": {
          "color": "#4D5663"
         },
         "title": {
          "font": {
           "color": "#4D5663"
          },
          "text": ""
         },
         "zerolinecolor": "#E1E5ED"
        },
        "yaxis2": {
         "anchor": "x2",
         "domain": [
          0.8025,
          1
         ],
         "gridcolor": "#E1E5ED",
         "showgrid": false,
         "tickfont": {
          "color": "#4D5663"
         },
         "title": {
          "font": {
           "color": "#4D5663"
          },
          "text": ""
         },
         "zerolinecolor": "#E1E5ED"
        },
        "yaxis3": {
         "anchor": "x3",
         "domain": [
          0.8025,
          1
         ],
         "gridcolor": "#E1E5ED",
         "showgrid": false,
         "tickfont": {
          "color": "#4D5663"
         },
         "title": {
          "font": {
           "color": "#4D5663"
          },
          "text": ""
         },
         "zerolinecolor": "#E1E5ED"
        },
        "yaxis4": {
         "anchor": "x4",
         "domain": [
          0.8025,
          1
         ],
         "gridcolor": "#E1E5ED",
         "showgrid": false,
         "tickfont": {
          "color": "#4D5663"
         },
         "title": {
          "font": {
           "color": "#4D5663"
          },
          "text": ""
         },
         "zerolinecolor": "#E1E5ED"
        },
        "yaxis5": {
         "anchor": "x5",
         "domain": [
          0.535,
          0.7325
         ],
         "gridcolor": "#E1E5ED",
         "showgrid": false,
         "tickfont": {
          "color": "#4D5663"
         },
         "title": {
          "font": {
           "color": "#4D5663"
          },
          "text": ""
         },
         "zerolinecolor": "#E1E5ED"
        },
        "yaxis6": {
         "anchor": "x6",
         "domain": [
          0.535,
          0.7325
         ],
         "gridcolor": "#E1E5ED",
         "showgrid": false,
         "tickfont": {
          "color": "#4D5663"
         },
         "title": {
          "font": {
           "color": "#4D5663"
          },
          "text": ""
         },
         "zerolinecolor": "#E1E5ED"
        },
        "yaxis7": {
         "anchor": "x7",
         "domain": [
          0.535,
          0.7325
         ],
         "gridcolor": "#E1E5ED",
         "showgrid": false,
         "tickfont": {
          "color": "#4D5663"
         },
         "title": {
          "font": {
           "color": "#4D5663"
          },
          "text": ""
         },
         "zerolinecolor": "#E1E5ED"
        },
        "yaxis8": {
         "anchor": "x8",
         "domain": [
          0.535,
          0.7325
         ],
         "gridcolor": "#E1E5ED",
         "showgrid": false,
         "tickfont": {
          "color": "#4D5663"
         },
         "title": {
          "font": {
           "color": "#4D5663"
          },
          "text": ""
         },
         "zerolinecolor": "#E1E5ED"
        },
        "yaxis9": {
         "anchor": "x9",
         "domain": [
          0.2675,
          0.465
         ],
         "gridcolor": "#E1E5ED",
         "showgrid": false,
         "tickfont": {
          "color": "#4D5663"
         },
         "title": {
          "font": {
           "color": "#4D5663"
          },
          "text": ""
         },
         "zerolinecolor": "#E1E5ED"
        }
       }
      },
      "text/html": [
       "<div>                            <div id=\"a97382cf-1161-4b22-ad8c-ee83dcbb26ce\" class=\"plotly-graph-div\" style=\"height:525px; width:100%;\"></div>            <script type=\"text/javascript\">                require([\"plotly\"], function(Plotly) {                    window.PLOTLYENV=window.PLOTLYENV || {};\n",
       "                    window.PLOTLYENV.BASE_URL='https://plot.ly';                                    if (document.getElementById(\"a97382cf-1161-4b22-ad8c-ee83dcbb26ce\")) {                    Plotly.newPlot(                        \"a97382cf-1161-4b22-ad8c-ee83dcbb26ce\",                        [{\"histfunc\":\"count\",\"histnorm\":\"\",\"marker\":{\"color\":\"rgba(255, 153, 51, 1.0)\",\"line\":{\"color\":\"#4D5663\",\"width\":1.3}},\"name\":\"A\",\"nbinsx\":10,\"opacity\":0.8,\"orientation\":\"v\",\"x\":[-1.4179226392462503,-0.46264200324192123,0.7515224608796539,0.017214914882547446,-2.119230156508853,1.4246987135038927,-1.3484391107921905,0.6432498838271453,-0.9263864887473827,0.7570861795056825,0.07543918980622479,1.1599339441805279,-0.04608268499591076,-0.09120078183586999,0.8842914961718378,-0.9162025719299867,-1.2610444177759146,0.027904167487635967,-0.7061578863184852,0.7709016638285334,-0.8539166153517274,0.7309733763722845,-1.7691103627746505,1.263558824772134,0.4717765277347702,0.557405859177239,-1.6819089715393656,1.0025284313403557,1.572525731929163,-0.9650143742388076,1.151517875183336,-0.18247700098496303,-0.7167113193989513,1.1761072211193844,0.12819699293539916,-0.23688078197346668,-0.560705340480975,-0.39787163984807145,1.3382710439775771,-1.7798709075126007,-1.2702252329912076,-0.4152839220015532,0.17542127517078324,0.39285448248880483,0.9045840149471326,-0.16994995097364154,0.3381582060118401,0.2063929493612841,-0.11094598121380154,0.7974586479279469,-2.199222319526443,1.3997599864684436,0.22941627710272822,1.4240802742453296,0.3094390144366311,1.5403747340754785,0.5810551927052852,-1.066762083853598,-0.059946047063189144,0.22949791684170903,0.8327749881915162,-0.06636372674054501,-0.6190169447247864,2.0048868335375056,1.736487965277091,-1.3831774356984614,1.4976344360500824,-0.7067197193609598,-0.4385844889747408,-0.9353036023038812,-0.47593035642229686,1.6132806108278546,-0.6287717679502393,1.0345780523748735,-1.27284403429772,-0.21598606336809065,-0.21383616429784602,3.2313217531556826,1.3382365732922021,-0.22487702362562872,2.340429170474291,0.6271993811365263,1.997890339440614,-2.033624272129717,0.32279225575672327,0.8666550678088079,0.8252385648058315,-1.657914673275361,1.2379383904314973,0.7149995599320481,-1.1761176335038575,0.5706312135572416,-0.4558503278911321,0.37983919034349595,0.09595899429015453,-1.2417447649974065,-0.5217493081296127,0.7542010755173852,-1.145180906491648,1.6740518150812944],\"xaxis\":\"x\",\"yaxis\":\"y\",\"type\":\"histogram\"},{\"line\":{\"color\":\"rgba(128, 128, 128, 1.0)\",\"dash\":\"solid\",\"shape\":\"linear\",\"width\":1.3},\"marker\":{\"size\":2,\"symbol\":\"circle\"},\"mode\":\"markers\",\"name\":\"A\",\"text\":\"\",\"x\":[0.43916847768055367,0.7754169812744081,-1.766184215926334,0.4674257707543401,0.29321032071154995,1.41774816480575,1.3445969383110263,0.4416487341811845,-1.430772057414031,-0.8505022925340281,0.4691920933044812,1.826784708762384,-0.10576410338109243,-1.500461426023311,0.7965390567393406,-0.012409030102622055,-0.15130451407398446,-2.071058423059817,-0.8255625544235962,-0.8074054383028947,-0.9301852379698403,-1.6773017541992195,-0.3946539688644478,-2.9870582870265263,-0.03318946511355068,-0.016251530567965744,0.7030357504362612,-0.4999960084700399,-0.9420611634530786,-0.1432729844634614,0.6557312074595607,0.35574155452593026,-0.07734755312316859,-1.7102423679022432,-0.04205763850987133,-1.4785422652968754,0.7645412296582739,-0.24706609101356192,-1.201359615189873,1.5325015503193518,-0.4881633821714732,-0.5057962567151923,1.1308257061231044,-0.23356594422792676,0.66092576287292,1.6404688258806333,-1.5081626093929672,-0.0013041142872921448,0.12204994284248882,1.4721906166668761,-0.08003811206186177,-0.9092222820745258,-0.8407007439622989,-0.11436673916364293,0.06406328064075953,0.48221062292822475,-0.7807229952837661,-0.20502892323697028,0.3447615780074933,-1.583612014364668,0.5130380961580526,-1.551310104687635,0.7237591993777599,1.5059564157142509,-0.10163714145529341,-1.67186290946623,-0.31584531717802655,1.0644113882459774,2.274346155576829,0.49930813021148723,1.6405651595955058,-0.33937453326899897,0.10632705592337412,-1.2642467659208292,-0.17540983564574716,-0.1862548195584329,1.4326108248716156,0.06485852176902505,-0.36945518458348525,0.541657819502985,0.4634294898545669,-1.3654976940987307,-0.45372839134779486,1.0423110939962679,0.4128596468131367,-0.4937751704955059,-0.24026055088614237,-0.6454607232329427,0.8484132678342798,0.8798070172304139,-0.8837609675709918,0.03975057728511999,-0.5563341326163922,-0.23772094092618812,0.18642158069051573,0.8268192191747974,1.9527936074764647,0.8109508402703056,-0.44120277682258874,0.407627374675604],\"xaxis\":\"x2\",\"y\":[-1.4179226392462503,-0.46264200324192123,0.7515224608796539,0.017214914882547446,-2.119230156508853,1.4246987135038927,-1.3484391107921905,0.6432498838271453,-0.9263864887473827,0.7570861795056825,0.07543918980622479,1.1599339441805279,-0.04608268499591076,-0.09120078183586999,0.8842914961718378,-0.9162025719299867,-1.2610444177759146,0.027904167487635967,-0.7061578863184852,0.7709016638285334,-0.8539166153517274,0.7309733763722845,-1.7691103627746505,1.263558824772134,0.4717765277347702,0.557405859177239,-1.6819089715393656,1.0025284313403557,1.572525731929163,-0.9650143742388076,1.151517875183336,-0.18247700098496303,-0.7167113193989513,1.1761072211193844,0.12819699293539916,-0.23688078197346668,-0.560705340480975,-0.39787163984807145,1.3382710439775771,-1.7798709075126007,-1.2702252329912076,-0.4152839220015532,0.17542127517078324,0.39285448248880483,0.9045840149471326,-0.16994995097364154,0.3381582060118401,0.2063929493612841,-0.11094598121380154,0.7974586479279469,-2.199222319526443,1.3997599864684436,0.22941627710272822,1.4240802742453296,0.3094390144366311,1.5403747340754785,0.5810551927052852,-1.066762083853598,-0.059946047063189144,0.22949791684170903,0.8327749881915162,-0.06636372674054501,-0.6190169447247864,2.0048868335375056,1.736487965277091,-1.3831774356984614,1.4976344360500824,-0.7067197193609598,-0.4385844889747408,-0.9353036023038812,-0.47593035642229686,1.6132806108278546,-0.6287717679502393,1.0345780523748735,-1.27284403429772,-0.21598606336809065,-0.21383616429784602,3.2313217531556826,1.3382365732922021,-0.22487702362562872,2.340429170474291,0.6271993811365263,1.997890339440614,-2.033624272129717,0.32279225575672327,0.8666550678088079,0.8252385648058315,-1.657914673275361,1.2379383904314973,0.7149995599320481,-1.1761176335038575,0.5706312135572416,-0.4558503278911321,0.37983919034349595,0.09595899429015453,-1.2417447649974065,-0.5217493081296127,0.7542010755173852,-1.145180906491648,1.6740518150812944],\"yaxis\":\"y2\",\"type\":\"scatter\"},{\"line\":{\"color\":\"rgba(128, 128, 128, 1.0)\",\"dash\":\"solid\",\"shape\":\"linear\",\"width\":1.3},\"marker\":{\"size\":2,\"symbol\":\"circle\"},\"mode\":\"markers\",\"name\":\"A\",\"text\":\"\",\"x\":[0.06329159238094456,0.6016141276373372,-0.38598146492664975,-1.7948377710650494,0.6922603131019637,1.546950767603398,-0.3401423629939599,0.8640624768539411,-0.3007610328344426,1.6514878814844314,0.13979537922420346,-1.7044467395329324,-0.7573626273806366,-0.8152744940674739,-0.4727052090045964,0.040216665584898045,-0.43615128786506685,0.27344294693179144,-0.03349601413188458,-0.12851704529268604,1.1576163763863443,-0.18968775085366393,1.5373714863021704,1.996631567981592,-1.8478908256856124,0.2121399690241807,0.9903320529159314,-2.0640303113562224,2.1754063918501094,-1.1037872507948654,0.5923189542086722,-0.7949907287764912,1.8361725833088216,-0.8336354871997873,-0.8708116492198833,-0.8802815476308914,-0.020241790336094603,-0.8355316846439435,1.0059170082047086,1.0054939597481938,1.1040552035428135,2.741336901378624,-1.2872567660378902,1.7236070774494099,-2.053011458665576,-1.6554645975852431,-1.3191147093346898,0.14488040663958976,0.5307445563011728,0.448353435089702,0.6448543734164054,0.14196129190770976,1.5615778114103345,-1.6426252419380063,-1.405870219150968,1.2447263759979295,1.2268295001316207,0.1708153488927121,0.31821376174331156,1.0899629968418847,-1.324169834479461,1.7383695412197921,1.4666328621047053,-0.004273859710908556,-1.0528261698514383,-0.8326514854130332,1.0007331977147034,1.3236434581815582,-0.8749821765698546,-0.2712525553847711,0.5312922787388977,0.07442547177048062,-0.3691969468632882,1.4239953529637823,0.380692863230286,0.14935094281469008,-0.09986944765673177,2.4401718896791125,-2.078988567371166,-0.49433118320023206,-0.4953751435521029,-1.5785245909476824,0.25623531508960756,1.0485164469030575,-1.0737703034037116,0.49552445732235395,-0.43824199054292745,-0.34985233947132677,0.3573169550646374,1.0850984979754426,-0.707552616005236,2.038015366809184,0.5957484226452919,-0.7887252110202742,1.2576250591330205,-1.5489921574005654,-0.741054262577547,0.4864247229814855,-0.6666552351510178,1.3809168626082857],\"xaxis\":\"x3\",\"y\":[-1.4179226392462503,-0.46264200324192123,0.7515224608796539,0.017214914882547446,-2.119230156508853,1.4246987135038927,-1.3484391107921905,0.6432498838271453,-0.9263864887473827,0.7570861795056825,0.07543918980622479,1.1599339441805279,-0.04608268499591076,-0.09120078183586999,0.8842914961718378,-0.9162025719299867,-1.2610444177759146,0.027904167487635967,-0.7061578863184852,0.7709016638285334,-0.8539166153517274,0.7309733763722845,-1.7691103627746505,1.263558824772134,0.4717765277347702,0.557405859177239,-1.6819089715393656,1.0025284313403557,1.572525731929163,-0.9650143742388076,1.151517875183336,-0.18247700098496303,-0.7167113193989513,1.1761072211193844,0.12819699293539916,-0.23688078197346668,-0.560705340480975,-0.39787163984807145,1.3382710439775771,-1.7798709075126007,-1.2702252329912076,-0.4152839220015532,0.17542127517078324,0.39285448248880483,0.9045840149471326,-0.16994995097364154,0.3381582060118401,0.2063929493612841,-0.11094598121380154,0.7974586479279469,-2.199222319526443,1.3997599864684436,0.22941627710272822,1.4240802742453296,0.3094390144366311,1.5403747340754785,0.5810551927052852,-1.066762083853598,-0.059946047063189144,0.22949791684170903,0.8327749881915162,-0.06636372674054501,-0.6190169447247864,2.0048868335375056,1.736487965277091,-1.3831774356984614,1.4976344360500824,-0.7067197193609598,-0.4385844889747408,-0.9353036023038812,-0.47593035642229686,1.6132806108278546,-0.6287717679502393,1.0345780523748735,-1.27284403429772,-0.21598606336809065,-0.21383616429784602,3.2313217531556826,1.3382365732922021,-0.22487702362562872,2.340429170474291,0.6271993811365263,1.997890339440614,-2.033624272129717,0.32279225575672327,0.8666550678088079,0.8252385648058315,-1.657914673275361,1.2379383904314973,0.7149995599320481,-1.1761176335038575,0.5706312135572416,-0.4558503278911321,0.37983919034349595,0.09595899429015453,-1.2417447649974065,-0.5217493081296127,0.7542010755173852,-1.145180906491648,1.6740518150812944],\"yaxis\":\"y3\",\"type\":\"scatter\"},{\"line\":{\"color\":\"rgba(128, 128, 128, 1.0)\",\"dash\":\"solid\",\"shape\":\"linear\",\"width\":1.3},\"marker\":{\"size\":2,\"symbol\":\"circle\"},\"mode\":\"markers\",\"name\":\"A\",\"text\":\"\",\"x\":[-1.9389212579683277,1.0318746543195694,0.19609179025269244,2.084503587262951,-0.6879289588930549,0.5905955951758107,-2.107265660329813,0.42375512577914876,0.4777623966893956,0.2962445297721372,-1.1856223496029463,1.7022382630606143,0.07680793951844446,0.8922634028440726,-1.1378324118039944,2.0167810536162274,-0.5868298273047612,1.450307501782666,1.2446645289563552,-0.07944153762300908,1.0167359000338412,2.427420320730947,-0.20128925540517068,0.40952059386452916,-0.11310106445409522,-1.0208138813781207,-1.6819789689603284,-1.6407317956038237,0.5044967236629525,0.5076414862093444,-1.3622577458763638,-1.385513710137751,0.4379302170510106,-1.0360657971318514,0.956725027101898,-1.1309412070101597,-0.4539498795026894,-0.7651633537773271,-1.9138987826185374,-0.3404523866186954,-0.966483327909447,-2.223145811291357,0.2274200919509542,-1.1008190146824435,1.597931806234551,-0.6904200201169924,0.3795736008139735,1.1552876033284938,1.0802041243340248,1.591449198739368,-0.5101850194713661,0.3656485055448906,-1.7781102598964273,-0.048838218782504175,0.015466680660355055,0.9563915331719891,-0.8281332359056763,-0.2732587642962962,-1.224484378166469,-0.6961648914628961,-1.4217156713230616,-0.16325341225772871,0.462763681717857,-0.12551804694449417,0.9597070364983735,1.6251869409639046,-0.4691100693646398,-1.5469095947287455,0.5302987629420041,0.6857862918116193,1.37072509031351,-0.5040834234575051,0.05051138614709521,-0.46101192287628784,-2.2860966773402467,0.6292167975290144,-0.5637220158358606,1.2270958978103588,1.5741280403319107,-0.42940636866567056,1.2551709882371325,0.7941629170507719,0.11090865061083648,1.7735491268694554,-0.08379969518485648,0.2171914794734731,-0.4425196060685648,1.4339298753585892,1.5238027903197608,0.9212217064512468,-1.6708110306106638,-2.6270043901327247,-1.538743232667884,3.2051948720019845,-0.6416520265791904,-0.5453567889345559,0.9669641250569055,0.4416490283576272,-2.7373733213933353,-0.31505769803083433],\"xaxis\":\"x4\",\"y\":[-1.4179226392462503,-0.46264200324192123,0.7515224608796539,0.017214914882547446,-2.119230156508853,1.4246987135038927,-1.3484391107921905,0.6432498838271453,-0.9263864887473827,0.7570861795056825,0.07543918980622479,1.1599339441805279,-0.04608268499591076,-0.09120078183586999,0.8842914961718378,-0.9162025719299867,-1.2610444177759146,0.027904167487635967,-0.7061578863184852,0.7709016638285334,-0.8539166153517274,0.7309733763722845,-1.7691103627746505,1.263558824772134,0.4717765277347702,0.557405859177239,-1.6819089715393656,1.0025284313403557,1.572525731929163,-0.9650143742388076,1.151517875183336,-0.18247700098496303,-0.7167113193989513,1.1761072211193844,0.12819699293539916,-0.23688078197346668,-0.560705340480975,-0.39787163984807145,1.3382710439775771,-1.7798709075126007,-1.2702252329912076,-0.4152839220015532,0.17542127517078324,0.39285448248880483,0.9045840149471326,-0.16994995097364154,0.3381582060118401,0.2063929493612841,-0.11094598121380154,0.7974586479279469,-2.199222319526443,1.3997599864684436,0.22941627710272822,1.4240802742453296,0.3094390144366311,1.5403747340754785,0.5810551927052852,-1.066762083853598,-0.059946047063189144,0.22949791684170903,0.8327749881915162,-0.06636372674054501,-0.6190169447247864,2.0048868335375056,1.736487965277091,-1.3831774356984614,1.4976344360500824,-0.7067197193609598,-0.4385844889747408,-0.9353036023038812,-0.47593035642229686,1.6132806108278546,-0.6287717679502393,1.0345780523748735,-1.27284403429772,-0.21598606336809065,-0.21383616429784602,3.2313217531556826,1.3382365732922021,-0.22487702362562872,2.340429170474291,0.6271993811365263,1.997890339440614,-2.033624272129717,0.32279225575672327,0.8666550678088079,0.8252385648058315,-1.657914673275361,1.2379383904314973,0.7149995599320481,-1.1761176335038575,0.5706312135572416,-0.4558503278911321,0.37983919034349595,0.09595899429015453,-1.2417447649974065,-0.5217493081296127,0.7542010755173852,-1.145180906491648,1.6740518150812944],\"yaxis\":\"y4\",\"type\":\"scatter\"},{\"line\":{\"color\":\"rgba(128, 128, 128, 1.0)\",\"dash\":\"solid\",\"shape\":\"linear\",\"width\":1.3},\"marker\":{\"size\":2,\"symbol\":\"circle\"},\"mode\":\"markers\",\"name\":\"B\",\"text\":\"\",\"x\":[-1.4179226392462503,-0.46264200324192123,0.7515224608796539,0.017214914882547446,-2.119230156508853,1.4246987135038927,-1.3484391107921905,0.6432498838271453,-0.9263864887473827,0.7570861795056825,0.07543918980622479,1.1599339441805279,-0.04608268499591076,-0.09120078183586999,0.8842914961718378,-0.9162025719299867,-1.2610444177759146,0.027904167487635967,-0.7061578863184852,0.7709016638285334,-0.8539166153517274,0.7309733763722845,-1.7691103627746505,1.263558824772134,0.4717765277347702,0.557405859177239,-1.6819089715393656,1.0025284313403557,1.572525731929163,-0.9650143742388076,1.151517875183336,-0.18247700098496303,-0.7167113193989513,1.1761072211193844,0.12819699293539916,-0.23688078197346668,-0.560705340480975,-0.39787163984807145,1.3382710439775771,-1.7798709075126007,-1.2702252329912076,-0.4152839220015532,0.17542127517078324,0.39285448248880483,0.9045840149471326,-0.16994995097364154,0.3381582060118401,0.2063929493612841,-0.11094598121380154,0.7974586479279469,-2.199222319526443,1.3997599864684436,0.22941627710272822,1.4240802742453296,0.3094390144366311,1.5403747340754785,0.5810551927052852,-1.066762083853598,-0.059946047063189144,0.22949791684170903,0.8327749881915162,-0.06636372674054501,-0.6190169447247864,2.0048868335375056,1.736487965277091,-1.3831774356984614,1.4976344360500824,-0.7067197193609598,-0.4385844889747408,-0.9353036023038812,-0.47593035642229686,1.6132806108278546,-0.6287717679502393,1.0345780523748735,-1.27284403429772,-0.21598606336809065,-0.21383616429784602,3.2313217531556826,1.3382365732922021,-0.22487702362562872,2.340429170474291,0.6271993811365263,1.997890339440614,-2.033624272129717,0.32279225575672327,0.8666550678088079,0.8252385648058315,-1.657914673275361,1.2379383904314973,0.7149995599320481,-1.1761176335038575,0.5706312135572416,-0.4558503278911321,0.37983919034349595,0.09595899429015453,-1.2417447649974065,-0.5217493081296127,0.7542010755173852,-1.145180906491648,1.6740518150812944],\"xaxis\":\"x5\",\"y\":[0.43916847768055367,0.7754169812744081,-1.766184215926334,0.4674257707543401,0.29321032071154995,1.41774816480575,1.3445969383110263,0.4416487341811845,-1.430772057414031,-0.8505022925340281,0.4691920933044812,1.826784708762384,-0.10576410338109243,-1.500461426023311,0.7965390567393406,-0.012409030102622055,-0.15130451407398446,-2.071058423059817,-0.8255625544235962,-0.8074054383028947,-0.9301852379698403,-1.6773017541992195,-0.3946539688644478,-2.9870582870265263,-0.03318946511355068,-0.016251530567965744,0.7030357504362612,-0.4999960084700399,-0.9420611634530786,-0.1432729844634614,0.6557312074595607,0.35574155452593026,-0.07734755312316859,-1.7102423679022432,-0.04205763850987133,-1.4785422652968754,0.7645412296582739,-0.24706609101356192,-1.201359615189873,1.5325015503193518,-0.4881633821714732,-0.5057962567151923,1.1308257061231044,-0.23356594422792676,0.66092576287292,1.6404688258806333,-1.5081626093929672,-0.0013041142872921448,0.12204994284248882,1.4721906166668761,-0.08003811206186177,-0.9092222820745258,-0.8407007439622989,-0.11436673916364293,0.06406328064075953,0.48221062292822475,-0.7807229952837661,-0.20502892323697028,0.3447615780074933,-1.583612014364668,0.5130380961580526,-1.551310104687635,0.7237591993777599,1.5059564157142509,-0.10163714145529341,-1.67186290946623,-0.31584531717802655,1.0644113882459774,2.274346155576829,0.49930813021148723,1.6405651595955058,-0.33937453326899897,0.10632705592337412,-1.2642467659208292,-0.17540983564574716,-0.1862548195584329,1.4326108248716156,0.06485852176902505,-0.36945518458348525,0.541657819502985,0.4634294898545669,-1.3654976940987307,-0.45372839134779486,1.0423110939962679,0.4128596468131367,-0.4937751704955059,-0.24026055088614237,-0.6454607232329427,0.8484132678342798,0.8798070172304139,-0.8837609675709918,0.03975057728511999,-0.5563341326163922,-0.23772094092618812,0.18642158069051573,0.8268192191747974,1.9527936074764647,0.8109508402703056,-0.44120277682258874,0.407627374675604],\"yaxis\":\"y5\",\"type\":\"scatter\"},{\"histfunc\":\"count\",\"histnorm\":\"\",\"marker\":{\"color\":\"rgba(55, 128, 191, 1.0)\",\"line\":{\"color\":\"#4D5663\",\"width\":1.3}},\"name\":\"B\",\"nbinsx\":10,\"opacity\":0.8,\"orientation\":\"v\",\"x\":[0.43916847768055367,0.7754169812744081,-1.766184215926334,0.4674257707543401,0.29321032071154995,1.41774816480575,1.3445969383110263,0.4416487341811845,-1.430772057414031,-0.8505022925340281,0.4691920933044812,1.826784708762384,-0.10576410338109243,-1.500461426023311,0.7965390567393406,-0.012409030102622055,-0.15130451407398446,-2.071058423059817,-0.8255625544235962,-0.8074054383028947,-0.9301852379698403,-1.6773017541992195,-0.3946539688644478,-2.9870582870265263,-0.03318946511355068,-0.016251530567965744,0.7030357504362612,-0.4999960084700399,-0.9420611634530786,-0.1432729844634614,0.6557312074595607,0.35574155452593026,-0.07734755312316859,-1.7102423679022432,-0.04205763850987133,-1.4785422652968754,0.7645412296582739,-0.24706609101356192,-1.201359615189873,1.5325015503193518,-0.4881633821714732,-0.5057962567151923,1.1308257061231044,-0.23356594422792676,0.66092576287292,1.6404688258806333,-1.5081626093929672,-0.0013041142872921448,0.12204994284248882,1.4721906166668761,-0.08003811206186177,-0.9092222820745258,-0.8407007439622989,-0.11436673916364293,0.06406328064075953,0.48221062292822475,-0.7807229952837661,-0.20502892323697028,0.3447615780074933,-1.583612014364668,0.5130380961580526,-1.551310104687635,0.7237591993777599,1.5059564157142509,-0.10163714145529341,-1.67186290946623,-0.31584531717802655,1.0644113882459774,2.274346155576829,0.49930813021148723,1.6405651595955058,-0.33937453326899897,0.10632705592337412,-1.2642467659208292,-0.17540983564574716,-0.1862548195584329,1.4326108248716156,0.06485852176902505,-0.36945518458348525,0.541657819502985,0.4634294898545669,-1.3654976940987307,-0.45372839134779486,1.0423110939962679,0.4128596468131367,-0.4937751704955059,-0.24026055088614237,-0.6454607232329427,0.8484132678342798,0.8798070172304139,-0.8837609675709918,0.03975057728511999,-0.5563341326163922,-0.23772094092618812,0.18642158069051573,0.8268192191747974,1.9527936074764647,0.8109508402703056,-0.44120277682258874,0.407627374675604],\"xaxis\":\"x6\",\"yaxis\":\"y6\",\"type\":\"histogram\"},{\"line\":{\"color\":\"rgba(128, 128, 128, 1.0)\",\"dash\":\"solid\",\"shape\":\"linear\",\"width\":1.3},\"marker\":{\"size\":2,\"symbol\":\"circle\"},\"mode\":\"markers\",\"name\":\"B\",\"text\":\"\",\"x\":[0.06329159238094456,0.6016141276373372,-0.38598146492664975,-1.7948377710650494,0.6922603131019637,1.546950767603398,-0.3401423629939599,0.8640624768539411,-0.3007610328344426,1.6514878814844314,0.13979537922420346,-1.7044467395329324,-0.7573626273806366,-0.8152744940674739,-0.4727052090045964,0.040216665584898045,-0.43615128786506685,0.27344294693179144,-0.03349601413188458,-0.12851704529268604,1.1576163763863443,-0.18968775085366393,1.5373714863021704,1.996631567981592,-1.8478908256856124,0.2121399690241807,0.9903320529159314,-2.0640303113562224,2.1754063918501094,-1.1037872507948654,0.5923189542086722,-0.7949907287764912,1.8361725833088216,-0.8336354871997873,-0.8708116492198833,-0.8802815476308914,-0.020241790336094603,-0.8355316846439435,1.0059170082047086,1.0054939597481938,1.1040552035428135,2.741336901378624,-1.2872567660378902,1.7236070774494099,-2.053011458665576,-1.6554645975852431,-1.3191147093346898,0.14488040663958976,0.5307445563011728,0.448353435089702,0.6448543734164054,0.14196129190770976,1.5615778114103345,-1.6426252419380063,-1.405870219150968,1.2447263759979295,1.2268295001316207,0.1708153488927121,0.31821376174331156,1.0899629968418847,-1.324169834479461,1.7383695412197921,1.4666328621047053,-0.004273859710908556,-1.0528261698514383,-0.8326514854130332,1.0007331977147034,1.3236434581815582,-0.8749821765698546,-0.2712525553847711,0.5312922787388977,0.07442547177048062,-0.3691969468632882,1.4239953529637823,0.380692863230286,0.14935094281469008,-0.09986944765673177,2.4401718896791125,-2.078988567371166,-0.49433118320023206,-0.4953751435521029,-1.5785245909476824,0.25623531508960756,1.0485164469030575,-1.0737703034037116,0.49552445732235395,-0.43824199054292745,-0.34985233947132677,0.3573169550646374,1.0850984979754426,-0.707552616005236,2.038015366809184,0.5957484226452919,-0.7887252110202742,1.2576250591330205,-1.5489921574005654,-0.741054262577547,0.4864247229814855,-0.6666552351510178,1.3809168626082857],\"xaxis\":\"x7\",\"y\":[0.43916847768055367,0.7754169812744081,-1.766184215926334,0.4674257707543401,0.29321032071154995,1.41774816480575,1.3445969383110263,0.4416487341811845,-1.430772057414031,-0.8505022925340281,0.4691920933044812,1.826784708762384,-0.10576410338109243,-1.500461426023311,0.7965390567393406,-0.012409030102622055,-0.15130451407398446,-2.071058423059817,-0.8255625544235962,-0.8074054383028947,-0.9301852379698403,-1.6773017541992195,-0.3946539688644478,-2.9870582870265263,-0.03318946511355068,-0.016251530567965744,0.7030357504362612,-0.4999960084700399,-0.9420611634530786,-0.1432729844634614,0.6557312074595607,0.35574155452593026,-0.07734755312316859,-1.7102423679022432,-0.04205763850987133,-1.4785422652968754,0.7645412296582739,-0.24706609101356192,-1.201359615189873,1.5325015503193518,-0.4881633821714732,-0.5057962567151923,1.1308257061231044,-0.23356594422792676,0.66092576287292,1.6404688258806333,-1.5081626093929672,-0.0013041142872921448,0.12204994284248882,1.4721906166668761,-0.08003811206186177,-0.9092222820745258,-0.8407007439622989,-0.11436673916364293,0.06406328064075953,0.48221062292822475,-0.7807229952837661,-0.20502892323697028,0.3447615780074933,-1.583612014364668,0.5130380961580526,-1.551310104687635,0.7237591993777599,1.5059564157142509,-0.10163714145529341,-1.67186290946623,-0.31584531717802655,1.0644113882459774,2.274346155576829,0.49930813021148723,1.6405651595955058,-0.33937453326899897,0.10632705592337412,-1.2642467659208292,-0.17540983564574716,-0.1862548195584329,1.4326108248716156,0.06485852176902505,-0.36945518458348525,0.541657819502985,0.4634294898545669,-1.3654976940987307,-0.45372839134779486,1.0423110939962679,0.4128596468131367,-0.4937751704955059,-0.24026055088614237,-0.6454607232329427,0.8484132678342798,0.8798070172304139,-0.8837609675709918,0.03975057728511999,-0.5563341326163922,-0.23772094092618812,0.18642158069051573,0.8268192191747974,1.9527936074764647,0.8109508402703056,-0.44120277682258874,0.407627374675604],\"yaxis\":\"y7\",\"type\":\"scatter\"},{\"line\":{\"color\":\"rgba(128, 128, 128, 1.0)\",\"dash\":\"solid\",\"shape\":\"linear\",\"width\":1.3},\"marker\":{\"size\":2,\"symbol\":\"circle\"},\"mode\":\"markers\",\"name\":\"B\",\"text\":\"\",\"x\":[-1.9389212579683277,1.0318746543195694,0.19609179025269244,2.084503587262951,-0.6879289588930549,0.5905955951758107,-2.107265660329813,0.42375512577914876,0.4777623966893956,0.2962445297721372,-1.1856223496029463,1.7022382630606143,0.07680793951844446,0.8922634028440726,-1.1378324118039944,2.0167810536162274,-0.5868298273047612,1.450307501782666,1.2446645289563552,-0.07944153762300908,1.0167359000338412,2.427420320730947,-0.20128925540517068,0.40952059386452916,-0.11310106445409522,-1.0208138813781207,-1.6819789689603284,-1.6407317956038237,0.5044967236629525,0.5076414862093444,-1.3622577458763638,-1.385513710137751,0.4379302170510106,-1.0360657971318514,0.956725027101898,-1.1309412070101597,-0.4539498795026894,-0.7651633537773271,-1.9138987826185374,-0.3404523866186954,-0.966483327909447,-2.223145811291357,0.2274200919509542,-1.1008190146824435,1.597931806234551,-0.6904200201169924,0.3795736008139735,1.1552876033284938,1.0802041243340248,1.591449198739368,-0.5101850194713661,0.3656485055448906,-1.7781102598964273,-0.048838218782504175,0.015466680660355055,0.9563915331719891,-0.8281332359056763,-0.2732587642962962,-1.224484378166469,-0.6961648914628961,-1.4217156713230616,-0.16325341225772871,0.462763681717857,-0.12551804694449417,0.9597070364983735,1.6251869409639046,-0.4691100693646398,-1.5469095947287455,0.5302987629420041,0.6857862918116193,1.37072509031351,-0.5040834234575051,0.05051138614709521,-0.46101192287628784,-2.2860966773402467,0.6292167975290144,-0.5637220158358606,1.2270958978103588,1.5741280403319107,-0.42940636866567056,1.2551709882371325,0.7941629170507719,0.11090865061083648,1.7735491268694554,-0.08379969518485648,0.2171914794734731,-0.4425196060685648,1.4339298753585892,1.5238027903197608,0.9212217064512468,-1.6708110306106638,-2.6270043901327247,-1.538743232667884,3.2051948720019845,-0.6416520265791904,-0.5453567889345559,0.9669641250569055,0.4416490283576272,-2.7373733213933353,-0.31505769803083433],\"xaxis\":\"x8\",\"y\":[0.43916847768055367,0.7754169812744081,-1.766184215926334,0.4674257707543401,0.29321032071154995,1.41774816480575,1.3445969383110263,0.4416487341811845,-1.430772057414031,-0.8505022925340281,0.4691920933044812,1.826784708762384,-0.10576410338109243,-1.500461426023311,0.7965390567393406,-0.012409030102622055,-0.15130451407398446,-2.071058423059817,-0.8255625544235962,-0.8074054383028947,-0.9301852379698403,-1.6773017541992195,-0.3946539688644478,-2.9870582870265263,-0.03318946511355068,-0.016251530567965744,0.7030357504362612,-0.4999960084700399,-0.9420611634530786,-0.1432729844634614,0.6557312074595607,0.35574155452593026,-0.07734755312316859,-1.7102423679022432,-0.04205763850987133,-1.4785422652968754,0.7645412296582739,-0.24706609101356192,-1.201359615189873,1.5325015503193518,-0.4881633821714732,-0.5057962567151923,1.1308257061231044,-0.23356594422792676,0.66092576287292,1.6404688258806333,-1.5081626093929672,-0.0013041142872921448,0.12204994284248882,1.4721906166668761,-0.08003811206186177,-0.9092222820745258,-0.8407007439622989,-0.11436673916364293,0.06406328064075953,0.48221062292822475,-0.7807229952837661,-0.20502892323697028,0.3447615780074933,-1.583612014364668,0.5130380961580526,-1.551310104687635,0.7237591993777599,1.5059564157142509,-0.10163714145529341,-1.67186290946623,-0.31584531717802655,1.0644113882459774,2.274346155576829,0.49930813021148723,1.6405651595955058,-0.33937453326899897,0.10632705592337412,-1.2642467659208292,-0.17540983564574716,-0.1862548195584329,1.4326108248716156,0.06485852176902505,-0.36945518458348525,0.541657819502985,0.4634294898545669,-1.3654976940987307,-0.45372839134779486,1.0423110939962679,0.4128596468131367,-0.4937751704955059,-0.24026055088614237,-0.6454607232329427,0.8484132678342798,0.8798070172304139,-0.8837609675709918,0.03975057728511999,-0.5563341326163922,-0.23772094092618812,0.18642158069051573,0.8268192191747974,1.9527936074764647,0.8109508402703056,-0.44120277682258874,0.407627374675604],\"yaxis\":\"y8\",\"type\":\"scatter\"},{\"line\":{\"color\":\"rgba(128, 128, 128, 1.0)\",\"dash\":\"solid\",\"shape\":\"linear\",\"width\":1.3},\"marker\":{\"size\":2,\"symbol\":\"circle\"},\"mode\":\"markers\",\"name\":\"C\",\"text\":\"\",\"x\":[-1.4179226392462503,-0.46264200324192123,0.7515224608796539,0.017214914882547446,-2.119230156508853,1.4246987135038927,-1.3484391107921905,0.6432498838271453,-0.9263864887473827,0.7570861795056825,0.07543918980622479,1.1599339441805279,-0.04608268499591076,-0.09120078183586999,0.8842914961718378,-0.9162025719299867,-1.2610444177759146,0.027904167487635967,-0.7061578863184852,0.7709016638285334,-0.8539166153517274,0.7309733763722845,-1.7691103627746505,1.263558824772134,0.4717765277347702,0.557405859177239,-1.6819089715393656,1.0025284313403557,1.572525731929163,-0.9650143742388076,1.151517875183336,-0.18247700098496303,-0.7167113193989513,1.1761072211193844,0.12819699293539916,-0.23688078197346668,-0.560705340480975,-0.39787163984807145,1.3382710439775771,-1.7798709075126007,-1.2702252329912076,-0.4152839220015532,0.17542127517078324,0.39285448248880483,0.9045840149471326,-0.16994995097364154,0.3381582060118401,0.2063929493612841,-0.11094598121380154,0.7974586479279469,-2.199222319526443,1.3997599864684436,0.22941627710272822,1.4240802742453296,0.3094390144366311,1.5403747340754785,0.5810551927052852,-1.066762083853598,-0.059946047063189144,0.22949791684170903,0.8327749881915162,-0.06636372674054501,-0.6190169447247864,2.0048868335375056,1.736487965277091,-1.3831774356984614,1.4976344360500824,-0.7067197193609598,-0.4385844889747408,-0.9353036023038812,-0.47593035642229686,1.6132806108278546,-0.6287717679502393,1.0345780523748735,-1.27284403429772,-0.21598606336809065,-0.21383616429784602,3.2313217531556826,1.3382365732922021,-0.22487702362562872,2.340429170474291,0.6271993811365263,1.997890339440614,-2.033624272129717,0.32279225575672327,0.8666550678088079,0.8252385648058315,-1.657914673275361,1.2379383904314973,0.7149995599320481,-1.1761176335038575,0.5706312135572416,-0.4558503278911321,0.37983919034349595,0.09595899429015453,-1.2417447649974065,-0.5217493081296127,0.7542010755173852,-1.145180906491648,1.6740518150812944],\"xaxis\":\"x9\",\"y\":[0.06329159238094456,0.6016141276373372,-0.38598146492664975,-1.7948377710650494,0.6922603131019637,1.546950767603398,-0.3401423629939599,0.8640624768539411,-0.3007610328344426,1.6514878814844314,0.13979537922420346,-1.7044467395329324,-0.7573626273806366,-0.8152744940674739,-0.4727052090045964,0.040216665584898045,-0.43615128786506685,0.27344294693179144,-0.03349601413188458,-0.12851704529268604,1.1576163763863443,-0.18968775085366393,1.5373714863021704,1.996631567981592,-1.8478908256856124,0.2121399690241807,0.9903320529159314,-2.0640303113562224,2.1754063918501094,-1.1037872507948654,0.5923189542086722,-0.7949907287764912,1.8361725833088216,-0.8336354871997873,-0.8708116492198833,-0.8802815476308914,-0.020241790336094603,-0.8355316846439435,1.0059170082047086,1.0054939597481938,1.1040552035428135,2.741336901378624,-1.2872567660378902,1.7236070774494099,-2.053011458665576,-1.6554645975852431,-1.3191147093346898,0.14488040663958976,0.5307445563011728,0.448353435089702,0.6448543734164054,0.14196129190770976,1.5615778114103345,-1.6426252419380063,-1.405870219150968,1.2447263759979295,1.2268295001316207,0.1708153488927121,0.31821376174331156,1.0899629968418847,-1.324169834479461,1.7383695412197921,1.4666328621047053,-0.004273859710908556,-1.0528261698514383,-0.8326514854130332,1.0007331977147034,1.3236434581815582,-0.8749821765698546,-0.2712525553847711,0.5312922787388977,0.07442547177048062,-0.3691969468632882,1.4239953529637823,0.380692863230286,0.14935094281469008,-0.09986944765673177,2.4401718896791125,-2.078988567371166,-0.49433118320023206,-0.4953751435521029,-1.5785245909476824,0.25623531508960756,1.0485164469030575,-1.0737703034037116,0.49552445732235395,-0.43824199054292745,-0.34985233947132677,0.3573169550646374,1.0850984979754426,-0.707552616005236,2.038015366809184,0.5957484226452919,-0.7887252110202742,1.2576250591330205,-1.5489921574005654,-0.741054262577547,0.4864247229814855,-0.6666552351510178,1.3809168626082857],\"yaxis\":\"y9\",\"type\":\"scatter\"},{\"line\":{\"color\":\"rgba(128, 128, 128, 1.0)\",\"dash\":\"solid\",\"shape\":\"linear\",\"width\":1.3},\"marker\":{\"size\":2,\"symbol\":\"circle\"},\"mode\":\"markers\",\"name\":\"C\",\"text\":\"\",\"x\":[0.43916847768055367,0.7754169812744081,-1.766184215926334,0.4674257707543401,0.29321032071154995,1.41774816480575,1.3445969383110263,0.4416487341811845,-1.430772057414031,-0.8505022925340281,0.4691920933044812,1.826784708762384,-0.10576410338109243,-1.500461426023311,0.7965390567393406,-0.012409030102622055,-0.15130451407398446,-2.071058423059817,-0.8255625544235962,-0.8074054383028947,-0.9301852379698403,-1.6773017541992195,-0.3946539688644478,-2.9870582870265263,-0.03318946511355068,-0.016251530567965744,0.7030357504362612,-0.4999960084700399,-0.9420611634530786,-0.1432729844634614,0.6557312074595607,0.35574155452593026,-0.07734755312316859,-1.7102423679022432,-0.04205763850987133,-1.4785422652968754,0.7645412296582739,-0.24706609101356192,-1.201359615189873,1.5325015503193518,-0.4881633821714732,-0.5057962567151923,1.1308257061231044,-0.23356594422792676,0.66092576287292,1.6404688258806333,-1.5081626093929672,-0.0013041142872921448,0.12204994284248882,1.4721906166668761,-0.08003811206186177,-0.9092222820745258,-0.8407007439622989,-0.11436673916364293,0.06406328064075953,0.48221062292822475,-0.7807229952837661,-0.20502892323697028,0.3447615780074933,-1.583612014364668,0.5130380961580526,-1.551310104687635,0.7237591993777599,1.5059564157142509,-0.10163714145529341,-1.67186290946623,-0.31584531717802655,1.0644113882459774,2.274346155576829,0.49930813021148723,1.6405651595955058,-0.33937453326899897,0.10632705592337412,-1.2642467659208292,-0.17540983564574716,-0.1862548195584329,1.4326108248716156,0.06485852176902505,-0.36945518458348525,0.541657819502985,0.4634294898545669,-1.3654976940987307,-0.45372839134779486,1.0423110939962679,0.4128596468131367,-0.4937751704955059,-0.24026055088614237,-0.6454607232329427,0.8484132678342798,0.8798070172304139,-0.8837609675709918,0.03975057728511999,-0.5563341326163922,-0.23772094092618812,0.18642158069051573,0.8268192191747974,1.9527936074764647,0.8109508402703056,-0.44120277682258874,0.407627374675604],\"xaxis\":\"x10\",\"y\":[0.06329159238094456,0.6016141276373372,-0.38598146492664975,-1.7948377710650494,0.6922603131019637,1.546950767603398,-0.3401423629939599,0.8640624768539411,-0.3007610328344426,1.6514878814844314,0.13979537922420346,-1.7044467395329324,-0.7573626273806366,-0.8152744940674739,-0.4727052090045964,0.040216665584898045,-0.43615128786506685,0.27344294693179144,-0.03349601413188458,-0.12851704529268604,1.1576163763863443,-0.18968775085366393,1.5373714863021704,1.996631567981592,-1.8478908256856124,0.2121399690241807,0.9903320529159314,-2.0640303113562224,2.1754063918501094,-1.1037872507948654,0.5923189542086722,-0.7949907287764912,1.8361725833088216,-0.8336354871997873,-0.8708116492198833,-0.8802815476308914,-0.020241790336094603,-0.8355316846439435,1.0059170082047086,1.0054939597481938,1.1040552035428135,2.741336901378624,-1.2872567660378902,1.7236070774494099,-2.053011458665576,-1.6554645975852431,-1.3191147093346898,0.14488040663958976,0.5307445563011728,0.448353435089702,0.6448543734164054,0.14196129190770976,1.5615778114103345,-1.6426252419380063,-1.405870219150968,1.2447263759979295,1.2268295001316207,0.1708153488927121,0.31821376174331156,1.0899629968418847,-1.324169834479461,1.7383695412197921,1.4666328621047053,-0.004273859710908556,-1.0528261698514383,-0.8326514854130332,1.0007331977147034,1.3236434581815582,-0.8749821765698546,-0.2712525553847711,0.5312922787388977,0.07442547177048062,-0.3691969468632882,1.4239953529637823,0.380692863230286,0.14935094281469008,-0.09986944765673177,2.4401718896791125,-2.078988567371166,-0.49433118320023206,-0.4953751435521029,-1.5785245909476824,0.25623531508960756,1.0485164469030575,-1.0737703034037116,0.49552445732235395,-0.43824199054292745,-0.34985233947132677,0.3573169550646374,1.0850984979754426,-0.707552616005236,2.038015366809184,0.5957484226452919,-0.7887252110202742,1.2576250591330205,-1.5489921574005654,-0.741054262577547,0.4864247229814855,-0.6666552351510178,1.3809168626082857],\"yaxis\":\"y10\",\"type\":\"scatter\"},{\"histfunc\":\"count\",\"histnorm\":\"\",\"marker\":{\"color\":\"rgba(50, 171, 96, 1.0)\",\"line\":{\"color\":\"#4D5663\",\"width\":1.3}},\"name\":\"C\",\"nbinsx\":10,\"opacity\":0.8,\"orientation\":\"v\",\"x\":[0.06329159238094456,0.6016141276373372,-0.38598146492664975,-1.7948377710650494,0.6922603131019637,1.546950767603398,-0.3401423629939599,0.8640624768539411,-0.3007610328344426,1.6514878814844314,0.13979537922420346,-1.7044467395329324,-0.7573626273806366,-0.8152744940674739,-0.4727052090045964,0.040216665584898045,-0.43615128786506685,0.27344294693179144,-0.03349601413188458,-0.12851704529268604,1.1576163763863443,-0.18968775085366393,1.5373714863021704,1.996631567981592,-1.8478908256856124,0.2121399690241807,0.9903320529159314,-2.0640303113562224,2.1754063918501094,-1.1037872507948654,0.5923189542086722,-0.7949907287764912,1.8361725833088216,-0.8336354871997873,-0.8708116492198833,-0.8802815476308914,-0.020241790336094603,-0.8355316846439435,1.0059170082047086,1.0054939597481938,1.1040552035428135,2.741336901378624,-1.2872567660378902,1.7236070774494099,-2.053011458665576,-1.6554645975852431,-1.3191147093346898,0.14488040663958976,0.5307445563011728,0.448353435089702,0.6448543734164054,0.14196129190770976,1.5615778114103345,-1.6426252419380063,-1.405870219150968,1.2447263759979295,1.2268295001316207,0.1708153488927121,0.31821376174331156,1.0899629968418847,-1.324169834479461,1.7383695412197921,1.4666328621047053,-0.004273859710908556,-1.0528261698514383,-0.8326514854130332,1.0007331977147034,1.3236434581815582,-0.8749821765698546,-0.2712525553847711,0.5312922787388977,0.07442547177048062,-0.3691969468632882,1.4239953529637823,0.380692863230286,0.14935094281469008,-0.09986944765673177,2.4401718896791125,-2.078988567371166,-0.49433118320023206,-0.4953751435521029,-1.5785245909476824,0.25623531508960756,1.0485164469030575,-1.0737703034037116,0.49552445732235395,-0.43824199054292745,-0.34985233947132677,0.3573169550646374,1.0850984979754426,-0.707552616005236,2.038015366809184,0.5957484226452919,-0.7887252110202742,1.2576250591330205,-1.5489921574005654,-0.741054262577547,0.4864247229814855,-0.6666552351510178,1.3809168626082857],\"xaxis\":\"x11\",\"yaxis\":\"y11\",\"type\":\"histogram\"},{\"line\":{\"color\":\"rgba(128, 128, 128, 1.0)\",\"dash\":\"solid\",\"shape\":\"linear\",\"width\":1.3},\"marker\":{\"size\":2,\"symbol\":\"circle\"},\"mode\":\"markers\",\"name\":\"C\",\"text\":\"\",\"x\":[-1.9389212579683277,1.0318746543195694,0.19609179025269244,2.084503587262951,-0.6879289588930549,0.5905955951758107,-2.107265660329813,0.42375512577914876,0.4777623966893956,0.2962445297721372,-1.1856223496029463,1.7022382630606143,0.07680793951844446,0.8922634028440726,-1.1378324118039944,2.0167810536162274,-0.5868298273047612,1.450307501782666,1.2446645289563552,-0.07944153762300908,1.0167359000338412,2.427420320730947,-0.20128925540517068,0.40952059386452916,-0.11310106445409522,-1.0208138813781207,-1.6819789689603284,-1.6407317956038237,0.5044967236629525,0.5076414862093444,-1.3622577458763638,-1.385513710137751,0.4379302170510106,-1.0360657971318514,0.956725027101898,-1.1309412070101597,-0.4539498795026894,-0.7651633537773271,-1.9138987826185374,-0.3404523866186954,-0.966483327909447,-2.223145811291357,0.2274200919509542,-1.1008190146824435,1.597931806234551,-0.6904200201169924,0.3795736008139735,1.1552876033284938,1.0802041243340248,1.591449198739368,-0.5101850194713661,0.3656485055448906,-1.7781102598964273,-0.048838218782504175,0.015466680660355055,0.9563915331719891,-0.8281332359056763,-0.2732587642962962,-1.224484378166469,-0.6961648914628961,-1.4217156713230616,-0.16325341225772871,0.462763681717857,-0.12551804694449417,0.9597070364983735,1.6251869409639046,-0.4691100693646398,-1.5469095947287455,0.5302987629420041,0.6857862918116193,1.37072509031351,-0.5040834234575051,0.05051138614709521,-0.46101192287628784,-2.2860966773402467,0.6292167975290144,-0.5637220158358606,1.2270958978103588,1.5741280403319107,-0.42940636866567056,1.2551709882371325,0.7941629170507719,0.11090865061083648,1.7735491268694554,-0.08379969518485648,0.2171914794734731,-0.4425196060685648,1.4339298753585892,1.5238027903197608,0.9212217064512468,-1.6708110306106638,-2.6270043901327247,-1.538743232667884,3.2051948720019845,-0.6416520265791904,-0.5453567889345559,0.9669641250569055,0.4416490283576272,-2.7373733213933353,-0.31505769803083433],\"xaxis\":\"x12\",\"y\":[0.06329159238094456,0.6016141276373372,-0.38598146492664975,-1.7948377710650494,0.6922603131019637,1.546950767603398,-0.3401423629939599,0.8640624768539411,-0.3007610328344426,1.6514878814844314,0.13979537922420346,-1.7044467395329324,-0.7573626273806366,-0.8152744940674739,-0.4727052090045964,0.040216665584898045,-0.43615128786506685,0.27344294693179144,-0.03349601413188458,-0.12851704529268604,1.1576163763863443,-0.18968775085366393,1.5373714863021704,1.996631567981592,-1.8478908256856124,0.2121399690241807,0.9903320529159314,-2.0640303113562224,2.1754063918501094,-1.1037872507948654,0.5923189542086722,-0.7949907287764912,1.8361725833088216,-0.8336354871997873,-0.8708116492198833,-0.8802815476308914,-0.020241790336094603,-0.8355316846439435,1.0059170082047086,1.0054939597481938,1.1040552035428135,2.741336901378624,-1.2872567660378902,1.7236070774494099,-2.053011458665576,-1.6554645975852431,-1.3191147093346898,0.14488040663958976,0.5307445563011728,0.448353435089702,0.6448543734164054,0.14196129190770976,1.5615778114103345,-1.6426252419380063,-1.405870219150968,1.2447263759979295,1.2268295001316207,0.1708153488927121,0.31821376174331156,1.0899629968418847,-1.324169834479461,1.7383695412197921,1.4666328621047053,-0.004273859710908556,-1.0528261698514383,-0.8326514854130332,1.0007331977147034,1.3236434581815582,-0.8749821765698546,-0.2712525553847711,0.5312922787388977,0.07442547177048062,-0.3691969468632882,1.4239953529637823,0.380692863230286,0.14935094281469008,-0.09986944765673177,2.4401718896791125,-2.078988567371166,-0.49433118320023206,-0.4953751435521029,-1.5785245909476824,0.25623531508960756,1.0485164469030575,-1.0737703034037116,0.49552445732235395,-0.43824199054292745,-0.34985233947132677,0.3573169550646374,1.0850984979754426,-0.707552616005236,2.038015366809184,0.5957484226452919,-0.7887252110202742,1.2576250591330205,-1.5489921574005654,-0.741054262577547,0.4864247229814855,-0.6666552351510178,1.3809168626082857],\"yaxis\":\"y12\",\"type\":\"scatter\"},{\"line\":{\"color\":\"rgba(128, 128, 128, 1.0)\",\"dash\":\"solid\",\"shape\":\"linear\",\"width\":1.3},\"marker\":{\"size\":2,\"symbol\":\"circle\"},\"mode\":\"markers\",\"name\":\"D\",\"text\":\"\",\"x\":[-1.4179226392462503,-0.46264200324192123,0.7515224608796539,0.017214914882547446,-2.119230156508853,1.4246987135038927,-1.3484391107921905,0.6432498838271453,-0.9263864887473827,0.7570861795056825,0.07543918980622479,1.1599339441805279,-0.04608268499591076,-0.09120078183586999,0.8842914961718378,-0.9162025719299867,-1.2610444177759146,0.027904167487635967,-0.7061578863184852,0.7709016638285334,-0.8539166153517274,0.7309733763722845,-1.7691103627746505,1.263558824772134,0.4717765277347702,0.557405859177239,-1.6819089715393656,1.0025284313403557,1.572525731929163,-0.9650143742388076,1.151517875183336,-0.18247700098496303,-0.7167113193989513,1.1761072211193844,0.12819699293539916,-0.23688078197346668,-0.560705340480975,-0.39787163984807145,1.3382710439775771,-1.7798709075126007,-1.2702252329912076,-0.4152839220015532,0.17542127517078324,0.39285448248880483,0.9045840149471326,-0.16994995097364154,0.3381582060118401,0.2063929493612841,-0.11094598121380154,0.7974586479279469,-2.199222319526443,1.3997599864684436,0.22941627710272822,1.4240802742453296,0.3094390144366311,1.5403747340754785,0.5810551927052852,-1.066762083853598,-0.059946047063189144,0.22949791684170903,0.8327749881915162,-0.06636372674054501,-0.6190169447247864,2.0048868335375056,1.736487965277091,-1.3831774356984614,1.4976344360500824,-0.7067197193609598,-0.4385844889747408,-0.9353036023038812,-0.47593035642229686,1.6132806108278546,-0.6287717679502393,1.0345780523748735,-1.27284403429772,-0.21598606336809065,-0.21383616429784602,3.2313217531556826,1.3382365732922021,-0.22487702362562872,2.340429170474291,0.6271993811365263,1.997890339440614,-2.033624272129717,0.32279225575672327,0.8666550678088079,0.8252385648058315,-1.657914673275361,1.2379383904314973,0.7149995599320481,-1.1761176335038575,0.5706312135572416,-0.4558503278911321,0.37983919034349595,0.09595899429015453,-1.2417447649974065,-0.5217493081296127,0.7542010755173852,-1.145180906491648,1.6740518150812944],\"xaxis\":\"x13\",\"y\":[-1.9389212579683277,1.0318746543195694,0.19609179025269244,2.084503587262951,-0.6879289588930549,0.5905955951758107,-2.107265660329813,0.42375512577914876,0.4777623966893956,0.2962445297721372,-1.1856223496029463,1.7022382630606143,0.07680793951844446,0.8922634028440726,-1.1378324118039944,2.0167810536162274,-0.5868298273047612,1.450307501782666,1.2446645289563552,-0.07944153762300908,1.0167359000338412,2.427420320730947,-0.20128925540517068,0.40952059386452916,-0.11310106445409522,-1.0208138813781207,-1.6819789689603284,-1.6407317956038237,0.5044967236629525,0.5076414862093444,-1.3622577458763638,-1.385513710137751,0.4379302170510106,-1.0360657971318514,0.956725027101898,-1.1309412070101597,-0.4539498795026894,-0.7651633537773271,-1.9138987826185374,-0.3404523866186954,-0.966483327909447,-2.223145811291357,0.2274200919509542,-1.1008190146824435,1.597931806234551,-0.6904200201169924,0.3795736008139735,1.1552876033284938,1.0802041243340248,1.591449198739368,-0.5101850194713661,0.3656485055448906,-1.7781102598964273,-0.048838218782504175,0.015466680660355055,0.9563915331719891,-0.8281332359056763,-0.2732587642962962,-1.224484378166469,-0.6961648914628961,-1.4217156713230616,-0.16325341225772871,0.462763681717857,-0.12551804694449417,0.9597070364983735,1.6251869409639046,-0.4691100693646398,-1.5469095947287455,0.5302987629420041,0.6857862918116193,1.37072509031351,-0.5040834234575051,0.05051138614709521,-0.46101192287628784,-2.2860966773402467,0.6292167975290144,-0.5637220158358606,1.2270958978103588,1.5741280403319107,-0.42940636866567056,1.2551709882371325,0.7941629170507719,0.11090865061083648,1.7735491268694554,-0.08379969518485648,0.2171914794734731,-0.4425196060685648,1.4339298753585892,1.5238027903197608,0.9212217064512468,-1.6708110306106638,-2.6270043901327247,-1.538743232667884,3.2051948720019845,-0.6416520265791904,-0.5453567889345559,0.9669641250569055,0.4416490283576272,-2.7373733213933353,-0.31505769803083433],\"yaxis\":\"y13\",\"type\":\"scatter\"},{\"line\":{\"color\":\"rgba(128, 128, 128, 1.0)\",\"dash\":\"solid\",\"shape\":\"linear\",\"width\":1.3},\"marker\":{\"size\":2,\"symbol\":\"circle\"},\"mode\":\"markers\",\"name\":\"D\",\"text\":\"\",\"x\":[0.43916847768055367,0.7754169812744081,-1.766184215926334,0.4674257707543401,0.29321032071154995,1.41774816480575,1.3445969383110263,0.4416487341811845,-1.430772057414031,-0.8505022925340281,0.4691920933044812,1.826784708762384,-0.10576410338109243,-1.500461426023311,0.7965390567393406,-0.012409030102622055,-0.15130451407398446,-2.071058423059817,-0.8255625544235962,-0.8074054383028947,-0.9301852379698403,-1.6773017541992195,-0.3946539688644478,-2.9870582870265263,-0.03318946511355068,-0.016251530567965744,0.7030357504362612,-0.4999960084700399,-0.9420611634530786,-0.1432729844634614,0.6557312074595607,0.35574155452593026,-0.07734755312316859,-1.7102423679022432,-0.04205763850987133,-1.4785422652968754,0.7645412296582739,-0.24706609101356192,-1.201359615189873,1.5325015503193518,-0.4881633821714732,-0.5057962567151923,1.1308257061231044,-0.23356594422792676,0.66092576287292,1.6404688258806333,-1.5081626093929672,-0.0013041142872921448,0.12204994284248882,1.4721906166668761,-0.08003811206186177,-0.9092222820745258,-0.8407007439622989,-0.11436673916364293,0.06406328064075953,0.48221062292822475,-0.7807229952837661,-0.20502892323697028,0.3447615780074933,-1.583612014364668,0.5130380961580526,-1.551310104687635,0.7237591993777599,1.5059564157142509,-0.10163714145529341,-1.67186290946623,-0.31584531717802655,1.0644113882459774,2.274346155576829,0.49930813021148723,1.6405651595955058,-0.33937453326899897,0.10632705592337412,-1.2642467659208292,-0.17540983564574716,-0.1862548195584329,1.4326108248716156,0.06485852176902505,-0.36945518458348525,0.541657819502985,0.4634294898545669,-1.3654976940987307,-0.45372839134779486,1.0423110939962679,0.4128596468131367,-0.4937751704955059,-0.24026055088614237,-0.6454607232329427,0.8484132678342798,0.8798070172304139,-0.8837609675709918,0.03975057728511999,-0.5563341326163922,-0.23772094092618812,0.18642158069051573,0.8268192191747974,1.9527936074764647,0.8109508402703056,-0.44120277682258874,0.407627374675604],\"xaxis\":\"x14\",\"y\":[-1.9389212579683277,1.0318746543195694,0.19609179025269244,2.084503587262951,-0.6879289588930549,0.5905955951758107,-2.107265660329813,0.42375512577914876,0.4777623966893956,0.2962445297721372,-1.1856223496029463,1.7022382630606143,0.07680793951844446,0.8922634028440726,-1.1378324118039944,2.0167810536162274,-0.5868298273047612,1.450307501782666,1.2446645289563552,-0.07944153762300908,1.0167359000338412,2.427420320730947,-0.20128925540517068,0.40952059386452916,-0.11310106445409522,-1.0208138813781207,-1.6819789689603284,-1.6407317956038237,0.5044967236629525,0.5076414862093444,-1.3622577458763638,-1.385513710137751,0.4379302170510106,-1.0360657971318514,0.956725027101898,-1.1309412070101597,-0.4539498795026894,-0.7651633537773271,-1.9138987826185374,-0.3404523866186954,-0.966483327909447,-2.223145811291357,0.2274200919509542,-1.1008190146824435,1.597931806234551,-0.6904200201169924,0.3795736008139735,1.1552876033284938,1.0802041243340248,1.591449198739368,-0.5101850194713661,0.3656485055448906,-1.7781102598964273,-0.048838218782504175,0.015466680660355055,0.9563915331719891,-0.8281332359056763,-0.2732587642962962,-1.224484378166469,-0.6961648914628961,-1.4217156713230616,-0.16325341225772871,0.462763681717857,-0.12551804694449417,0.9597070364983735,1.6251869409639046,-0.4691100693646398,-1.5469095947287455,0.5302987629420041,0.6857862918116193,1.37072509031351,-0.5040834234575051,0.05051138614709521,-0.46101192287628784,-2.2860966773402467,0.6292167975290144,-0.5637220158358606,1.2270958978103588,1.5741280403319107,-0.42940636866567056,1.2551709882371325,0.7941629170507719,0.11090865061083648,1.7735491268694554,-0.08379969518485648,0.2171914794734731,-0.4425196060685648,1.4339298753585892,1.5238027903197608,0.9212217064512468,-1.6708110306106638,-2.6270043901327247,-1.538743232667884,3.2051948720019845,-0.6416520265791904,-0.5453567889345559,0.9669641250569055,0.4416490283576272,-2.7373733213933353,-0.31505769803083433],\"yaxis\":\"y14\",\"type\":\"scatter\"},{\"line\":{\"color\":\"rgba(128, 128, 128, 1.0)\",\"dash\":\"solid\",\"shape\":\"linear\",\"width\":1.3},\"marker\":{\"size\":2,\"symbol\":\"circle\"},\"mode\":\"markers\",\"name\":\"D\",\"text\":\"\",\"x\":[0.06329159238094456,0.6016141276373372,-0.38598146492664975,-1.7948377710650494,0.6922603131019637,1.546950767603398,-0.3401423629939599,0.8640624768539411,-0.3007610328344426,1.6514878814844314,0.13979537922420346,-1.7044467395329324,-0.7573626273806366,-0.8152744940674739,-0.4727052090045964,0.040216665584898045,-0.43615128786506685,0.27344294693179144,-0.03349601413188458,-0.12851704529268604,1.1576163763863443,-0.18968775085366393,1.5373714863021704,1.996631567981592,-1.8478908256856124,0.2121399690241807,0.9903320529159314,-2.0640303113562224,2.1754063918501094,-1.1037872507948654,0.5923189542086722,-0.7949907287764912,1.8361725833088216,-0.8336354871997873,-0.8708116492198833,-0.8802815476308914,-0.020241790336094603,-0.8355316846439435,1.0059170082047086,1.0054939597481938,1.1040552035428135,2.741336901378624,-1.2872567660378902,1.7236070774494099,-2.053011458665576,-1.6554645975852431,-1.3191147093346898,0.14488040663958976,0.5307445563011728,0.448353435089702,0.6448543734164054,0.14196129190770976,1.5615778114103345,-1.6426252419380063,-1.405870219150968,1.2447263759979295,1.2268295001316207,0.1708153488927121,0.31821376174331156,1.0899629968418847,-1.324169834479461,1.7383695412197921,1.4666328621047053,-0.004273859710908556,-1.0528261698514383,-0.8326514854130332,1.0007331977147034,1.3236434581815582,-0.8749821765698546,-0.2712525553847711,0.5312922787388977,0.07442547177048062,-0.3691969468632882,1.4239953529637823,0.380692863230286,0.14935094281469008,-0.09986944765673177,2.4401718896791125,-2.078988567371166,-0.49433118320023206,-0.4953751435521029,-1.5785245909476824,0.25623531508960756,1.0485164469030575,-1.0737703034037116,0.49552445732235395,-0.43824199054292745,-0.34985233947132677,0.3573169550646374,1.0850984979754426,-0.707552616005236,2.038015366809184,0.5957484226452919,-0.7887252110202742,1.2576250591330205,-1.5489921574005654,-0.741054262577547,0.4864247229814855,-0.6666552351510178,1.3809168626082857],\"xaxis\":\"x15\",\"y\":[-1.9389212579683277,1.0318746543195694,0.19609179025269244,2.084503587262951,-0.6879289588930549,0.5905955951758107,-2.107265660329813,0.42375512577914876,0.4777623966893956,0.2962445297721372,-1.1856223496029463,1.7022382630606143,0.07680793951844446,0.8922634028440726,-1.1378324118039944,2.0167810536162274,-0.5868298273047612,1.450307501782666,1.2446645289563552,-0.07944153762300908,1.0167359000338412,2.427420320730947,-0.20128925540517068,0.40952059386452916,-0.11310106445409522,-1.0208138813781207,-1.6819789689603284,-1.6407317956038237,0.5044967236629525,0.5076414862093444,-1.3622577458763638,-1.385513710137751,0.4379302170510106,-1.0360657971318514,0.956725027101898,-1.1309412070101597,-0.4539498795026894,-0.7651633537773271,-1.9138987826185374,-0.3404523866186954,-0.966483327909447,-2.223145811291357,0.2274200919509542,-1.1008190146824435,1.597931806234551,-0.6904200201169924,0.3795736008139735,1.1552876033284938,1.0802041243340248,1.591449198739368,-0.5101850194713661,0.3656485055448906,-1.7781102598964273,-0.048838218782504175,0.015466680660355055,0.9563915331719891,-0.8281332359056763,-0.2732587642962962,-1.224484378166469,-0.6961648914628961,-1.4217156713230616,-0.16325341225772871,0.462763681717857,-0.12551804694449417,0.9597070364983735,1.6251869409639046,-0.4691100693646398,-1.5469095947287455,0.5302987629420041,0.6857862918116193,1.37072509031351,-0.5040834234575051,0.05051138614709521,-0.46101192287628784,-2.2860966773402467,0.6292167975290144,-0.5637220158358606,1.2270958978103588,1.5741280403319107,-0.42940636866567056,1.2551709882371325,0.7941629170507719,0.11090865061083648,1.7735491268694554,-0.08379969518485648,0.2171914794734731,-0.4425196060685648,1.4339298753585892,1.5238027903197608,0.9212217064512468,-1.6708110306106638,-2.6270043901327247,-1.538743232667884,3.2051948720019845,-0.6416520265791904,-0.5453567889345559,0.9669641250569055,0.4416490283576272,-2.7373733213933353,-0.31505769803083433],\"yaxis\":\"y15\",\"type\":\"scatter\"},{\"histfunc\":\"count\",\"histnorm\":\"\",\"marker\":{\"color\":\"rgba(128, 0, 128, 1.0)\",\"line\":{\"color\":\"#4D5663\",\"width\":1.3}},\"name\":\"D\",\"nbinsx\":10,\"opacity\":0.8,\"orientation\":\"v\",\"x\":[-1.9389212579683277,1.0318746543195694,0.19609179025269244,2.084503587262951,-0.6879289588930549,0.5905955951758107,-2.107265660329813,0.42375512577914876,0.4777623966893956,0.2962445297721372,-1.1856223496029463,1.7022382630606143,0.07680793951844446,0.8922634028440726,-1.1378324118039944,2.0167810536162274,-0.5868298273047612,1.450307501782666,1.2446645289563552,-0.07944153762300908,1.0167359000338412,2.427420320730947,-0.20128925540517068,0.40952059386452916,-0.11310106445409522,-1.0208138813781207,-1.6819789689603284,-1.6407317956038237,0.5044967236629525,0.5076414862093444,-1.3622577458763638,-1.385513710137751,0.4379302170510106,-1.0360657971318514,0.956725027101898,-1.1309412070101597,-0.4539498795026894,-0.7651633537773271,-1.9138987826185374,-0.3404523866186954,-0.966483327909447,-2.223145811291357,0.2274200919509542,-1.1008190146824435,1.597931806234551,-0.6904200201169924,0.3795736008139735,1.1552876033284938,1.0802041243340248,1.591449198739368,-0.5101850194713661,0.3656485055448906,-1.7781102598964273,-0.048838218782504175,0.015466680660355055,0.9563915331719891,-0.8281332359056763,-0.2732587642962962,-1.224484378166469,-0.6961648914628961,-1.4217156713230616,-0.16325341225772871,0.462763681717857,-0.12551804694449417,0.9597070364983735,1.6251869409639046,-0.4691100693646398,-1.5469095947287455,0.5302987629420041,0.6857862918116193,1.37072509031351,-0.5040834234575051,0.05051138614709521,-0.46101192287628784,-2.2860966773402467,0.6292167975290144,-0.5637220158358606,1.2270958978103588,1.5741280403319107,-0.42940636866567056,1.2551709882371325,0.7941629170507719,0.11090865061083648,1.7735491268694554,-0.08379969518485648,0.2171914794734731,-0.4425196060685648,1.4339298753585892,1.5238027903197608,0.9212217064512468,-1.6708110306106638,-2.6270043901327247,-1.538743232667884,3.2051948720019845,-0.6416520265791904,-0.5453567889345559,0.9669641250569055,0.4416490283576272,-2.7373733213933353,-0.31505769803083433],\"xaxis\":\"x16\",\"yaxis\":\"y16\",\"type\":\"histogram\"}],                        {\"bargap\":0.02,\"legend\":{\"bgcolor\":\"#F5F6F9\",\"font\":{\"color\":\"#4D5663\"}},\"paper_bgcolor\":\"#F5F6F9\",\"plot_bgcolor\":\"#F5F6F9\",\"showlegend\":false,\"template\":{\"data\":{\"barpolar\":[{\"marker\":{\"line\":{\"color\":\"#E5ECF6\",\"width\":0.5},\"pattern\":{\"fillmode\":\"overlay\",\"size\":10,\"solidity\":0.2}},\"type\":\"barpolar\"}],\"bar\":[{\"error_x\":{\"color\":\"#2a3f5f\"},\"error_y\":{\"color\":\"#2a3f5f\"},\"marker\":{\"line\":{\"color\":\"#E5ECF6\",\"width\":0.5},\"pattern\":{\"fillmode\":\"overlay\",\"size\":10,\"solidity\":0.2}},\"type\":\"bar\"}],\"carpet\":[{\"aaxis\":{\"endlinecolor\":\"#2a3f5f\",\"gridcolor\":\"white\",\"linecolor\":\"white\",\"minorgridcolor\":\"white\",\"startlinecolor\":\"#2a3f5f\"},\"baxis\":{\"endlinecolor\":\"#2a3f5f\",\"gridcolor\":\"white\",\"linecolor\":\"white\",\"minorgridcolor\":\"white\",\"startlinecolor\":\"#2a3f5f\"},\"type\":\"carpet\"}],\"choropleth\":[{\"colorbar\":{\"outlinewidth\":0,\"ticks\":\"\"},\"type\":\"choropleth\"}],\"contourcarpet\":[{\"colorbar\":{\"outlinewidth\":0,\"ticks\":\"\"},\"type\":\"contourcarpet\"}],\"contour\":[{\"colorbar\":{\"outlinewidth\":0,\"ticks\":\"\"},\"colorscale\":[[0.0,\"#0d0887\"],[0.1111111111111111,\"#46039f\"],[0.2222222222222222,\"#7201a8\"],[0.3333333333333333,\"#9c179e\"],[0.4444444444444444,\"#bd3786\"],[0.5555555555555556,\"#d8576b\"],[0.6666666666666666,\"#ed7953\"],[0.7777777777777778,\"#fb9f3a\"],[0.8888888888888888,\"#fdca26\"],[1.0,\"#f0f921\"]],\"type\":\"contour\"}],\"heatmapgl\":[{\"colorbar\":{\"outlinewidth\":0,\"ticks\":\"\"},\"colorscale\":[[0.0,\"#0d0887\"],[0.1111111111111111,\"#46039f\"],[0.2222222222222222,\"#7201a8\"],[0.3333333333333333,\"#9c179e\"],[0.4444444444444444,\"#bd3786\"],[0.5555555555555556,\"#d8576b\"],[0.6666666666666666,\"#ed7953\"],[0.7777777777777778,\"#fb9f3a\"],[0.8888888888888888,\"#fdca26\"],[1.0,\"#f0f921\"]],\"type\":\"heatmapgl\"}],\"heatmap\":[{\"colorbar\":{\"outlinewidth\":0,\"ticks\":\"\"},\"colorscale\":[[0.0,\"#0d0887\"],[0.1111111111111111,\"#46039f\"],[0.2222222222222222,\"#7201a8\"],[0.3333333333333333,\"#9c179e\"],[0.4444444444444444,\"#bd3786\"],[0.5555555555555556,\"#d8576b\"],[0.6666666666666666,\"#ed7953\"],[0.7777777777777778,\"#fb9f3a\"],[0.8888888888888888,\"#fdca26\"],[1.0,\"#f0f921\"]],\"type\":\"heatmap\"}],\"histogram2dcontour\":[{\"colorbar\":{\"outlinewidth\":0,\"ticks\":\"\"},\"colorscale\":[[0.0,\"#0d0887\"],[0.1111111111111111,\"#46039f\"],[0.2222222222222222,\"#7201a8\"],[0.3333333333333333,\"#9c179e\"],[0.4444444444444444,\"#bd3786\"],[0.5555555555555556,\"#d8576b\"],[0.6666666666666666,\"#ed7953\"],[0.7777777777777778,\"#fb9f3a\"],[0.8888888888888888,\"#fdca26\"],[1.0,\"#f0f921\"]],\"type\":\"histogram2dcontour\"}],\"histogram2d\":[{\"colorbar\":{\"outlinewidth\":0,\"ticks\":\"\"},\"colorscale\":[[0.0,\"#0d0887\"],[0.1111111111111111,\"#46039f\"],[0.2222222222222222,\"#7201a8\"],[0.3333333333333333,\"#9c179e\"],[0.4444444444444444,\"#bd3786\"],[0.5555555555555556,\"#d8576b\"],[0.6666666666666666,\"#ed7953\"],[0.7777777777777778,\"#fb9f3a\"],[0.8888888888888888,\"#fdca26\"],[1.0,\"#f0f921\"]],\"type\":\"histogram2d\"}],\"histogram\":[{\"marker\":{\"pattern\":{\"fillmode\":\"overlay\",\"size\":10,\"solidity\":0.2}},\"type\":\"histogram\"}],\"mesh3d\":[{\"colorbar\":{\"outlinewidth\":0,\"ticks\":\"\"},\"type\":\"mesh3d\"}],\"parcoords\":[{\"line\":{\"colorbar\":{\"outlinewidth\":0,\"ticks\":\"\"}},\"type\":\"parcoords\"}],\"pie\":[{\"automargin\":true,\"type\":\"pie\"}],\"scatter3d\":[{\"line\":{\"colorbar\":{\"outlinewidth\":0,\"ticks\":\"\"}},\"marker\":{\"colorbar\":{\"outlinewidth\":0,\"ticks\":\"\"}},\"type\":\"scatter3d\"}],\"scattercarpet\":[{\"marker\":{\"colorbar\":{\"outlinewidth\":0,\"ticks\":\"\"}},\"type\":\"scattercarpet\"}],\"scattergeo\":[{\"marker\":{\"colorbar\":{\"outlinewidth\":0,\"ticks\":\"\"}},\"type\":\"scattergeo\"}],\"scattergl\":[{\"marker\":{\"colorbar\":{\"outlinewidth\":0,\"ticks\":\"\"}},\"type\":\"scattergl\"}],\"scattermapbox\":[{\"marker\":{\"colorbar\":{\"outlinewidth\":0,\"ticks\":\"\"}},\"type\":\"scattermapbox\"}],\"scatterpolargl\":[{\"marker\":{\"colorbar\":{\"outlinewidth\":0,\"ticks\":\"\"}},\"type\":\"scatterpolargl\"}],\"scatterpolar\":[{\"marker\":{\"colorbar\":{\"outlinewidth\":0,\"ticks\":\"\"}},\"type\":\"scatterpolar\"}],\"scatter\":[{\"marker\":{\"colorbar\":{\"outlinewidth\":0,\"ticks\":\"\"}},\"type\":\"scatter\"}],\"scatterternary\":[{\"marker\":{\"colorbar\":{\"outlinewidth\":0,\"ticks\":\"\"}},\"type\":\"scatterternary\"}],\"surface\":[{\"colorbar\":{\"outlinewidth\":0,\"ticks\":\"\"},\"colorscale\":[[0.0,\"#0d0887\"],[0.1111111111111111,\"#46039f\"],[0.2222222222222222,\"#7201a8\"],[0.3333333333333333,\"#9c179e\"],[0.4444444444444444,\"#bd3786\"],[0.5555555555555556,\"#d8576b\"],[0.6666666666666666,\"#ed7953\"],[0.7777777777777778,\"#fb9f3a\"],[0.8888888888888888,\"#fdca26\"],[1.0,\"#f0f921\"]],\"type\":\"surface\"}],\"table\":[{\"cells\":{\"fill\":{\"color\":\"#EBF0F8\"},\"line\":{\"color\":\"white\"}},\"header\":{\"fill\":{\"color\":\"#C8D4E3\"},\"line\":{\"color\":\"white\"}},\"type\":\"table\"}]},\"layout\":{\"annotationdefaults\":{\"arrowcolor\":\"#2a3f5f\",\"arrowhead\":0,\"arrowwidth\":1},\"autotypenumbers\":\"strict\",\"coloraxis\":{\"colorbar\":{\"outlinewidth\":0,\"ticks\":\"\"}},\"colorscale\":{\"diverging\":[[0,\"#8e0152\"],[0.1,\"#c51b7d\"],[0.2,\"#de77ae\"],[0.3,\"#f1b6da\"],[0.4,\"#fde0ef\"],[0.5,\"#f7f7f7\"],[0.6,\"#e6f5d0\"],[0.7,\"#b8e186\"],[0.8,\"#7fbc41\"],[0.9,\"#4d9221\"],[1,\"#276419\"]],\"sequential\":[[0.0,\"#0d0887\"],[0.1111111111111111,\"#46039f\"],[0.2222222222222222,\"#7201a8\"],[0.3333333333333333,\"#9c179e\"],[0.4444444444444444,\"#bd3786\"],[0.5555555555555556,\"#d8576b\"],[0.6666666666666666,\"#ed7953\"],[0.7777777777777778,\"#fb9f3a\"],[0.8888888888888888,\"#fdca26\"],[1.0,\"#f0f921\"]],\"sequentialminus\":[[0.0,\"#0d0887\"],[0.1111111111111111,\"#46039f\"],[0.2222222222222222,\"#7201a8\"],[0.3333333333333333,\"#9c179e\"],[0.4444444444444444,\"#bd3786\"],[0.5555555555555556,\"#d8576b\"],[0.6666666666666666,\"#ed7953\"],[0.7777777777777778,\"#fb9f3a\"],[0.8888888888888888,\"#fdca26\"],[1.0,\"#f0f921\"]]},\"colorway\":[\"#636efa\",\"#EF553B\",\"#00cc96\",\"#ab63fa\",\"#FFA15A\",\"#19d3f3\",\"#FF6692\",\"#B6E880\",\"#FF97FF\",\"#FECB52\"],\"font\":{\"color\":\"#2a3f5f\"},\"geo\":{\"bgcolor\":\"white\",\"lakecolor\":\"white\",\"landcolor\":\"#E5ECF6\",\"showlakes\":true,\"showland\":true,\"subunitcolor\":\"white\"},\"hoverlabel\":{\"align\":\"left\"},\"hovermode\":\"closest\",\"mapbox\":{\"style\":\"light\"},\"paper_bgcolor\":\"white\",\"plot_bgcolor\":\"#E5ECF6\",\"polar\":{\"angularaxis\":{\"gridcolor\":\"white\",\"linecolor\":\"white\",\"ticks\":\"\"},\"bgcolor\":\"#E5ECF6\",\"radialaxis\":{\"gridcolor\":\"white\",\"linecolor\":\"white\",\"ticks\":\"\"}},\"scene\":{\"xaxis\":{\"backgroundcolor\":\"#E5ECF6\",\"gridcolor\":\"white\",\"gridwidth\":2,\"linecolor\":\"white\",\"showbackground\":true,\"ticks\":\"\",\"zerolinecolor\":\"white\"},\"yaxis\":{\"backgroundcolor\":\"#E5ECF6\",\"gridcolor\":\"white\",\"gridwidth\":2,\"linecolor\":\"white\",\"showbackground\":true,\"ticks\":\"\",\"zerolinecolor\":\"white\"},\"zaxis\":{\"backgroundcolor\":\"#E5ECF6\",\"gridcolor\":\"white\",\"gridwidth\":2,\"linecolor\":\"white\",\"showbackground\":true,\"ticks\":\"\",\"zerolinecolor\":\"white\"}},\"shapedefaults\":{\"line\":{\"color\":\"#2a3f5f\"}},\"ternary\":{\"aaxis\":{\"gridcolor\":\"white\",\"linecolor\":\"white\",\"ticks\":\"\"},\"baxis\":{\"gridcolor\":\"white\",\"linecolor\":\"white\",\"ticks\":\"\"},\"bgcolor\":\"#E5ECF6\",\"caxis\":{\"gridcolor\":\"white\",\"linecolor\":\"white\",\"ticks\":\"\"}},\"title\":{\"x\":0.05},\"xaxis\":{\"automargin\":true,\"gridcolor\":\"white\",\"linecolor\":\"white\",\"ticks\":\"\",\"title\":{\"standoff\":15},\"zerolinecolor\":\"white\",\"zerolinewidth\":2},\"yaxis\":{\"automargin\":true,\"gridcolor\":\"white\",\"linecolor\":\"white\",\"ticks\":\"\",\"title\":{\"standoff\":15},\"zerolinecolor\":\"white\",\"zerolinewidth\":2}}},\"title\":{\"font\":{\"color\":\"#4D5663\"}},\"xaxis\":{\"anchor\":\"y\",\"domain\":[0.0,0.2125],\"gridcolor\":\"#E1E5ED\",\"showgrid\":false,\"tickfont\":{\"color\":\"#4D5663\"},\"title\":{\"font\":{\"color\":\"#4D5663\"},\"text\":\"\"},\"zerolinecolor\":\"#E1E5ED\"},\"yaxis\":{\"anchor\":\"x\",\"domain\":[0.8025,1.0],\"gridcolor\":\"#E1E5ED\",\"showgrid\":false,\"tickfont\":{\"color\":\"#4D5663\"},\"title\":{\"font\":{\"color\":\"#4D5663\"},\"text\":\"\"},\"zerolinecolor\":\"#E1E5ED\"},\"xaxis2\":{\"anchor\":\"y2\",\"domain\":[0.2625,0.475],\"gridcolor\":\"#E1E5ED\",\"showgrid\":false,\"tickfont\":{\"color\":\"#4D5663\"},\"title\":{\"font\":{\"color\":\"#4D5663\"},\"text\":\"\"},\"zerolinecolor\":\"#E1E5ED\"},\"yaxis2\":{\"anchor\":\"x2\",\"domain\":[0.8025,1.0],\"gridcolor\":\"#E1E5ED\",\"showgrid\":false,\"tickfont\":{\"color\":\"#4D5663\"},\"title\":{\"font\":{\"color\":\"#4D5663\"},\"text\":\"\"},\"zerolinecolor\":\"#E1E5ED\"},\"xaxis3\":{\"anchor\":\"y3\",\"domain\":[0.525,0.7375],\"gridcolor\":\"#E1E5ED\",\"showgrid\":false,\"tickfont\":{\"color\":\"#4D5663\"},\"title\":{\"font\":{\"color\":\"#4D5663\"},\"text\":\"\"},\"zerolinecolor\":\"#E1E5ED\"},\"yaxis3\":{\"anchor\":\"x3\",\"domain\":[0.8025,1.0],\"gridcolor\":\"#E1E5ED\",\"showgrid\":false,\"tickfont\":{\"color\":\"#4D5663\"},\"title\":{\"font\":{\"color\":\"#4D5663\"},\"text\":\"\"},\"zerolinecolor\":\"#E1E5ED\"},\"xaxis4\":{\"anchor\":\"y4\",\"domain\":[0.7875,1.0],\"gridcolor\":\"#E1E5ED\",\"showgrid\":false,\"tickfont\":{\"color\":\"#4D5663\"},\"title\":{\"font\":{\"color\":\"#4D5663\"},\"text\":\"\"},\"zerolinecolor\":\"#E1E5ED\"},\"yaxis4\":{\"anchor\":\"x4\",\"domain\":[0.8025,1.0],\"gridcolor\":\"#E1E5ED\",\"showgrid\":false,\"tickfont\":{\"color\":\"#4D5663\"},\"title\":{\"font\":{\"color\":\"#4D5663\"},\"text\":\"\"},\"zerolinecolor\":\"#E1E5ED\"},\"xaxis5\":{\"anchor\":\"y5\",\"domain\":[0.0,0.2125],\"gridcolor\":\"#E1E5ED\",\"showgrid\":false,\"tickfont\":{\"color\":\"#4D5663\"},\"title\":{\"font\":{\"color\":\"#4D5663\"},\"text\":\"\"},\"zerolinecolor\":\"#E1E5ED\"},\"yaxis5\":{\"anchor\":\"x5\",\"domain\":[0.535,0.7325],\"gridcolor\":\"#E1E5ED\",\"showgrid\":false,\"tickfont\":{\"color\":\"#4D5663\"},\"title\":{\"font\":{\"color\":\"#4D5663\"},\"text\":\"\"},\"zerolinecolor\":\"#E1E5ED\"},\"xaxis6\":{\"anchor\":\"y6\",\"domain\":[0.2625,0.475],\"gridcolor\":\"#E1E5ED\",\"showgrid\":false,\"tickfont\":{\"color\":\"#4D5663\"},\"title\":{\"font\":{\"color\":\"#4D5663\"},\"text\":\"\"},\"zerolinecolor\":\"#E1E5ED\"},\"yaxis6\":{\"anchor\":\"x6\",\"domain\":[0.535,0.7325],\"gridcolor\":\"#E1E5ED\",\"showgrid\":false,\"tickfont\":{\"color\":\"#4D5663\"},\"title\":{\"font\":{\"color\":\"#4D5663\"},\"text\":\"\"},\"zerolinecolor\":\"#E1E5ED\"},\"xaxis7\":{\"anchor\":\"y7\",\"domain\":[0.525,0.7375],\"gridcolor\":\"#E1E5ED\",\"showgrid\":false,\"tickfont\":{\"color\":\"#4D5663\"},\"title\":{\"font\":{\"color\":\"#4D5663\"},\"text\":\"\"},\"zerolinecolor\":\"#E1E5ED\"},\"yaxis7\":{\"anchor\":\"x7\",\"domain\":[0.535,0.7325],\"gridcolor\":\"#E1E5ED\",\"showgrid\":false,\"tickfont\":{\"color\":\"#4D5663\"},\"title\":{\"font\":{\"color\":\"#4D5663\"},\"text\":\"\"},\"zerolinecolor\":\"#E1E5ED\"},\"xaxis8\":{\"anchor\":\"y8\",\"domain\":[0.7875,1.0],\"gridcolor\":\"#E1E5ED\",\"showgrid\":false,\"tickfont\":{\"color\":\"#4D5663\"},\"title\":{\"font\":{\"color\":\"#4D5663\"},\"text\":\"\"},\"zerolinecolor\":\"#E1E5ED\"},\"yaxis8\":{\"anchor\":\"x8\",\"domain\":[0.535,0.7325],\"gridcolor\":\"#E1E5ED\",\"showgrid\":false,\"tickfont\":{\"color\":\"#4D5663\"},\"title\":{\"font\":{\"color\":\"#4D5663\"},\"text\":\"\"},\"zerolinecolor\":\"#E1E5ED\"},\"xaxis9\":{\"anchor\":\"y9\",\"domain\":[0.0,0.2125],\"gridcolor\":\"#E1E5ED\",\"showgrid\":false,\"tickfont\":{\"color\":\"#4D5663\"},\"title\":{\"font\":{\"color\":\"#4D5663\"},\"text\":\"\"},\"zerolinecolor\":\"#E1E5ED\"},\"yaxis9\":{\"anchor\":\"x9\",\"domain\":[0.2675,0.465],\"gridcolor\":\"#E1E5ED\",\"showgrid\":false,\"tickfont\":{\"color\":\"#4D5663\"},\"title\":{\"font\":{\"color\":\"#4D5663\"},\"text\":\"\"},\"zerolinecolor\":\"#E1E5ED\"},\"xaxis10\":{\"anchor\":\"y10\",\"domain\":[0.2625,0.475],\"gridcolor\":\"#E1E5ED\",\"showgrid\":false,\"tickfont\":{\"color\":\"#4D5663\"},\"title\":{\"font\":{\"color\":\"#4D5663\"},\"text\":\"\"},\"zerolinecolor\":\"#E1E5ED\"},\"yaxis10\":{\"anchor\":\"x10\",\"domain\":[0.2675,0.465],\"gridcolor\":\"#E1E5ED\",\"showgrid\":false,\"tickfont\":{\"color\":\"#4D5663\"},\"title\":{\"font\":{\"color\":\"#4D5663\"},\"text\":\"\"},\"zerolinecolor\":\"#E1E5ED\"},\"xaxis11\":{\"anchor\":\"y11\",\"domain\":[0.525,0.7375],\"gridcolor\":\"#E1E5ED\",\"showgrid\":false,\"tickfont\":{\"color\":\"#4D5663\"},\"title\":{\"font\":{\"color\":\"#4D5663\"},\"text\":\"\"},\"zerolinecolor\":\"#E1E5ED\"},\"yaxis11\":{\"anchor\":\"x11\",\"domain\":[0.2675,0.465],\"gridcolor\":\"#E1E5ED\",\"showgrid\":false,\"tickfont\":{\"color\":\"#4D5663\"},\"title\":{\"font\":{\"color\":\"#4D5663\"},\"text\":\"\"},\"zerolinecolor\":\"#E1E5ED\"},\"xaxis12\":{\"anchor\":\"y12\",\"domain\":[0.7875,1.0],\"gridcolor\":\"#E1E5ED\",\"showgrid\":false,\"tickfont\":{\"color\":\"#4D5663\"},\"title\":{\"font\":{\"color\":\"#4D5663\"},\"text\":\"\"},\"zerolinecolor\":\"#E1E5ED\"},\"yaxis12\":{\"anchor\":\"x12\",\"domain\":[0.2675,0.465],\"gridcolor\":\"#E1E5ED\",\"showgrid\":false,\"tickfont\":{\"color\":\"#4D5663\"},\"title\":{\"font\":{\"color\":\"#4D5663\"},\"text\":\"\"},\"zerolinecolor\":\"#E1E5ED\"},\"xaxis13\":{\"anchor\":\"y13\",\"domain\":[0.0,0.2125],\"gridcolor\":\"#E1E5ED\",\"showgrid\":false,\"tickfont\":{\"color\":\"#4D5663\"},\"title\":{\"font\":{\"color\":\"#4D5663\"},\"text\":\"\"},\"zerolinecolor\":\"#E1E5ED\"},\"yaxis13\":{\"anchor\":\"x13\",\"domain\":[0.0,0.1975],\"gridcolor\":\"#E1E5ED\",\"showgrid\":false,\"tickfont\":{\"color\":\"#4D5663\"},\"title\":{\"font\":{\"color\":\"#4D5663\"},\"text\":\"\"},\"zerolinecolor\":\"#E1E5ED\"},\"xaxis14\":{\"anchor\":\"y14\",\"domain\":[0.2625,0.475],\"gridcolor\":\"#E1E5ED\",\"showgrid\":false,\"tickfont\":{\"color\":\"#4D5663\"},\"title\":{\"font\":{\"color\":\"#4D5663\"},\"text\":\"\"},\"zerolinecolor\":\"#E1E5ED\"},\"yaxis14\":{\"anchor\":\"x14\",\"domain\":[0.0,0.1975],\"gridcolor\":\"#E1E5ED\",\"showgrid\":false,\"tickfont\":{\"color\":\"#4D5663\"},\"title\":{\"font\":{\"color\":\"#4D5663\"},\"text\":\"\"},\"zerolinecolor\":\"#E1E5ED\"},\"xaxis15\":{\"anchor\":\"y15\",\"domain\":[0.525,0.7375],\"gridcolor\":\"#E1E5ED\",\"showgrid\":false,\"tickfont\":{\"color\":\"#4D5663\"},\"title\":{\"font\":{\"color\":\"#4D5663\"},\"text\":\"\"},\"zerolinecolor\":\"#E1E5ED\"},\"yaxis15\":{\"anchor\":\"x15\",\"domain\":[0.0,0.1975],\"gridcolor\":\"#E1E5ED\",\"showgrid\":false,\"tickfont\":{\"color\":\"#4D5663\"},\"title\":{\"font\":{\"color\":\"#4D5663\"},\"text\":\"\"},\"zerolinecolor\":\"#E1E5ED\"},\"xaxis16\":{\"anchor\":\"y16\",\"domain\":[0.7875,1.0],\"gridcolor\":\"#E1E5ED\",\"showgrid\":false,\"tickfont\":{\"color\":\"#4D5663\"},\"title\":{\"font\":{\"color\":\"#4D5663\"},\"text\":\"\"},\"zerolinecolor\":\"#E1E5ED\"},\"yaxis16\":{\"anchor\":\"x16\",\"domain\":[0.0,0.1975],\"gridcolor\":\"#E1E5ED\",\"showgrid\":false,\"tickfont\":{\"color\":\"#4D5663\"},\"title\":{\"font\":{\"color\":\"#4D5663\"},\"text\":\"\"},\"zerolinecolor\":\"#E1E5ED\"}},                        {\"showLink\": true, \"linkText\": \"Export to plot.ly\", \"plotlyServerURL\": \"https://plot.ly\", \"responsive\": true}                    ).then(function(){\n",
       "                            \n",
       "var gd = document.getElementById('a97382cf-1161-4b22-ad8c-ee83dcbb26ce');\n",
       "var x = new MutationObserver(function (mutations, observer) {{\n",
       "        var display = window.getComputedStyle(gd).display;\n",
       "        if (!display || display === 'none') {{\n",
       "            console.log([gd, 'removed!']);\n",
       "            Plotly.purge(gd);\n",
       "            observer.disconnect();\n",
       "        }}\n",
       "}});\n",
       "\n",
       "// Listen for the removal of the full notebook cells\n",
       "var notebookContainer = gd.closest('#notebook-container');\n",
       "if (notebookContainer) {{\n",
       "    x.observe(notebookContainer, {childList: true});\n",
       "}}\n",
       "\n",
       "// Listen for the clearing of the current output cell\n",
       "var outputEl = gd.closest('.output');\n",
       "if (outputEl) {{\n",
       "    x.observe(outputEl, {childList: true});\n",
       "}}\n",
       "\n",
       "                        })                };                });            </script>        </div>"
      ]
     },
     "metadata": {},
     "output_type": "display_data"
    }
   ],
   "source": [
    "df.scatter_matrix()"
   ]
  }
 ],
 "metadata": {
  "kernelspec": {
   "display_name": "Python 3 (ipykernel)",
   "language": "python",
   "name": "python3"
  },
  "language_info": {
   "codemirror_mode": {
    "name": "ipython",
    "version": 3
   },
   "file_extension": ".py",
   "mimetype": "text/x-python",
   "name": "python",
   "nbconvert_exporter": "python",
   "pygments_lexer": "ipython3",
   "version": "3.9.12"
  }
 },
 "nbformat": 4,
 "nbformat_minor": 5
}
